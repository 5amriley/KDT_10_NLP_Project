{
 "cells": [
  {
   "cell_type": "code",
   "execution_count": 1,
   "metadata": {},
   "outputs": [],
   "source": [
    "import numpy as np\n",
    "import pandas as pd\n",
    "import torch\n",
    "import torch.nn as nn\n",
    "import torch.optim as optim\n",
    "import torch.nn.functional as F\n",
    "from torch.utils.data import Dataset, DataLoader\n",
    "from torchmetrics.functional import accuracy, f1_score\n"
   ]
  },
  {
   "cell_type": "code",
   "execution_count": 2,
   "metadata": {},
   "outputs": [],
   "source": [
    "horrorDF = pd.read_excel(\n",
    "    \"../DATA/2조 괴담 파일.xlsx\", skiprows=0, header=1, sheet_name=\"SY\", usecols=[3]\n",
    ")\n"
   ]
  },
  {
   "cell_type": "code",
   "execution_count": 3,
   "metadata": {},
   "outputs": [
    {
     "data": {
      "text/html": [
       "<div>\n",
       "<style scoped>\n",
       "    .dataframe tbody tr th:only-of-type {\n",
       "        vertical-align: middle;\n",
       "    }\n",
       "\n",
       "    .dataframe tbody tr th {\n",
       "        vertical-align: top;\n",
       "    }\n",
       "\n",
       "    .dataframe thead th {\n",
       "        text-align: right;\n",
       "    }\n",
       "</style>\n",
       "<table border=\"1\" class=\"dataframe\">\n",
       "  <thead>\n",
       "    <tr style=\"text-align: right;\">\n",
       "      <th></th>\n",
       "      <th>TEXT</th>\n",
       "    </tr>\n",
       "  </thead>\n",
       "  <tbody>\n",
       "    <tr>\n",
       "      <th>0</th>\n",
       "      <td>오늘 학교에서 모의고사보는데 가위눌리다가 한쪽눈만 떠진상태로 교실에서 내 다리에 올...</td>\n",
       "    </tr>\n",
       "    <tr>\n",
       "      <th>1</th>\n",
       "      <td>그녀는 날 사랑한다... 안 사랑한다... 날 사랑한다... 안 사랑한다...날 사...</td>\n",
       "    </tr>\n",
       "    <tr>\n",
       "      <th>2</th>\n",
       "      <td>어린애같지만, 난 항상 지하실에서 나갈때 내 뒤를 쳐다보면서 계단을 뛰어 올라가. ...</td>\n",
       "    </tr>\n",
       "    <tr>\n",
       "      <th>3</th>\n",
       "      <td>생리혈에 덩어리 같은게 있을수 있다는건 나도 알아. 근데 그게 보통 움직이는거야?\\n</td>\n",
       "    </tr>\n",
       "    <tr>\n",
       "      <th>4</th>\n",
       "      <td>난 별 생각없이 \"우리 모두 다함께 손뼉쳐!\" 라고 외쳤어. 다락방에서 박수 소리를...</td>\n",
       "    </tr>\n",
       "    <tr>\n",
       "      <th>...</th>\n",
       "      <td>...</td>\n",
       "    </tr>\n",
       "    <tr>\n",
       "      <th>994</th>\n",
       "      <td>희망봉근해에 출몰하는 네덜란드 동인도회사의 유령선을 플라잉더치맨이라고 부른다. 알류...</td>\n",
       "    </tr>\n",
       "    <tr>\n",
       "      <th>995</th>\n",
       "      <td>T 씨가 잠에서 깨자, 1년이 경과해있었다.하지만 기억상실은 아니다.가족도, 친구도...</td>\n",
       "    </tr>\n",
       "    <tr>\n",
       "      <th>996</th>\n",
       "      <td>아르메니아 쿠니크호수에는 딱 스와코 *오미와타리 같은 자연현상이 일어난다. 호반 교...</td>\n",
       "    </tr>\n",
       "    <tr>\n",
       "      <th>997</th>\n",
       "      <td>적도상 3만 6000킬로에 해당하는 우주 공간에,  길이 50M의 거대 물체가 떠있...</td>\n",
       "    </tr>\n",
       "    <tr>\n",
       "      <th>998</th>\n",
       "      <td>1865년 미국. 어느 날, 1명의 남자가 며칠 연속으로 신기한 꿈을 꾸었다. 그 ...</td>\n",
       "    </tr>\n",
       "  </tbody>\n",
       "</table>\n",
       "<p>999 rows × 1 columns</p>\n",
       "</div>"
      ],
      "text/plain": [
       "                                                  TEXT\n",
       "0    오늘 학교에서 모의고사보는데 가위눌리다가 한쪽눈만 떠진상태로 교실에서 내 다리에 올...\n",
       "1    그녀는 날 사랑한다... 안 사랑한다... 날 사랑한다... 안 사랑한다...날 사...\n",
       "2    어린애같지만, 난 항상 지하실에서 나갈때 내 뒤를 쳐다보면서 계단을 뛰어 올라가. ...\n",
       "3      생리혈에 덩어리 같은게 있을수 있다는건 나도 알아. 근데 그게 보통 움직이는거야?\\n\n",
       "4    난 별 생각없이 \"우리 모두 다함께 손뼉쳐!\" 라고 외쳤어. 다락방에서 박수 소리를...\n",
       "..                                                 ...\n",
       "994  희망봉근해에 출몰하는 네덜란드 동인도회사의 유령선을 플라잉더치맨이라고 부른다. 알류...\n",
       "995  T 씨가 잠에서 깨자, 1년이 경과해있었다.하지만 기억상실은 아니다.가족도, 친구도...\n",
       "996  아르메니아 쿠니크호수에는 딱 스와코 *오미와타리 같은 자연현상이 일어난다. 호반 교...\n",
       "997  적도상 3만 6000킬로에 해당하는 우주 공간에,  길이 50M의 거대 물체가 떠있...\n",
       "998  1865년 미국. 어느 날, 1명의 남자가 며칠 연속으로 신기한 꿈을 꾸었다. 그 ...\n",
       "\n",
       "[999 rows x 1 columns]"
      ]
     },
     "execution_count": 3,
     "metadata": {},
     "output_type": "execute_result"
    }
   ],
   "source": [
    "horrorDF\n"
   ]
  },
  {
   "cell_type": "code",
   "execution_count": 4,
   "metadata": {},
   "outputs": [
    {
     "name": "stdout",
     "output_type": "stream",
     "text": [
      "<class 'pandas.core.series.Series'>\n",
      "RangeIndex: 999 entries, 0 to 998\n",
      "Series name: TEXT\n",
      "Non-Null Count  Dtype \n",
      "--------------  ----- \n",
      "999 non-null    object\n",
      "dtypes: object(1)\n",
      "memory usage: 7.9+ KB\n"
     ]
    }
   ],
   "source": [
    "horrorSR = horrorDF[\"TEXT\"].str.replace(r\"[^ㄱ-ㅎㅏ-ㅣ가-힣a-zA-Z\\d ]\", \"\", regex=True)\n",
    "horrorSR.info()\n"
   ]
  },
  {
   "cell_type": "code",
   "execution_count": 5,
   "metadata": {},
   "outputs": [
    {
     "data": {
      "text/plain": [
       "['오늘 학교에서 모의고사보는데 가위눌리다가 한쪽눈만 떠진상태로 교실에서 내 다리에 올라와있는 귀신봤어',\n",
       " '그녀는 날 사랑한다 안 사랑한다 날 사랑한다 안 사랑한다날 사 어 더 이상 떼어낼 팔다리가 없네 넌 처음부터 날 사랑하지 않았구나',\n",
       " '어린애같지만 난 항상 지하실에서 나갈때 내 뒤를 쳐다보면서 계단을 뛰어 올라가 난 잘못된 방향을 바라보고 있었었어',\n",
       " '생리혈에 덩어리 같은게 있을수 있다는건 나도 알아 근데 그게 보통 움직이는거야',\n",
       " '난 별 생각없이 우리 모두 다함께 손뼉쳐 라고 외쳤어 다락방에서 박수 소리를 들리기 전까진 난 내가 집에 혼자있는줄 알았어',\n",
       " '난 숲속에서 일회용 카메라를 발견했다 필름을 현상했을때 그곳엔 내가 처음으로 카메라를 발견했을때의 모습이 찍힌 사진 딱 한장만이 찍혀있었다',\n",
       " '우리 할머니는 심한 치매에 걸리셨다 매일 저녁 난 할머니가 2년전에 이미 돌아가셨다고 설명하지만 허사다',\n",
       " '버스 문이 닫히고 버스 기사의 웃음소리가 그의 뒤에서 울려퍼졌을때 지미는 자신의 실수를 알아챘다 왜 스쿨 버스가 한밤중에 달리고 있는거지',\n",
       " '저녁시간 아빠는 나에게 하루가 어땠는지 물었다 아빠의 얼굴이 약간 정중앙에서 벗어나있는것처럼 보인다는 사실을 깨달았을때 난 아빠의 어깨 너머로 도망가라고 입모양으로 말하고 있는 두려움에 빠진 엄마를 볼수 있었다',\n",
       " '아빠 나 무서운 꿈 꿨어 오 공주님 난 아빠가 아냐']"
      ]
     },
     "execution_count": 5,
     "metadata": {},
     "output_type": "execute_result"
    }
   ],
   "source": [
    "sentences = horrorSR.to_list()\n",
    "sentences[:10]\n"
   ]
  },
  {
   "cell_type": "code",
   "execution_count": 6,
   "metadata": {},
   "outputs": [
    {
     "data": {
      "text/plain": [
       "'오늘 학교에서 모의고사보는데 가위눌리다가 한쪽눈만 떠진상태로 교실에서 내 다리에 올라와있는 귀신봤어.그녀는 날 사랑한다 안 사랑한다 날 사랑한다 안 사랑한다날 사 어 더 이상 떼어'"
      ]
     },
     "execution_count": 6,
     "metadata": {},
     "output_type": "execute_result"
    }
   ],
   "source": [
    "sentence_dot = \".\".join(sentences) + \".\"\n",
    "sentence_dot[:100]\n"
   ]
  },
  {
   "cell_type": "code",
   "execution_count": 7,
   "metadata": {},
   "outputs": [],
   "source": [
    "char_set = list(set(sentence_dot))\n",
    "char_to_id = {char: idx for idx, char in enumerate(char_set)}\n",
    "id_to_char = {idx: char for idx, char in enumerate(char_set)}\n"
   ]
  },
  {
   "cell_type": "code",
   "execution_count": 8,
   "metadata": {},
   "outputs": [],
   "source": [
    "X_data, y_data = [], []\n",
    "sequence_length = 10\n",
    "\n",
    "for i in range(0, len(sentence_dot) - sequence_length):\n",
    "    x_str = sentence_dot[i : i + sequence_length]\n",
    "    y_str = sentence_dot[i + 1 : i + sequence_length + 1]\n",
    "    # print(i, x_str, '->', y_str)\n",
    "    X_data.append([char_to_id[c] for c in x_str])\n",
    "    y_data.append([char_to_id[c] for c in y_str])\n"
   ]
  },
  {
   "cell_type": "code",
   "execution_count": 9,
   "metadata": {},
   "outputs": [
    {
     "data": {
      "text/plain": [
       "([254, 841, 749, 285, 154, 1088, 172, 749, 46, 547],\n",
       " [841, 749, 285, 154, 1088, 172, 749, 46, 547, 702])"
      ]
     },
     "execution_count": 9,
     "metadata": {},
     "output_type": "execute_result"
    }
   ],
   "source": [
    "X_data[0], y_data[0]\n"
   ]
  },
  {
   "cell_type": "code",
   "execution_count": 10,
   "metadata": {},
   "outputs": [
    {
     "name": "stdout",
     "output_type": "stream",
     "text": [
      "입력 데이터 size: 127551, shape: (127551, 10), dim: 2\n",
      "출력 데이터 size: 127551, shape: (127551, 10), dim: 2\n"
     ]
    }
   ],
   "source": [
    "print(\n",
    "    f\"입력 데이터 size: {len(X_data)}, shape: {np.array(X_data).shape}, dim: {np.array(X_data).ndim}\"\n",
    ")\n",
    "print(\n",
    "    f\"출력 데이터 size: {len(y_data)}, shape: {np.array(y_data).shape}, dim: {np.array(y_data).ndim}\"\n",
    ")\n"
   ]
  },
  {
   "cell_type": "code",
   "execution_count": 11,
   "metadata": {},
   "outputs": [],
   "source": [
    "class CharDataset(Dataset):\n",
    "    def __init__(\n",
    "        self,\n",
    "        X_data,\n",
    "        y_data,\n",
    "    ) -> None:\n",
    "        super().__init__()\n",
    "        self.in_text = torch.FloatTensor(X_data)\n",
    "        self.out_text = torch.FloatTensor(y_data)\n",
    "\n",
    "    def __len__(self):\n",
    "        return len(self.out_text)\n",
    "\n",
    "    def __getitem__(self, index):\n",
    "        return self.in_text[index], self.out_text[index]\n"
   ]
  },
  {
   "cell_type": "code",
   "execution_count": 12,
   "metadata": {},
   "outputs": [],
   "source": [
    "class CharGRU(nn.Module):\n",
    "    def __init__(\n",
    "        self, dict_size, embedding_dim, hidden_size, sequence_length, n_layers, dropout\n",
    "    ) -> None:\n",
    "        super().__init__()\n",
    "        # self.embedding = nn.Embedding(dict_size, embedding_dim)\n",
    "        self.gru = nn.GRU(\n",
    "            dict_size, hidden_size, n_layers, dropout=dropout, batch_first=True\n",
    "        )\n",
    "        self.linear = nn.Linear(hidden_size, dict_size)\n",
    "        self.dropout = nn.Dropout(dropout)\n",
    "        self.init_weights()\n",
    "\n",
    "    def init_weights(self):\n",
    "        initrange = 0.5\n",
    "        # self.embedding.weight.data.uniform_(-initrange, initrange)\n",
    "        self.linear.weight.data.uniform_(-initrange, initrange)\n",
    "        self.linear.bias.data.zero_()\n",
    "\n",
    "    def forward(self, text):\n",
    "        # embedded = self.embedding(text)\n",
    "        output, _ = self.gru(text)\n",
    "        # last_output = output[:, -1, :]\n",
    "        last_output = self.dropout(output)\n",
    "        return self.linear(last_output)\n"
   ]
  },
  {
   "cell_type": "code",
   "execution_count": 13,
   "metadata": {},
   "outputs": [
    {
     "name": "stdout",
     "output_type": "stream",
     "text": [
      "997\n"
     ]
    }
   ],
   "source": [
    "batch_size = 128\n",
    "dict_size = len(char_to_id)\n",
    "hidden_size = 64\n",
    "embedding_dim = 128\n",
    "n_layer = 10\n",
    "dropout = 0.2\n",
    "lr = 0.001\n",
    "\n",
    "learningDS = CharDataset(X_data, y_data)\n",
    "learningDL = DataLoader(dataset=learningDS, batch_size=batch_size, shuffle=True)\n",
    "\n",
    "device = \"cuda\" if torch.cuda.is_available() else \"cpu\"\n",
    "classifier = CharGRU(\n",
    "    dict_size, embedding_dim, hidden_size, sequence_length, n_layer, dropout\n",
    ").to(device)\n",
    "criterion = nn.CrossEntropyLoss().to(device)\n",
    "optimizer = optim.AdamW(classifier.parameters(), lr)\n",
    "schduler = optim.lr_scheduler.StepLR(optimizer, 5, 0.1)\n",
    "\n",
    "print(len(learningDL))\n"
   ]
  },
  {
   "cell_type": "code",
   "execution_count": 14,
   "metadata": {},
   "outputs": [
    {
     "data": {
      "text/plain": [
       "=================================================================\n",
       "Layer (type:depth-idx)                   Param #\n",
       "=================================================================\n",
       "CharGRU                                  --\n",
       "├─GRU: 1-1                               478,272\n",
       "├─Linear: 1-2                            81,575\n",
       "├─Dropout: 1-3                           --\n",
       "=================================================================\n",
       "Total params: 559,847\n",
       "Trainable params: 559,847\n",
       "Non-trainable params: 0\n",
       "================================================================="
      ]
     },
     "execution_count": 14,
     "metadata": {},
     "output_type": "execute_result"
    }
   ],
   "source": [
    "from torchinfo import summary\n",
    "\n",
    "summary(classifier)\n"
   ]
  },
  {
   "cell_type": "code",
   "execution_count": 15,
   "metadata": {},
   "outputs": [],
   "source": [
    "from tqdm import tqdm\n",
    "\n",
    "\n",
    "def learning(\n",
    "    epoch, epochs, model, dataLoader, criterion, optimizer, device, mode=\"train\"\n",
    "):\n",
    "    if mode == \"train\":\n",
    "        model.train()\n",
    "        is_train = True\n",
    "    elif mode == \"test\":\n",
    "        model.eval()\n",
    "        is_train = False\n",
    "    else:\n",
    "        raise ValueError(\"Invalid mode. Must be 'train' or 'test'\")\n",
    "\n",
    "    loss_list = []\n",
    "    acc_list = []\n",
    "    f1_list = []\n",
    "    running_loss = 0.0\n",
    "\n",
    "    with torch.set_grad_enabled(is_train):\n",
    "        pbar = tqdm(enumerate(dataLoader), total=len(dataLoader))\n",
    "        for step, (in_text, out_text) in pbar:\n",
    "            in_text, out_text = in_text.to(device), out_text.to(device)\n",
    "            oh_in_text = F.one_hot(in_text.long(), dict_size).float()\n",
    "            oh_out_text = F.one_hot(out_text.long(), dict_size).float()\n",
    "            pre_text = model(oh_in_text)\n",
    "            loss = criterion(pre_text, oh_out_text)\n",
    "            running_loss += loss.item()\n",
    "            acc_list.append(\n",
    "                accuracy(\n",
    "                    pre_text.argmax(2),\n",
    "                    out_text,\n",
    "                    task=\"multiclass\",\n",
    "                    num_classes=dict_size,\n",
    "                )\n",
    "            )\n",
    "            f1_list.append(\n",
    "                f1_score(\n",
    "                    pre_text.argmax(2),\n",
    "                    out_text,\n",
    "                    task=\"multiclass\",\n",
    "                    num_classes=dict_size,\n",
    "                    average=\"macro\",\n",
    "                )\n",
    "            )\n",
    "            if is_train:\n",
    "                optimizer.zero_grad()\n",
    "                loss.backward()\n",
    "                torch.nn.utils.clip_grad_norm_(model.parameters(), 0.1)\n",
    "                optimizer.step()\n",
    "                if step % 10 == 9:\n",
    "                    pbar.set_description(\n",
    "                        f\"Epoch [{epoch + 1}/{epochs}], 횟수 [{step + 1}/{len(dataLoader)}], Loss: {running_loss / 10:.4f}\"\n",
    "                    )\n",
    "                    loss_list.append(running_loss)\n",
    "                    running_loss = 0.0\n",
    "    return np.mean(loss_list), np.mean(acc_list), np.mean(f1_list)\n"
   ]
  },
  {
   "cell_type": "code",
   "execution_count": 16,
   "metadata": {},
   "outputs": [],
   "source": [
    "def predict(model, word):\n",
    "    for char in word:\n",
    "        if char == \".\":\n",
    "            result = \".\"\n",
    "        elif char in char_to_id.keys():\n",
    "            model.eval()\n",
    "            with torch.no_grad():\n",
    "                pred_text = (\n",
    "                    F.one_hot(torch.tensor(char_to_id[char]), dict_size)\n",
    "                    .unsqueeze(0)\n",
    "                    .float()\n",
    "                    .to(device)\n",
    "                )\n",
    "                pred_num = model(pred_text).argmax(1).item()\n",
    "                result = id_to_char[pred_num]\n",
    "        else:\n",
    "            result = \" \"\n",
    "    return result\n"
   ]
  },
  {
   "cell_type": "code",
   "execution_count": 17,
   "metadata": {},
   "outputs": [],
   "source": [
    "def make_sentence(model, start, num=100):\n",
    "    sentence = start\n",
    "    for _ in range(num):\n",
    "        next_char = predict(classifier, start)\n",
    "        start = next_char\n",
    "        sentence += start\n",
    "        if start == \".\":\n",
    "            break\n",
    "    return sentence\n"
   ]
  },
  {
   "cell_type": "code",
   "execution_count": 18,
   "metadata": {},
   "outputs": [
    {
     "name": "stderr",
     "output_type": "stream",
     "text": [
      "Epoch [1/300], 횟수 [990/997], Loss: 0.0124: 100%|██████████| 997/997 [01:52<00:00,  8.85it/s]\n"
     ]
    },
    {
     "name": "stdout",
     "output_type": "stream",
     "text": [
      "Epoch 1 학습 종료 ===> 손실: 0.1445, 정확도: 0.0562, f1 점수: 0.0034\n",
      "오은겐겐겐겐겐겐겐겐겐겐겐겐겐겐겐겐겐겐겐겐겐겐겐겐겐겐겐겐겐겐겐겐겐겐겐겐겐겐겐겐겐겐겐겐겐겐겐겐겐겐겐겐겐겐겐겐겐겐겐겐겐겐겐겐겐겐겐겐겐겐겐겐겐겐겐겐겐겐겐겐겐겐겐겐겐겐겐겐겐겐겐겐겐겐겐겐겐겐겐\n"
     ]
    },
    {
     "name": "stderr",
     "output_type": "stream",
     "text": [
      "Epoch [2/300], 횟수 [990/997], Loss: 0.0111: 100%|██████████| 997/997 [02:10<00:00,  7.63it/s]\n"
     ]
    },
    {
     "name": "stdout",
     "output_type": "stream",
     "text": [
      "Epoch 2 학습 종료 ===> 손실: 0.1170, 정확도: 0.0437, f1 점수: 0.0050\n",
      "오떤겐겐겐겐겐겐겐겐겐겐겐겐겐겐겐겐겐겐겐겐겐겐겐겐겐겐겐겐겐겐겐겐겐겐겐겐겐겐겐겐겐겐겐겐겐겐겐겐겐겐겐겐겐겐겐겐겐겐겐겐겐겐겐겐겐겐겐겐겐겐겐겐겐겐겐겐겐겐겐겐겐겐겐겐겐겐겐겐겐겐겐겐겐겐겐겐겐겐겐\n"
     ]
    },
    {
     "name": "stderr",
     "output_type": "stream",
     "text": [
      "Epoch [3/300], 횟수 [990/997], Loss: 0.0103: 100%|██████████| 997/997 [02:26<00:00,  6.79it/s]\n"
     ]
    },
    {
     "name": "stdout",
     "output_type": "stream",
     "text": [
      "Epoch 3 학습 종료 ===> 손실: 0.1065, 정확도: 0.0386, f1 점수: 0.0056\n",
      "오습률힌겐겐겐겐겐겐겐겐겐겐겐겐겐겐겐겐겐겐겐겐겐겐겐겐겐겐겐겐겐겐겐겐겐겐겐겐겐겐겐겐겐겐겐겐겐겐겐겐겐겐겐겐겐겐겐겐겐겐겐겐겐겐겐겐겐겐겐겐겐겐겐겐겐겐겐겐겐겐겐겐겐겐겐겐겐겐겐겐겐겐겐겐겐겐겐겐겐\n"
     ]
    },
    {
     "name": "stderr",
     "output_type": "stream",
     "text": [
      "Epoch [4/300], 횟수 [990/997], Loss: 0.0098: 100%|██████████| 997/997 [02:11<00:00,  7.60it/s]\n"
     ]
    },
    {
     "name": "stdout",
     "output_type": "stream",
     "text": [
      "Epoch 4 학습 종료 ===> 손실: 0.1001, 정확도: 0.0374, f1 점수: 0.0063\n",
      "오습률릿닫릎률릿닫릎률릿닫릎률릿닫릎률릿닫릎률릿닫릎률릿닫릎률릿닫릎률릿닫릎률릿닫릎률릿닫릎률릿닫릎률릿닫릎률릿닫릎률릿닫릎률릿닫릎률릿닫릎률릿닫릎률릿닫릎률릿닫릎률릿닫릎률릿닫릎률릿닫릎률릿닫릎률릿닫\n"
     ]
    },
    {
     "name": "stderr",
     "output_type": "stream",
     "text": [
      "Epoch [5/300], 횟수 [990/997], Loss: 0.0095: 100%|██████████| 997/997 [02:07<00:00,  7.79it/s]\n"
     ]
    },
    {
     "name": "stdout",
     "output_type": "stream",
     "text": [
      "Epoch 5 학습 종료 ===> 손실: 0.0955, 정확도: 0.0353, f1 점수: 0.0065\n",
      "오습률뼉률뼉률뼉률뼉률뼉률뼉률뼉률뼉률뼉률뼉률뼉률뼉률뼉률뼉률뼉률뼉률뼉률뼉률뼉률뼉률뼉률뼉률뼉률뼉률뼉률뼉률뼉률뼉률뼉률뼉률뼉률뼉률뼉률뼉률뼉률뼉률뼉률뼉률뼉률뼉률뼉률뼉률뼉률뼉률뼉률뼉률뼉률뼉률뼉률\n"
     ]
    },
    {
     "name": "stderr",
     "output_type": "stream",
     "text": [
      "Epoch [6/300], 횟수 [990/997], Loss: 0.0092: 100%|██████████| 997/997 [02:12<00:00,  7.54it/s]\n"
     ]
    },
    {
     "name": "stdout",
     "output_type": "stream",
     "text": [
      "Epoch 6 학습 종료 ===> 손실: 0.0920, 정확도: 0.0335, f1 점수: 0.0068\n",
      "오습률끗률끗률끗률끗률끗률끗률끗률끗률끗률끗률끗률끗률끗률끗률끗률끗률끗률끗률끗률끗률끗률끗률끗률끗률끗률끗률끗률끗률끗률끗률끗률끗률끗률끗률끗률끗률끗률끗률끗률끗률끗률끗률끗률끗률끗률끗률끗률끗률끗률\n"
     ]
    },
    {
     "name": "stderr",
     "output_type": "stream",
     "text": [
      "Epoch [7/300], 횟수 [990/997], Loss: 0.0087: 100%|██████████| 997/997 [02:14<00:00,  7.42it/s]\n"
     ]
    },
    {
     "name": "stdout",
     "output_type": "stream",
     "text": [
      "Epoch 7 학습 종료 ===> 손실: 0.0893, 정확도: 0.0320, f1 점수: 0.0070\n",
      "오습률뼉률뼉률뼉률뼉률뼉률뼉률뼉률뼉률뼉률뼉률뼉률뼉률뼉률뼉률뼉률뼉률뼉률뼉률뼉률뼉률뼉률뼉률뼉률뼉률뼉률뼉률뼉률뼉률뼉률뼉률뼉률뼉률뼉률뼉률뼉률뼉률뼉률뼉률뼉률뼉률뼉률뼉률뼉률뼉률뼉률뼉률뼉률뼉률뼉률\n"
     ]
    },
    {
     "name": "stderr",
     "output_type": "stream",
     "text": [
      "Epoch [8/300], 횟수 [990/997], Loss: 0.0086: 100%|██████████| 997/997 [01:58<00:00,  8.41it/s]\n"
     ]
    },
    {
     "name": "stdout",
     "output_type": "stream",
     "text": [
      "Epoch 8 학습 종료 ===> 손실: 0.0871, 정확도: 0.0308, f1 점수: 0.0070\n",
      "오습률뼉률뼉률뼉률뼉률뼉률뼉률뼉률뼉률뼉률뼉률뼉률뼉률뼉률뼉률뼉률뼉률뼉률뼉률뼉률뼉률뼉률뼉률뼉률뼉률뼉률뼉률뼉률뼉률뼉률뼉률뼉률뼉률뼉률뼉률뼉률뼉률뼉률뼉률뼉률뼉률뼉률뼉률뼉률뼉률뼉률뼉률뼉률뼉률뼉률\n"
     ]
    },
    {
     "name": "stderr",
     "output_type": "stream",
     "text": [
      "Epoch [9/300], 횟수 [990/997], Loss: 0.0086: 100%|██████████| 997/997 [02:12<00:00,  7.54it/s]\n"
     ]
    },
    {
     "name": "stdout",
     "output_type": "stream",
     "text": [
      "Epoch 9 학습 종료 ===> 손실: 0.0854, 정확도: 0.0295, f1 점수: 0.0071\n",
      "오룻흡턴곽뼉률뼉률뼉률뼉률뼉률뼉률뼉률뼉률뼉률뼉률뼉률뼉률뼉률뼉률뼉률뼉률뼉률뼉률뼉률뼉률뼉률뼉률뼉률뼉률뼉률뼉률뼉률뼉률뼉률뼉률뼉률뼉률뼉률뼉률뼉률뼉률뼉률뼉률뼉률뼉률뼉률뼉률뼉률뼉률뼉률뼉률뼉률뼉률\n"
     ]
    },
    {
     "name": "stderr",
     "output_type": "stream",
     "text": [
      "Epoch [10/300], 횟수 [990/997], Loss: 0.0084: 100%|██████████| 997/997 [02:06<00:00,  7.91it/s]\n"
     ]
    },
    {
     "name": "stdout",
     "output_type": "stream",
     "text": [
      "Epoch 10 학습 종료 ===> 손실: 0.0840, 정확도: 0.0283, f1 점수: 0.0070\n",
      "오촨흡뼉률뼉률뼉률뼉률뼉률뼉률뼉률뼉률뼉률뼉률뼉률뼉률뼉률뼉률뼉률뼉률뼉률뼉률뼉률뼉률뼉률뼉률뼉률뼉률뼉률뼉률뼉률뼉률뼉률뼉률뼉률뼉률뼉률뼉률뼉률뼉률뼉률뼉률뼉률뼉률뼉률뼉률뼉률뼉률뼉률뼉률뼉률뼉률뼉률\n"
     ]
    },
    {
     "name": "stderr",
     "output_type": "stream",
     "text": [
      "Epoch [11/300], 횟수 [990/997], Loss: 0.0083: 100%|██████████| 997/997 [02:05<00:00,  7.91it/s]\n"
     ]
    },
    {
     "name": "stdout",
     "output_type": "stream",
     "text": [
      "Epoch 11 학습 종료 ===> 손실: 0.0828, 정확도: 0.0271, f1 점수: 0.0072\n",
      "오룻흡뼉률듭턴곽뼉률듭턴곽뼉률듭턴곽뼉률듭턴곽뼉률듭턴곽뼉률듭턴곽뼉률듭턴곽뼉률듭턴곽뼉률듭턴곽뼉률듭턴곽뼉률듭턴곽뼉률듭턴곽뼉률듭턴곽뼉률듭턴곽뼉률듭턴곽뼉률듭턴곽뼉률듭턴곽뼉률듭턴곽뼉률듭턴곽뼉률듭\n"
     ]
    },
    {
     "name": "stderr",
     "output_type": "stream",
     "text": [
      "Epoch [12/300], 횟수 [990/997], Loss: 0.0083: 100%|██████████| 997/997 [02:13<00:00,  7.45it/s]\n"
     ]
    },
    {
     "name": "stdout",
     "output_type": "stream",
     "text": [
      "Epoch 12 학습 종료 ===> 손실: 0.0818, 정확도: 0.0262, f1 점수: 0.0070\n",
      "오룻엌콩촨끗콩촨끗콩촨끗콩촨끗콩촨끗콩촨끗콩촨끗콩촨끗콩촨끗콩촨끗콩촨끗콩촨끗콩촨끗콩촨끗콩촨끗콩촨끗콩촨끗콩촨끗콩촨끗콩촨끗콩촨끗콩촨끗콩촨끗콩촨끗콩촨끗콩촨끗콩촨끗콩촨끗콩촨끗콩촨끗콩촨끗콩촨끗콩촨\n"
     ]
    },
    {
     "name": "stderr",
     "output_type": "stream",
     "text": [
      "Epoch [13/300], 횟수 [990/997], Loss: 0.0081: 100%|██████████| 997/997 [02:07<00:00,  7.81it/s]\n"
     ]
    },
    {
     "name": "stdout",
     "output_type": "stream",
     "text": [
      "Epoch 13 학습 종료 ===> 손실: 0.0808, 정확도: 0.0252, f1 점수: 0.0069\n",
      "오룻끗콩촨첨춰촨첨춰촨첨춰촨첨춰촨첨춰촨첨춰촨첨춰촨첨춰촨첨춰촨첨춰촨첨춰촨첨춰촨첨춰촨첨춰촨첨춰촨첨춰촨첨춰촨첨춰촨첨춰촨첨춰촨첨춰촨첨춰촨첨춰촨첨춰촨첨춰촨첨춰촨첨춰촨첨춰촨첨춰촨첨춰촨첨춰촨첨춰촨\n"
     ]
    },
    {
     "name": "stderr",
     "output_type": "stream",
     "text": [
      "Epoch [14/300], 횟수 [990/997], Loss: 0.0081: 100%|██████████| 997/997 [02:04<00:00,  8.03it/s]\n"
     ]
    },
    {
     "name": "stdout",
     "output_type": "stream",
     "text": [
      "Epoch 14 학습 종료 ===> 손실: 0.0800, 정확도: 0.0245, f1 점수: 0.0070\n",
      "오룻닫랫엌콩젯끗콩젯끗콩젯끗콩젯끗콩젯끗콩젯끗콩젯끗콩젯끗콩젯끗콩젯끗콩젯끗콩젯끗콩젯끗콩젯끗콩젯끗콩젯끗콩젯끗콩젯끗콩젯끗콩젯끗콩젯끗콩젯끗콩젯끗콩젯끗콩젯끗콩젯끗콩젯끗콩젯끗콩젯끗콩젯끗콩젯끗콩젯끗\n"
     ]
    },
    {
     "name": "stderr",
     "output_type": "stream",
     "text": [
      "Epoch [15/300], 횟수 [990/997], Loss: 0.0079: 100%|██████████| 997/997 [02:14<00:00,  7.43it/s]\n"
     ]
    },
    {
     "name": "stdout",
     "output_type": "stream",
     "text": [
      "Epoch 15 학습 종료 ===> 손실: 0.0794, 정확도: 0.0239, f1 점수: 0.0069\n",
      "오룻첨춰렵콕뎅빕콩떤뎅빕콩떤뎅빕콩떤뎅빕콩떤뎅빕콩떤뎅빕콩떤뎅빕콩떤뎅빕콩떤뎅빕콩떤뎅빕콩떤뎅빕콩떤뎅빕콩떤뎅빕콩떤뎅빕콩떤뎅빕콩떤뎅빕콩떤뎅빕콩떤뎅빕콩떤뎅빕콩떤뎅빕콩떤뎅빕콩떤뎅빕콩떤뎅빕콩떤뎅빕콩\n"
     ]
    },
    {
     "name": "stderr",
     "output_type": "stream",
     "text": [
      "Epoch [16/300], 횟수 [990/997], Loss: 0.0079: 100%|██████████| 997/997 [02:04<00:00,  7.99it/s]\n"
     ]
    },
    {
     "name": "stdout",
     "output_type": "stream",
     "text": [
      "Epoch 16 학습 종료 ===> 손실: 0.0787, 정확도: 0.0232, f1 점수: 0.0068\n",
      "오룻첨춰떤뎅젯끗콩떤뎅젯끗콩떤뎅젯끗콩떤뎅젯끗콩떤뎅젯끗콩떤뎅젯끗콩떤뎅젯끗콩떤뎅젯끗콩떤뎅젯끗콩떤뎅젯끗콩떤뎅젯끗콩떤뎅젯끗콩떤뎅젯끗콩떤뎅젯끗콩떤뎅젯끗콩떤뎅젯끗콩떤뎅젯끗콩떤뎅젯끗콩떤뎅젯끗콩떤뎅\n"
     ]
    },
    {
     "name": "stderr",
     "output_type": "stream",
     "text": [
      "Epoch [17/300], 횟수 [990/997], Loss: 0.0078: 100%|██████████| 997/997 [02:05<00:00,  7.95it/s]\n"
     ]
    },
    {
     "name": "stdout",
     "output_type": "stream",
     "text": [
      "Epoch 17 학습 종료 ===> 손실: 0.0782, 정확도: 0.0226, f1 점수: 0.0066\n",
      "오룻흡콩떤뎅빕콩떤뎅빕콩떤뎅빕콩떤뎅빕콩떤뎅빕콩떤뎅빕콩떤뎅빕콩떤뎅빕콩떤뎅빕콩떤뎅빕콩떤뎅빕콩떤뎅빕콩떤뎅빕콩떤뎅빕콩떤뎅빕콩떤뎅빕콩떤뎅빕콩떤뎅빕콩떤뎅빕콩떤뎅빕콩떤뎅빕콩떤뎅빕콩떤뎅빕콩떤뎅빕콩떤\n"
     ]
    },
    {
     "name": "stderr",
     "output_type": "stream",
     "text": [
      "Epoch [18/300], 횟수 [990/997], Loss: 0.0079: 100%|██████████| 997/997 [02:15<00:00,  7.37it/s]\n"
     ]
    },
    {
     "name": "stdout",
     "output_type": "stream",
     "text": [
      "Epoch 18 학습 종료 ===> 손실: 0.0777, 정확도: 0.0221, f1 점수: 0.0066\n",
      "오룻첨춰뱉랫첨춰뱉랫첨춰뱉랫첨춰뱉랫첨춰뱉랫첨춰뱉랫첨춰뱉랫첨춰뱉랫첨춰뱉랫첨춰뱉랫첨춰뱉랫첨춰뱉랫첨춰뱉랫첨춰뱉랫첨춰뱉랫첨춰뱉랫첨춰뱉랫첨춰뱉랫첨춰뱉랫첨춰뱉랫첨춰뱉랫첨춰뱉랫첨춰뱉랫첨춰뱉랫첨춰뱉\n"
     ]
    },
    {
     "name": "stderr",
     "output_type": "stream",
     "text": [
      "Epoch [19/300], 횟수 [990/997], Loss: 0.0078: 100%|██████████| 997/997 [02:06<00:00,  7.87it/s]\n"
     ]
    },
    {
     "name": "stdout",
     "output_type": "stream",
     "text": [
      "Epoch 19 학습 종료 ===> 손실: 0.0772, 정확도: 0.0220, f1 점수: 0.0066\n",
      "오룻엌콩떤뎅떤뎅떤뎅떤뎅떤뎅떤뎅떤뎅떤뎅떤뎅떤뎅떤뎅떤뎅떤뎅떤뎅떤뎅떤뎅떤뎅떤뎅떤뎅떤뎅떤뎅떤뎅떤뎅떤뎅떤뎅떤뎅떤뎅떤뎅떤뎅떤뎅떤뎅떤뎅떤뎅떤뎅떤뎅떤뎅떤뎅떤뎅떤뎅떤뎅떤뎅떤뎅떤뎅떤뎅떤뎅떤뎅떤뎅떤뎅떤\n"
     ]
    },
    {
     "name": "stderr",
     "output_type": "stream",
     "text": [
      "Epoch [20/300], 횟수 [990/997], Loss: 0.0077: 100%|██████████| 997/997 [02:04<00:00,  8.00it/s]\n"
     ]
    },
    {
     "name": "stdout",
     "output_type": "stream",
     "text": [
      "Epoch 20 학습 종료 ===> 손실: 0.0767, 정확도: 0.0214, f1 점수: 0.0066\n",
      "오룻엌콩떤뎅떤뎅떤뎅떤뎅떤뎅떤뎅떤뎅떤뎅떤뎅떤뎅떤뎅떤뎅떤뎅떤뎅떤뎅떤뎅떤뎅떤뎅떤뎅떤뎅떤뎅떤뎅떤뎅떤뎅떤뎅떤뎅떤뎅떤뎅떤뎅떤뎅떤뎅떤뎅떤뎅떤뎅떤뎅떤뎅떤뎅떤뎅떤뎅떤뎅떤뎅떤뎅떤뎅떤뎅떤뎅떤뎅떤뎅떤뎅떤\n"
     ]
    },
    {
     "name": "stderr",
     "output_type": "stream",
     "text": [
      "Epoch [21/300], 횟수 [990/997], Loss: 0.0076: 100%|██████████| 997/997 [02:14<00:00,  7.40it/s]\n"
     ]
    },
    {
     "name": "stdout",
     "output_type": "stream",
     "text": [
      "Epoch 21 학습 종료 ===> 손실: 0.0764, 정확도: 0.0208, f1 점수: 0.0065\n",
      "오룻엌콩떤뎅떤뎅떤뎅떤뎅떤뎅떤뎅떤뎅떤뎅떤뎅떤뎅떤뎅떤뎅떤뎅떤뎅떤뎅떤뎅떤뎅떤뎅떤뎅떤뎅떤뎅떤뎅떤뎅떤뎅떤뎅떤뎅떤뎅떤뎅떤뎅떤뎅떤뎅떤뎅떤뎅떤뎅떤뎅떤뎅떤뎅떤뎅떤뎅떤뎅떤뎅떤뎅떤뎅떤뎅떤뎅떤뎅떤뎅떤뎅떤\n"
     ]
    },
    {
     "name": "stderr",
     "output_type": "stream",
     "text": [
      "Epoch [22/300], 횟수 [990/997], Loss: 0.0076: 100%|██████████| 997/997 [02:12<00:00,  7.51it/s]\n"
     ]
    },
    {
     "name": "stdout",
     "output_type": "stream",
     "text": [
      "Epoch 22 학습 종료 ===> 손실: 0.0760, 정확도: 0.0207, f1 점수: 0.0065\n",
      "오룻휠춰렵콕뎅빕콩떤뎅빕콩떤뎅빕콩떤뎅빕콩떤뎅빕콩떤뎅빕콩떤뎅빕콩떤뎅빕콩떤뎅빕콩떤뎅빕콩떤뎅빕콩떤뎅빕콩떤뎅빕콩떤뎅빕콩떤뎅빕콩떤뎅빕콩떤뎅빕콩떤뎅빕콩떤뎅빕콩떤뎅빕콩떤뎅빕콩떤뎅빕콩떤뎅빕콩떤뎅빕콩\n"
     ]
    },
    {
     "name": "stderr",
     "output_type": "stream",
     "text": [
      "Epoch [23/300], 횟수 [990/997], Loss: 0.0077: 100%|██████████| 997/997 [02:01<00:00,  8.21it/s]\n"
     ]
    },
    {
     "name": "stdout",
     "output_type": "stream",
     "text": [
      "Epoch 23 학습 종료 ===> 손실: 0.0757, 정확도: 0.0200, f1 점수: 0.0063\n",
      "오룻흡춰렵룻흡춰렵룻흡춰렵룻흡춰렵룻흡춰렵룻흡춰렵룻흡춰렵룻흡춰렵룻흡춰렵룻흡춰렵룻흡춰렵룻흡춰렵룻흡춰렵룻흡춰렵룻흡춰렵룻흡춰렵룻흡춰렵룻흡춰렵룻흡춰렵룻흡춰렵룻흡춰렵룻흡춰렵룻흡춰렵룻흡춰렵룻흡춰렵\n"
     ]
    },
    {
     "name": "stderr",
     "output_type": "stream",
     "text": [
      "Epoch [24/300], 횟수 [990/997], Loss: 0.0075: 100%|██████████| 997/997 [02:13<00:00,  7.47it/s]\n"
     ]
    },
    {
     "name": "stdout",
     "output_type": "stream",
     "text": [
      "Epoch 24 학습 종료 ===> 손실: 0.0752, 정확도: 0.0196, f1 점수: 0.0063\n",
      "오룻휠춰렵룻휠춰렵룻휠춰렵룻휠춰렵룻휠춰렵룻휠춰렵룻휠춰렵룻휠춰렵룻휠춰렵룻휠춰렵룻휠춰렵룻휠춰렵룻휠춰렵룻휠춰렵룻휠춰렵룻휠춰렵룻휠춰렵룻휠춰렵룻휠춰렵룻휠춰렵룻휠춰렵룻휠춰렵룻휠춰렵룻휠춰렵룻휠춰렵\n"
     ]
    },
    {
     "name": "stderr",
     "output_type": "stream",
     "text": [
      "Epoch [25/300], 횟수 [990/997], Loss: 0.0075: 100%|██████████| 997/997 [02:15<00:00,  7.38it/s]\n"
     ]
    },
    {
     "name": "stdout",
     "output_type": "stream",
     "text": [
      "Epoch 25 학습 종료 ===> 손실: 0.0750, 정확도: 0.0193, f1 점수: 0.0062\n",
      "오룻휠춰렵룻휠춰렵룻휠춰렵룻휠춰렵룻휠춰렵룻휠춰렵룻휠춰렵룻휠춰렵룻휠춰렵룻휠춰렵룻휠춰렵룻휠춰렵룻휠춰렵룻휠춰렵룻휠춰렵룻휠춰렵룻휠춰렵룻휠춰렵룻휠춰렵룻휠춰렵룻휠춰렵룻휠춰렵룻휠춰렵룻휠춰렵룻휠춰렵\n"
     ]
    },
    {
     "name": "stderr",
     "output_type": "stream",
     "text": [
      "Epoch [26/300], 횟수 [990/997], Loss: 0.0074: 100%|██████████| 997/997 [02:03<00:00,  8.09it/s]\n"
     ]
    },
    {
     "name": "stdout",
     "output_type": "stream",
     "text": [
      "Epoch 26 학습 종료 ===> 손실: 0.0747, 정확도: 0.0191, f1 점수: 0.0061\n",
      "오룻휠춰렵룻휠춰렵룻휠춰렵룻휠춰렵룻휠춰렵룻휠춰렵룻휠춰렵룻휠춰렵룻휠춰렵룻휠춰렵룻휠춰렵룻휠춰렵룻휠춰렵룻휠춰렵룻휠춰렵룻휠춰렵룻휠춰렵룻휠춰렵룻휠춰렵룻휠춰렵룻휠춰렵룻휠춰렵룻휠춰렵룻휠춰렵룻휠춰렵\n"
     ]
    },
    {
     "name": "stderr",
     "output_type": "stream",
     "text": [
      "Epoch [27/300], 횟수 [990/997], Loss: 0.0075: 100%|██████████| 997/997 [02:15<00:00,  7.36it/s]\n"
     ]
    },
    {
     "name": "stdout",
     "output_type": "stream",
     "text": [
      "Epoch 27 학습 종료 ===> 손실: 0.0744, 정확도: 0.0187, f1 점수: 0.0061\n",
      "오룻휠콩떤뎅젯헷곱뱉팍끗콩떤뎅젯헷곱뱉팍끗콩떤뎅젯헷곱뱉팍끗콩떤뎅젯헷곱뱉팍끗콩떤뎅젯헷곱뱉팍끗콩떤뎅젯헷곱뱉팍끗콩떤뎅젯헷곱뱉팍끗콩떤뎅젯헷곱뱉팍끗콩떤뎅젯헷곱뱉팍끗콩떤뎅젯헷곱뱉팍끗콩떤뎅젯헷곱뱉팍\n"
     ]
    },
    {
     "name": "stderr",
     "output_type": "stream",
     "text": [
      "Epoch [28/300], 횟수 [990/997], Loss: 0.0074: 100%|██████████| 997/997 [02:18<00:00,  7.21it/s]\n"
     ]
    },
    {
     "name": "stdout",
     "output_type": "stream",
     "text": [
      "Epoch 28 학습 종료 ===> 손실: 0.0741, 정확도: 0.0187, f1 점수: 0.0061\n",
      "오룻휠춰렵콕뎅빕흡콩떤뎅빕흡콩떤뎅빕흡콩떤뎅빕흡콩떤뎅빕흡콩떤뎅빕흡콩떤뎅빕흡콩떤뎅빕흡콩떤뎅빕흡콩떤뎅빕흡콩떤뎅빕흡콩떤뎅빕흡콩떤뎅빕흡콩떤뎅빕흡콩떤뎅빕흡콩떤뎅빕흡콩떤뎅빕흡콩떤뎅빕흡콩떤뎅빕흡콩떤\n"
     ]
    },
    {
     "name": "stderr",
     "output_type": "stream",
     "text": [
      "Epoch [29/300], 횟수 [990/997], Loss: 0.0073: 100%|██████████| 997/997 [02:19<00:00,  7.15it/s]\n"
     ]
    },
    {
     "name": "stdout",
     "output_type": "stream",
     "text": [
      "Epoch 29 학습 종료 ===> 손실: 0.0738, 정확도: 0.0185, f1 점수: 0.0062\n",
      "오룻휠콩떤뎅쩔뎅쩔뎅쩔뎅쩔뎅쩔뎅쩔뎅쩔뎅쩔뎅쩔뎅쩔뎅쩔뎅쩔뎅쩔뎅쩔뎅쩔뎅쩔뎅쩔뎅쩔뎅쩔뎅쩔뎅쩔뎅쩔뎅쩔뎅쩔뎅쩔뎅쩔뎅쩔뎅쩔뎅쩔뎅쩔뎅쩔뎅쩔뎅쩔뎅쩔뎅쩔뎅쩔뎅쩔뎅쩔뎅쩔뎅쩔뎅쩔뎅쩔뎅쩔뎅쩔뎅쩔뎅쩔뎅쩔뎅쩔\n"
     ]
    },
    {
     "name": "stderr",
     "output_type": "stream",
     "text": [
      "Epoch [30/300], 횟수 [990/997], Loss: 0.0074: 100%|██████████| 997/997 [02:20<00:00,  7.11it/s]\n"
     ]
    },
    {
     "name": "stdout",
     "output_type": "stream",
     "text": [
      "Epoch 30 학습 종료 ===> 손실: 0.0736, 정확도: 0.0181, f1 점수: 0.0061\n",
      "오룻휠뼉콩쩌콕뎅젯헷곱뱉콕뎅젯헷곱뱉콕뎅젯헷곱뱉콕뎅젯헷곱뱉콕뎅젯헷곱뱉콕뎅젯헷곱뱉콕뎅젯헷곱뱉콕뎅젯헷곱뱉콕뎅젯헷곱뱉콕뎅젯헷곱뱉콕뎅젯헷곱뱉콕뎅젯헷곱뱉콕뎅젯헷곱뱉콕뎅젯헷곱뱉콕뎅젯헷곱뱉콕뎅젯헷곱\n"
     ]
    },
    {
     "name": "stderr",
     "output_type": "stream",
     "text": [
      "Epoch [31/300], 횟수 [990/997], Loss: 0.0074: 100%|██████████| 997/997 [02:21<00:00,  7.04it/s]\n"
     ]
    },
    {
     "name": "stdout",
     "output_type": "stream",
     "text": [
      "Epoch 31 학습 종료 ===> 손실: 0.0735, 정확도: 0.0177, f1 점수: 0.0060\n",
      "오룻휠콩쩌징듭콩쩌징듭콩쩌징듭콩쩌징듭콩쩌징듭콩쩌징듭콩쩌징듭콩쩌징듭콩쩌징듭콩쩌징듭콩쩌징듭콩쩌징듭콩쩌징듭콩쩌징듭콩쩌징듭콩쩌징듭콩쩌징듭콩쩌징듭콩쩌징듭콩쩌징듭콩쩌징듭콩쩌징듭콩쩌징듭콩쩌징듭콩쩌\n"
     ]
    },
    {
     "name": "stderr",
     "output_type": "stream",
     "text": [
      "Epoch [32/300], 횟수 [990/997], Loss: 0.0074: 100%|██████████| 997/997 [02:21<00:00,  7.03it/s]\n"
     ]
    },
    {
     "name": "stdout",
     "output_type": "stream",
     "text": [
      "Epoch 32 학습 종료 ===> 손실: 0.0731, 정확도: 0.0176, f1 점수: 0.0061\n",
      "오룻휠콩젯헷곱뱉V뱉V뱉V뱉V뱉V뱉V뱉V뱉V뱉V뱉V뱉V뱉V뱉V뱉V뱉V뱉V뱉V뱉V뱉V뱉V뱉V뱉V뱉V뱉V뱉V뱉V뱉V뱉V뱉V뱉V뱉V뱉V뱉V뱉V뱉V뱉V뱉V뱉V뱉V뱉V뱉V뱉V뱉V뱉V뱉V뱉V뱉V\n"
     ]
    },
    {
     "name": "stderr",
     "output_type": "stream",
     "text": [
      "Epoch [33/300], 횟수 [990/997], Loss: 0.0073: 100%|██████████| 997/997 [02:18<00:00,  7.18it/s]\n"
     ]
    },
    {
     "name": "stdout",
     "output_type": "stream",
     "text": [
      "Epoch 33 학습 종료 ===> 손실: 0.0730, 정확도: 0.0174, f1 점수: 0.0061\n",
      "오룻휠콩젯헷곱뱉콕뱉콕뱉콕뱉콕뱉콕뱉콕뱉콕뱉콕뱉콕뱉콕뱉콕뱉콕뱉콕뱉콕뱉콕뱉콕뱉콕뱉콕뱉콕뱉콕뱉콕뱉콕뱉콕뱉콕뱉콕뱉콕뱉콕뱉콕뱉콕뱉콕뱉콕뱉콕뱉콕뱉콕뱉콕뱉콕뱉콕뱉콕뱉콕뱉콕뱉콕뱉콕뱉콕뱉콕뱉콕뱉콕뱉콕\n"
     ]
    },
    {
     "name": "stderr",
     "output_type": "stream",
     "text": [
      "Epoch [34/300], 횟수 [990/997], Loss: 0.0073: 100%|██████████| 997/997 [02:18<00:00,  7.22it/s]\n"
     ]
    },
    {
     "name": "stdout",
     "output_type": "stream",
     "text": [
      "Epoch 34 학습 종료 ===> 손실: 0.0728, 정확도: 0.0171, f1 점수: 0.0059\n",
      "오룻휠콩젯헷곱뱉콕뱉콕뱉콕뱉콕뱉콕뱉콕뱉콕뱉콕뱉콕뱉콕뱉콕뱉콕뱉콕뱉콕뱉콕뱉콕뱉콕뱉콕뱉콕뱉콕뱉콕뱉콕뱉콕뱉콕뱉콕뱉콕뱉콕뱉콕뱉콕뱉콕뱉콕뱉콕뱉콕뱉콕뱉콕뱉콕뱉콕뱉콕뱉콕뱉콕뱉콕뱉콕뱉콕뱉콕뱉콕뱉콕뱉콕\n"
     ]
    },
    {
     "name": "stderr",
     "output_type": "stream",
     "text": [
      "Epoch [35/300], 횟수 [990/997], Loss: 0.0073: 100%|██████████| 997/997 [02:16<00:00,  7.29it/s]\n"
     ]
    },
    {
     "name": "stdout",
     "output_type": "stream",
     "text": [
      "Epoch 35 학습 종료 ===> 손실: 0.0725, 정확도: 0.0171, f1 점수: 0.0059\n",
      "오룻휠콩쩌룻휠콩쩌룻휠콩쩌룻휠콩쩌룻휠콩쩌룻휠콩쩌룻휠콩쩌룻휠콩쩌룻휠콩쩌룻휠콩쩌룻휠콩쩌룻휠콩쩌룻휠콩쩌룻휠콩쩌룻휠콩쩌룻휠콩쩌룻휠콩쩌룻휠콩쩌룻휠콩쩌룻휠콩쩌룻휠콩쩌룻휠콩쩌룻휠콩쩌룻휠콩쩌룻휠콩쩌\n"
     ]
    },
    {
     "name": "stderr",
     "output_type": "stream",
     "text": [
      "Epoch [36/300], 횟수 [990/997], Loss: 0.0071: 100%|██████████| 997/997 [02:15<00:00,  7.38it/s]\n"
     ]
    },
    {
     "name": "stdout",
     "output_type": "stream",
     "text": [
      "Epoch 36 학습 종료 ===> 손실: 0.0723, 정확도: 0.0169, f1 점수: 0.0059\n",
      "오룻휠뼉뼉뼉뼉뼉뼉뼉뼉뼉뼉뼉뼉뼉뼉뼉뼉뼉뼉뼉뼉뼉뼉뼉뼉뼉뼉뼉뼉뼉뼉뼉뼉뼉뼉뼉뼉뼉뼉뼉뼉뼉뼉뼉뼉뼉뼉뼉뼉뼉뼉뼉뼉뼉뼉뼉뼉뼉뼉뼉뼉뼉뼉뼉뼉뼉뼉뼉뼉뼉뼉뼉뼉뼉뼉뼉뼉뼉뼉뼉뼉뼉뼉뼉뼉뼉뼉뼉뼉뼉뼉뼉뼉뼉뼉뼉뼉뼉뼉\n"
     ]
    },
    {
     "name": "stderr",
     "output_type": "stream",
     "text": [
      "Epoch [37/300], 횟수 [990/997], Loss: 0.0072: 100%|██████████| 997/997 [02:17<00:00,  7.25it/s]\n"
     ]
    },
    {
     "name": "stdout",
     "output_type": "stream",
     "text": [
      "Epoch 37 학습 종료 ===> 손실: 0.0721, 정확도: 0.0169, f1 점수: 0.0059\n",
      "오룻휠콩젯헷곱뱉콕뎅젯헷곱뱉콕뎅젯헷곱뱉콕뎅젯헷곱뱉콕뎅젯헷곱뱉콕뎅젯헷곱뱉콕뎅젯헷곱뱉콕뎅젯헷곱뱉콕뎅젯헷곱뱉콕뎅젯헷곱뱉콕뎅젯헷곱뱉콕뎅젯헷곱뱉콕뎅젯헷곱뱉콕뎅젯헷곱뱉콕뎅젯헷곱뱉콕뎅젯헷곱뱉콕뎅젯\n"
     ]
    },
    {
     "name": "stderr",
     "output_type": "stream",
     "text": [
      "Epoch [38/300], 횟수 [990/997], Loss: 0.0072: 100%|██████████| 997/997 [02:18<00:00,  7.20it/s]\n"
     ]
    },
    {
     "name": "stdout",
     "output_type": "stream",
     "text": [
      "Epoch 38 학습 종료 ===> 손실: 0.0719, 정확도: 0.0169, f1 점수: 0.0060\n",
      "오룻짤곱룹콩젯헷곱룹콩젯헷곱룹콩젯헷곱룹콩젯헷곱룹콩젯헷곱룹콩젯헷곱룹콩젯헷곱룹콩젯헷곱룹콩젯헷곱룹콩젯헷곱룹콩젯헷곱룹콩젯헷곱룹콩젯헷곱룹콩젯헷곱룹콩젯헷곱룹콩젯헷곱룹콩젯헷곱룹콩젯헷곱룹콩젯헷곱룹콩\n"
     ]
    },
    {
     "name": "stderr",
     "output_type": "stream",
     "text": [
      "Epoch [39/300], 횟수 [990/997], Loss: 0.0072: 100%|██████████| 997/997 [02:18<00:00,  7.20it/s]\n"
     ]
    },
    {
     "name": "stdout",
     "output_type": "stream",
     "text": [
      "Epoch 39 학습 종료 ===> 손실: 0.0717, 정확도: 0.0166, f1 점수: 0.0059\n",
      "오룻휠뼉헨늬녁빕콩젯헷곱뱉팍걀헨늬녁빕콩젯헷곱뱉팍걀헨늬녁빕콩젯헷곱뱉팍걀헨늬녁빕콩젯헷곱뱉팍걀헨늬녁빕콩젯헷곱뱉팍걀헨늬녁빕콩젯헷곱뱉팍걀헨늬녁빕콩젯헷곱뱉팍걀헨늬녁빕콩젯헷곱뱉팍걀헨늬녁빕콩젯헷곱뱉\n"
     ]
    },
    {
     "name": "stderr",
     "output_type": "stream",
     "text": [
      "Epoch [40/300], 횟수 [990/997], Loss: 0.0072: 100%|██████████| 997/997 [02:14<00:00,  7.41it/s]\n"
     ]
    },
    {
     "name": "stdout",
     "output_type": "stream",
     "text": [
      "Epoch 40 학습 종료 ===> 손실: 0.0716, 정확도: 0.0166, f1 점수: 0.0060\n",
      "오룻휠헨늬촨굴콩젯헷곱뱉콕뎅젯헷곱뱉콕뎅젯헷곱뱉콕뎅젯헷곱뱉콕뎅젯헷곱뱉콕뎅젯헷곱뱉콕뎅젯헷곱뱉콕뎅젯헷곱뱉콕뎅젯헷곱뱉콕뎅젯헷곱뱉콕뎅젯헷곱뱉콕뎅젯헷곱뱉콕뎅젯헷곱뱉콕뎅젯헷곱뱉콕뎅젯헷곱뱉콕뎅젯헷곱\n"
     ]
    },
    {
     "name": "stderr",
     "output_type": "stream",
     "text": [
      "Epoch [41/300], 횟수 [990/997], Loss: 0.0071: 100%|██████████| 997/997 [02:06<00:00,  7.90it/s]\n"
     ]
    },
    {
     "name": "stdout",
     "output_type": "stream",
     "text": [
      "Epoch 41 학습 종료 ===> 손실: 0.0715, 정확도: 0.0162, f1 점수: 0.0059\n",
      "오룻휠헨녁빕굴콩젯흴뎅젯흴뎅젯흴뎅젯흴뎅젯흴뎅젯흴뎅젯흴뎅젯흴뎅젯흴뎅젯흴뎅젯흴뎅젯흴뎅젯흴뎅젯흴뎅젯흴뎅젯흴뎅젯흴뎅젯흴뎅젯흴뎅젯흴뎅젯흴뎅젯흴뎅젯흴뎅젯흴뎅젯흴뎅젯흴뎅젯흴뎅젯흴뎅젯흴뎅젯흴뎅젯흴뎅\n"
     ]
    },
    {
     "name": "stderr",
     "output_type": "stream",
     "text": [
      "Epoch [42/300], 횟수 [990/997], Loss: 0.0072: 100%|██████████| 997/997 [02:14<00:00,  7.41it/s]\n"
     ]
    },
    {
     "name": "stdout",
     "output_type": "stream",
     "text": [
      "Epoch 42 학습 종료 ===> 손실: 0.0713, 정확도: 0.0161, f1 점수: 0.0059\n",
      "오룻휠헨녁젯헷곱뱉콕뎅젯헷곱뱉콕뎅젯헷곱뱉콕뎅젯헷곱뱉콕뎅젯헷곱뱉콕뎅젯헷곱뱉콕뎅젯헷곱뱉콕뎅젯헷곱뱉콕뎅젯헷곱뱉콕뎅젯헷곱뱉콕뎅젯헷곱뱉콕뎅젯헷곱뱉콕뎅젯헷곱뱉콕뎅젯헷곱뱉콕뎅젯헷곱뱉콕뎅젯헷곱뱉콕뎅\n"
     ]
    },
    {
     "name": "stderr",
     "output_type": "stream",
     "text": [
      "Epoch [43/300], 횟수 [990/997], Loss: 0.0072: 100%|██████████| 997/997 [02:18<00:00,  7.21it/s]\n"
     ]
    },
    {
     "name": "stdout",
     "output_type": "stream",
     "text": [
      "Epoch 43 학습 종료 ===> 손실: 0.0711, 정확도: 0.0161, f1 점수: 0.0059\n",
      "오룻휠헨녁젯헷헨녁젯헷헨녁젯헷헨녁젯헷헨녁젯헷헨녁젯헷헨녁젯헷헨녁젯헷헨녁젯헷헨녁젯헷헨녁젯헷헨녁젯헷헨녁젯헷헨녁젯헷헨녁젯헷헨녁젯헷헨녁젯헷헨녁젯헷헨녁젯헷헨녁젯헷헨녁젯헷헨녁젯헷헨녁젯헷헨녁젯헷헨녁\n"
     ]
    },
    {
     "name": "stderr",
     "output_type": "stream",
     "text": [
      "Epoch [44/300], 횟수 [990/997], Loss: 0.0070: 100%|██████████| 997/997 [02:16<00:00,  7.32it/s]\n"
     ]
    },
    {
     "name": "stdout",
     "output_type": "stream",
     "text": [
      "Epoch 44 학습 종료 ===> 손실: 0.0710, 정확도: 0.0158, f1 점수: 0.0058\n",
      "오룻휠헨늬녁댓흴뎅젯헷곱룹헨늬녁댓흴뎅젯헷곱룹헨늬녁댓흴뎅젯헷곱룹헨늬녁댓흴뎅젯헷곱룹헨늬녁댓흴뎅젯헷곱룹헨늬녁댓흴뎅젯헷곱룹헨늬녁댓흴뎅젯헷곱룹헨늬녁댓흴뎅젯헷곱룹헨늬녁댓흴뎅젯헷곱룹헨늬녁댓흴뎅젯헷\n"
     ]
    },
    {
     "name": "stderr",
     "output_type": "stream",
     "text": [
      "Epoch [45/300], 횟수 [990/997], Loss: 0.0069: 100%|██████████| 997/997 [02:03<00:00,  8.09it/s]\n"
     ]
    },
    {
     "name": "stdout",
     "output_type": "stream",
     "text": [
      "Epoch 45 학습 종료 ===> 손실: 0.0707, 정확도: 0.0159, f1 점수: 0.0058\n",
      "오룻휠헨녁뎅젯헷곱뱉콕뎅젯헷곱뱉콕뎅젯헷곱뱉콕뎅젯헷곱뱉콕뎅젯헷곱뱉콕뎅젯헷곱뱉콕뎅젯헷곱뱉콕뎅젯헷곱뱉콕뎅젯헷곱뱉콕뎅젯헷곱뱉콕뎅젯헷곱뱉콕뎅젯헷곱뱉콕뎅젯헷곱뱉콕뎅젯헷곱뱉콕뎅젯헷곱뱉콕뎅젯헷곱뱉콕\n"
     ]
    },
    {
     "name": "stderr",
     "output_type": "stream",
     "text": [
      "Epoch [46/300], 횟수 [990/997], Loss: 0.0071: 100%|██████████| 997/997 [02:12<00:00,  7.51it/s]\n"
     ]
    },
    {
     "name": "stdout",
     "output_type": "stream",
     "text": [
      "Epoch 46 학습 종료 ===> 손실: 0.0706, 정확도: 0.0160, f1 점수: 0.0059\n",
      "오룻휠뼉궈렵룻휠뼉궈렵룻휠뼉궈렵룻휠뼉궈렵룻휠뼉궈렵룻휠뼉궈렵룻휠뼉궈렵룻휠뼉궈렵룻휠뼉궈렵룻휠뼉궈렵룻휠뼉궈렵룻휠뼉궈렵룻휠뼉궈렵룻휠뼉궈렵룻휠뼉궈렵룻휠뼉궈렵룻휠뼉궈렵룻휠뼉궈렵룻휠뼉궈렵룻휠뼉궈렵\n"
     ]
    },
    {
     "name": "stderr",
     "output_type": "stream",
     "text": [
      "Epoch [47/300], 횟수 [990/997], Loss: 0.0069: 100%|██████████| 997/997 [02:15<00:00,  7.35it/s]\n"
     ]
    },
    {
     "name": "stdout",
     "output_type": "stream",
     "text": [
      "Epoch 47 학습 종료 ===> 손실: 0.0704, 정확도: 0.0157, f1 점수: 0.0058\n",
      "오룻엌콩젯헷곱룹헨녁빕굴헨녁빕굴헨녁빕굴헨녁빕굴헨녁빕굴헨녁빕굴헨녁빕굴헨녁빕굴헨녁빕굴헨녁빕굴헨녁빕굴헨녁빕굴헨녁빕굴헨녁빕굴헨녁빕굴헨녁빕굴헨녁빕굴헨녁빕굴헨녁빕굴헨녁빕굴헨녁빕굴헨녁빕굴헨녁빕굴헨\n"
     ]
    },
    {
     "name": "stderr",
     "output_type": "stream",
     "text": [
      "Epoch [48/300], 횟수 [990/997], Loss: 0.0070: 100%|██████████| 997/997 [02:14<00:00,  7.39it/s]\n"
     ]
    },
    {
     "name": "stdout",
     "output_type": "stream",
     "text": [
      "Epoch 48 학습 종료 ===> 손실: 0.0703, 정확도: 0.0157, f1 점수: 0.0058\n",
      "오룻휠헨녁댓륜뎅젯헷곱룹헨녁댓륜뎅젯헷곱룹헨녁댓륜뎅젯헷곱룹헨녁댓륜뎅젯헷곱룹헨녁댓륜뎅젯헷곱룹헨녁댓륜뎅젯헷곱룹헨녁댓륜뎅젯헷곱룹헨녁댓륜뎅젯헷곱룹헨녁댓륜뎅젯헷곱룹헨녁댓륜뎅젯헷곱룹헨녁댓륜뎅젯헷곱\n"
     ]
    },
    {
     "name": "stderr",
     "output_type": "stream",
     "text": [
      "Epoch [49/300], 횟수 [990/997], Loss: 0.0070: 100%|██████████| 997/997 [02:04<00:00,  7.98it/s]\n"
     ]
    },
    {
     "name": "stdout",
     "output_type": "stream",
     "text": [
      "Epoch 49 학습 종료 ===> 손실: 0.0701, 정확도: 0.0157, f1 점수: 0.0058\n",
      "오룻휠헨녁빕콩떤뎅젯헷뼉궈룹헨녁빕콩떤뎅젯헷뼉궈룹헨녁빕콩떤뎅젯헷뼉궈룹헨녁빕콩떤뎅젯헷뼉궈룹헨녁빕콩떤뎅젯헷뼉궈룹헨녁빕콩떤뎅젯헷뼉궈룹헨녁빕콩떤뎅젯헷뼉궈룹헨녁빕콩떤뎅젯헷뼉궈룹헨녁빕콩떤뎅젯헷뼉궈\n"
     ]
    },
    {
     "name": "stderr",
     "output_type": "stream",
     "text": [
      "Epoch [50/300], 횟수 [990/997], Loss: 0.0071: 100%|██████████| 997/997 [02:11<00:00,  7.59it/s]\n"
     ]
    },
    {
     "name": "stdout",
     "output_type": "stream",
     "text": [
      "Epoch 50 학습 종료 ===> 손실: 0.0701, 정확도: 0.0156, f1 점수: 0.0057\n",
      "오룻휠궈촨굴궈촨굴궈촨굴궈촨굴궈촨굴궈촨굴궈촨굴궈촨굴궈촨굴궈촨굴궈촨굴궈촨굴궈촨굴궈촨굴궈촨굴궈촨굴궈촨굴궈촨굴궈촨굴궈촨굴궈촨굴궈촨굴궈촨굴궈촨굴궈촨굴궈촨굴궈촨굴궈촨굴궈촨굴궈촨굴궈촨굴궈촨굴궈촨\n"
     ]
    },
    {
     "name": "stderr",
     "output_type": "stream",
     "text": [
      "Epoch [51/300], 횟수 [990/997], Loss: 0.0071: 100%|██████████| 997/997 [02:19<00:00,  7.17it/s]\n"
     ]
    },
    {
     "name": "stdout",
     "output_type": "stream",
     "text": [
      "Epoch 51 학습 종료 ===> 손실: 0.0698, 정확도: 0.0157, f1 점수: 0.0057\n",
      "오룻휠헨녁뻤징늬녁뻤징늬녁뻤징늬녁뻤징늬녁뻤징늬녁뻤징늬녁뻤징늬녁뻤징늬녁뻤징늬녁뻤징늬녁뻤징늬녁뻤징늬녁뻤징늬녁뻤징늬녁뻤징늬녁뻤징늬녁뻤징늬녁뻤징늬녁뻤징늬녁뻤징늬녁뻤징늬녁뻤징늬녁뻤징늬녁뻤징늬녁\n"
     ]
    },
    {
     "name": "stderr",
     "output_type": "stream",
     "text": [
      "Epoch [52/300], 횟수 [990/997], Loss: 0.0070: 100%|██████████| 997/997 [02:05<00:00,  7.93it/s]\n"
     ]
    },
    {
     "name": "stdout",
     "output_type": "stream",
     "text": [
      "Epoch 52 학습 종료 ===> 손실: 0.0697, 정확도: 0.0157, f1 점수: 0.0057\n",
      "오룻휠헨녁빕굴헨녁빕굴헨녁빕굴헨녁빕굴헨녁빕굴헨녁빕굴헨녁빕굴헨녁빕굴헨녁빕굴헨녁빕굴헨녁빕굴헨녁빕굴헨녁빕굴헨녁빕굴헨녁빕굴헨녁빕굴헨녁빕굴헨녁빕굴헨녁빕굴헨녁빕굴헨녁빕굴헨녁빕굴헨녁빕굴헨녁빕굴헨녁\n"
     ]
    },
    {
     "name": "stderr",
     "output_type": "stream",
     "text": [
      "Epoch [53/300], 횟수 [990/997], Loss: 0.0071: 100%|██████████| 997/997 [02:08<00:00,  7.74it/s]\n"
     ]
    },
    {
     "name": "stdout",
     "output_type": "stream",
     "text": [
      "Epoch 53 학습 종료 ===> 손실: 0.0696, 정확도: 0.0155, f1 점수: 0.0057\n",
      "오룻휠헨녁빕콩렵룻휠헨녁빕콩렵룻휠헨녁빕콩렵룻휠헨녁빕콩렵룻휠헨녁빕콩렵룻휠헨녁빕콩렵룻휠헨녁빕콩렵룻휠헨녁빕콩렵룻휠헨녁빕콩렵룻휠헨녁빕콩렵룻휠헨녁빕콩렵룻휠헨녁빕콩렵룻휠헨녁빕콩렵룻휠헨녁빕콩렵룻휠\n"
     ]
    },
    {
     "name": "stderr",
     "output_type": "stream",
     "text": [
      "Epoch [54/300], 횟수 [990/997], Loss: 0.0070: 100%|██████████| 997/997 [02:14<00:00,  7.41it/s]\n"
     ]
    },
    {
     "name": "stdout",
     "output_type": "stream",
     "text": [
      "Epoch 54 학습 종료 ===> 손실: 0.0695, 정확도: 0.0156, f1 점수: 0.0058\n",
      "오룻휠헨늬늬늬늬늬늬늬늬늬늬늬늬늬늬늬늬늬늬늬늬늬늬늬늬늬늬늬늬늬늬늬늬늬늬늬늬늬늬늬늬늬늬늬늬늬늬늬늬늬늬늬늬늬늬늬늬늬늬늬늬늬늬늬늬늬늬늬늬늬늬늬늬늬늬늬늬늬늬늬늬늬늬늬늬늬늬늬늬늬늬늬늬늬늬늬늬늬\n"
     ]
    },
    {
     "name": "stderr",
     "output_type": "stream",
     "text": [
      "Epoch [55/300], 횟수 [990/997], Loss: 0.0068: 100%|██████████| 997/997 [02:16<00:00,  7.31it/s]\n"
     ]
    },
    {
     "name": "stdout",
     "output_type": "stream",
     "text": [
      "Epoch 55 학습 종료 ===> 손실: 0.0694, 정확도: 0.0153, f1 점수: 0.0057\n",
      "오룻휠궈렵룻휠궈렵룻휠궈렵룻휠궈렵룻휠궈렵룻휠궈렵룻휠궈렵룻휠궈렵룻휠궈렵룻휠궈렵룻휠궈렵룻휠궈렵룻휠궈렵룻휠궈렵룻휠궈렵룻휠궈렵룻휠궈렵룻휠궈렵룻휠궈렵룻휠궈렵룻휠궈렵룻휠궈렵룻휠궈렵룻휠궈렵룻휠궈렵\n"
     ]
    },
    {
     "name": "stderr",
     "output_type": "stream",
     "text": [
      "Epoch [56/300], 횟수 [990/997], Loss: 0.0071: 100%|██████████| 997/997 [02:04<00:00,  7.99it/s]\n"
     ]
    },
    {
     "name": "stdout",
     "output_type": "stream",
     "text": [
      "Epoch 56 학습 종료 ===> 손실: 0.0692, 정확도: 0.0152, f1 점수: 0.0057\n",
      "오룻휠궈렵룻휠궈렵룻휠궈렵룻휠궈렵룻휠궈렵룻휠궈렵룻휠궈렵룻휠궈렵룻휠궈렵룻휠궈렵룻휠궈렵룻휠궈렵룻휠궈렵룻휠궈렵룻휠궈렵룻휠궈렵룻휠궈렵룻휠궈렵룻휠궈렵룻휠궈렵룻휠궈렵룻휠궈렵룻휠궈렵룻휠궈렵룻휠궈렵\n"
     ]
    },
    {
     "name": "stderr",
     "output_type": "stream",
     "text": [
      "Epoch [57/300], 횟수 [990/997], Loss: 0.0068: 100%|██████████| 997/997 [02:08<00:00,  7.77it/s]\n"
     ]
    },
    {
     "name": "stdout",
     "output_type": "stream",
     "text": [
      "Epoch 57 학습 종료 ===> 손실: 0.0692, 정확도: 0.0154, f1 점수: 0.0058\n",
      "오룻휠궈렵룻휠궈렵룻휠궈렵룻휠궈렵룻휠궈렵룻휠궈렵룻휠궈렵룻휠궈렵룻휠궈렵룻휠궈렵룻휠궈렵룻휠궈렵룻휠궈렵룻휠궈렵룻휠궈렵룻휠궈렵룻휠궈렵룻휠궈렵룻휠궈렵룻휠궈렵룻휠궈렵룻휠궈렵룻휠궈렵룻휠궈렵룻휠궈렵\n"
     ]
    },
    {
     "name": "stderr",
     "output_type": "stream",
     "text": [
      "Epoch [58/300], 횟수 [990/997], Loss: 0.0069: 100%|██████████| 997/997 [02:16<00:00,  7.33it/s]\n"
     ]
    },
    {
     "name": "stdout",
     "output_type": "stream",
     "text": [
      "Epoch 58 학습 종료 ===> 손실: 0.0690, 정확도: 0.0153, f1 점수: 0.0058\n",
      "오룻휠헨녁뎅빕굴헨녁뎅빕굴헨녁뎅빕굴헨녁뎅빕굴헨녁뎅빕굴헨녁뎅빕굴헨녁뎅빕굴헨녁뎅빕굴헨녁뎅빕굴헨녁뎅빕굴헨녁뎅빕굴헨녁뎅빕굴헨녁뎅빕굴헨녁뎅빕굴헨녁뎅빕굴헨녁뎅빕굴헨녁뎅빕굴헨녁뎅빕굴헨녁뎅빕굴헨녁뎅\n"
     ]
    },
    {
     "name": "stderr",
     "output_type": "stream",
     "text": [
      "Epoch [59/300], 횟수 [990/997], Loss: 0.0069: 100%|██████████| 997/997 [02:17<00:00,  7.25it/s]\n"
     ]
    },
    {
     "name": "stdout",
     "output_type": "stream",
     "text": [
      "Epoch 59 학습 종료 ===> 손실: 0.0689, 정확도: 0.0155, f1 점수: 0.0058\n",
      "오룻엎굴헨녁띠멧칵떤뎅빕굴헨녁띠멧칵떤뎅빕굴헨녁띠멧칵떤뎅빕굴헨녁띠멧칵떤뎅빕굴헨녁띠멧칵떤뎅빕굴헨녁띠멧칵떤뎅빕굴헨녁띠멧칵떤뎅빕굴헨녁띠멧칵떤뎅빕굴헨녁띠멧칵떤뎅빕굴헨녁띠멧칵떤뎅빕굴헨녁띠멧칵떤뎅\n"
     ]
    },
    {
     "name": "stderr",
     "output_type": "stream",
     "text": [
      "Epoch [60/300], 횟수 [990/997], Loss: 0.0068: 100%|██████████| 997/997 [02:04<00:00,  8.01it/s]\n"
     ]
    },
    {
     "name": "stdout",
     "output_type": "stream",
     "text": [
      "Epoch 60 학습 종료 ===> 손실: 0.0688, 정확도: 0.0152, f1 점수: 0.0058\n",
      "오룻샷룹헨녁빕턴띤댓륜뎅빕턴띤댓륜뎅빕턴띤댓륜뎅빕턴띤댓륜뎅빕턴띤댓륜뎅빕턴띤댓륜뎅빕턴띤댓륜뎅빕턴띤댓륜뎅빕턴띤댓륜뎅빕턴띤댓륜뎅빕턴띤댓륜뎅빕턴띤댓륜뎅빕턴띤댓륜뎅빕턴띤댓륜뎅빕턴띤댓륜뎅빕턴띤댓륜\n"
     ]
    },
    {
     "name": "stderr",
     "output_type": "stream",
     "text": [
      "Epoch [61/300], 횟수 [990/997], Loss: 0.0068: 100%|██████████| 997/997 [02:07<00:00,  7.81it/s]\n"
     ]
    },
    {
     "name": "stdout",
     "output_type": "stream",
     "text": [
      "Epoch 61 학습 종료 ===> 손실: 0.0687, 정확도: 0.0153, f1 점수: 0.0058\n",
      "오룻휠곱뎅빕콩쩌콕뎅빕콩쩌콕뎅빕콩쩌콕뎅빕콩쩌콕뎅빕콩쩌콕뎅빕콩쩌콕뎅빕콩쩌콕뎅빕콩쩌콕뎅빕콩쩌콕뎅빕콩쩌콕뎅빕콩쩌콕뎅빕콩쩌콕뎅빕콩쩌콕뎅빕콩쩌콕뎅빕콩쩌콕뎅빕콩쩌콕뎅빕콩쩌콕뎅빕콩쩌콕뎅빕콩쩌콕뎅빕\n"
     ]
    },
    {
     "name": "stderr",
     "output_type": "stream",
     "text": [
      "Epoch [62/300], 횟수 [990/997], Loss: 0.0069: 100%|██████████| 997/997 [02:17<00:00,  7.25it/s]\n"
     ]
    },
    {
     "name": "stdout",
     "output_type": "stream",
     "text": [
      "Epoch 62 학습 종료 ===> 손실: 0.0686, 정확도: 0.0151, f1 점수: 0.0058\n",
      "오룻휠헨녁댓륜뎅빕콩렵콕뎅빕콩렵콕뎅빕콩렵콕뎅빕콩렵콕뎅빕콩렵콕뎅빕콩렵콕뎅빕콩렵콕뎅빕콩렵콕뎅빕콩렵콕뎅빕콩렵콕뎅빕콩렵콕뎅빕콩렵콕뎅빕콩렵콕뎅빕콩렵콕뎅빕콩렵콕뎅빕콩렵콕뎅빕콩렵콕뎅빕콩렵콕뎅빕콩렵\n"
     ]
    },
    {
     "name": "stderr",
     "output_type": "stream",
     "text": [
      "Epoch [63/300], 횟수 [990/997], Loss: 0.0068: 100%|██████████| 997/997 [02:08<00:00,  7.78it/s]\n"
     ]
    },
    {
     "name": "stdout",
     "output_type": "stream",
     "text": [
      "Epoch 63 학습 종료 ===> 손실: 0.0685, 정확도: 0.0149, f1 점수: 0.0058\n",
      "오룻휠헨녁빕굴헨녁빕굴헨녁빕굴헨녁빕굴헨녁빕굴헨녁빕굴헨녁빕굴헨녁빕굴헨녁빕굴헨녁빕굴헨녁빕굴헨녁빕굴헨녁빕굴헨녁빕굴헨녁빕굴헨녁빕굴헨녁빕굴헨녁빕굴헨녁빕굴헨녁빕굴헨녁빕굴헨녁빕굴헨녁빕굴헨녁빕굴헨녁\n"
     ]
    },
    {
     "name": "stderr",
     "output_type": "stream",
     "text": [
      "Epoch [64/300], 횟수 [990/997], Loss: 0.0069: 100%|██████████| 997/997 [02:06<00:00,  7.91it/s]\n"
     ]
    },
    {
     "name": "stdout",
     "output_type": "stream",
     "text": [
      "Epoch 64 학습 종료 ===> 손실: 0.0683, 정확도: 0.0150, f1 점수: 0.0058\n",
      "오룻샷렵룻샷렵룻샷렵룻샷렵룻샷렵룻샷렵룻샷렵룻샷렵룻샷렵룻샷렵룻샷렵룻샷렵룻샷렵룻샷렵룻샷렵룻샷렵룻샷렵룻샷렵룻샷렵룻샷렵룻샷렵룻샷렵룻샷렵룻샷렵룻샷렵룻샷렵룻샷렵룻샷렵룻샷렵룻샷렵룻샷렵룻샷렵룻샷렵룻\n"
     ]
    },
    {
     "name": "stderr",
     "output_type": "stream",
     "text": [
      "Epoch [65/300], 횟수 [990/997], Loss: 0.0068: 100%|██████████| 997/997 [02:14<00:00,  7.41it/s]\n"
     ]
    },
    {
     "name": "stdout",
     "output_type": "stream",
     "text": [
      "Epoch 65 학습 종료 ===> 손실: 0.0684, 정확도: 0.0150, f1 점수: 0.0058\n",
      "오룻샷렵콕뎅빕콩렵콕뎅빕콩렵콕뎅빕콩렵콕뎅빕콩렵콕뎅빕콩렵콕뎅빕콩렵콕뎅빕콩렵콕뎅빕콩렵콕뎅빕콩렵콕뎅빕콩렵콕뎅빕콩렵콕뎅빕콩렵콕뎅빕콩렵콕뎅빕콩렵콕뎅빕콩렵콕뎅빕콩렵콕뎅빕콩렵콕뎅빕콩렵콕뎅빕콩렵콕뎅\n"
     ]
    },
    {
     "name": "stderr",
     "output_type": "stream",
     "text": [
      "Epoch [66/300], 횟수 [990/997], Loss: 0.0070: 100%|██████████| 997/997 [02:15<00:00,  7.38it/s]\n"
     ]
    },
    {
     "name": "stdout",
     "output_type": "stream",
     "text": [
      "Epoch 66 학습 종료 ===> 손실: 0.0681, 정확도: 0.0151, f1 점수: 0.0059\n",
      "오룻샷멧헨녁빕콩쩌콕뎅빕콩쩌콕뎅빕콩쩌콕뎅빕콩쩌콕뎅빕콩쩌콕뎅빕콩쩌콕뎅빕콩쩌콕뎅빕콩쩌콕뎅빕콩쩌콕뎅빕콩쩌콕뎅빕콩쩌콕뎅빕콩쩌콕뎅빕콩쩌콕뎅빕콩쩌콕뎅빕콩쩌콕뎅빕콩쩌콕뎅빕콩쩌콕뎅빕콩쩌콕뎅빕콩쩌콕뎅\n"
     ]
    },
    {
     "name": "stderr",
     "output_type": "stream",
     "text": [
      "Epoch [67/300], 횟수 [990/997], Loss: 0.0069: 100%|██████████| 997/997 [02:02<00:00,  8.12it/s]\n"
     ]
    },
    {
     "name": "stdout",
     "output_type": "stream",
     "text": [
      "Epoch 67 학습 종료 ===> 손실: 0.0681, 정확도: 0.0150, f1 점수: 0.0058\n",
      "오룻샷멧봇륜뎅빕콩쩌콕뎅빕콩쩌콕뎅빕콩쩌콕뎅빕콩쩌콕뎅빕콩쩌콕뎅빕콩쩌콕뎅빕콩쩌콕뎅빕콩쩌콕뎅빕콩쩌콕뎅빕콩쩌콕뎅빕콩쩌콕뎅빕콩쩌콕뎅빕콩쩌콕뎅빕콩쩌콕뎅빕콩쩌콕뎅빕콩쩌콕뎅빕콩쩌콕뎅빕콩쩌콕뎅빕콩쩌콕\n"
     ]
    },
    {
     "name": "stderr",
     "output_type": "stream",
     "text": [
      "Epoch [68/300], 횟수 [990/997], Loss: 0.0068: 100%|██████████| 997/997 [02:13<00:00,  7.48it/s]\n"
     ]
    },
    {
     "name": "stdout",
     "output_type": "stream",
     "text": [
      "Epoch 68 학습 종료 ===> 손실: 0.0680, 정확도: 0.0151, f1 점수: 0.0058\n",
      "오룻샷멧봇륜뎅빕턴띤띠랫샷멧봇륜뎅빕턴띤띠랫샷멧봇륜뎅빕턴띤띠랫샷멧봇륜뎅빕턴띤띠랫샷멧봇륜뎅빕턴띤띠랫샷멧봇륜뎅빕턴띤띠랫샷멧봇륜뎅빕턴띤띠랫샷멧봇륜뎅빕턴띤띠랫샷멧봇륜뎅빕턴띤띠랫샷멧봇륜뎅빕턴띤띠\n"
     ]
    },
    {
     "name": "stderr",
     "output_type": "stream",
     "text": [
      "Epoch [69/300], 횟수 [990/997], Loss: 0.0069: 100%|██████████| 997/997 [02:14<00:00,  7.39it/s]\n"
     ]
    },
    {
     "name": "stdout",
     "output_type": "stream",
     "text": [
      "Epoch 69 학습 종료 ===> 손실: 0.0679, 정확도: 0.0150, f1 점수: 0.0057\n",
      "오룻륜뎅젯슐뼉헨녁띠룻륜뎅젯슐뼉헨녁띠룻륜뎅젯슐뼉헨녁띠룻륜뎅젯슐뼉헨녁띠룻륜뎅젯슐뼉헨녁띠룻륜뎅젯슐뼉헨녁띠룻륜뎅젯슐뼉헨녁띠룻륜뎅젯슐뼉헨녁띠룻륜뎅젯슐뼉헨녁띠룻륜뎅젯슐뼉헨녁띠룻륜뎅젯슐뼉헨녁띠룻\n"
     ]
    },
    {
     "name": "stderr",
     "output_type": "stream",
     "text": [
      "Epoch [70/300], 횟수 [990/997], Loss: 0.0068: 100%|██████████| 997/997 [02:14<00:00,  7.42it/s]\n"
     ]
    },
    {
     "name": "stdout",
     "output_type": "stream",
     "text": [
      "Epoch 70 학습 종료 ===> 손실: 0.0678, 정확도: 0.0153, f1 점수: 0.0059\n",
      "오룻샷렵콕뎅빕콩젯슐귄뎅빕콩젯슐귄뎅빕콩젯슐귄뎅빕콩젯슐귄뎅빕콩젯슐귄뎅빕콩젯슐귄뎅빕콩젯슐귄뎅빕콩젯슐귄뎅빕콩젯슐귄뎅빕콩젯슐귄뎅빕콩젯슐귄뎅빕콩젯슐귄뎅빕콩젯슐귄뎅빕콩젯슐귄뎅빕콩젯슐귄뎅빕콩젯슐귄\n"
     ]
    },
    {
     "name": "stderr",
     "output_type": "stream",
     "text": [
      "Epoch [71/300], 횟수 [990/997], Loss: 0.0068: 100%|██████████| 997/997 [02:00<00:00,  8.27it/s]\n"
     ]
    },
    {
     "name": "stdout",
     "output_type": "stream",
     "text": [
      "Epoch 71 학습 종료 ===> 손실: 0.0678, 정확도: 0.0151, f1 점수: 0.0058\n",
      "오룻샷멧봇륜뎅빕굴헨랫샷멧봇륜뎅빕굴헨랫샷멧봇륜뎅빕굴헨랫샷멧봇륜뎅빕굴헨랫샷멧봇륜뎅빕굴헨랫샷멧봇륜뎅빕굴헨랫샷멧봇륜뎅빕굴헨랫샷멧봇륜뎅빕굴헨랫샷멧봇륜뎅빕굴헨랫샷멧봇륜뎅빕굴헨랫샷멧봇륜뎅빕굴헨랫\n"
     ]
    },
    {
     "name": "stderr",
     "output_type": "stream",
     "text": [
      "Epoch [72/300], 횟수 [990/997], Loss: 0.0067: 100%|██████████| 997/997 [02:13<00:00,  7.46it/s]\n"
     ]
    },
    {
     "name": "stdout",
     "output_type": "stream",
     "text": [
      "Epoch 72 학습 종료 ===> 손실: 0.0675, 정확도: 0.0153, f1 점수: 0.0059\n",
      "오룻샷렵콕뎅빕콩젯헷봇륜뎅빕콩젯헷봇륜뎅빕콩젯헷봇륜뎅빕콩젯헷봇륜뎅빕콩젯헷봇륜뎅빕콩젯헷봇륜뎅빕콩젯헷봇륜뎅빕콩젯헷봇륜뎅빕콩젯헷봇륜뎅빕콩젯헷봇륜뎅빕콩젯헷봇륜뎅빕콩젯헷봇륜뎅빕콩젯헷봇륜뎅빕콩젯헷\n"
     ]
    },
    {
     "name": "stderr",
     "output_type": "stream",
     "text": [
      "Epoch [73/300], 횟수 [990/997], Loss: 0.0068: 100%|██████████| 997/997 [02:16<00:00,  7.28it/s]\n"
     ]
    },
    {
     "name": "stdout",
     "output_type": "stream",
     "text": [
      "Epoch 73 학습 종료 ===> 손실: 0.0675, 정확도: 0.0151, f1 점수: 0.0059\n",
      "오룻샷렵띤띠렵띤띠렵띤띠렵띤띠렵띤띠렵띤띠렵띤띠렵띤띠렵띤띠렵띤띠렵띤띠렵띤띠렵띤띠렵띤띠렵띤띠렵띤띠렵띤띠렵띤띠렵띤띠렵띤띠렵띤띠렵띤띠렵띤띠렵띤띠렵띤띠렵띤띠렵띤띠렵띤띠렵띤띠렵띤띠렵띤띠렵띤띠렵띤\n"
     ]
    },
    {
     "name": "stderr",
     "output_type": "stream",
     "text": [
      "Epoch [74/300], 횟수 [990/997], Loss: 0.0068: 100%|██████████| 997/997 [02:00<00:00,  8.26it/s]\n"
     ]
    },
    {
     "name": "stdout",
     "output_type": "stream",
     "text": [
      "Epoch 74 학습 종료 ===> 손실: 0.0674, 정확도: 0.0150, f1 점수: 0.0058\n",
      "오룻빅룻빅룻빅룻빅룻빅룻빅룻빅룻빅룻빅룻빅룻빅룻빅룻빅룻빅룻빅룻빅룻빅룻빅룻빅룻빅룻빅룻빅룻빅룻빅룻빅룻빅룻빅룻빅룻빅룻빅룻빅룻빅룻빅룻빅룻빅룻빅룻빅룻빅룻빅룻빅룻빅룻빅룻빅룻빅룻빅룻빅룻빅룻빅룻빅룻빅\n"
     ]
    },
    {
     "name": "stderr",
     "output_type": "stream",
     "text": [
      "Epoch [75/300], 횟수 [990/997], Loss: 0.0068: 100%|██████████| 997/997 [02:11<00:00,  7.55it/s]\n"
     ]
    },
    {
     "name": "stdout",
     "output_type": "stream",
     "text": [
      "Epoch 75 학습 종료 ===> 손실: 0.0673, 정확도: 0.0153, f1 점수: 0.0058\n",
      "오룻샷렵룻샷렵룻샷렵룻샷렵룻샷렵룻샷렵룻샷렵룻샷렵룻샷렵룻샷렵룻샷렵룻샷렵룻샷렵룻샷렵룻샷렵룻샷렵룻샷렵룻샷렵룻샷렵룻샷렵룻샷렵룻샷렵룻샷렵룻샷렵룻샷렵룻샷렵룻샷렵룻샷렵룻샷렵룻샷렵룻샷렵룻샷렵룻샷렵룻\n"
     ]
    },
    {
     "name": "stderr",
     "output_type": "stream",
     "text": [
      "Epoch [76/300], 횟수 [990/997], Loss: 0.0068: 100%|██████████| 997/997 [02:15<00:00,  7.35it/s]\n"
     ]
    },
    {
     "name": "stdout",
     "output_type": "stream",
     "text": [
      "Epoch 76 학습 종료 ===> 손실: 0.0673, 정확도: 0.0150, f1 점수: 0.0058\n",
      "오룻샷렵콕뎅빕콩렵콕뎅빕콩렵콕뎅빕콩렵콕뎅빕콩렵콕뎅빕콩렵콕뎅빕콩렵콕뎅빕콩렵콕뎅빕콩렵콕뎅빕콩렵콕뎅빕콩렵콕뎅빕콩렵콕뎅빕콩렵콕뎅빕콩렵콕뎅빕콩렵콕뎅빕콩렵콕뎅빕콩렵콕뎅빕콩렵콕뎅빕콩렵콕뎅빕콩렵콕뎅\n"
     ]
    },
    {
     "name": "stderr",
     "output_type": "stream",
     "text": [
      "Epoch [77/300], 횟수 [990/997], Loss: 0.0068: 100%|██████████| 997/997 [02:00<00:00,  8.31it/s]\n"
     ]
    },
    {
     "name": "stdout",
     "output_type": "stream",
     "text": [
      "Epoch 77 학습 종료 ===> 손실: 0.0672, 정확도: 0.0149, f1 점수: 0.0058\n",
      "오룻빅녁띠랫휠헨녁띠랫휠헨녁띠랫휠헨녁띠랫휠헨녁띠랫휠헨녁띠랫휠헨녁띠랫휠헨녁띠랫휠헨녁띠랫휠헨녁띠랫휠헨녁띠랫휠헨녁띠랫휠헨녁띠랫휠헨녁띠랫휠헨녁띠랫휠헨녁띠랫휠헨녁띠랫휠헨녁띠랫휠헨녁띠랫휠헨녁띠랫\n"
     ]
    },
    {
     "name": "stderr",
     "output_type": "stream",
     "text": [
      "Epoch [78/300], 횟수 [990/997], Loss: 0.0068: 100%|██████████| 997/997 [02:10<00:00,  7.65it/s]\n"
     ]
    },
    {
     "name": "stdout",
     "output_type": "stream",
     "text": [
      "Epoch 78 학습 종료 ===> 손실: 0.0671, 정확도: 0.0151, f1 점수: 0.0059\n",
      "오룻빅띤띠룻빅띤띠룻빅띤띠룻빅띤띠룻빅띤띠룻빅띤띠룻빅띤띠룻빅띤띠룻빅띤띠룻빅띤띠룻빅띤띠룻빅띤띠룻빅띤띠룻빅띤띠룻빅띤띠룻빅띤띠룻빅띤띠룻빅띤띠룻빅띤띠룻빅띤띠룻빅띤띠룻빅띤띠룻빅띤띠룻빅띤띠룻빅띤띠\n"
     ]
    },
    {
     "name": "stderr",
     "output_type": "stream",
     "text": [
      "Epoch [79/300], 횟수 [990/997], Loss: 0.0067: 100%|██████████| 997/997 [02:15<00:00,  7.36it/s]\n"
     ]
    },
    {
     "name": "stdout",
     "output_type": "stream",
     "text": [
      "Epoch 79 학습 종료 ===> 손실: 0.0671, 정확도: 0.0152, f1 점수: 0.0058\n",
      "오룻빅띤띠룻빅띤띠룻빅띤띠룻빅띤띠룻빅띤띠룻빅띤띠룻빅띤띠룻빅띤띠룻빅띤띠룻빅띤띠룻빅띤띠룻빅띤띠룻빅띤띠룻빅띤띠룻빅띤띠룻빅띤띠룻빅띤띠룻빅띤띠룻빅띤띠룻빅띤띠룻빅띤띠룻빅띤띠룻빅띤띠룻빅띤띠룻빅띤띠\n"
     ]
    },
    {
     "name": "stderr",
     "output_type": "stream",
     "text": [
      "Epoch [80/300], 횟수 [990/997], Loss: 0.0068: 100%|██████████| 997/997 [02:02<00:00,  8.14it/s]\n"
     ]
    },
    {
     "name": "stdout",
     "output_type": "stream",
     "text": [
      "Epoch 80 학습 종료 ===> 손실: 0.0671, 정확도: 0.0151, f1 점수: 0.0058\n",
      "오룻빅띤띠룻빅띤띠룻빅띤띠룻빅띤띠룻빅띤띠룻빅띤띠룻빅띤띠룻빅띤띠룻빅띤띠룻빅띤띠룻빅띤띠룻빅띤띠룻빅띤띠룻빅띤띠룻빅띤띠룻빅띤띠룻빅띤띠룻빅띤띠룻빅띤띠룻빅띤띠룻빅띤띠룻빅띤띠룻빅띤띠룻빅띤띠룻빅띤띠\n"
     ]
    },
    {
     "name": "stderr",
     "output_type": "stream",
     "text": [
      "Epoch [81/300], 횟수 [990/997], Loss: 0.0066: 100%|██████████| 997/997 [02:06<00:00,  7.87it/s]\n"
     ]
    },
    {
     "name": "stdout",
     "output_type": "stream",
     "text": [
      "Epoch 81 학습 종료 ===> 손실: 0.0668, 정확도: 0.0153, f1 점수: 0.0059\n",
      "오룻빅띤띠렵룻빅띤띠렵룻빅띤띠렵룻빅띤띠렵룻빅띤띠렵룻빅띤띠렵룻빅띤띠렵룻빅띤띠렵룻빅띤띠렵룻빅띤띠렵룻빅띤띠렵룻빅띤띠렵룻빅띤띠렵룻빅띤띠렵룻빅띤띠렵룻빅띤띠렵룻빅띤띠렵룻빅띤띠렵룻빅띤띠렵룻빅띤띠렵\n"
     ]
    },
    {
     "name": "stderr",
     "output_type": "stream",
     "text": [
      "Epoch [82/300], 횟수 [990/997], Loss: 0.0066: 100%|██████████| 997/997 [02:15<00:00,  7.38it/s]\n"
     ]
    },
    {
     "name": "stdout",
     "output_type": "stream",
     "text": [
      "Epoch 82 학습 종료 ===> 손실: 0.0667, 정확도: 0.0152, f1 점수: 0.0058\n",
      "오룻샷렵띤띠덤헨띤띠덤헨띤띠덤헨띤띠덤헨띤띠덤헨띤띠덤헨띤띠덤헨띤띠덤헨띤띠덤헨띤띠덤헨띤띠덤헨띤띠덤헨띤띠덤헨띤띠덤헨띤띠덤헨띤띠덤헨띤띠덤헨띤띠덤헨띤띠덤헨띤띠덤헨띤띠덤헨띤띠덤헨띤띠덤헨띤띠덤헨띤\n"
     ]
    },
    {
     "name": "stderr",
     "output_type": "stream",
     "text": [
      "Epoch [83/300], 횟수 [990/997], Loss: 0.0066: 100%|██████████| 997/997 [02:06<00:00,  7.88it/s]\n"
     ]
    },
    {
     "name": "stdout",
     "output_type": "stream",
     "text": [
      "Epoch 83 학습 종료 ===> 손실: 0.0668, 정확도: 0.0151, f1 점수: 0.0059\n",
      "오룻샷룹헨늬덤헨늬덤헨늬덤헨늬덤헨늬덤헨늬덤헨늬덤헨늬덤헨늬덤헨늬덤헨늬덤헨늬덤헨늬덤헨늬덤헨늬덤헨늬덤헨늬덤헨늬덤헨늬덤헨늬덤헨늬덤헨늬덤헨늬덤헨늬덤헨늬덤헨늬덤헨늬덤헨늬덤헨늬덤헨늬덤헨늬덤헨늬덤헨\n"
     ]
    },
    {
     "name": "stderr",
     "output_type": "stream",
     "text": [
      "Epoch [84/300], 횟수 [990/997], Loss: 0.0067: 100%|██████████| 997/997 [02:03<00:00,  8.05it/s]\n"
     ]
    },
    {
     "name": "stdout",
     "output_type": "stream",
     "text": [
      "Epoch 84 학습 종료 ===> 손실: 0.0666, 정확도: 0.0155, f1 점수: 0.0059\n",
      "오룻빅띤띠룻빅띤띠룻빅띤띠룻빅띤띠룻빅띤띠룻빅띤띠룻빅띤띠룻빅띤띠룻빅띤띠룻빅띤띠룻빅띤띠룻빅띤띠룻빅띤띠룻빅띤띠룻빅띤띠룻빅띤띠룻빅띤띠룻빅띤띠룻빅띤띠룻빅띤띠룻빅띤띠룻빅띤띠룻빅띤띠룻빅띤띠룻빅띤띠\n"
     ]
    },
    {
     "name": "stderr",
     "output_type": "stream",
     "text": [
      "Epoch [85/300], 횟수 [990/997], Loss: 0.0066: 100%|██████████| 997/997 [02:16<00:00,  7.33it/s]\n"
     ]
    },
    {
     "name": "stdout",
     "output_type": "stream",
     "text": [
      "Epoch 85 학습 종료 ===> 손실: 0.0666, 정확도: 0.0154, f1 점수: 0.0059\n",
      "오룻샷룹헨띤띠룻샷룹헨띤띠룻샷룹헨띤띠룻샷룹헨띤띠룻샷룹헨띤띠룻샷룹헨띤띠룻샷룹헨띤띠룻샷룹헨띤띠룻샷룹헨띤띠룻샷룹헨띤띠룻샷룹헨띤띠룻샷룹헨띤띠룻샷룹헨띤띠룻샷룹헨띤띠룻샷룹헨띤띠룻샷룹헨띤띠룻샷룹헨\n"
     ]
    },
    {
     "name": "stderr",
     "output_type": "stream",
     "text": [
      "Epoch [86/300], 횟수 [990/997], Loss: 0.0067: 100%|██████████| 997/997 [02:09<00:00,  7.68it/s]\n"
     ]
    },
    {
     "name": "stdout",
     "output_type": "stream",
     "text": [
      "Epoch 86 학습 종료 ===> 손실: 0.0665, 정확도: 0.0156, f1 점수: 0.0059\n",
      "오룻샷룹헨늬덤헨늬덤헨늬덤헨늬덤헨늬덤헨늬덤헨늬덤헨늬덤헨늬덤헨늬덤헨늬덤헨늬덤헨늬덤헨늬덤헨늬덤헨늬덤헨늬덤헨늬덤헨늬덤헨늬덤헨늬덤헨늬덤헨늬덤헨늬덤헨늬덤헨늬덤헨늬덤헨늬덤헨늬덤헨늬덤헨늬덤헨늬덤헨\n"
     ]
    },
    {
     "name": "stderr",
     "output_type": "stream",
     "text": [
      "Epoch [87/300], 횟수 [990/997], Loss: 0.0066: 100%|██████████| 997/997 [02:03<00:00,  8.10it/s]\n"
     ]
    },
    {
     "name": "stdout",
     "output_type": "stream",
     "text": [
      "Epoch 87 학습 종료 ===> 손실: 0.0664, 정확도: 0.0158, f1 점수: 0.0060\n",
      "오룻샷룹헨늬덤헨늬덤헨늬덤헨늬덤헨늬덤헨늬덤헨늬덤헨늬덤헨늬덤헨늬덤헨늬덤헨늬덤헨늬덤헨늬덤헨늬덤헨늬덤헨늬덤헨늬덤헨늬덤헨늬덤헨늬덤헨늬덤헨늬덤헨늬덤헨늬덤헨늬덤헨늬덤헨늬덤헨늬덤헨늬덤헨늬덤헨늬덤헨\n"
     ]
    },
    {
     "name": "stderr",
     "output_type": "stream",
     "text": [
      "Epoch [88/300], 횟수 [990/997], Loss: 0.0066: 100%|██████████| 997/997 [02:15<00:00,  7.35it/s]\n"
     ]
    },
    {
     "name": "stdout",
     "output_type": "stream",
     "text": [
      "Epoch 88 학습 종료 ===> 손실: 0.0663, 정확도: 0.0155, f1 점수: 0.0060\n",
      "오룻샷렵띤띠렵띤띠렵띤띠렵띤띠렵띤띠렵띤띠렵띤띠렵띤띠렵띤띠렵띤띠렵띤띠렵띤띠렵띤띠렵띤띠렵띤띠렵띤띠렵띤띠렵띤띠렵띤띠렵띤띠렵띤띠렵띤띠렵띤띠렵띤띠렵띤띠렵띤띠렵띤띠렵띤띠렵띤띠렵띤띠렵띤띠렵띤띠렵띤\n"
     ]
    },
    {
     "name": "stderr",
     "output_type": "stream",
     "text": [
      "Epoch [89/300], 횟수 [990/997], Loss: 0.0066: 100%|██████████| 997/997 [02:02<00:00,  8.13it/s]\n"
     ]
    },
    {
     "name": "stdout",
     "output_type": "stream",
     "text": [
      "Epoch 89 학습 종료 ===> 손실: 0.0663, 정확도: 0.0153, f1 점수: 0.0059\n",
      "오룻샷룹헨늬렵룻샷룹헨늬렵룻샷룹헨늬렵룻샷룹헨늬렵룻샷룹헨늬렵룻샷룹헨늬렵룻샷룹헨늬렵룻샷룹헨늬렵룻샷룹헨늬렵룻샷룹헨늬렵룻샷룹헨늬렵룻샷룹헨늬렵룻샷룹헨늬렵룻샷룹헨늬렵룻샷룹헨늬렵룻샷룹헨늬렵룻샷룹헨\n"
     ]
    },
    {
     "name": "stderr",
     "output_type": "stream",
     "text": [
      "Epoch [90/300], 횟수 [990/997], Loss: 0.0067: 100%|██████████| 997/997 [02:05<00:00,  7.93it/s]\n"
     ]
    },
    {
     "name": "stdout",
     "output_type": "stream",
     "text": [
      "Epoch 90 학습 종료 ===> 손실: 0.0662, 정확도: 0.0156, f1 점수: 0.0060\n",
      "오룻샷렵룻샷렵룻샷렵룻샷렵룻샷렵룻샷렵룻샷렵룻샷렵룻샷렵룻샷렵룻샷렵룻샷렵룻샷렵룻샷렵룻샷렵룻샷렵룻샷렵룻샷렵룻샷렵룻샷렵룻샷렵룻샷렵룻샷렵룻샷렵룻샷렵룻샷렵룻샷렵룻샷렵룻샷렵룻샷렵룻샷렵룻샷렵룻샷렵룻\n"
     ]
    },
    {
     "name": "stderr",
     "output_type": "stream",
     "text": [
      "Epoch [91/300], 횟수 [990/997], Loss: 0.0066: 100%|██████████| 997/997 [02:16<00:00,  7.32it/s]\n"
     ]
    },
    {
     "name": "stdout",
     "output_type": "stream",
     "text": [
      "Epoch 91 학습 종료 ===> 손실: 0.0661, 정확도: 0.0154, f1 점수: 0.0060\n",
      "오룻샷렵룻샷렵룻샷렵룻샷렵룻샷렵룻샷렵룻샷렵룻샷렵룻샷렵룻샷렵룻샷렵룻샷렵룻샷렵룻샷렵룻샷렵룻샷렵룻샷렵룻샷렵룻샷렵룻샷렵룻샷렵룻샷렵룻샷렵룻샷렵룻샷렵룻샷렵룻샷렵룻샷렵룻샷렵룻샷렵룻샷렵룻샷렵룻샷렵룻\n"
     ]
    },
    {
     "name": "stderr",
     "output_type": "stream",
     "text": [
      "Epoch [92/300], 횟수 [990/997], Loss: 0.0066: 100%|██████████| 997/997 [02:02<00:00,  8.14it/s]\n"
     ]
    },
    {
     "name": "stdout",
     "output_type": "stream",
     "text": [
      "Epoch 92 학습 종료 ===> 손실: 0.0660, 정확도: 0.0154, f1 점수: 0.0059\n",
      "오룻샷렵콕뎅젯씬헨늬녁띠렵콕뎅젯씬헨늬녁띠렵콕뎅젯씬헨늬녁띠렵콕뎅젯씬헨늬녁띠렵콕뎅젯씬헨늬녁띠렵콕뎅젯씬헨늬녁띠렵콕뎅젯씬헨늬녁띠렵콕뎅젯씬헨늬녁띠렵콕뎅젯씬헨늬녁띠렵콕뎅젯씬헨늬녁띠렵콕뎅젯씬헨늬녁\n"
     ]
    },
    {
     "name": "stderr",
     "output_type": "stream",
     "text": [
      "Epoch [93/300], 횟수 [990/997], Loss: 0.0066: 100%|██████████| 997/997 [02:05<00:00,  7.95it/s]\n"
     ]
    },
    {
     "name": "stdout",
     "output_type": "stream",
     "text": [
      "Epoch 93 학습 종료 ===> 손실: 0.0660, 정확도: 0.0154, f1 점수: 0.0059\n",
      "오룻샷렵h륜뎅젯씬헨녁띠렵h륜뎅젯씬헨녁띠렵h륜뎅젯씬헨녁띠렵h륜뎅젯씬헨녁띠렵h륜뎅젯씬헨녁띠렵h륜뎅젯씬헨녁띠렵h륜뎅젯씬헨녁띠렵h륜뎅젯씬헨녁띠렵h륜뎅젯씬헨녁띠렵h륜뎅젯씬헨녁띠렵h륜뎅젯씬헨녁\n"
     ]
    },
    {
     "name": "stderr",
     "output_type": "stream",
     "text": [
      "Epoch [94/300], 횟수 [990/997], Loss: 0.0065: 100%|██████████| 997/997 [02:14<00:00,  7.42it/s]\n"
     ]
    },
    {
     "name": "stdout",
     "output_type": "stream",
     "text": [
      "Epoch 94 학습 종료 ===> 손실: 0.0659, 정확도: 0.0154, f1 점수: 0.0059\n",
      "오룻샷렵띤띠렵띤띠렵띤띠렵띤띠렵띤띠렵띤띠렵띤띠렵띤띠렵띤띠렵띤띠렵띤띠렵띤띠렵띤띠렵띤띠렵띤띠렵띤띠렵띤띠렵띤띠렵띤띠렵띤띠렵띤띠렵띤띠렵띤띠렵띤띠렵띤띠렵띤띠렵띤띠렵띤띠렵띤띠렵띤띠렵띤띠렵띤띠렵띤\n"
     ]
    },
    {
     "name": "stderr",
     "output_type": "stream",
     "text": [
      "Epoch [95/300], 횟수 [990/997], Loss: 0.0067: 100%|██████████| 997/997 [02:00<00:00,  8.25it/s]\n"
     ]
    },
    {
     "name": "stdout",
     "output_type": "stream",
     "text": [
      "Epoch 95 학습 종료 ===> 손실: 0.0657, 정확도: 0.0153, f1 점수: 0.0058\n",
      "오룻빅룻빅룻빅룻빅룻빅룻빅룻빅룻빅룻빅룻빅룻빅룻빅룻빅룻빅룻빅룻빅룻빅룻빅룻빅룻빅룻빅룻빅룻빅룻빅룻빅룻빅룻빅룻빅룻빅룻빅룻빅룻빅룻빅룻빅룻빅룻빅룻빅룻빅룻빅룻빅룻빅룻빅룻빅룻빅룻빅룻빅룻빅룻빅룻빅룻빅\n"
     ]
    },
    {
     "name": "stderr",
     "output_type": "stream",
     "text": [
      "Epoch [96/300], 횟수 [990/997], Loss: 0.0066: 100%|██████████| 997/997 [02:08<00:00,  7.78it/s]\n"
     ]
    },
    {
     "name": "stdout",
     "output_type": "stream",
     "text": [
      "Epoch 96 학습 종료 ===> 손실: 0.0658, 정확도: 0.0154, f1 점수: 0.0059\n",
      "오룻빅룻빅룻빅룻빅룻빅룻빅룻빅룻빅룻빅룻빅룻빅룻빅룻빅룻빅룻빅룻빅룻빅룻빅룻빅룻빅룻빅룻빅룻빅룻빅룻빅룻빅룻빅룻빅룻빅룻빅룻빅룻빅룻빅룻빅룻빅룻빅룻빅룻빅룻빅룻빅룻빅룻빅룻빅룻빅룻빅룻빅룻빅룻빅룻빅룻빅\n"
     ]
    },
    {
     "name": "stderr",
     "output_type": "stream",
     "text": [
      "Epoch [97/300], 횟수 [990/997], Loss: 0.0066: 100%|██████████| 997/997 [02:14<00:00,  7.43it/s]\n"
     ]
    },
    {
     "name": "stdout",
     "output_type": "stream",
     "text": [
      "Epoch 97 학습 종료 ===> 손실: 0.0657, 정확도: 0.0158, f1 점수: 0.0060\n",
      "오룻빅띤띠렵룻빅띤띠렵룻빅띤띠렵룻빅띤띠렵룻빅띤띠렵룻빅띤띠렵룻빅띤띠렵룻빅띤띠렵룻빅띤띠렵룻빅띤띠렵룻빅띤띠렵룻빅띤띠렵룻빅띤띠렵룻빅띤띠렵룻빅띤띠렵룻빅띤띠렵룻빅띤띠렵룻빅띤띠렵룻빅띤띠렵룻빅띤띠렵\n"
     ]
    },
    {
     "name": "stderr",
     "output_type": "stream",
     "text": [
      "Epoch [98/300], 횟수 [990/997], Loss: 0.0065: 100%|██████████| 997/997 [02:01<00:00,  8.18it/s]\n"
     ]
    },
    {
     "name": "stdout",
     "output_type": "stream",
     "text": [
      "Epoch 98 학습 종료 ===> 손실: 0.0656, 정확도: 0.0158, f1 점수: 0.0060\n",
      "오룻빅띤샌렵룻빅띤샌렵룻빅띤샌렵룻빅띤샌렵룻빅띤샌렵룻빅띤샌렵룻빅띤샌렵룻빅띤샌렵룻빅띤샌렵룻빅띤샌렵룻빅띤샌렵룻빅띤샌렵룻빅띤샌렵룻빅띤샌렵룻빅띤샌렵룻빅띤샌렵룻빅띤샌렵룻빅띤샌렵룻빅띤샌렵룻빅띤샌렵\n"
     ]
    },
    {
     "name": "stderr",
     "output_type": "stream",
     "text": [
      "Epoch [99/300], 횟수 [990/997], Loss: 0.0067: 100%|██████████| 997/997 [02:06<00:00,  7.88it/s]\n"
     ]
    },
    {
     "name": "stdout",
     "output_type": "stream",
     "text": [
      "Epoch 99 학습 종료 ===> 손실: 0.0655, 정확도: 0.0158, f1 점수: 0.0061\n",
      "오룻빅띤샌젯씬헨녁띠룹헨녁띠룹헨녁띠룹헨녁띠룹헨녁띠룹헨녁띠룹헨녁띠룹헨녁띠룹헨녁띠룹헨녁띠룹헨녁띠룹헨녁띠룹헨녁띠룹헨녁띠룹헨녁띠룹헨녁띠룹헨녁띠룹헨녁띠룹헨녁띠룹헨녁띠룹헨녁띠룹헨녁띠룹헨녁띠룹헨녁\n"
     ]
    },
    {
     "name": "stderr",
     "output_type": "stream",
     "text": [
      "Epoch [100/300], 횟수 [990/997], Loss: 0.0066: 100%|██████████| 997/997 [02:15<00:00,  7.37it/s]\n"
     ]
    },
    {
     "name": "stdout",
     "output_type": "stream",
     "text": [
      "Epoch 100 학습 종료 ===> 손실: 0.0655, 정확도: 0.0156, f1 점수: 0.0060\n",
      "오룻빅룻빅룻빅룻빅룻빅룻빅룻빅룻빅룻빅룻빅룻빅룻빅룻빅룻빅룻빅룻빅룻빅룻빅룻빅룻빅룻빅룻빅룻빅룻빅룻빅룻빅룻빅룻빅룻빅룻빅룻빅룻빅룻빅룻빅룻빅룻빅룻빅룻빅룻빅룻빅룻빅룻빅룻빅룻빅룻빅룻빅룻빅룻빅룻빅룻빅\n"
     ]
    },
    {
     "name": "stderr",
     "output_type": "stream",
     "text": [
      "Epoch [101/300], 횟수 [990/997], Loss: 0.0066: 100%|██████████| 997/997 [01:58<00:00,  8.43it/s]\n"
     ]
    },
    {
     "name": "stdout",
     "output_type": "stream",
     "text": [
      "Epoch 101 학습 종료 ===> 손실: 0.0655, 정확도: 0.0156, f1 점수: 0.0060\n",
      "오룻빅룻빅룻빅룻빅룻빅룻빅룻빅룻빅룻빅룻빅룻빅룻빅룻빅룻빅룻빅룻빅룻빅룻빅룻빅룻빅룻빅룻빅룻빅룻빅룻빅룻빅룻빅룻빅룻빅룻빅룻빅룻빅룻빅룻빅룻빅룻빅룻빅룻빅룻빅룻빅룻빅룻빅룻빅룻빅룻빅룻빅룻빅룻빅룻빅룻빅\n"
     ]
    },
    {
     "name": "stderr",
     "output_type": "stream",
     "text": [
      "Epoch [102/300], 횟수 [990/997], Loss: 0.0066: 100%|██████████| 997/997 [02:10<00:00,  7.64it/s]\n"
     ]
    },
    {
     "name": "stdout",
     "output_type": "stream",
     "text": [
      "Epoch 102 학습 종료 ===> 손실: 0.0653, 정확도: 0.0155, f1 점수: 0.0060\n",
      "오룻휠짴씬헨룻휠짴씬헨룻휠짴씬헨룻휠짴씬헨룻휠짴씬헨룻휠짴씬헨룻휠짴씬헨룻휠짴씬헨룻휠짴씬헨룻휠짴씬헨룻휠짴씬헨룻휠짴씬헨룻휠짴씬헨룻휠짴씬헨룻휠짴씬헨룻휠짴씬헨룻휠짴씬헨룻휠짴씬헨룻휠짴씬헨룻휠짴씬헨\n"
     ]
    },
    {
     "name": "stderr",
     "output_type": "stream",
     "text": [
      "Epoch [103/300], 횟수 [990/997], Loss: 0.0066: 100%|██████████| 997/997 [02:12<00:00,  7.50it/s]\n"
     ]
    },
    {
     "name": "stdout",
     "output_type": "stream",
     "text": [
      "Epoch 103 학습 종료 ===> 손실: 0.0654, 정확도: 0.0157, f1 점수: 0.0060\n",
      "오룻휠헨룻휠헨룻휠헨룻휠헨룻휠헨룻휠헨룻휠헨룻휠헨룻휠헨룻휠헨룻휠헨룻휠헨룻휠헨룻휠헨룻휠헨룻휠헨룻휠헨룻휠헨룻휠헨룻휠헨룻휠헨룻휠헨룻휠헨룻휠헨룻휠헨룻휠헨룻휠헨룻휠헨룻휠헨룻휠헨룻휠헨룻휠헨룻휠헨룻\n"
     ]
    },
    {
     "name": "stderr",
     "output_type": "stream",
     "text": [
      "Epoch [104/300], 횟수 [990/997], Loss: 0.0065: 100%|██████████| 997/997 [01:57<00:00,  8.49it/s]\n"
     ]
    },
    {
     "name": "stdout",
     "output_type": "stream",
     "text": [
      "Epoch 104 학습 종료 ===> 손실: 0.0653, 정확도: 0.0159, f1 점수: 0.0060\n",
      "오룻휠헨룻휠헨룻휠헨룻휠헨룻휠헨룻휠헨룻휠헨룻휠헨룻휠헨룻휠헨룻휠헨룻휠헨룻휠헨룻휠헨룻휠헨룻휠헨룻휠헨룻휠헨룻휠헨룻휠헨룻휠헨룻휠헨룻휠헨룻휠헨룻휠헨룻휠헨룻휠헨룻휠헨룻휠헨룻휠헨룻휠헨룻휠헨룻휠헨룻\n"
     ]
    },
    {
     "name": "stderr",
     "output_type": "stream",
     "text": [
      "Epoch [105/300], 횟수 [990/997], Loss: 0.0066: 100%|██████████| 997/997 [02:11<00:00,  7.56it/s]\n"
     ]
    },
    {
     "name": "stdout",
     "output_type": "stream",
     "text": [
      "Epoch 105 학습 종료 ===> 손실: 0.0652, 정확도: 0.0160, f1 점수: 0.0061\n",
      "오룻씬헨녁띠룻씬헨녁띠룻씬헨녁띠룻씬헨녁띠룻씬헨녁띠룻씬헨녁띠룻씬헨녁띠룻씬헨녁띠룻씬헨녁띠룻씬헨녁띠룻씬헨녁띠룻씬헨녁띠룻씬헨녁띠룻씬헨녁띠룻씬헨녁띠룻씬헨녁띠룻씬헨녁띠룻씬헨녁띠룻씬헨녁띠룻씬헨녁띠\n"
     ]
    },
    {
     "name": "stderr",
     "output_type": "stream",
     "text": [
      "Epoch [106/300], 횟수 [990/997], Loss: 0.0066: 100%|██████████| 997/997 [02:08<00:00,  7.75it/s]\n"
     ]
    },
    {
     "name": "stdout",
     "output_type": "stream",
     "text": [
      "Epoch 106 학습 종료 ===> 손실: 0.0651, 정확도: 0.0157, f1 점수: 0.0060\n",
      "오룻씬헨룻씬헨룻씬헨룻씬헨룻씬헨룻씬헨룻씬헨룻씬헨룻씬헨룻씬헨룻씬헨룻씬헨룻씬헨룻씬헨룻씬헨룻씬헨룻씬헨룻씬헨룻씬헨룻씬헨룻씬헨룻씬헨룻씬헨룻씬헨룻씬헨룻씬헨룻씬헨룻씬헨룻씬헨룻씬헨룻씬헨룻씬헨룻씬헨룻\n"
     ]
    },
    {
     "name": "stderr",
     "output_type": "stream",
     "text": [
      "Epoch [107/300], 횟수 [990/997], Loss: 0.0066: 100%|██████████| 997/997 [02:01<00:00,  8.24it/s]\n"
     ]
    },
    {
     "name": "stdout",
     "output_type": "stream",
     "text": [
      "Epoch 107 학습 종료 ===> 손실: 0.0651, 정확도: 0.0158, f1 점수: 0.0061\n",
      "오룻휠헨녁띠덤헨녁띠덤헨녁띠덤헨녁띠덤헨녁띠덤헨녁띠덤헨녁띠덤헨녁띠덤헨녁띠덤헨녁띠덤헨녁띠덤헨녁띠덤헨녁띠덤헨녁띠덤헨녁띠덤헨녁띠덤헨녁띠덤헨녁띠덤헨녁띠덤헨녁띠덤헨녁띠덤헨녁띠덤헨녁띠덤헨녁띠덤헨녁\n"
     ]
    },
    {
     "name": "stderr",
     "output_type": "stream",
     "text": [
      "Epoch [108/300], 횟수 [990/997], Loss: 0.0066: 100%|██████████| 997/997 [02:12<00:00,  7.51it/s]\n"
     ]
    },
    {
     "name": "stdout",
     "output_type": "stream",
     "text": [
      "Epoch 108 학습 종료 ===> 손실: 0.0649, 정확도: 0.0161, f1 점수: 0.0061\n",
      "오룻씬헨녁띠렵띤뎅젯씬헨녁띠렵띤뎅젯씬헨녁띠렵띤뎅젯씬헨녁띠렵띤뎅젯씬헨녁띠렵띤뎅젯씬헨녁띠렵띤뎅젯씬헨녁띠렵띤뎅젯씬헨녁띠렵띤뎅젯씬헨녁띠렵띤뎅젯씬헨녁띠렵띤뎅젯씬헨녁띠렵띤뎅젯씬헨녁띠렵띤뎅젯씬헨녁\n"
     ]
    },
    {
     "name": "stderr",
     "output_type": "stream",
     "text": [
      "Epoch [109/300], 횟수 [990/997], Loss: 0.0066: 100%|██████████| 997/997 [02:01<00:00,  8.21it/s]\n"
     ]
    },
    {
     "name": "stdout",
     "output_type": "stream",
     "text": [
      "Epoch 109 학습 종료 ===> 손실: 0.0650, 정확도: 0.0158, f1 점수: 0.0060\n",
      "오룻씬헨녁띠덤헨녁띠덤헨녁띠덤헨녁띠덤헨녁띠덤헨녁띠덤헨녁띠덤헨녁띠덤헨녁띠덤헨녁띠덤헨녁띠덤헨녁띠덤헨녁띠덤헨녁띠덤헨녁띠덤헨녁띠덤헨녁띠덤헨녁띠덤헨녁띠덤헨녁띠덤헨녁띠덤헨녁띠덤헨녁띠덤헨녁띠덤헨녁\n"
     ]
    },
    {
     "name": "stderr",
     "output_type": "stream",
     "text": [
      "Epoch [110/300], 횟수 [990/997], Loss: 0.0065: 100%|██████████| 997/997 [02:08<00:00,  7.76it/s]\n"
     ]
    },
    {
     "name": "stdout",
     "output_type": "stream",
     "text": [
      "Epoch 110 학습 종료 ===> 손실: 0.0649, 정확도: 0.0161, f1 점수: 0.0061\n",
      "오룻씬헨녁띠덤헨녁띠덤헨녁띠덤헨녁띠덤헨녁띠덤헨녁띠덤헨녁띠덤헨녁띠덤헨녁띠덤헨녁띠덤헨녁띠덤헨녁띠덤헨녁띠덤헨녁띠덤헨녁띠덤헨녁띠덤헨녁띠덤헨녁띠덤헨녁띠덤헨녁띠덤헨녁띠덤헨녁띠덤헨녁띠덤헨녁띠덤헨녁\n"
     ]
    },
    {
     "name": "stderr",
     "output_type": "stream",
     "text": [
      "Epoch [111/300], 횟수 [990/997], Loss: 0.0064: 100%|██████████| 997/997 [02:14<00:00,  7.42it/s]\n"
     ]
    },
    {
     "name": "stdout",
     "output_type": "stream",
     "text": [
      "Epoch 111 학습 종료 ===> 손실: 0.0648, 정확도: 0.0162, f1 점수: 0.0061\n",
      "오룻씬헨녁띠룹헨녁띠룹헨녁띠룹헨녁띠룹헨녁띠룹헨녁띠룹헨녁띠룹헨녁띠룹헨녁띠룹헨녁띠룹헨녁띠룹헨녁띠룹헨녁띠룹헨녁띠룹헨녁띠룹헨녁띠룹헨녁띠룹헨녁띠룹헨녁띠룹헨녁띠룹헨녁띠룹헨녁띠룹헨녁띠룹헨녁띠룹헨녁\n"
     ]
    },
    {
     "name": "stderr",
     "output_type": "stream",
     "text": [
      "Epoch [112/300], 횟수 [990/997], Loss: 0.0066: 100%|██████████| 997/997 [01:56<00:00,  8.59it/s]\n"
     ]
    },
    {
     "name": "stdout",
     "output_type": "stream",
     "text": [
      "Epoch 112 학습 종료 ===> 손실: 0.0647, 정확도: 0.0163, f1 점수: 0.0061\n",
      "오룻씬헨녁샌젯씬헨녁샌젯씬헨녁샌젯씬헨녁샌젯씬헨녁샌젯씬헨녁샌젯씬헨녁샌젯씬헨녁샌젯씬헨녁샌젯씬헨녁샌젯씬헨녁샌젯씬헨녁샌젯씬헨녁샌젯씬헨녁샌젯씬헨녁샌젯씬헨녁샌젯씬헨녁샌젯씬헨녁샌젯씬헨녁샌젯씬헨녁샌\n"
     ]
    },
    {
     "name": "stderr",
     "output_type": "stream",
     "text": [
      "Epoch [113/300], 횟수 [990/997], Loss: 0.0065: 100%|██████████| 997/997 [02:11<00:00,  7.60it/s]\n"
     ]
    },
    {
     "name": "stdout",
     "output_type": "stream",
     "text": [
      "Epoch 113 학습 종료 ===> 손실: 0.0648, 정확도: 0.0161, f1 점수: 0.0061\n",
      "오룻씬헨녁샌렵h헷녁샌렵h헷녁샌렵h헷녁샌렵h헷녁샌렵h헷녁샌렵h헷녁샌렵h헷녁샌렵h헷녁샌렵h헷녁샌렵h헷녁샌렵h헷녁샌렵h헷녁샌렵h헷녁샌렵h헷녁샌렵h헷녁샌렵h헷녁샌렵h헷녁샌렵h헷녁샌렵h헷녁샌\n"
     ]
    },
    {
     "name": "stderr",
     "output_type": "stream",
     "text": [
      "Epoch [114/300], 횟수 [990/997], Loss: 0.0066: 100%|██████████| 997/997 [02:11<00:00,  7.58it/s]\n"
     ]
    },
    {
     "name": "stdout",
     "output_type": "stream",
     "text": [
      "Epoch 114 학습 종료 ===> 손실: 0.0647, 정확도: 0.0162, f1 점수: 0.0062\n",
      "오룻헷녁샌렵띤샌렵띤샌렵띤샌렵띤샌렵띤샌렵띤샌렵띤샌렵띤샌렵띤샌렵띤샌렵띤샌렵띤샌렵띤샌렵띤샌렵띤샌렵띤샌렵띤샌렵띤샌렵띤샌렵띤샌렵띤샌렵띤샌렵띤샌렵띤샌렵띤샌렵띤샌렵띤샌렵띤샌렵띤샌렵띤샌렵띤샌렵띤샌\n"
     ]
    },
    {
     "name": "stderr",
     "output_type": "stream",
     "text": [
      "Epoch [115/300], 횟수 [990/997], Loss: 0.0065: 100%|██████████| 997/997 [02:00<00:00,  8.24it/s]\n"
     ]
    },
    {
     "name": "stdout",
     "output_type": "stream",
     "text": [
      "Epoch 115 학습 종료 ===> 손실: 0.0646, 정확도: 0.0161, f1 점수: 0.0061\n",
      "오룻씬헨녁뎅젯씬헨녁뎅젯씬헨녁뎅젯씬헨녁뎅젯씬헨녁뎅젯씬헨녁뎅젯씬헨녁뎅젯씬헨녁뎅젯씬헨녁뎅젯씬헨녁뎅젯씬헨녁뎅젯씬헨녁뎅젯씬헨녁뎅젯씬헨녁뎅젯씬헨녁뎅젯씬헨녁뎅젯씬헨녁뎅젯씬헨녁뎅젯씬헨녁뎅젯씬헨녁뎅\n"
     ]
    },
    {
     "name": "stderr",
     "output_type": "stream",
     "text": [
      "Epoch [116/300], 횟수 [990/997], Loss: 0.0065: 100%|██████████| 997/997 [02:09<00:00,  7.69it/s]\n"
     ]
    },
    {
     "name": "stdout",
     "output_type": "stream",
     "text": [
      "Epoch 116 학습 종료 ===> 손실: 0.0645, 정확도: 0.0161, f1 점수: 0.0062\n",
      "오룻꽃녁샌젯징녁샌젯징녁샌젯징녁샌젯징녁샌젯징녁샌젯징녁샌젯징녁샌젯징녁샌젯징녁샌젯징녁샌젯징녁샌젯징녁샌젯징녁샌젯징녁샌젯징녁샌젯징녁샌젯징녁샌젯징녁샌젯징녁샌젯징녁샌젯징녁샌젯징녁샌젯징녁샌젯징녁샌\n"
     ]
    },
    {
     "name": "stderr",
     "output_type": "stream",
     "text": [
      "Epoch [117/300], 횟수 [990/997], Loss: 0.0064: 100%|██████████| 997/997 [01:56<00:00,  8.52it/s]\n"
     ]
    },
    {
     "name": "stdout",
     "output_type": "stream",
     "text": [
      "Epoch 117 학습 종료 ===> 손실: 0.0645, 정확도: 0.0160, f1 점수: 0.0061\n",
      "오룻빅띤샌젯씬헨녁샌젯씬헨녁샌젯씬헨녁샌젯씬헨녁샌젯씬헨녁샌젯씬헨녁샌젯씬헨녁샌젯씬헨녁샌젯씬헨녁샌젯씬헨녁샌젯씬헨녁샌젯씬헨녁샌젯씬헨녁샌젯씬헨녁샌젯씬헨녁샌젯씬헨녁샌젯씬헨녁샌젯씬헨녁샌젯씬헨녁샌젯\n"
     ]
    },
    {
     "name": "stderr",
     "output_type": "stream",
     "text": [
      "Epoch [118/300], 횟수 [990/997], Loss: 0.0064: 100%|██████████| 997/997 [02:04<00:00,  8.02it/s]\n"
     ]
    },
    {
     "name": "stdout",
     "output_type": "stream",
     "text": [
      "Epoch 118 학습 종료 ===> 손실: 0.0645, 정확도: 0.0158, f1 점수: 0.0061\n",
      "오룻씬헨룻씬헨룻씬헨룻씬헨룻씬헨룻씬헨룻씬헨룻씬헨룻씬헨룻씬헨룻씬헨룻씬헨룻씬헨룻씬헨룻씬헨룻씬헨룻씬헨룻씬헨룻씬헨룻씬헨룻씬헨룻씬헨룻씬헨룻씬헨룻씬헨룻씬헨룻씬헨룻씬헨룻씬헨룻씬헨룻씬헨룻씬헨룻씬헨룻\n"
     ]
    },
    {
     "name": "stderr",
     "output_type": "stream",
     "text": [
      "Epoch [119/300], 횟수 [990/997], Loss: 0.0064: 100%|██████████| 997/997 [02:05<00:00,  7.92it/s]\n"
     ]
    },
    {
     "name": "stdout",
     "output_type": "stream",
     "text": [
      "Epoch 119 학습 종료 ===> 손실: 0.0644, 정확도: 0.0162, f1 점수: 0.0061\n",
      "오룻씬헨늬녁샌젯씬헨늬녁샌젯씬헨늬녁샌젯씬헨늬녁샌젯씬헨늬녁샌젯씬헨늬녁샌젯씬헨늬녁샌젯씬헨늬녁샌젯씬헨늬녁샌젯씬헨늬녁샌젯씬헨늬녁샌젯씬헨늬녁샌젯씬헨늬녁샌젯씬헨늬녁샌젯씬헨늬녁샌젯씬헨늬녁샌젯씬헨늬\n"
     ]
    },
    {
     "name": "stderr",
     "output_type": "stream",
     "text": [
      "Epoch [120/300], 횟수 [990/997], Loss: 0.0063: 100%|██████████| 997/997 [01:56<00:00,  8.58it/s]\n"
     ]
    },
    {
     "name": "stdout",
     "output_type": "stream",
     "text": [
      "Epoch 120 학습 종료 ===> 손실: 0.0644, 정확도: 0.0159, f1 점수: 0.0060\n",
      "오룻씬헨룻씬헨룻씬헨룻씬헨룻씬헨룻씬헨룻씬헨룻씬헨룻씬헨룻씬헨룻씬헨룻씬헨룻씬헨룻씬헨룻씬헨룻씬헨룻씬헨룻씬헨룻씬헨룻씬헨룻씬헨룻씬헨룻씬헨룻씬헨룻씬헨룻씬헨룻씬헨룻씬헨룻씬헨룻씬헨룻씬헨룻씬헨룻씬헨룻\n"
     ]
    },
    {
     "name": "stderr",
     "output_type": "stream",
     "text": [
      "Epoch [121/300], 횟수 [990/997], Loss: 0.0064: 100%|██████████| 997/997 [02:08<00:00,  7.75it/s]\n"
     ]
    },
    {
     "name": "stdout",
     "output_type": "stream",
     "text": [
      "Epoch 121 학습 종료 ===> 손실: 0.0643, 정확도: 0.0163, f1 점수: 0.0062\n",
      "오룻씬헨룻씬헨룻씬헨룻씬헨룻씬헨룻씬헨룻씬헨룻씬헨룻씬헨룻씬헨룻씬헨룻씬헨룻씬헨룻씬헨룻씬헨룻씬헨룻씬헨룻씬헨룻씬헨룻씬헨룻씬헨룻씬헨룻씬헨룻씬헨룻씬헨룻씬헨룻씬헨룻씬헨룻씬헨룻씬헨룻씬헨룻씬헨룻씬헨룻\n"
     ]
    },
    {
     "name": "stderr",
     "output_type": "stream",
     "text": [
      "Epoch [122/300], 횟수 [990/997], Loss: 0.0064: 100%|██████████| 997/997 [01:57<00:00,  8.50it/s]\n"
     ]
    },
    {
     "name": "stdout",
     "output_type": "stream",
     "text": [
      "Epoch 122 학습 종료 ===> 손실: 0.0642, 정확도: 0.0161, f1 점수: 0.0062\n",
      "오룻빅띤샌젯씬헨룻빅띤샌젯씬헨룻빅띤샌젯씬헨룻빅띤샌젯씬헨룻빅띤샌젯씬헨룻빅띤샌젯씬헨룻빅띤샌젯씬헨룻빅띤샌젯씬헨룻빅띤샌젯씬헨룻빅띤샌젯씬헨룻빅띤샌젯씬헨룻빅띤샌젯씬헨룻빅띤샌젯씬헨룻빅띤샌젯씬헨룻빅\n"
     ]
    },
    {
     "name": "stderr",
     "output_type": "stream",
     "text": [
      "Epoch [123/300], 횟수 [990/997], Loss: 0.0063: 100%|██████████| 997/997 [02:03<00:00,  8.08it/s]\n"
     ]
    },
    {
     "name": "stdout",
     "output_type": "stream",
     "text": [
      "Epoch 123 학습 종료 ===> 손실: 0.0641, 정확도: 0.0162, f1 점수: 0.0062\n",
      "오룻빅띤샌젯씬헨룻빅띤샌젯씬헨룻빅띤샌젯씬헨룻빅띤샌젯씬헨룻빅띤샌젯씬헨룻빅띤샌젯씬헨룻빅띤샌젯씬헨룻빅띤샌젯씬헨룻빅띤샌젯씬헨룻빅띤샌젯씬헨룻빅띤샌젯씬헨룻빅띤샌젯씬헨룻빅띤샌젯씬헨룻빅띤샌젯씬헨룻빅\n"
     ]
    },
    {
     "name": "stderr",
     "output_type": "stream",
     "text": [
      "Epoch [124/300], 횟수 [990/997], Loss: 0.0064: 100%|██████████| 997/997 [02:07<00:00,  7.82it/s]\n"
     ]
    },
    {
     "name": "stdout",
     "output_type": "stream",
     "text": [
      "Epoch 124 학습 종료 ===> 손실: 0.0640, 정확도: 0.0162, f1 점수: 0.0062\n",
      "오룻빅띤샌젯씬헨룻빅띤샌젯씬헨룻빅띤샌젯씬헨룻빅띤샌젯씬헨룻빅띤샌젯씬헨룻빅띤샌젯씬헨룻빅띤샌젯씬헨룻빅띤샌젯씬헨룻빅띤샌젯씬헨룻빅띤샌젯씬헨룻빅띤샌젯씬헨룻빅띤샌젯씬헨룻빅띤샌젯씬헨룻빅띤샌젯씬헨룻빅\n"
     ]
    },
    {
     "name": "stderr",
     "output_type": "stream",
     "text": [
      "Epoch [125/300], 횟수 [990/997], Loss: 0.0063: 100%|██████████| 997/997 [01:55<00:00,  8.65it/s]\n"
     ]
    },
    {
     "name": "stdout",
     "output_type": "stream",
     "text": [
      "Epoch 125 학습 종료 ===> 손실: 0.0641, 정확도: 0.0161, f1 점수: 0.0062\n",
      "오룻빅띤샌렵룻빅띤샌렵룻빅띤샌렵룻빅띤샌렵룻빅띤샌렵룻빅띤샌렵룻빅띤샌렵룻빅띤샌렵룻빅띤샌렵룻빅띤샌렵룻빅띤샌렵룻빅띤샌렵룻빅띤샌렵룻빅띤샌렵룻빅띤샌렵룻빅띤샌렵룻빅띤샌렵룻빅띤샌렵룻빅띤샌렵룻빅띤샌렵\n"
     ]
    },
    {
     "name": "stderr",
     "output_type": "stream",
     "text": [
      "Epoch [126/300], 횟수 [990/997], Loss: 0.0063: 100%|██████████| 997/997 [02:05<00:00,  7.95it/s]\n"
     ]
    },
    {
     "name": "stdout",
     "output_type": "stream",
     "text": [
      "Epoch 126 학습 종료 ===> 손실: 0.0640, 정확도: 0.0160, f1 점수: 0.0061\n",
      "오룻빅띤샌젯씬헨녁뎅X헨녁뎅X헨녁뎅X헨녁뎅X헨녁뎅X헨녁뎅X헨녁뎅X헨녁뎅X헨녁뎅X헨녁뎅X헨녁뎅X헨녁뎅X헨녁뎅X헨녁뎅X헨녁뎅X헨녁뎅X헨녁뎅X헨녁뎅X헨녁뎅X헨녁뎅X헨녁뎅X헨녁뎅X헨녁뎅X헨녁\n"
     ]
    },
    {
     "name": "stderr",
     "output_type": "stream",
     "text": [
      "Epoch [127/300], 횟수 [990/997], Loss: 0.0065: 100%|██████████| 997/997 [02:03<00:00,  8.09it/s]\n"
     ]
    },
    {
     "name": "stdout",
     "output_type": "stream",
     "text": [
      "Epoch 127 학습 종료 ===> 손실: 0.0640, 정확도: 0.0161, f1 점수: 0.0061\n",
      "오룻빅띤샌렵룻빅띤샌렵룻빅띤샌렵룻빅띤샌렵룻빅띤샌렵룻빅띤샌렵룻빅띤샌렵룻빅띤샌렵룻빅띤샌렵룻빅띤샌렵룻빅띤샌렵룻빅띤샌렵룻빅띤샌렵룻빅띤샌렵룻빅띤샌렵룻빅띤샌렵룻빅띤샌렵룻빅띤샌렵룻빅띤샌렵룻빅띤샌렵\n"
     ]
    },
    {
     "name": "stderr",
     "output_type": "stream",
     "text": [
      "Epoch [128/300], 횟수 [990/997], Loss: 0.0064: 100%|██████████| 997/997 [01:57<00:00,  8.46it/s]\n"
     ]
    },
    {
     "name": "stdout",
     "output_type": "stream",
     "text": [
      "Epoch 128 학습 종료 ===> 손실: 0.0640, 정확도: 0.0162, f1 점수: 0.0062\n",
      "오룻빅띤샌젯씬헨늬녁뎅샌젯씬헨늬녁뎅샌젯씬헨늬녁뎅샌젯씬헨늬녁뎅샌젯씬헨늬녁뎅샌젯씬헨늬녁뎅샌젯씬헨늬녁뎅샌젯씬헨늬녁뎅샌젯씬헨늬녁뎅샌젯씬헨늬녁뎅샌젯씬헨늬녁뎅샌젯씬헨늬녁뎅샌젯씬헨늬녁뎅샌젯씬헨늬녁\n"
     ]
    },
    {
     "name": "stderr",
     "output_type": "stream",
     "text": [
      "Epoch [129/300], 횟수 [990/997], Loss: 0.0063: 100%|██████████| 997/997 [02:07<00:00,  7.83it/s]\n"
     ]
    },
    {
     "name": "stdout",
     "output_type": "stream",
     "text": [
      "Epoch 129 학습 종료 ===> 손실: 0.0638, 정확도: 0.0160, f1 점수: 0.0061\n",
      "오룻빅띤샌젯씬헨녁샌젯씬헨녁샌젯씬헨녁샌젯씬헨녁샌젯씬헨녁샌젯씬헨녁샌젯씬헨녁샌젯씬헨녁샌젯씬헨녁샌젯씬헨녁샌젯씬헨녁샌젯씬헨녁샌젯씬헨녁샌젯씬헨녁샌젯씬헨녁샌젯씬헨녁샌젯씬헨녁샌젯씬헨녁샌젯씬헨녁샌젯\n"
     ]
    },
    {
     "name": "stderr",
     "output_type": "stream",
     "text": [
      "Epoch [130/300], 횟수 [990/997], Loss: 0.0064: 100%|██████████| 997/997 [01:54<00:00,  8.73it/s]\n"
     ]
    },
    {
     "name": "stdout",
     "output_type": "stream",
     "text": [
      "Epoch 130 학습 종료 ===> 손실: 0.0638, 정확도: 0.0164, f1 점수: 0.0062\n",
      "오룻빅띤샌젯씬헨룻빅띤샌젯씬헨룻빅띤샌젯씬헨룻빅띤샌젯씬헨룻빅띤샌젯씬헨룻빅띤샌젯씬헨룻빅띤샌젯씬헨룻빅띤샌젯씬헨룻빅띤샌젯씬헨룻빅띤샌젯씬헨룻빅띤샌젯씬헨룻빅띤샌젯씬헨룻빅띤샌젯씬헨룻빅띤샌젯씬헨룻빅\n"
     ]
    },
    {
     "name": "stderr",
     "output_type": "stream",
     "text": [
      "Epoch [131/300], 횟수 [990/997], Loss: 0.0064: 100%|██████████| 997/997 [02:06<00:00,  7.91it/s]\n"
     ]
    },
    {
     "name": "stdout",
     "output_type": "stream",
     "text": [
      "Epoch 131 학습 종료 ===> 손실: 0.0638, 정확도: 0.0163, f1 점수: 0.0060\n",
      "오룻휠곱뎅샌젯씬헨룻휠곱뎅샌젯씬헨룻휠곱뎅샌젯씬헨룻휠곱뎅샌젯씬헨룻휠곱뎅샌젯씬헨룻휠곱뎅샌젯씬헨룻휠곱뎅샌젯씬헨룻휠곱뎅샌젯씬헨룻휠곱뎅샌젯씬헨룻휠곱뎅샌젯씬헨룻휠곱뎅샌젯씬헨룻휠곱뎅샌젯씬헨룻휠곱뎅\n"
     ]
    },
    {
     "name": "stderr",
     "output_type": "stream",
     "text": [
      "Epoch [132/300], 횟수 [990/997], Loss: 0.0062: 100%|██████████| 997/997 [02:01<00:00,  8.18it/s]\n"
     ]
    },
    {
     "name": "stdout",
     "output_type": "stream",
     "text": [
      "Epoch 132 학습 종료 ===> 손실: 0.0637, 정확도: 0.0165, f1 점수: 0.0061\n",
      "오룻빅띤샌룹헨룻빅띤샌룹헨룻빅띤샌룹헨룻빅띤샌룹헨룻빅띤샌룹헨룻빅띤샌룹헨룻빅띤샌룹헨룻빅띤샌룹헨룻빅띤샌룹헨룻빅띤샌룹헨룻빅띤샌룹헨룻빅띤샌룹헨룻빅띤샌룹헨룻빅띤샌룹헨룻빅띤샌룹헨룻빅띤샌룹헨룻빅띤샌\n"
     ]
    },
    {
     "name": "stderr",
     "output_type": "stream",
     "text": [
      "Epoch [133/300], 횟수 [990/997], Loss: 0.0063: 100%|██████████| 997/997 [01:58<00:00,  8.42it/s]\n"
     ]
    },
    {
     "name": "stdout",
     "output_type": "stream",
     "text": [
      "Epoch 133 학습 종료 ===> 손실: 0.0637, 정확도: 0.0166, f1 점수: 0.0062\n",
      "오룻휠곱뎅샌룹헨룻휠곱뎅샌룹헨룻휠곱뎅샌룹헨룻휠곱뎅샌룹헨룻휠곱뎅샌룹헨룻휠곱뎅샌룹헨룻휠곱뎅샌룹헨룻휠곱뎅샌룹헨룻휠곱뎅샌룹헨룻휠곱뎅샌룹헨룻휠곱뎅샌룹헨룻휠곱뎅샌룹헨룻휠곱뎅샌룹헨룻휠곱뎅샌룹헨룻휠\n"
     ]
    },
    {
     "name": "stderr",
     "output_type": "stream",
     "text": [
      "Epoch [134/300], 횟수 [990/997], Loss: 0.0064: 100%|██████████| 997/997 [02:08<00:00,  7.78it/s]\n"
     ]
    },
    {
     "name": "stdout",
     "output_type": "stream",
     "text": [
      "Epoch 134 학습 종료 ===> 손실: 0.0636, 정확도: 0.0167, f1 점수: 0.0063\n",
      "오룻휠곱뎅샌렵띤샌렵띤샌렵띤샌렵띤샌렵띤샌렵띤샌렵띤샌렵띤샌렵띤샌렵띤샌렵띤샌렵띤샌렵띤샌렵띤샌렵띤샌렵띤샌렵띤샌렵띤샌렵띤샌렵띤샌렵띤샌렵띤샌렵띤샌렵띤샌렵띤샌렵띤샌렵띤샌렵띤샌렵띤샌렵띤샌렵띤샌렵띤\n"
     ]
    },
    {
     "name": "stderr",
     "output_type": "stream",
     "text": [
      "Epoch [135/300], 횟수 [990/997], Loss: 0.0064: 100%|██████████| 997/997 [01:54<00:00,  8.71it/s]\n"
     ]
    },
    {
     "name": "stdout",
     "output_type": "stream",
     "text": [
      "Epoch 135 학습 종료 ===> 손실: 0.0636, 정확도: 0.0168, f1 점수: 0.0062\n",
      "오룻휠봇턴띤샌뱉띤샌뱉띤샌뱉띤샌뱉띤샌뱉띤샌뱉띤샌뱉띤샌뱉띤샌뱉띤샌뱉띤샌뱉띤샌뱉띤샌뱉띤샌뱉띤샌뱉띤샌뱉띤샌뱉띤샌뱉띤샌뱉띤샌뱉띤샌뱉띤샌뱉띤샌뱉띤샌뱉띤샌뱉띤샌뱉띤샌뱉띤샌뱉띤샌뱉띤샌뱉띤샌뱉띤샌뱉\n"
     ]
    },
    {
     "name": "stderr",
     "output_type": "stream",
     "text": [
      "Epoch [136/300], 횟수 [990/997], Loss: 0.0064: 100%|██████████| 997/997 [02:05<00:00,  7.96it/s]\n"
     ]
    },
    {
     "name": "stdout",
     "output_type": "stream",
     "text": [
      "Epoch 136 학습 종료 ===> 손실: 0.0636, 정확도: 0.0166, f1 점수: 0.0061\n",
      "오룻엎콩젯씬헨띤샌렵띤샌렵띤샌렵띤샌렵띤샌렵띤샌렵띤샌렵띤샌렵띤샌렵띤샌렵띤샌렵띤샌렵띤샌렵띤샌렵띤샌렵띤샌렵띤샌렵띤샌렵띤샌렵띤샌렵띤샌렵띤샌렵띤샌렵띤샌렵띤샌렵띤샌렵띤샌렵띤샌렵띤샌렵띤샌렵띤샌렵띤\n"
     ]
    },
    {
     "name": "stderr",
     "output_type": "stream",
     "text": [
      "Epoch [137/300], 횟수 [990/997], Loss: 0.0063: 100%|██████████| 997/997 [02:04<00:00,  7.98it/s]\n"
     ]
    },
    {
     "name": "stdout",
     "output_type": "stream",
     "text": [
      "Epoch 137 학습 종료 ===> 손실: 0.0634, 정확도: 0.0166, f1 점수: 0.0062\n",
      "오룻빅헨띤샌젯씬헨띤샌젯씬헨띤샌젯씬헨띤샌젯씬헨띤샌젯씬헨띤샌젯씬헨띤샌젯씬헨띤샌젯씬헨띤샌젯씬헨띤샌젯씬헨띤샌젯씬헨띤샌젯씬헨띤샌젯씬헨띤샌젯씬헨띤샌젯씬헨띤샌젯씬헨띤샌젯씬헨띤샌젯씬헨띤샌젯씬헨띤샌\n"
     ]
    },
    {
     "name": "stderr",
     "output_type": "stream",
     "text": [
      "Epoch [138/300], 횟수 [990/997], Loss: 0.0063: 100%|██████████| 997/997 [01:55<00:00,  8.65it/s]\n"
     ]
    },
    {
     "name": "stdout",
     "output_type": "stream",
     "text": [
      "Epoch 138 학습 종료 ===> 손실: 0.0634, 정확도: 0.0167, f1 점수: 0.0062\n",
      "오룻빅헨띤샌젯씬헨띤샌젯씬헨띤샌젯씬헨띤샌젯씬헨띤샌젯씬헨띤샌젯씬헨띤샌젯씬헨띤샌젯씬헨띤샌젯씬헨띤샌젯씬헨띤샌젯씬헨띤샌젯씬헨띤샌젯씬헨띤샌젯씬헨띤샌젯씬헨띤샌젯씬헨띤샌젯씬헨띤샌젯씬헨띤샌젯씬헨띤샌\n"
     ]
    },
    {
     "name": "stderr",
     "output_type": "stream",
     "text": [
      "Epoch [139/300], 횟수 [990/997], Loss: 0.0064: 100%|██████████| 997/997 [02:08<00:00,  7.79it/s]\n"
     ]
    },
    {
     "name": "stdout",
     "output_type": "stream",
     "text": [
      "Epoch 139 학습 종료 ===> 손실: 0.0634, 정확도: 0.0167, f1 점수: 0.0062\n",
      "오룻휠곱뎅샌젯씬헨룻휠곱뎅샌젯씬헨룻휠곱뎅샌젯씬헨룻휠곱뎅샌젯씬헨룻휠곱뎅샌젯씬헨룻휠곱뎅샌젯씬헨룻휠곱뎅샌젯씬헨룻휠곱뎅샌젯씬헨룻휠곱뎅샌젯씬헨룻휠곱뎅샌젯씬헨룻휠곱뎅샌젯씬헨룻휠곱뎅샌젯씬헨룻휠곱뎅\n"
     ]
    },
    {
     "name": "stderr",
     "output_type": "stream",
     "text": [
      "Epoch [140/300], 횟수 [990/997], Loss: 0.0064: 100%|██████████| 997/997 [01:55<00:00,  8.64it/s]\n"
     ]
    },
    {
     "name": "stdout",
     "output_type": "stream",
     "text": [
      "Epoch 140 학습 종료 ===> 손실: 0.0634, 정확도: 0.0168, f1 점수: 0.0063\n",
      "오룻빅헨룻빅헨룻빅헨룻빅헨룻빅헨룻빅헨룻빅헨룻빅헨룻빅헨룻빅헨룻빅헨룻빅헨룻빅헨룻빅헨룻빅헨룻빅헨룻빅헨룻빅헨룻빅헨룻빅헨룻빅헨룻빅헨룻빅헨룻빅헨룻빅헨룻빅헨룻빅헨룻빅헨룻빅헨룻빅헨룻빅헨룻빅헨룻빅헨룻\n"
     ]
    },
    {
     "name": "stderr",
     "output_type": "stream",
     "text": [
      "Epoch [141/300], 횟수 [990/997], Loss: 0.0064: 100%|██████████| 997/997 [02:02<00:00,  8.12it/s]\n"
     ]
    },
    {
     "name": "stdout",
     "output_type": "stream",
     "text": [
      "Epoch 141 학습 종료 ===> 손실: 0.0633, 정확도: 0.0165, f1 점수: 0.0061\n",
      "오룻빅헨룻빅헨룻빅헨룻빅헨룻빅헨룻빅헨룻빅헨룻빅헨룻빅헨룻빅헨룻빅헨룻빅헨룻빅헨룻빅헨룻빅헨룻빅헨룻빅헨룻빅헨룻빅헨룻빅헨룻빅헨룻빅헨룻빅헨룻빅헨룻빅헨룻빅헨룻빅헨룻빅헨룻빅헨룻빅헨룻빅헨룻빅헨룻빅헨룻\n"
     ]
    },
    {
     "name": "stderr",
     "output_type": "stream",
     "text": [
      "Epoch [142/300], 횟수 [990/997], Loss: 0.0064: 100%|██████████| 997/997 [02:05<00:00,  7.93it/s]\n"
     ]
    },
    {
     "name": "stdout",
     "output_type": "stream",
     "text": [
      "Epoch 142 학습 종료 ===> 손실: 0.0633, 정확도: 0.0167, f1 점수: 0.0062\n",
      "오룻빅헨h륜뎅샌룹헨h륜뎅샌룹헨h륜뎅샌룹헨h륜뎅샌룹헨h륜뎅샌룹헨h륜뎅샌룹헨h륜뎅샌룹헨h륜뎅샌룹헨h륜뎅샌룹헨h륜뎅샌룹헨h륜뎅샌룹헨h륜뎅샌룹헨h륜뎅샌룹헨h륜뎅샌룹헨h륜뎅샌룹헨h륜뎅샌룹헨h\n"
     ]
    },
    {
     "name": "stderr",
     "output_type": "stream",
     "text": [
      "Epoch [143/300], 횟수 [990/997], Loss: 0.0063: 100%|██████████| 997/997 [01:53<00:00,  8.79it/s]\n"
     ]
    },
    {
     "name": "stdout",
     "output_type": "stream",
     "text": [
      "Epoch 143 학습 종료 ===> 손실: 0.0632, 정확도: 0.0167, f1 점수: 0.0062\n",
      "오룻빅헨띤샌젯씬헨띤샌젯씬헨띤샌젯씬헨띤샌젯씬헨띤샌젯씬헨띤샌젯씬헨띤샌젯씬헨띤샌젯씬헨띤샌젯씬헨띤샌젯씬헨띤샌젯씬헨띤샌젯씬헨띤샌젯씬헨띤샌젯씬헨띤샌젯씬헨띤샌젯씬헨띤샌젯씬헨띤샌젯씬헨띤샌젯씬헨띤샌\n"
     ]
    },
    {
     "name": "stderr",
     "output_type": "stream",
     "text": [
      "Epoch [144/300], 횟수 [990/997], Loss: 0.0063: 100%|██████████| 997/997 [02:10<00:00,  7.67it/s]\n"
     ]
    },
    {
     "name": "stdout",
     "output_type": "stream",
     "text": [
      "Epoch 144 학습 종료 ===> 손실: 0.0631, 정확도: 0.0168, f1 점수: 0.0062\n",
      "오룻빅헨띤샌젯씬헨띤샌젯씬헨띤샌젯씬헨띤샌젯씬헨띤샌젯씬헨띤샌젯씬헨띤샌젯씬헨띤샌젯씬헨띤샌젯씬헨띤샌젯씬헨띤샌젯씬헨띤샌젯씬헨띤샌젯씬헨띤샌젯씬헨띤샌젯씬헨띤샌젯씬헨띤샌젯씬헨띤샌젯씬헨띤샌젯씬헨띤샌\n"
     ]
    },
    {
     "name": "stderr",
     "output_type": "stream",
     "text": [
      "Epoch [145/300], 횟수 [990/997], Loss: 0.0064: 100%|██████████| 997/997 [01:57<00:00,  8.46it/s]\n"
     ]
    },
    {
     "name": "stdout",
     "output_type": "stream",
     "text": [
      "Epoch 145 학습 종료 ===> 손실: 0.0631, 정확도: 0.0167, f1 점수: 0.0062\n",
      "오룻빅헨h헷봇턴띤샌젯씬헨h헷봇턴띤샌젯씬헨h헷봇턴띤샌젯씬헨h헷봇턴띤샌젯씬헨h헷봇턴띤샌젯씬헨h헷봇턴띤샌젯씬헨h헷봇턴띤샌젯씬헨h헷봇턴띤샌젯씬헨h헷봇턴띤샌젯씬헨h헷봇턴띤샌젯씬헨h헷봇턴띤샌젯\n"
     ]
    },
    {
     "name": "stderr",
     "output_type": "stream",
     "text": [
      "Epoch [146/300], 횟수 [990/997], Loss: 0.0064: 100%|██████████| 997/997 [02:02<00:00,  8.14it/s]\n"
     ]
    },
    {
     "name": "stdout",
     "output_type": "stream",
     "text": [
      "Epoch 146 학습 종료 ===> 손실: 0.0630, 정확도: 0.0167, f1 점수: 0.0063\n",
      "오룻빅헨h턴띤샌젯씬헨h턴띤샌젯씬헨h턴띤샌젯씬헨h턴띤샌젯씬헨h턴띤샌젯씬헨h턴띤샌젯씬헨h턴띤샌젯씬헨h턴띤샌젯씬헨h턴띤샌젯씬헨h턴띤샌젯씬헨h턴띤샌젯씬헨h턴띤샌젯씬헨h턴띤샌젯씬헨h턴띤샌젯씬\n"
     ]
    },
    {
     "name": "stderr",
     "output_type": "stream",
     "text": [
      "Epoch [147/300], 횟수 [990/997], Loss: 0.0063: 100%|██████████| 997/997 [02:06<00:00,  7.87it/s]\n"
     ]
    },
    {
     "name": "stdout",
     "output_type": "stream",
     "text": [
      "Epoch 147 학습 종료 ===> 손실: 0.0630, 정확도: 0.0166, f1 점수: 0.0062\n",
      "오룻빅띤샌젯씬헨룻빅띤샌젯씬헨룻빅띤샌젯씬헨룻빅띤샌젯씬헨룻빅띤샌젯씬헨룻빅띤샌젯씬헨룻빅띤샌젯씬헨룻빅띤샌젯씬헨룻빅띤샌젯씬헨룻빅띤샌젯씬헨룻빅띤샌젯씬헨룻빅띤샌젯씬헨룻빅띤샌젯씬헨룻빅띤샌젯씬헨룻빅\n"
     ]
    },
    {
     "name": "stderr",
     "output_type": "stream",
     "text": [
      "Epoch [148/300], 횟수 [990/997], Loss: 0.0063: 100%|██████████| 997/997 [01:53<00:00,  8.78it/s]\n"
     ]
    },
    {
     "name": "stdout",
     "output_type": "stream",
     "text": [
      "Epoch 148 학습 종료 ===> 손실: 0.0630, 정확도: 0.0167, f1 점수: 0.0063\n",
      "오룻헬룻헬룻헬룻헬룻헬룻헬룻헬룻헬룻헬룻헬룻헬룻헬룻헬룻헬룻헬룻헬룻헬룻헬룻헬룻헬룻헬룻헬룻헬룻헬룻헬룻헬룻헬룻헬룻헬룻헬룻헬룻헬룻헬룻헬룻헬룻헬룻헬룻헬룻헬룻헬룻헬룻헬룻헬룻헬룻헬룻헬룻헬룻헬룻헬룻헬\n"
     ]
    },
    {
     "name": "stderr",
     "output_type": "stream",
     "text": [
      "Epoch [149/300], 횟수 [990/997], Loss: 0.0064: 100%|██████████| 997/997 [02:05<00:00,  7.96it/s]\n"
     ]
    },
    {
     "name": "stdout",
     "output_type": "stream",
     "text": [
      "Epoch 149 학습 종료 ===> 손실: 0.0629, 정확도: 0.0170, f1 점수: 0.0064\n",
      "오룻빅띤샌젯휠헨얀뎅샌젯휠헨얀뎅샌젯휠헨얀뎅샌젯휠헨얀뎅샌젯휠헨얀뎅샌젯휠헨얀뎅샌젯휠헨얀뎅샌젯휠헨얀뎅샌젯휠헨얀뎅샌젯휠헨얀뎅샌젯휠헨얀뎅샌젯휠헨얀뎅샌젯휠헨얀뎅샌젯휠헨얀뎅샌젯휠헨얀뎅샌젯휠헨얀뎅샌\n"
     ]
    },
    {
     "name": "stderr",
     "output_type": "stream",
     "text": [
      "Epoch [150/300], 횟수 [990/997], Loss: 0.0063: 100%|██████████| 997/997 [01:59<00:00,  8.33it/s]\n"
     ]
    },
    {
     "name": "stdout",
     "output_type": "stream",
     "text": [
      "Epoch 150 학습 종료 ===> 손실: 0.0629, 정확도: 0.0167, f1 점수: 0.0062\n",
      "오룻휠헨룻휠헨룻휠헨룻휠헨룻휠헨룻휠헨룻휠헨룻휠헨룻휠헨룻휠헨룻휠헨룻휠헨룻휠헨룻휠헨룻휠헨룻휠헨룻휠헨룻휠헨룻휠헨룻휠헨룻휠헨룻휠헨룻휠헨룻휠헨룻휠헨룻휠헨룻휠헨룻휠헨룻휠헨룻휠헨룻휠헨룻휠헨룻휠헨룻\n"
     ]
    },
    {
     "name": "stderr",
     "output_type": "stream",
     "text": [
      "Epoch [151/300], 횟수 [990/997], Loss: 0.0062: 100%|██████████| 997/997 [01:59<00:00,  8.37it/s]\n"
     ]
    },
    {
     "name": "stdout",
     "output_type": "stream",
     "text": [
      "Epoch 151 학습 종료 ===> 손실: 0.0628, 정확도: 0.0167, f1 점수: 0.0062\n",
      "오룻휠봇턴띤샌젯휠봇턴띤샌젯휠봇턴띤샌젯휠봇턴띤샌젯휠봇턴띤샌젯휠봇턴띤샌젯휠봇턴띤샌젯휠봇턴띤샌젯휠봇턴띤샌젯휠봇턴띤샌젯휠봇턴띤샌젯휠봇턴띤샌젯휠봇턴띤샌젯휠봇턴띤샌젯휠봇턴띤샌젯휠봇턴띤샌젯휠봇턴\n"
     ]
    },
    {
     "name": "stderr",
     "output_type": "stream",
     "text": [
      "Epoch [152/300], 횟수 [990/997], Loss: 0.0062: 100%|██████████| 997/997 [02:05<00:00,  7.93it/s]\n"
     ]
    },
    {
     "name": "stdout",
     "output_type": "stream",
     "text": [
      "Epoch 152 학습 종료 ===> 손실: 0.0628, 정확도: 0.0168, f1 점수: 0.0063\n",
      "오룻휠헨룻휠헨룻휠헨룻휠헨룻휠헨룻휠헨룻휠헨룻휠헨룻휠헨룻휠헨룻휠헨룻휠헨룻휠헨룻휠헨룻휠헨룻휠헨룻휠헨룻휠헨룻휠헨룻휠헨룻휠헨룻휠헨룻휠헨룻휠헨룻휠헨룻휠헨룻휠헨룻휠헨룻휠헨룻휠헨룻휠헨룻휠헨룻휠헨룻\n"
     ]
    },
    {
     "name": "stderr",
     "output_type": "stream",
     "text": [
      "Epoch [153/300], 횟수 [990/997], Loss: 0.0063: 100%|██████████| 997/997 [01:56<00:00,  8.59it/s]\n"
     ]
    },
    {
     "name": "stdout",
     "output_type": "stream",
     "text": [
      "Epoch 153 학습 종료 ===> 손실: 0.0627, 정확도: 0.0171, f1 점수: 0.0065\n",
      "오룻휠헨룻휠헨룻휠헨룻휠헨룻휠헨룻휠헨룻휠헨룻휠헨룻휠헨룻휠헨룻휠헨룻휠헨룻휠헨룻휠헨룻휠헨룻휠헨룻휠헨룻휠헨룻휠헨룻휠헨룻휠헨룻휠헨룻휠헨룻휠헨룻휠헨룻휠헨룻휠헨룻휠헨룻휠헨룻휠헨룻휠헨룻휠헨룻휠헨룻\n"
     ]
    },
    {
     "name": "stderr",
     "output_type": "stream",
     "text": [
      "Epoch [154/300], 횟수 [990/997], Loss: 0.0063: 100%|██████████| 997/997 [02:01<00:00,  8.22it/s]\n"
     ]
    },
    {
     "name": "stdout",
     "output_type": "stream",
     "text": [
      "Epoch 154 학습 종료 ===> 손실: 0.0627, 정확도: 0.0166, f1 점수: 0.0063\n",
      "오룻씬헨늬늬늬늬늬늬늬늬늬늬늬늬늬늬늬늬늬늬늬늬늬늬늬늬늬늬늬늬늬늬늬늬늬늬늬늬늬늬늬늬늬늬늬늬늬늬늬늬늬늬늬늬늬늬늬늬늬늬늬늬늬늬늬늬늬늬늬늬늬늬늬늬늬늬늬늬늬늬늬늬늬늬늬늬늬늬늬늬늬늬늬늬늬늬늬늬늬\n"
     ]
    },
    {
     "name": "stderr",
     "output_type": "stream",
     "text": [
      "Epoch [155/300], 횟수 [990/997], Loss: 0.0062: 100%|██████████| 997/997 [02:05<00:00,  7.94it/s]\n"
     ]
    },
    {
     "name": "stdout",
     "output_type": "stream",
     "text": [
      "Epoch 155 학습 종료 ===> 손실: 0.0626, 정확도: 0.0169, f1 점수: 0.0063\n",
      "오룻휠헨늬늬늬늬늬늬늬늬늬늬늬늬늬늬늬늬늬늬늬늬늬늬늬늬늬늬늬늬늬늬늬늬늬늬늬늬늬늬늬늬늬늬늬늬늬늬늬늬늬늬늬늬늬늬늬늬늬늬늬늬늬늬늬늬늬늬늬늬늬늬늬늬늬늬늬늬늬늬늬늬늬늬늬늬늬늬늬늬늬늬늬늬늬늬늬늬늬\n"
     ]
    },
    {
     "name": "stderr",
     "output_type": "stream",
     "text": [
      "Epoch [156/300], 횟수 [990/997], Loss: 0.0062: 100%|██████████| 997/997 [01:53<00:00,  8.79it/s]\n"
     ]
    },
    {
     "name": "stdout",
     "output_type": "stream",
     "text": [
      "Epoch 156 학습 종료 ===> 손실: 0.0626, 정확도: 0.0169, f1 점수: 0.0062\n",
      "오룻휠헨늬늬늬늬늬늬늬늬늬늬늬늬늬늬늬늬늬늬늬늬늬늬늬늬늬늬늬늬늬늬늬늬늬늬늬늬늬늬늬늬늬늬늬늬늬늬늬늬늬늬늬늬늬늬늬늬늬늬늬늬늬늬늬늬늬늬늬늬늬늬늬늬늬늬늬늬늬늬늬늬늬늬늬늬늬늬늬늬늬늬늬늬늬늬늬늬늬\n"
     ]
    },
    {
     "name": "stderr",
     "output_type": "stream",
     "text": [
      "Epoch [157/300], 횟수 [990/997], Loss: 0.0064: 100%|██████████| 997/997 [02:04<00:00,  7.98it/s]\n"
     ]
    },
    {
     "name": "stdout",
     "output_type": "stream",
     "text": [
      "Epoch 157 학습 종료 ===> 손실: 0.0626, 정확도: 0.0166, f1 점수: 0.0062\n",
      "오룻휠헨늬늬늬늬늬늬늬늬늬늬늬늬늬늬늬늬늬늬늬늬늬늬늬늬늬늬늬늬늬늬늬늬늬늬늬늬늬늬늬늬늬늬늬늬늬늬늬늬늬늬늬늬늬늬늬늬늬늬늬늬늬늬늬늬늬늬늬늬늬늬늬늬늬늬늬늬늬늬늬늬늬늬늬늬늬늬늬늬늬늬늬늬늬늬늬늬늬\n"
     ]
    },
    {
     "name": "stderr",
     "output_type": "stream",
     "text": [
      "Epoch [158/300], 횟수 [990/997], Loss: 0.0062: 100%|██████████| 997/997 [01:57<00:00,  8.51it/s]\n"
     ]
    },
    {
     "name": "stdout",
     "output_type": "stream",
     "text": [
      "Epoch 158 학습 종료 ===> 손실: 0.0626, 정확도: 0.0166, f1 점수: 0.0062\n",
      "오룻씬헨룻씬헨룻씬헨룻씬헨룻씬헨룻씬헨룻씬헨룻씬헨룻씬헨룻씬헨룻씬헨룻씬헨룻씬헨룻씬헨룻씬헨룻씬헨룻씬헨룻씬헨룻씬헨룻씬헨룻씬헨룻씬헨룻씬헨룻씬헨룻씬헨룻씬헨룻씬헨룻씬헨룻씬헨룻씬헨룻씬헨룻씬헨룻씬헨룻\n"
     ]
    },
    {
     "name": "stderr",
     "output_type": "stream",
     "text": [
      "Epoch [159/300], 횟수 [990/997], Loss: 0.0063: 100%|██████████| 997/997 [02:01<00:00,  8.22it/s]\n"
     ]
    },
    {
     "name": "stdout",
     "output_type": "stream",
     "text": [
      "Epoch 159 학습 종료 ===> 손실: 0.0626, 정확도: 0.0168, f1 점수: 0.0063\n",
      "오룻휠헨늬늬늬늬늬늬늬늬늬늬늬늬늬늬늬늬늬늬늬늬늬늬늬늬늬늬늬늬늬늬늬늬늬늬늬늬늬늬늬늬늬늬늬늬늬늬늬늬늬늬늬늬늬늬늬늬늬늬늬늬늬늬늬늬늬늬늬늬늬늬늬늬늬늬늬늬늬늬늬늬늬늬늬늬늬늬늬늬늬늬늬늬늬늬늬늬늬\n"
     ]
    },
    {
     "name": "stderr",
     "output_type": "stream",
     "text": [
      "Epoch [160/300], 횟수 [990/997], Loss: 0.0062: 100%|██████████| 997/997 [02:04<00:00,  7.99it/s]\n"
     ]
    },
    {
     "name": "stdout",
     "output_type": "stream",
     "text": [
      "Epoch 160 학습 종료 ===> 손실: 0.0625, 정확도: 0.0169, f1 점수: 0.0064\n",
      "오룻씬헨늬늬늬늬늬늬늬늬늬늬늬늬늬늬늬늬늬늬늬늬늬늬늬늬늬늬늬늬늬늬늬늬늬늬늬늬늬늬늬늬늬늬늬늬늬늬늬늬늬늬늬늬늬늬늬늬늬늬늬늬늬늬늬늬늬늬늬늬늬늬늬늬늬늬늬늬늬늬늬늬늬늬늬늬늬늬늬늬늬늬늬늬늬늬늬늬늬\n"
     ]
    },
    {
     "name": "stderr",
     "output_type": "stream",
     "text": [
      "Epoch [161/300], 횟수 [990/997], Loss: 0.0062: 100%|██████████| 997/997 [01:54<00:00,  8.74it/s]\n"
     ]
    },
    {
     "name": "stdout",
     "output_type": "stream",
     "text": [
      "Epoch 161 학습 종료 ===> 손실: 0.0625, 정확도: 0.0171, f1 점수: 0.0063\n",
      "오룻빅헨룻빅헨룻빅헨룻빅헨룻빅헨룻빅헨룻빅헨룻빅헨룻빅헨룻빅헨룻빅헨룻빅헨룻빅헨룻빅헨룻빅헨룻빅헨룻빅헨룻빅헨룻빅헨룻빅헨룻빅헨룻빅헨룻빅헨룻빅헨룻빅헨룻빅헨룻빅헨룻빅헨룻빅헨룻빅헨룻빅헨룻빅헨룻빅헨룻\n"
     ]
    },
    {
     "name": "stderr",
     "output_type": "stream",
     "text": [
      "Epoch [162/300], 횟수 [990/997], Loss: 0.0063: 100%|██████████| 997/997 [02:08<00:00,  7.73it/s]\n"
     ]
    },
    {
     "name": "stdout",
     "output_type": "stream",
     "text": [
      "Epoch 162 학습 종료 ===> 손실: 0.0623, 정확도: 0.0169, f1 점수: 0.0063\n",
      "오룻씬헨룻씬헨룻씬헨룻씬헨룻씬헨룻씬헨룻씬헨룻씬헨룻씬헨룻씬헨룻씬헨룻씬헨룻씬헨룻씬헨룻씬헨룻씬헨룻씬헨룻씬헨룻씬헨룻씬헨룻씬헨룻씬헨룻씬헨룻씬헨룻씬헨룻씬헨룻씬헨룻씬헨룻씬헨룻씬헨룻씬헨룻씬헨룻씬헨룻\n"
     ]
    },
    {
     "name": "stderr",
     "output_type": "stream",
     "text": [
      "Epoch [163/300], 횟수 [990/997], Loss: 0.0063: 100%|██████████| 997/997 [01:57<00:00,  8.48it/s]\n"
     ]
    },
    {
     "name": "stdout",
     "output_type": "stream",
     "text": [
      "Epoch 163 학습 종료 ===> 손실: 0.0624, 정확도: 0.0169, f1 점수: 0.0063\n",
      "오룻빅헨룻빅헨룻빅헨룻빅헨룻빅헨룻빅헨룻빅헨룻빅헨룻빅헨룻빅헨룻빅헨룻빅헨룻빅헨룻빅헨룻빅헨룻빅헨룻빅헨룻빅헨룻빅헨룻빅헨룻빅헨룻빅헨룻빅헨룻빅헨룻빅헨룻빅헨룻빅헨룻빅헨룻빅헨룻빅헨룻빅헨룻빅헨룻빅헨룻\n"
     ]
    },
    {
     "name": "stderr",
     "output_type": "stream",
     "text": [
      "Epoch [164/300], 횟수 [990/997], Loss: 0.0063: 100%|██████████| 997/997 [02:01<00:00,  8.22it/s]\n"
     ]
    },
    {
     "name": "stdout",
     "output_type": "stream",
     "text": [
      "Epoch 164 학습 종료 ===> 손실: 0.0623, 정확도: 0.0169, f1 점수: 0.0063\n",
      "오룻빅헨룻빅헨룻빅헨룻빅헨룻빅헨룻빅헨룻빅헨룻빅헨룻빅헨룻빅헨룻빅헨룻빅헨룻빅헨룻빅헨룻빅헨룻빅헨룻빅헨룻빅헨룻빅헨룻빅헨룻빅헨룻빅헨룻빅헨룻빅헨룻빅헨룻빅헨룻빅헨룻빅헨룻빅헨룻빅헨룻빅헨룻빅헨룻빅헨룻\n"
     ]
    },
    {
     "name": "stderr",
     "output_type": "stream",
     "text": [
      "Epoch [165/300], 횟수 [990/997], Loss: 0.0063: 100%|██████████| 997/997 [02:05<00:00,  7.96it/s]\n"
     ]
    },
    {
     "name": "stdout",
     "output_type": "stream",
     "text": [
      "Epoch 165 학습 종료 ===> 손실: 0.0624, 정확도: 0.0172, f1 점수: 0.0064\n",
      "오룻휠헨룻휠헨룻휠헨룻휠헨룻휠헨룻휠헨룻휠헨룻휠헨룻휠헨룻휠헨룻휠헨룻휠헨룻휠헨룻휠헨룻휠헨룻휠헨룻휠헨룻휠헨룻휠헨룻휠헨룻휠헨룻휠헨룻휠헨룻휠헨룻휠헨룻휠헨룻휠헨룻휠헨룻휠헨룻휠헨룻휠헨룻휠헨룻휠헨룻\n"
     ]
    },
    {
     "name": "stderr",
     "output_type": "stream",
     "text": [
      "Epoch [166/300], 횟수 [990/997], Loss: 0.0063: 100%|██████████| 997/997 [01:53<00:00,  8.81it/s]\n"
     ]
    },
    {
     "name": "stdout",
     "output_type": "stream",
     "text": [
      "Epoch 166 학습 종료 ===> 손실: 0.0623, 정확도: 0.0169, f1 점수: 0.0064\n",
      "오룻빅헨룻빅헨룻빅헨룻빅헨룻빅헨룻빅헨룻빅헨룻빅헨룻빅헨룻빅헨룻빅헨룻빅헨룻빅헨룻빅헨룻빅헨룻빅헨룻빅헨룻빅헨룻빅헨룻빅헨룻빅헨룻빅헨룻빅헨룻빅헨룻빅헨룻빅헨룻빅헨룻빅헨룻빅헨룻빅헨룻빅헨룻빅헨룻빅헨룻\n"
     ]
    },
    {
     "name": "stderr",
     "output_type": "stream",
     "text": [
      "Epoch [167/300], 횟수 [990/997], Loss: 0.0062: 100%|██████████| 997/997 [02:05<00:00,  7.95it/s]\n"
     ]
    },
    {
     "name": "stdout",
     "output_type": "stream",
     "text": [
      "Epoch 167 학습 종료 ===> 손실: 0.0623, 정확도: 0.0170, f1 점수: 0.0064\n",
      "오룻빅헨룻빅헨룻빅헨룻빅헨룻빅헨룻빅헨룻빅헨룻빅헨룻빅헨룻빅헨룻빅헨룻빅헨룻빅헨룻빅헨룻빅헨룻빅헨룻빅헨룻빅헨룻빅헨룻빅헨룻빅헨룻빅헨룻빅헨룻빅헨룻빅헨룻빅헨룻빅헨룻빅헨룻빅헨룻빅헨룻빅헨룻빅헨룻빅헨룻\n"
     ]
    },
    {
     "name": "stderr",
     "output_type": "stream",
     "text": [
      "Epoch [168/300], 횟수 [990/997], Loss: 0.0062: 100%|██████████| 997/997 [01:55<00:00,  8.60it/s]\n"
     ]
    },
    {
     "name": "stdout",
     "output_type": "stream",
     "text": [
      "Epoch 168 학습 종료 ===> 손실: 0.0622, 정확도: 0.0170, f1 점수: 0.0064\n",
      "오룻휠헨룻휠헨룻휠헨룻휠헨룻휠헨룻휠헨룻휠헨룻휠헨룻휠헨룻휠헨룻휠헨룻휠헨룻휠헨룻휠헨룻휠헨룻휠헨룻휠헨룻휠헨룻휠헨룻휠헨룻휠헨룻휠헨룻휠헨룻휠헨룻휠헨룻휠헨룻휠헨룻휠헨룻휠헨룻휠헨룻휠헨룻휠헨룻휠헨룻\n"
     ]
    },
    {
     "name": "stderr",
     "output_type": "stream",
     "text": [
      "Epoch [169/300], 횟수 [990/997], Loss: 0.0062: 100%|██████████| 997/997 [02:02<00:00,  8.11it/s]\n"
     ]
    },
    {
     "name": "stdout",
     "output_type": "stream",
     "text": [
      "Epoch 169 학습 종료 ===> 손실: 0.0622, 정확도: 0.0170, f1 점수: 0.0064\n",
      "오룻빅헨룻빅헨룻빅헨룻빅헨룻빅헨룻빅헨룻빅헨룻빅헨룻빅헨룻빅헨룻빅헨룻빅헨룻빅헨룻빅헨룻빅헨룻빅헨룻빅헨룻빅헨룻빅헨룻빅헨룻빅헨룻빅헨룻빅헨룻빅헨룻빅헨룻빅헨룻빅헨룻빅헨룻빅헨룻빅헨룻빅헨룻빅헨룻빅헨룻\n"
     ]
    },
    {
     "name": "stderr",
     "output_type": "stream",
     "text": [
      "Epoch [170/300], 횟수 [990/997], Loss: 0.0063: 100%|██████████| 997/997 [02:02<00:00,  8.14it/s]\n"
     ]
    },
    {
     "name": "stdout",
     "output_type": "stream",
     "text": [
      "Epoch 170 학습 종료 ===> 손실: 0.0622, 정확도: 0.0171, f1 점수: 0.0064\n",
      "오룻빅헨룻빅헨룻빅헨룻빅헨룻빅헨룻빅헨룻빅헨룻빅헨룻빅헨룻빅헨룻빅헨룻빅헨룻빅헨룻빅헨룻빅헨룻빅헨룻빅헨룻빅헨룻빅헨룻빅헨룻빅헨룻빅헨룻빅헨룻빅헨룻빅헨룻빅헨룻빅헨룻빅헨룻빅헨룻빅헨룻빅헨룻빅헨룻빅헨룻\n"
     ]
    },
    {
     "name": "stderr",
     "output_type": "stream",
     "text": [
      "Epoch [171/300], 횟수 [990/997], Loss: 0.0061: 100%|██████████| 997/997 [01:55<00:00,  8.64it/s]\n"
     ]
    },
    {
     "name": "stdout",
     "output_type": "stream",
     "text": [
      "Epoch 171 학습 종료 ===> 손실: 0.0621, 정확도: 0.0170, f1 점수: 0.0064\n",
      "오룻빅헨룻빅헨룻빅헨룻빅헨룻빅헨룻빅헨룻빅헨룻빅헨룻빅헨룻빅헨룻빅헨룻빅헨룻빅헨룻빅헨룻빅헨룻빅헨룻빅헨룻빅헨룻빅헨룻빅헨룻빅헨룻빅헨룻빅헨룻빅헨룻빅헨룻빅헨룻빅헨룻빅헨룻빅헨룻빅헨룻빅헨룻빅헨룻빅헨룻\n"
     ]
    },
    {
     "name": "stderr",
     "output_type": "stream",
     "text": [
      "Epoch [172/300], 횟수 [990/997], Loss: 0.0062: 100%|██████████| 997/997 [02:05<00:00,  7.97it/s]\n"
     ]
    },
    {
     "name": "stdout",
     "output_type": "stream",
     "text": [
      "Epoch 172 학습 종료 ===> 손실: 0.0621, 정확도: 0.0173, f1 점수: 0.0065\n",
      "오룻빅헨룻빅헨룻빅헨룻빅헨룻빅헨룻빅헨룻빅헨룻빅헨룻빅헨룻빅헨룻빅헨룻빅헨룻빅헨룻빅헨룻빅헨룻빅헨룻빅헨룻빅헨룻빅헨룻빅헨룻빅헨룻빅헨룻빅헨룻빅헨룻빅헨룻빅헨룻빅헨룻빅헨룻빅헨룻빅헨룻빅헨룻빅헨룻빅헨룻\n"
     ]
    },
    {
     "name": "stderr",
     "output_type": "stream",
     "text": [
      "Epoch [173/300], 횟수 [990/997], Loss: 0.0063: 100%|██████████| 997/997 [01:54<00:00,  8.69it/s]\n"
     ]
    },
    {
     "name": "stdout",
     "output_type": "stream",
     "text": [
      "Epoch 173 학습 종료 ===> 손실: 0.0621, 정확도: 0.0170, f1 점수: 0.0065\n",
      "오룻휠봇턴띤샌젯휠봇턴띤샌젯휠봇턴띤샌젯휠봇턴띤샌젯휠봇턴띤샌젯휠봇턴띤샌젯휠봇턴띤샌젯휠봇턴띤샌젯휠봇턴띤샌젯휠봇턴띤샌젯휠봇턴띤샌젯휠봇턴띤샌젯휠봇턴띤샌젯휠봇턴띤샌젯휠봇턴띤샌젯휠봇턴띤샌젯휠봇턴\n"
     ]
    },
    {
     "name": "stderr",
     "output_type": "stream",
     "text": [
      "Epoch [174/300], 횟수 [990/997], Loss: 0.0063: 100%|██████████| 997/997 [02:05<00:00,  7.92it/s]\n"
     ]
    },
    {
     "name": "stdout",
     "output_type": "stream",
     "text": [
      "Epoch 174 학습 종료 ===> 손실: 0.0620, 정확도: 0.0172, f1 점수: 0.0065\n",
      "오룻빅헨룻빅헨룻빅헨룻빅헨룻빅헨룻빅헨룻빅헨룻빅헨룻빅헨룻빅헨룻빅헨룻빅헨룻빅헨룻빅헨룻빅헨룻빅헨룻빅헨룻빅헨룻빅헨룻빅헨룻빅헨룻빅헨룻빅헨룻빅헨룻빅헨룻빅헨룻빅헨룻빅헨룻빅헨룻빅헨룻빅헨룻빅헨룻빅헨룻\n"
     ]
    },
    {
     "name": "stderr",
     "output_type": "stream",
     "text": [
      "Epoch [175/300], 횟수 [990/997], Loss: 0.0064: 100%|██████████| 997/997 [01:59<00:00,  8.34it/s]\n"
     ]
    },
    {
     "name": "stdout",
     "output_type": "stream",
     "text": [
      "Epoch 175 학습 종료 ===> 손실: 0.0621, 정확도: 0.0173, f1 점수: 0.0065\n",
      "오룻휠곱띠룹헨룻휠곱띠룹헨룻휠곱띠룹헨룻휠곱띠룹헨룻휠곱띠룹헨룻휠곱띠룹헨룻휠곱띠룹헨룻휠곱띠룹헨룻휠곱띠룹헨룻휠곱띠룹헨룻휠곱띠룹헨룻휠곱띠룹헨룻휠곱띠룹헨룻휠곱띠룹헨룻휠곱띠룹헨룻휠곱띠룹헨룻휠곱띠\n"
     ]
    },
    {
     "name": "stderr",
     "output_type": "stream",
     "text": [
      "Epoch [176/300], 횟수 [990/997], Loss: 0.0063: 100%|██████████| 997/997 [01:59<00:00,  8.37it/s]\n"
     ]
    },
    {
     "name": "stdout",
     "output_type": "stream",
     "text": [
      "Epoch 176 학습 종료 ===> 손실: 0.0620, 정확도: 0.0174, f1 점수: 0.0065\n",
      "오룻빅헨룻빅헨룻빅헨룻빅헨룻빅헨룻빅헨룻빅헨룻빅헨룻빅헨룻빅헨룻빅헨룻빅헨룻빅헨룻빅헨룻빅헨룻빅헨룻빅헨룻빅헨룻빅헨룻빅헨룻빅헨룻빅헨룻빅헨룻빅헨룻빅헨룻빅헨룻빅헨룻빅헨룻빅헨룻빅헨룻빅헨룻빅헨룻빅헨룻\n"
     ]
    },
    {
     "name": "stderr",
     "output_type": "stream",
     "text": [
      "Epoch [177/300], 횟수 [990/997], Loss: 0.0062: 100%|██████████| 997/997 [02:04<00:00,  8.01it/s]\n"
     ]
    },
    {
     "name": "stdout",
     "output_type": "stream",
     "text": [
      "Epoch 177 학습 종료 ===> 손실: 0.0619, 정확도: 0.0177, f1 점수: 0.0066\n",
      "오룻빅헨룻빅헨룻빅헨룻빅헨룻빅헨룻빅헨룻빅헨룻빅헨룻빅헨룻빅헨룻빅헨룻빅헨룻빅헨룻빅헨룻빅헨룻빅헨룻빅헨룻빅헨룻빅헨룻빅헨룻빅헨룻빅헨룻빅헨룻빅헨룻빅헨룻빅헨룻빅헨룻빅헨룻빅헨룻빅헨룻빅헨룻빅헨룻빅헨룻\n"
     ]
    },
    {
     "name": "stderr",
     "output_type": "stream",
     "text": [
      "Epoch [178/300], 횟수 [990/997], Loss: 0.0062: 100%|██████████| 997/997 [01:54<00:00,  8.72it/s]\n"
     ]
    },
    {
     "name": "stdout",
     "output_type": "stream",
     "text": [
      "Epoch 178 학습 종료 ===> 손실: 0.0619, 정확도: 0.0176, f1 점수: 0.0065\n",
      "오룻빅헨룻빅헨룻빅헨룻빅헨룻빅헨룻빅헨룻빅헨룻빅헨룻빅헨룻빅헨룻빅헨룻빅헨룻빅헨룻빅헨룻빅헨룻빅헨룻빅헨룻빅헨룻빅헨룻빅헨룻빅헨룻빅헨룻빅헨룻빅헨룻빅헨룻빅헨룻빅헨룻빅헨룻빅헨룻빅헨룻빅헨룻빅헨룻빅헨룻\n"
     ]
    },
    {
     "name": "stderr",
     "output_type": "stream",
     "text": [
      "Epoch [179/300], 횟수 [990/997], Loss: 0.0062: 100%|██████████| 997/997 [02:01<00:00,  8.20it/s]\n"
     ]
    },
    {
     "name": "stdout",
     "output_type": "stream",
     "text": [
      "Epoch 179 학습 종료 ===> 손실: 0.0618, 정확도: 0.0174, f1 점수: 0.0064\n",
      "오룻씬헨룻씬헨룻씬헨룻씬헨룻씬헨룻씬헨룻씬헨룻씬헨룻씬헨룻씬헨룻씬헨룻씬헨룻씬헨룻씬헨룻씬헨룻씬헨룻씬헨룻씬헨룻씬헨룻씬헨룻씬헨룻씬헨룻씬헨룻씬헨룻씬헨룻씬헨룻씬헨룻씬헨룻씬헨룻씬헨룻씬헨룻씬헨룻씬헨룻\n"
     ]
    },
    {
     "name": "stderr",
     "output_type": "stream",
     "text": [
      "Epoch [180/300], 횟수 [990/997], Loss: 0.0062: 100%|██████████| 997/997 [02:02<00:00,  8.12it/s]\n"
     ]
    },
    {
     "name": "stdout",
     "output_type": "stream",
     "text": [
      "Epoch 180 학습 종료 ===> 손실: 0.0619, 정확도: 0.0174, f1 점수: 0.0065\n",
      "오룻빅헨룻빅헨룻빅헨룻빅헨룻빅헨룻빅헨룻빅헨룻빅헨룻빅헨룻빅헨룻빅헨룻빅헨룻빅헨룻빅헨룻빅헨룻빅헨룻빅헨룻빅헨룻빅헨룻빅헨룻빅헨룻빅헨룻빅헨룻빅헨룻빅헨룻빅헨룻빅헨룻빅헨룻빅헨룻빅헨룻빅헨룻빅헨룻빅헨룻\n"
     ]
    },
    {
     "name": "stderr",
     "output_type": "stream",
     "text": [
      "Epoch [181/300], 횟수 [990/997], Loss: 0.0061: 100%|██████████| 997/997 [01:55<00:00,  8.64it/s]\n"
     ]
    },
    {
     "name": "stdout",
     "output_type": "stream",
     "text": [
      "Epoch 181 학습 종료 ===> 손실: 0.0619, 정확도: 0.0177, f1 점수: 0.0066\n",
      "오룻쏘띤뎅샌젯쏘띤뎅샌젯쏘띤뎅샌젯쏘띤뎅샌젯쏘띤뎅샌젯쏘띤뎅샌젯쏘띤뎅샌젯쏘띤뎅샌젯쏘띤뎅샌젯쏘띤뎅샌젯쏘띤뎅샌젯쏘띤뎅샌젯쏘띤뎅샌젯쏘띤뎅샌젯쏘띤뎅샌젯쏘띤뎅샌젯쏘띤뎅샌젯쏘띤뎅샌젯쏘띤뎅샌젯쏘띤뎅샌\n"
     ]
    },
    {
     "name": "stderr",
     "output_type": "stream",
     "text": [
      "Epoch [182/300], 횟수 [990/997], Loss: 0.0062: 100%|██████████| 997/997 [02:06<00:00,  7.89it/s]\n"
     ]
    },
    {
     "name": "stdout",
     "output_type": "stream",
     "text": [
      "Epoch 182 학습 종료 ===> 손실: 0.0618, 정확도: 0.0178, f1 점수: 0.0065\n",
      "오룻휠헨룻휠헨룻휠헨룻휠헨룻휠헨룻휠헨룻휠헨룻휠헨룻휠헨룻휠헨룻휠헨룻휠헨룻휠헨룻휠헨룻휠헨룻휠헨룻휠헨룻휠헨룻휠헨룻휠헨룻휠헨룻휠헨룻휠헨룻휠헨룻휠헨룻휠헨룻휠헨룻휠헨룻휠헨룻휠헨룻휠헨룻휠헨룻휠헨룻\n"
     ]
    },
    {
     "name": "stderr",
     "output_type": "stream",
     "text": [
      "Epoch [183/300], 횟수 [990/997], Loss: 0.0061: 100%|██████████| 997/997 [01:53<00:00,  8.79it/s]\n"
     ]
    },
    {
     "name": "stdout",
     "output_type": "stream",
     "text": [
      "Epoch 183 학습 종료 ===> 손실: 0.0618, 정확도: 0.0176, f1 점수: 0.0066\n",
      "오룻쏘띤샌젯쏘띤샌젯쏘띤샌젯쏘띤샌젯쏘띤샌젯쏘띤샌젯쏘띤샌젯쏘띤샌젯쏘띤샌젯쏘띤샌젯쏘띤샌젯쏘띤샌젯쏘띤샌젯쏘띤샌젯쏘띤샌젯쏘띤샌젯쏘띤샌젯쏘띤샌젯쏘띤샌젯쏘띤샌젯쏘띤샌젯쏘띤샌젯쏘띤샌젯쏘띤샌젯쏘띤샌\n"
     ]
    },
    {
     "name": "stderr",
     "output_type": "stream",
     "text": [
      "Epoch [184/300], 횟수 [990/997], Loss: 0.0062: 100%|██████████| 997/997 [02:02<00:00,  8.14it/s]\n"
     ]
    },
    {
     "name": "stdout",
     "output_type": "stream",
     "text": [
      "Epoch 184 학습 종료 ===> 손실: 0.0617, 정확도: 0.0175, f1 점수: 0.0064\n",
      "오룻쏘띤뎅젯쏘띤뎅젯쏘띤뎅젯쏘띤뎅젯쏘띤뎅젯쏘띤뎅젯쏘띤뎅젯쏘띤뎅젯쏘띤뎅젯쏘띤뎅젯쏘띤뎅젯쏘띤뎅젯쏘띤뎅젯쏘띤뎅젯쏘띤뎅젯쏘띤뎅젯쏘띤뎅젯쏘띤뎅젯쏘띤뎅젯쏘띤뎅젯쏘띤뎅젯쏘띤뎅젯쏘띤뎅젯쏘띤뎅젯쏘띤뎅\n"
     ]
    },
    {
     "name": "stderr",
     "output_type": "stream",
     "text": [
      "Epoch [185/300], 횟수 [990/997], Loss: 0.0061: 100%|██████████| 997/997 [02:03<00:00,  8.07it/s]\n"
     ]
    },
    {
     "name": "stdout",
     "output_type": "stream",
     "text": [
      "Epoch 185 학습 종료 ===> 손실: 0.0618, 정확도: 0.0176, f1 점수: 0.0065\n",
      "오룻엎헨룻엎헨룻엎헨룻엎헨룻엎헨룻엎헨룻엎헨룻엎헨룻엎헨룻엎헨룻엎헨룻엎헨룻엎헨룻엎헨룻엎헨룻엎헨룻엎헨룻엎헨룻엎헨룻엎헨룻엎헨룻엎헨룻엎헨룻엎헨룻엎헨룻엎헨룻엎헨룻엎헨룻엎헨룻엎헨룻엎헨룻엎헨룻엎헨룻\n"
     ]
    },
    {
     "name": "stderr",
     "output_type": "stream",
     "text": [
      "Epoch [186/300], 횟수 [990/997], Loss: 0.0061: 100%|██████████| 997/997 [01:53<00:00,  8.75it/s]\n"
     ]
    },
    {
     "name": "stdout",
     "output_type": "stream",
     "text": [
      "Epoch 186 학습 종료 ===> 손실: 0.0617, 정확도: 0.0174, f1 점수: 0.0065\n",
      "오룻씬헨룻씬헨룻씬헨룻씬헨룻씬헨룻씬헨룻씬헨룻씬헨룻씬헨룻씬헨룻씬헨룻씬헨룻씬헨룻씬헨룻씬헨룻씬헨룻씬헨룻씬헨룻씬헨룻씬헨룻씬헨룻씬헨룻씬헨룻씬헨룻씬헨룻씬헨룻씬헨룻씬헨룻씬헨룻씬헨룻씬헨룻씬헨룻씬헨룻\n"
     ]
    },
    {
     "name": "stderr",
     "output_type": "stream",
     "text": [
      "Epoch [187/300], 횟수 [990/997], Loss: 0.0062: 100%|██████████| 997/997 [02:03<00:00,  8.05it/s]\n"
     ]
    },
    {
     "name": "stdout",
     "output_type": "stream",
     "text": [
      "Epoch 187 학습 종료 ===> 손실: 0.0616, 정확도: 0.0177, f1 점수: 0.0066\n",
      "오룻쏘띤샌젯쏘띤샌젯쏘띤샌젯쏘띤샌젯쏘띤샌젯쏘띤샌젯쏘띤샌젯쏘띤샌젯쏘띤샌젯쏘띤샌젯쏘띤샌젯쏘띤샌젯쏘띤샌젯쏘띤샌젯쏘띤샌젯쏘띤샌젯쏘띤샌젯쏘띤샌젯쏘띤샌젯쏘띤샌젯쏘띤샌젯쏘띤샌젯쏘띤샌젯쏘띤샌젯쏘띤샌\n"
     ]
    },
    {
     "name": "stderr",
     "output_type": "stream",
     "text": [
      "Epoch [188/300], 횟수 [990/997], Loss: 0.0062: 100%|██████████| 997/997 [01:57<00:00,  8.50it/s]\n"
     ]
    },
    {
     "name": "stdout",
     "output_type": "stream",
     "text": [
      "Epoch 188 학습 종료 ===> 손실: 0.0616, 정확도: 0.0177, f1 점수: 0.0065\n",
      "오룻휠헨룻휠헨룻휠헨룻휠헨룻휠헨룻휠헨룻휠헨룻휠헨룻휠헨룻휠헨룻휠헨룻휠헨룻휠헨룻휠헨룻휠헨룻휠헨룻휠헨룻휠헨룻휠헨룻휠헨룻휠헨룻휠헨룻휠헨룻휠헨룻휠헨룻휠헨룻휠헨룻휠헨룻휠헨룻휠헨룻휠헨룻휠헨룻휠헨룻\n"
     ]
    },
    {
     "name": "stderr",
     "output_type": "stream",
     "text": [
      "Epoch [189/300], 횟수 [990/997], Loss: 0.0060: 100%|██████████| 997/997 [01:59<00:00,  8.34it/s]\n"
     ]
    },
    {
     "name": "stdout",
     "output_type": "stream",
     "text": [
      "Epoch 189 학습 종료 ===> 손실: 0.0616, 정확도: 0.0174, f1 점수: 0.0065\n",
      "오룻휠헨룻휠헨룻휠헨룻휠헨룻휠헨룻휠헨룻휠헨룻휠헨룻휠헨룻휠헨룻휠헨룻휠헨룻휠헨룻휠헨룻휠헨룻휠헨룻휠헨룻휠헨룻휠헨룻휠헨룻휠헨룻휠헨룻휠헨룻휠헨룻휠헨룻휠헨룻휠헨룻휠헨룻휠헨룻휠헨룻휠헨룻휠헨룻휠헨룻\n"
     ]
    },
    {
     "name": "stderr",
     "output_type": "stream",
     "text": [
      "Epoch [190/300], 횟수 [990/997], Loss: 0.0061: 100%|██████████| 997/997 [02:04<00:00,  8.01it/s]\n"
     ]
    },
    {
     "name": "stdout",
     "output_type": "stream",
     "text": [
      "Epoch 190 학습 종료 ===> 손실: 0.0616, 정확도: 0.0177, f1 점수: 0.0066\n",
      "오룻씬헨룻씬헨룻씬헨룻씬헨룻씬헨룻씬헨룻씬헨룻씬헨룻씬헨룻씬헨룻씬헨룻씬헨룻씬헨룻씬헨룻씬헨룻씬헨룻씬헨룻씬헨룻씬헨룻씬헨룻씬헨룻씬헨룻씬헨룻씬헨룻씬헨룻씬헨룻씬헨룻씬헨룻씬헨룻씬헨룻씬헨룻씬헨룻씬헨룻\n"
     ]
    },
    {
     "name": "stderr",
     "output_type": "stream",
     "text": [
      "Epoch [191/300], 횟수 [990/997], Loss: 0.0061: 100%|██████████| 997/997 [01:53<00:00,  8.82it/s]\n"
     ]
    },
    {
     "name": "stdout",
     "output_type": "stream",
     "text": [
      "Epoch 191 학습 종료 ===> 손실: 0.0615, 정확도: 0.0178, f1 점수: 0.0065\n",
      "오룻앰젯씬헨룻앰젯씬헨룻앰젯씬헨룻앰젯씬헨룻앰젯씬헨룻앰젯씬헨룻앰젯씬헨룻앰젯씬헨룻앰젯씬헨룻앰젯씬헨룻앰젯씬헨룻앰젯씬헨룻앰젯씬헨룻앰젯씬헨룻앰젯씬헨룻앰젯씬헨룻앰젯씬헨룻앰젯씬헨룻앰젯씬헨룻앰젯씬헨\n"
     ]
    },
    {
     "name": "stderr",
     "output_type": "stream",
     "text": [
      "Epoch [192/300], 횟수 [990/997], Loss: 0.0062: 100%|██████████| 997/997 [02:03<00:00,  8.06it/s]\n"
     ]
    },
    {
     "name": "stdout",
     "output_type": "stream",
     "text": [
      "Epoch 192 학습 종료 ===> 손실: 0.0615, 정확도: 0.0180, f1 점수: 0.0066\n",
      "오룻엎헨룻엎헨룻엎헨룻엎헨룻엎헨룻엎헨룻엎헨룻엎헨룻엎헨룻엎헨룻엎헨룻엎헨룻엎헨룻엎헨룻엎헨룻엎헨룻엎헨룻엎헨룻엎헨룻엎헨룻엎헨룻엎헨룻엎헨룻엎헨룻엎헨룻엎헨룻엎헨룻엎헨룻엎헨룻엎헨룻엎헨룻엎헨룻엎헨룻\n"
     ]
    },
    {
     "name": "stderr",
     "output_type": "stream",
     "text": [
      "Epoch [193/300], 횟수 [990/997], Loss: 0.0060: 100%|██████████| 997/997 [01:55<00:00,  8.62it/s]\n"
     ]
    },
    {
     "name": "stdout",
     "output_type": "stream",
     "text": [
      "Epoch 193 학습 종료 ===> 손실: 0.0615, 정확도: 0.0179, f1 점수: 0.0065\n",
      "오룻앰젯앰젯앰젯앰젯앰젯앰젯앰젯앰젯앰젯앰젯앰젯앰젯앰젯앰젯앰젯앰젯앰젯앰젯앰젯앰젯앰젯앰젯앰젯앰젯앰젯앰젯앰젯앰젯앰젯앰젯앰젯앰젯앰젯앰젯앰젯앰젯앰젯앰젯앰젯앰젯앰젯앰젯앰젯앰젯앰젯앰젯앰젯앰젯앰젯앰\n"
     ]
    },
    {
     "name": "stderr",
     "output_type": "stream",
     "text": [
      "Epoch [194/300], 횟수 [990/997], Loss: 0.0062: 100%|██████████| 997/997 [02:01<00:00,  8.18it/s]\n"
     ]
    },
    {
     "name": "stdout",
     "output_type": "stream",
     "text": [
      "Epoch 194 학습 종료 ===> 손실: 0.0614, 정확도: 0.0178, f1 점수: 0.0064\n",
      "오룻엎헨룻엎헨룻엎헨룻엎헨룻엎헨룻엎헨룻엎헨룻엎헨룻엎헨룻엎헨룻엎헨룻엎헨룻엎헨룻엎헨룻엎헨룻엎헨룻엎헨룻엎헨룻엎헨룻엎헨룻엎헨룻엎헨룻엎헨룻엎헨룻엎헨룻엎헨룻엎헨룻엎헨룻엎헨룻엎헨룻엎헨룻엎헨룻엎헨룻\n"
     ]
    },
    {
     "name": "stderr",
     "output_type": "stream",
     "text": [
      "Epoch [195/300], 횟수 [990/997], Loss: 0.0062: 100%|██████████| 997/997 [02:02<00:00,  8.13it/s]\n"
     ]
    },
    {
     "name": "stdout",
     "output_type": "stream",
     "text": [
      "Epoch 195 학습 종료 ===> 손실: 0.0614, 정확도: 0.0181, f1 점수: 0.0066\n",
      "오룻앰젯앰젯앰젯앰젯앰젯앰젯앰젯앰젯앰젯앰젯앰젯앰젯앰젯앰젯앰젯앰젯앰젯앰젯앰젯앰젯앰젯앰젯앰젯앰젯앰젯앰젯앰젯앰젯앰젯앰젯앰젯앰젯앰젯앰젯앰젯앰젯앰젯앰젯앰젯앰젯앰젯앰젯앰젯앰젯앰젯앰젯앰젯앰젯앰젯앰\n"
     ]
    },
    {
     "name": "stderr",
     "output_type": "stream",
     "text": [
      "Epoch [196/300], 횟수 [990/997], Loss: 0.0062: 100%|██████████| 997/997 [01:55<00:00,  8.66it/s]\n"
     ]
    },
    {
     "name": "stdout",
     "output_type": "stream",
     "text": [
      "Epoch 196 학습 종료 ===> 손실: 0.0614, 정확도: 0.0185, f1 점수: 0.0067\n",
      "오룻휠헨룻휠헨룻휠헨룻휠헨룻휠헨룻휠헨룻휠헨룻휠헨룻휠헨룻휠헨룻휠헨룻휠헨룻휠헨룻휠헨룻휠헨룻휠헨룻휠헨룻휠헨룻휠헨룻휠헨룻휠헨룻휠헨룻휠헨룻휠헨룻휠헨룻휠헨룻휠헨룻휠헨룻휠헨룻휠헨룻휠헨룻휠헨룻휠헨룻\n"
     ]
    },
    {
     "name": "stderr",
     "output_type": "stream",
     "text": [
      "Epoch [197/300], 횟수 [990/997], Loss: 0.0060: 100%|██████████| 997/997 [02:05<00:00,  7.96it/s]\n"
     ]
    },
    {
     "name": "stdout",
     "output_type": "stream",
     "text": [
      "Epoch 197 학습 종료 ===> 손실: 0.0614, 정확도: 0.0185, f1 점수: 0.0066\n",
      "오룻휠헨룻휠헨룻휠헨룻휠헨룻휠헨룻휠헨룻휠헨룻휠헨룻휠헨룻휠헨룻휠헨룻휠헨룻휠헨룻휠헨룻휠헨룻휠헨룻휠헨룻휠헨룻휠헨룻휠헨룻휠헨룻휠헨룻휠헨룻휠헨룻휠헨룻휠헨룻휠헨룻휠헨룻휠헨룻휠헨룻휠헨룻휠헨룻휠헨룻\n"
     ]
    },
    {
     "name": "stderr",
     "output_type": "stream",
     "text": [
      "Epoch [198/300], 횟수 [990/997], Loss: 0.0061: 100%|██████████| 997/997 [01:52<00:00,  8.86it/s]\n"
     ]
    },
    {
     "name": "stdout",
     "output_type": "stream",
     "text": [
      "Epoch 198 학습 종료 ===> 손실: 0.0614, 정확도: 0.0184, f1 점수: 0.0066\n",
      "오룻휠헨룻휠헨룻휠헨룻휠헨룻휠헨룻휠헨룻휠헨룻휠헨룻휠헨룻휠헨룻휠헨룻휠헨룻휠헨룻휠헨룻휠헨룻휠헨룻휠헨룻휠헨룻휠헨룻휠헨룻휠헨룻휠헨룻휠헨룻휠헨룻휠헨룻휠헨룻휠헨룻휠헨룻휠헨룻휠헨룻휠헨룻휠헨룻휠헨룻\n"
     ]
    },
    {
     "name": "stderr",
     "output_type": "stream",
     "text": [
      "Epoch [199/300], 횟수 [990/997], Loss: 0.0063: 100%|██████████| 997/997 [02:08<00:00,  7.75it/s]\n"
     ]
    },
    {
     "name": "stdout",
     "output_type": "stream",
     "text": [
      "Epoch 199 학습 종료 ===> 손실: 0.0613, 정확도: 0.0182, f1 점수: 0.0065\n",
      "오룻휠헨룻휠헨룻휠헨룻휠헨룻휠헨룻휠헨룻휠헨룻휠헨룻휠헨룻휠헨룻휠헨룻휠헨룻휠헨룻휠헨룻휠헨룻휠헨룻휠헨룻휠헨룻휠헨룻휠헨룻휠헨룻휠헨룻휠헨룻휠헨룻휠헨룻휠헨룻휠헨룻휠헨룻휠헨룻휠헨룻휠헨룻휠헨룻휠헨룻\n"
     ]
    },
    {
     "name": "stderr",
     "output_type": "stream",
     "text": [
      "Epoch [200/300], 횟수 [990/997], Loss: 0.0062: 100%|██████████| 997/997 [01:57<00:00,  8.47it/s]\n"
     ]
    },
    {
     "name": "stdout",
     "output_type": "stream",
     "text": [
      "Epoch 200 학습 종료 ===> 손실: 0.0613, 정확도: 0.0185, f1 점수: 0.0066\n",
      "오룻휠헨룻휠헨룻휠헨룻휠헨룻휠헨룻휠헨룻휠헨룻휠헨룻휠헨룻휠헨룻휠헨룻휠헨룻휠헨룻휠헨룻휠헨룻휠헨룻휠헨룻휠헨룻휠헨룻휠헨룻휠헨룻휠헨룻휠헨룻휠헨룻휠헨룻휠헨룻휠헨룻휠헨룻휠헨룻휠헨룻휠헨룻휠헨룻휠헨룻\n"
     ]
    },
    {
     "name": "stderr",
     "output_type": "stream",
     "text": [
      "Epoch [201/300], 횟수 [990/997], Loss: 0.0062: 100%|██████████| 997/997 [01:58<00:00,  8.39it/s]\n"
     ]
    },
    {
     "name": "stdout",
     "output_type": "stream",
     "text": [
      "Epoch 201 학습 종료 ===> 손실: 0.0615, 정확도: 0.0181, f1 점수: 0.0065\n",
      "오룻휠헨룻휠헨룻휠헨룻휠헨룻휠헨룻휠헨룻휠헨룻휠헨룻휠헨룻휠헨룻휠헨룻휠헨룻휠헨룻휠헨룻휠헨룻휠헨룻휠헨룻휠헨룻휠헨룻휠헨룻휠헨룻휠헨룻휠헨룻휠헨룻휠헨룻휠헨룻휠헨룻휠헨룻휠헨룻휠헨룻휠헨룻휠헨룻휠헨룻\n"
     ]
    },
    {
     "name": "stderr",
     "output_type": "stream",
     "text": [
      "Epoch [202/300], 횟수 [990/997], Loss: 0.0062: 100%|██████████| 997/997 [02:04<00:00,  8.03it/s]\n"
     ]
    },
    {
     "name": "stdout",
     "output_type": "stream",
     "text": [
      "Epoch 202 학습 종료 ===> 손실: 0.0613, 정확도: 0.0184, f1 점수: 0.0066\n",
      "오룻엎헨룻엎헨룻엎헨룻엎헨룻엎헨룻엎헨룻엎헨룻엎헨룻엎헨룻엎헨룻엎헨룻엎헨룻엎헨룻엎헨룻엎헨룻엎헨룻엎헨룻엎헨룻엎헨룻엎헨룻엎헨룻엎헨룻엎헨룻엎헨룻엎헨룻엎헨룻엎헨룻엎헨룻엎헨룻엎헨룻엎헨룻엎헨룻엎헨룻\n"
     ]
    },
    {
     "name": "stderr",
     "output_type": "stream",
     "text": [
      "Epoch [203/300], 횟수 [990/997], Loss: 0.0060: 100%|██████████| 997/997 [01:52<00:00,  8.84it/s]\n"
     ]
    },
    {
     "name": "stdout",
     "output_type": "stream",
     "text": [
      "Epoch 203 학습 종료 ===> 손실: 0.0613, 정확도: 0.0185, f1 점수: 0.0066\n",
      "오룻휠헨룻휠헨룻휠헨룻휠헨룻휠헨룻휠헨룻휠헨룻휠헨룻휠헨룻휠헨룻휠헨룻휠헨룻휠헨룻휠헨룻휠헨룻휠헨룻휠헨룻휠헨룻휠헨룻휠헨룻휠헨룻휠헨룻휠헨룻휠헨룻휠헨룻휠헨룻휠헨룻휠헨룻휠헨룻휠헨룻휠헨룻휠헨룻휠헨룻\n"
     ]
    },
    {
     "name": "stderr",
     "output_type": "stream",
     "text": [
      "Epoch [204/300], 횟수 [990/997], Loss: 0.0062: 100%|██████████| 997/997 [02:06<00:00,  7.87it/s]\n"
     ]
    },
    {
     "name": "stdout",
     "output_type": "stream",
     "text": [
      "Epoch 204 학습 종료 ===> 손실: 0.0612, 정확도: 0.0185, f1 점수: 0.0066\n",
      "오룻앰젯앰젯앰젯앰젯앰젯앰젯앰젯앰젯앰젯앰젯앰젯앰젯앰젯앰젯앰젯앰젯앰젯앰젯앰젯앰젯앰젯앰젯앰젯앰젯앰젯앰젯앰젯앰젯앰젯앰젯앰젯앰젯앰젯앰젯앰젯앰젯앰젯앰젯앰젯앰젯앰젯앰젯앰젯앰젯앰젯앰젯앰젯앰젯앰젯앰\n"
     ]
    },
    {
     "name": "stderr",
     "output_type": "stream",
     "text": [
      "Epoch [205/300], 횟수 [990/997], Loss: 0.0063: 100%|██████████| 997/997 [01:56<00:00,  8.54it/s]\n"
     ]
    },
    {
     "name": "stdout",
     "output_type": "stream",
     "text": [
      "Epoch 205 학습 종료 ===> 손실: 0.0613, 정확도: 0.0181, f1 점수: 0.0066\n",
      "오룻앰젯앰젯앰젯앰젯앰젯앰젯앰젯앰젯앰젯앰젯앰젯앰젯앰젯앰젯앰젯앰젯앰젯앰젯앰젯앰젯앰젯앰젯앰젯앰젯앰젯앰젯앰젯앰젯앰젯앰젯앰젯앰젯앰젯앰젯앰젯앰젯앰젯앰젯앰젯앰젯앰젯앰젯앰젯앰젯앰젯앰젯앰젯앰젯앰젯앰\n"
     ]
    },
    {
     "name": "stderr",
     "output_type": "stream",
     "text": [
      "Epoch [206/300], 횟수 [990/997], Loss: 0.0062: 100%|██████████| 997/997 [01:59<00:00,  8.31it/s]\n"
     ]
    },
    {
     "name": "stdout",
     "output_type": "stream",
     "text": [
      "Epoch 206 학습 종료 ===> 손실: 0.0612, 정확도: 0.0181, f1 점수: 0.0065\n",
      "오룻앰젯앰젯앰젯앰젯앰젯앰젯앰젯앰젯앰젯앰젯앰젯앰젯앰젯앰젯앰젯앰젯앰젯앰젯앰젯앰젯앰젯앰젯앰젯앰젯앰젯앰젯앰젯앰젯앰젯앰젯앰젯앰젯앰젯앰젯앰젯앰젯앰젯앰젯앰젯앰젯앰젯앰젯앰젯앰젯앰젯앰젯앰젯앰젯앰젯앰\n"
     ]
    },
    {
     "name": "stderr",
     "output_type": "stream",
     "text": [
      "Epoch [207/300], 횟수 [990/997], Loss: 0.0060: 100%|██████████| 997/997 [02:03<00:00,  8.09it/s]\n"
     ]
    },
    {
     "name": "stdout",
     "output_type": "stream",
     "text": [
      "Epoch 207 학습 종료 ===> 손실: 0.0611, 정확도: 0.0185, f1 점수: 0.0066\n",
      "오룻앰젯앰젯앰젯앰젯앰젯앰젯앰젯앰젯앰젯앰젯앰젯앰젯앰젯앰젯앰젯앰젯앰젯앰젯앰젯앰젯앰젯앰젯앰젯앰젯앰젯앰젯앰젯앰젯앰젯앰젯앰젯앰젯앰젯앰젯앰젯앰젯앰젯앰젯앰젯앰젯앰젯앰젯앰젯앰젯앰젯앰젯앰젯앰젯앰젯앰\n"
     ]
    },
    {
     "name": "stderr",
     "output_type": "stream",
     "text": [
      "Epoch [208/300], 횟수 [990/997], Loss: 0.0062: 100%|██████████| 997/997 [01:53<00:00,  8.80it/s]\n"
     ]
    },
    {
     "name": "stdout",
     "output_type": "stream",
     "text": [
      "Epoch 208 학습 종료 ===> 손실: 0.0612, 정확도: 0.0185, f1 점수: 0.0066\n",
      "오룻엎헨룻엎헨룻엎헨룻엎헨룻엎헨룻엎헨룻엎헨룻엎헨룻엎헨룻엎헨룻엎헨룻엎헨룻엎헨룻엎헨룻엎헨룻엎헨룻엎헨룻엎헨룻엎헨룻엎헨룻엎헨룻엎헨룻엎헨룻엎헨룻엎헨룻엎헨룻엎헨룻엎헨룻엎헨룻엎헨룻엎헨룻엎헨룻엎헨룻\n"
     ]
    },
    {
     "name": "stderr",
     "output_type": "stream",
     "text": [
      "Epoch [209/300], 횟수 [990/997], Loss: 0.0060: 100%|██████████| 997/997 [02:03<00:00,  8.05it/s]\n"
     ]
    },
    {
     "name": "stdout",
     "output_type": "stream",
     "text": [
      "Epoch 209 학습 종료 ===> 손실: 0.0612, 정확도: 0.0186, f1 점수: 0.0066\n",
      "오룻씬헨룻씬헨룻씬헨룻씬헨룻씬헨룻씬헨룻씬헨룻씬헨룻씬헨룻씬헨룻씬헨룻씬헨룻씬헨룻씬헨룻씬헨룻씬헨룻씬헨룻씬헨룻씬헨룻씬헨룻씬헨룻씬헨룻씬헨룻씬헨룻씬헨룻씬헨룻씬헨룻씬헨룻씬헨룻씬헨룻씬헨룻씬헨룻씬헨룻\n"
     ]
    },
    {
     "name": "stderr",
     "output_type": "stream",
     "text": [
      "Epoch [210/300], 횟수 [990/997], Loss: 0.0061: 100%|██████████| 997/997 [01:57<00:00,  8.49it/s]\n"
     ]
    },
    {
     "name": "stdout",
     "output_type": "stream",
     "text": [
      "Epoch 210 학습 종료 ===> 손실: 0.0613, 정확도: 0.0182, f1 점수: 0.0065\n",
      "오룻엎헨룻엎헨룻엎헨룻엎헨룻엎헨룻엎헨룻엎헨룻엎헨룻엎헨룻엎헨룻엎헨룻엎헨룻엎헨룻엎헨룻엎헨룻엎헨룻엎헨룻엎헨룻엎헨룻엎헨룻엎헨룻엎헨룻엎헨룻엎헨룻엎헨룻엎헨룻엎헨룻엎헨룻엎헨룻엎헨룻엎헨룻엎헨룻엎헨룻\n"
     ]
    },
    {
     "name": "stderr",
     "output_type": "stream",
     "text": [
      "Epoch [211/300], 횟수 [990/997], Loss: 0.0060: 100%|██████████| 997/997 [01:59<00:00,  8.32it/s]\n"
     ]
    },
    {
     "name": "stdout",
     "output_type": "stream",
     "text": [
      "Epoch 211 학습 종료 ===> 손실: 0.0612, 정확도: 0.0183, f1 점수: 0.0066\n",
      "오룻엎헨룻엎헨룻엎헨룻엎헨룻엎헨룻엎헨룻엎헨룻엎헨룻엎헨룻엎헨룻엎헨룻엎헨룻엎헨룻엎헨룻엎헨룻엎헨룻엎헨룻엎헨룻엎헨룻엎헨룻엎헨룻엎헨룻엎헨룻엎헨룻엎헨룻엎헨룻엎헨룻엎헨룻엎헨룻엎헨룻엎헨룻엎헨룻엎헨룻\n"
     ]
    },
    {
     "name": "stderr",
     "output_type": "stream",
     "text": [
      "Epoch [212/300], 횟수 [990/997], Loss: 0.0061: 100%|██████████| 997/997 [02:03<00:00,  8.04it/s]\n"
     ]
    },
    {
     "name": "stdout",
     "output_type": "stream",
     "text": [
      "Epoch 212 학습 종료 ===> 손실: 0.0611, 정확도: 0.0183, f1 점수: 0.0066\n",
      "오룻핥헨룻핥헨룻핥헨룻핥헨룻핥헨룻핥헨룻핥헨룻핥헨룻핥헨룻핥헨룻핥헨룻핥헨룻핥헨룻핥헨룻핥헨룻핥헨룻핥헨룻핥헨룻핥헨룻핥헨룻핥헨룻핥헨룻핥헨룻핥헨룻핥헨룻핥헨룻핥헨룻핥헨룻핥헨룻핥헨룻핥헨룻핥헨룻핥헨룻\n"
     ]
    },
    {
     "name": "stderr",
     "output_type": "stream",
     "text": [
      "Epoch [213/300], 횟수 [990/997], Loss: 0.0060: 100%|██████████| 997/997 [01:52<00:00,  8.85it/s]\n"
     ]
    },
    {
     "name": "stdout",
     "output_type": "stream",
     "text": [
      "Epoch 213 학습 종료 ===> 손실: 0.0612, 정확도: 0.0184, f1 점수: 0.0066\n",
      "오룻땐뎅샌젯땐뎅샌젯땐뎅샌젯땐뎅샌젯땐뎅샌젯땐뎅샌젯땐뎅샌젯땐뎅샌젯땐뎅샌젯땐뎅샌젯땐뎅샌젯땐뎅샌젯땐뎅샌젯땐뎅샌젯땐뎅샌젯땐뎅샌젯땐뎅샌젯땐뎅샌젯땐뎅샌젯땐뎅샌젯땐뎅샌젯땐뎅샌젯땐뎅샌젯땐뎅샌젯땐뎅샌\n"
     ]
    },
    {
     "name": "stderr",
     "output_type": "stream",
     "text": [
      "Epoch [214/300], 횟수 [990/997], Loss: 0.0061: 100%|██████████| 997/997 [02:04<00:00,  7.98it/s]\n"
     ]
    },
    {
     "name": "stdout",
     "output_type": "stream",
     "text": [
      "Epoch 214 학습 종료 ===> 손실: 0.0610, 정확도: 0.0183, f1 점수: 0.0066\n",
      "오룻엎헨룻엎헨룻엎헨룻엎헨룻엎헨룻엎헨룻엎헨룻엎헨룻엎헨룻엎헨룻엎헨룻엎헨룻엎헨룻엎헨룻엎헨룻엎헨룻엎헨룻엎헨룻엎헨룻엎헨룻엎헨룻엎헨룻엎헨룻엎헨룻엎헨룻엎헨룻엎헨룻엎헨룻엎헨룻엎헨룻엎헨룻엎헨룻엎헨룻\n"
     ]
    },
    {
     "name": "stderr",
     "output_type": "stream",
     "text": [
      "Epoch [215/300], 횟수 [990/997], Loss: 0.0061: 100%|██████████| 997/997 [01:55<00:00,  8.60it/s]\n"
     ]
    },
    {
     "name": "stdout",
     "output_type": "stream",
     "text": [
      "Epoch 215 학습 종료 ===> 손실: 0.0610, 정확도: 0.0186, f1 점수: 0.0066\n",
      "오룻헬룻헬룻헬룻헬룻헬룻헬룻헬룻헬룻헬룻헬룻헬룻헬룻헬룻헬룻헬룻헬룻헬룻헬룻헬룻헬룻헬룻헬룻헬룻헬룻헬룻헬룻헬룻헬룻헬룻헬룻헬룻헬룻헬룻헬룻헬룻헬룻헬룻헬룻헬룻헬룻헬룻헬룻헬룻헬룻헬룻헬룻헬룻헬룻헬룻헬\n"
     ]
    },
    {
     "name": "stderr",
     "output_type": "stream",
     "text": [
      "Epoch [216/300], 횟수 [990/997], Loss: 0.0063: 100%|██████████| 997/997 [01:59<00:00,  8.31it/s]\n"
     ]
    },
    {
     "name": "stdout",
     "output_type": "stream",
     "text": [
      "Epoch 216 학습 종료 ===> 손실: 0.0610, 정확도: 0.0184, f1 점수: 0.0066\n",
      "오룻헬룻헬룻헬룻헬룻헬룻헬룻헬룻헬룻헬룻헬룻헬룻헬룻헬룻헬룻헬룻헬룻헬룻헬룻헬룻헬룻헬룻헬룻헬룻헬룻헬룻헬룻헬룻헬룻헬룻헬룻헬룻헬룻헬룻헬룻헬룻헬룻헬룻헬룻헬룻헬룻헬룻헬룻헬룻헬룻헬룻헬룻헬룻헬룻헬룻헬\n"
     ]
    },
    {
     "name": "stderr",
     "output_type": "stream",
     "text": [
      "Epoch [217/300], 횟수 [990/997], Loss: 0.0062: 100%|██████████| 997/997 [02:04<00:00,  8.04it/s]\n"
     ]
    },
    {
     "name": "stdout",
     "output_type": "stream",
     "text": [
      "Epoch 217 학습 종료 ===> 손실: 0.0610, 정확도: 0.0185, f1 점수: 0.0066\n",
      "오룻엎헨룻엎헨룻엎헨룻엎헨룻엎헨룻엎헨룻엎헨룻엎헨룻엎헨룻엎헨룻엎헨룻엎헨룻엎헨룻엎헨룻엎헨룻엎헨룻엎헨룻엎헨룻엎헨룻엎헨룻엎헨룻엎헨룻엎헨룻엎헨룻엎헨룻엎헨룻엎헨룻엎헨룻엎헨룻엎헨룻엎헨룻엎헨룻엎헨룻\n"
     ]
    },
    {
     "name": "stderr",
     "output_type": "stream",
     "text": [
      "Epoch [218/300], 횟수 [990/997], Loss: 0.0061: 100%|██████████| 997/997 [01:52<00:00,  8.85it/s]\n"
     ]
    },
    {
     "name": "stdout",
     "output_type": "stream",
     "text": [
      "Epoch 218 학습 종료 ===> 손실: 0.0611, 정확도: 0.0184, f1 점수: 0.0066\n",
      "오룻핥띤샌젯핥띤샌젯핥띤샌젯핥띤샌젯핥띤샌젯핥띤샌젯핥띤샌젯핥띤샌젯핥띤샌젯핥띤샌젯핥띤샌젯핥띤샌젯핥띤샌젯핥띤샌젯핥띤샌젯핥띤샌젯핥띤샌젯핥띤샌젯핥띤샌젯핥띤샌젯핥띤샌젯핥띤샌젯핥띤샌젯핥띤샌젯핥띤샌\n"
     ]
    },
    {
     "name": "stderr",
     "output_type": "stream",
     "text": [
      "Epoch [219/300], 횟수 [990/997], Loss: 0.0062: 100%|██████████| 997/997 [02:03<00:00,  8.05it/s]\n"
     ]
    },
    {
     "name": "stdout",
     "output_type": "stream",
     "text": [
      "Epoch 219 학습 종료 ===> 손실: 0.0611, 정확도: 0.0185, f1 점수: 0.0065\n",
      "오룻핥띤샌젯핥띤샌젯핥띤샌젯핥띤샌젯핥띤샌젯핥띤샌젯핥띤샌젯핥띤샌젯핥띤샌젯핥띤샌젯핥띤샌젯핥띤샌젯핥띤샌젯핥띤샌젯핥띤샌젯핥띤샌젯핥띤샌젯핥띤샌젯핥띤샌젯핥띤샌젯핥띤샌젯핥띤샌젯핥띤샌젯핥띤샌젯핥띤샌\n"
     ]
    },
    {
     "name": "stderr",
     "output_type": "stream",
     "text": [
      "Epoch [220/300], 횟수 [990/997], Loss: 0.0061: 100%|██████████| 997/997 [01:55<00:00,  8.62it/s]\n"
     ]
    },
    {
     "name": "stdout",
     "output_type": "stream",
     "text": [
      "Epoch 220 학습 종료 ===> 손실: 0.0609, 정확도: 0.0184, f1 점수: 0.0066\n",
      "오룻엎헨룻엎헨룻엎헨룻엎헨룻엎헨룻엎헨룻엎헨룻엎헨룻엎헨룻엎헨룻엎헨룻엎헨룻엎헨룻엎헨룻엎헨룻엎헨룻엎헨룻엎헨룻엎헨룻엎헨룻엎헨룻엎헨룻엎헨룻엎헨룻엎헨룻엎헨룻엎헨룻엎헨룻엎헨룻엎헨룻엎헨룻엎헨룻엎헨룻\n"
     ]
    },
    {
     "name": "stderr",
     "output_type": "stream",
     "text": [
      "Epoch [221/300], 횟수 [990/997], Loss: 0.0061: 100%|██████████| 997/997 [01:59<00:00,  8.34it/s]\n"
     ]
    },
    {
     "name": "stdout",
     "output_type": "stream",
     "text": [
      "Epoch 221 학습 종료 ===> 손실: 0.0610, 정확도: 0.0185, f1 점수: 0.0066\n",
      "오룻핥띤샌젯핥띤샌젯핥띤샌젯핥띤샌젯핥띤샌젯핥띤샌젯핥띤샌젯핥띤샌젯핥띤샌젯핥띤샌젯핥띤샌젯핥띤샌젯핥띤샌젯핥띤샌젯핥띤샌젯핥띤샌젯핥띤샌젯핥띤샌젯핥띤샌젯핥띤샌젯핥띤샌젯핥띤샌젯핥띤샌젯핥띤샌젯핥띤샌\n"
     ]
    },
    {
     "name": "stderr",
     "output_type": "stream",
     "text": [
      "Epoch [222/300], 횟수 [990/997], Loss: 0.0062: 100%|██████████| 997/997 [02:04<00:00,  8.02it/s]\n"
     ]
    },
    {
     "name": "stdout",
     "output_type": "stream",
     "text": [
      "Epoch 222 학습 종료 ===> 손실: 0.0609, 정확도: 0.0184, f1 점수: 0.0066\n",
      "오룻핥띤샌젯핥띤샌젯핥띤샌젯핥띤샌젯핥띤샌젯핥띤샌젯핥띤샌젯핥띤샌젯핥띤샌젯핥띤샌젯핥띤샌젯핥띤샌젯핥띤샌젯핥띤샌젯핥띤샌젯핥띤샌젯핥띤샌젯핥띤샌젯핥띤샌젯핥띤샌젯핥띤샌젯핥띤샌젯핥띤샌젯핥띤샌젯핥띤샌\n"
     ]
    },
    {
     "name": "stderr",
     "output_type": "stream",
     "text": [
      "Epoch [223/300], 횟수 [990/997], Loss: 0.0062: 100%|██████████| 997/997 [01:52<00:00,  8.85it/s]\n"
     ]
    },
    {
     "name": "stdout",
     "output_type": "stream",
     "text": [
      "Epoch 223 학습 종료 ===> 손실: 0.0609, 정확도: 0.0185, f1 점수: 0.0066\n",
      "오룻핥띤샌젯핥띤샌젯핥띤샌젯핥띤샌젯핥띤샌젯핥띤샌젯핥띤샌젯핥띤샌젯핥띤샌젯핥띤샌젯핥띤샌젯핥띤샌젯핥띤샌젯핥띤샌젯핥띤샌젯핥띤샌젯핥띤샌젯핥띤샌젯핥띤샌젯핥띤샌젯핥띤샌젯핥띤샌젯핥띤샌젯핥띤샌젯핥띤샌\n"
     ]
    },
    {
     "name": "stderr",
     "output_type": "stream",
     "text": [
      "Epoch [224/300], 횟수 [990/997], Loss: 0.0061: 100%|██████████| 997/997 [02:03<00:00,  8.09it/s]\n"
     ]
    },
    {
     "name": "stdout",
     "output_type": "stream",
     "text": [
      "Epoch 224 학습 종료 ===> 손실: 0.0610, 정확도: 0.0184, f1 점수: 0.0065\n",
      "오룻핥띤샌젯핥띤샌젯핥띤샌젯핥띤샌젯핥띤샌젯핥띤샌젯핥띤샌젯핥띤샌젯핥띤샌젯핥띤샌젯핥띤샌젯핥띤샌젯핥띤샌젯핥띤샌젯핥띤샌젯핥띤샌젯핥띤샌젯핥띤샌젯핥띤샌젯핥띤샌젯핥띤샌젯핥띤샌젯핥띤샌젯핥띤샌젯핥띤샌\n"
     ]
    },
    {
     "name": "stderr",
     "output_type": "stream",
     "text": [
      "Epoch [225/300], 횟수 [990/997], Loss: 0.0062: 100%|██████████| 997/997 [01:59<00:00,  8.37it/s]\n"
     ]
    },
    {
     "name": "stdout",
     "output_type": "stream",
     "text": [
      "Epoch 225 학습 종료 ===> 손실: 0.0609, 정확도: 0.0186, f1 점수: 0.0067\n",
      "오룻핥띤샌젯핥띤샌젯핥띤샌젯핥띤샌젯핥띤샌젯핥띤샌젯핥띤샌젯핥띤샌젯핥띤샌젯핥띤샌젯핥띤샌젯핥띤샌젯핥띤샌젯핥띤샌젯핥띤샌젯핥띤샌젯핥띤샌젯핥띤샌젯핥띤샌젯핥띤샌젯핥띤샌젯핥띤샌젯핥띤샌젯핥띤샌젯핥띤샌\n"
     ]
    },
    {
     "name": "stderr",
     "output_type": "stream",
     "text": [
      "Epoch [226/300], 횟수 [990/997], Loss: 0.0060: 100%|██████████| 997/997 [01:57<00:00,  8.49it/s]\n"
     ]
    },
    {
     "name": "stdout",
     "output_type": "stream",
     "text": [
      "Epoch 226 학습 종료 ===> 손실: 0.0608, 정확도: 0.0181, f1 점수: 0.0065\n",
      "오룻핥띤샌젯핥띤샌젯핥띤샌젯핥띤샌젯핥띤샌젯핥띤샌젯핥띤샌젯핥띤샌젯핥띤샌젯핥띤샌젯핥띤샌젯핥띤샌젯핥띤샌젯핥띤샌젯핥띤샌젯핥띤샌젯핥띤샌젯핥띤샌젯핥띤샌젯핥띤샌젯핥띤샌젯핥띤샌젯핥띤샌젯핥띤샌젯핥띤샌\n"
     ]
    },
    {
     "name": "stderr",
     "output_type": "stream",
     "text": [
      "Epoch [227/300], 횟수 [990/997], Loss: 0.0062: 100%|██████████| 997/997 [02:04<00:00,  7.98it/s]\n"
     ]
    },
    {
     "name": "stdout",
     "output_type": "stream",
     "text": [
      "Epoch 227 학습 종료 ===> 손실: 0.0609, 정확도: 0.0184, f1 점수: 0.0066\n",
      "오룻핥띤샌젯핥띤샌젯핥띤샌젯핥띤샌젯핥띤샌젯핥띤샌젯핥띤샌젯핥띤샌젯핥띤샌젯핥띤샌젯핥띤샌젯핥띤샌젯핥띤샌젯핥띤샌젯핥띤샌젯핥띤샌젯핥띤샌젯핥띤샌젯핥띤샌젯핥띤샌젯핥띤샌젯핥띤샌젯핥띤샌젯핥띤샌젯핥띤샌\n"
     ]
    },
    {
     "name": "stderr",
     "output_type": "stream",
     "text": [
      "Epoch [228/300], 횟수 [990/997], Loss: 0.0062: 100%|██████████| 997/997 [01:52<00:00,  8.84it/s]\n"
     ]
    },
    {
     "name": "stdout",
     "output_type": "stream",
     "text": [
      "Epoch 228 학습 종료 ===> 손실: 0.0609, 정확도: 0.0186, f1 점수: 0.0067\n",
      "오룻핥띤샌젯핥띤샌젯핥띤샌젯핥띤샌젯핥띤샌젯핥띤샌젯핥띤샌젯핥띤샌젯핥띤샌젯핥띤샌젯핥띤샌젯핥띤샌젯핥띤샌젯핥띤샌젯핥띤샌젯핥띤샌젯핥띤샌젯핥띤샌젯핥띤샌젯핥띤샌젯핥띤샌젯핥띤샌젯핥띤샌젯핥띤샌젯핥띤샌\n"
     ]
    },
    {
     "name": "stderr",
     "output_type": "stream",
     "text": [
      "Epoch [229/300], 횟수 [990/997], Loss: 0.0061: 100%|██████████| 997/997 [02:04<00:00,  8.02it/s]\n"
     ]
    },
    {
     "name": "stdout",
     "output_type": "stream",
     "text": [
      "Epoch 229 학습 종료 ===> 손실: 0.0608, 정확도: 0.0184, f1 점수: 0.0067\n",
      "오룻앰젯앰젯앰젯앰젯앰젯앰젯앰젯앰젯앰젯앰젯앰젯앰젯앰젯앰젯앰젯앰젯앰젯앰젯앰젯앰젯앰젯앰젯앰젯앰젯앰젯앰젯앰젯앰젯앰젯앰젯앰젯앰젯앰젯앰젯앰젯앰젯앰젯앰젯앰젯앰젯앰젯앰젯앰젯앰젯앰젯앰젯앰젯앰젯앰젯앰\n"
     ]
    },
    {
     "name": "stderr",
     "output_type": "stream",
     "text": [
      "Epoch [230/300], 횟수 [990/997], Loss: 0.0060: 100%|██████████| 997/997 [01:55<00:00,  8.61it/s]\n"
     ]
    },
    {
     "name": "stdout",
     "output_type": "stream",
     "text": [
      "Epoch 230 학습 종료 ===> 손실: 0.0608, 정확도: 0.0186, f1 점수: 0.0067\n",
      "오룻핥띤샌젯핥띤샌젯핥띤샌젯핥띤샌젯핥띤샌젯핥띤샌젯핥띤샌젯핥띤샌젯핥띤샌젯핥띤샌젯핥띤샌젯핥띤샌젯핥띤샌젯핥띤샌젯핥띤샌젯핥띤샌젯핥띤샌젯핥띤샌젯핥띤샌젯핥띤샌젯핥띤샌젯핥띤샌젯핥띤샌젯핥띤샌젯핥띤샌\n"
     ]
    },
    {
     "name": "stderr",
     "output_type": "stream",
     "text": [
      "Epoch [231/300], 횟수 [990/997], Loss: 0.0061: 100%|██████████| 997/997 [02:00<00:00,  8.27it/s]\n"
     ]
    },
    {
     "name": "stdout",
     "output_type": "stream",
     "text": [
      "Epoch 231 학습 종료 ===> 손실: 0.0609, 정확도: 0.0184, f1 점수: 0.0065\n",
      "오룻핥띤샌젯핥띤샌젯핥띤샌젯핥띤샌젯핥띤샌젯핥띤샌젯핥띤샌젯핥띤샌젯핥띤샌젯핥띤샌젯핥띤샌젯핥띤샌젯핥띤샌젯핥띤샌젯핥띤샌젯핥띤샌젯핥띤샌젯핥띤샌젯핥띤샌젯핥띤샌젯핥띤샌젯핥띤샌젯핥띤샌젯핥띤샌젯핥띤샌\n"
     ]
    },
    {
     "name": "stderr",
     "output_type": "stream",
     "text": [
      "Epoch [232/300], 횟수 [990/997], Loss: 0.0062: 100%|██████████| 997/997 [02:03<00:00,  8.05it/s]\n"
     ]
    },
    {
     "name": "stdout",
     "output_type": "stream",
     "text": [
      "Epoch 232 학습 종료 ===> 손실: 0.0607, 정확도: 0.0186, f1 점수: 0.0066\n",
      "오룻핥띤샌젯핥띤샌젯핥띤샌젯핥띤샌젯핥띤샌젯핥띤샌젯핥띤샌젯핥띤샌젯핥띤샌젯핥띤샌젯핥띤샌젯핥띤샌젯핥띤샌젯핥띤샌젯핥띤샌젯핥띤샌젯핥띤샌젯핥띤샌젯핥띤샌젯핥띤샌젯핥띤샌젯핥띤샌젯핥띤샌젯핥띤샌젯핥띤샌\n"
     ]
    },
    {
     "name": "stderr",
     "output_type": "stream",
     "text": [
      "Epoch [233/300], 횟수 [990/997], Loss: 0.0061: 100%|██████████| 997/997 [01:53<00:00,  8.82it/s]\n"
     ]
    },
    {
     "name": "stdout",
     "output_type": "stream",
     "text": [
      "Epoch 233 학습 종료 ===> 손실: 0.0608, 정확도: 0.0185, f1 점수: 0.0067\n",
      "오룻핥띤샌젯핥띤샌젯핥띤샌젯핥띤샌젯핥띤샌젯핥띤샌젯핥띤샌젯핥띤샌젯핥띤샌젯핥띤샌젯핥띤샌젯핥띤샌젯핥띤샌젯핥띤샌젯핥띤샌젯핥띤샌젯핥띤샌젯핥띤샌젯핥띤샌젯핥띤샌젯핥띤샌젯핥띤샌젯핥띤샌젯핥띤샌젯핥띤샌\n"
     ]
    },
    {
     "name": "stderr",
     "output_type": "stream",
     "text": [
      "Epoch [234/300], 횟수 [990/997], Loss: 0.0061: 100%|██████████| 997/997 [02:06<00:00,  7.87it/s]\n"
     ]
    },
    {
     "name": "stdout",
     "output_type": "stream",
     "text": [
      "Epoch 234 학습 종료 ===> 손실: 0.0607, 정확도: 0.0184, f1 점수: 0.0067\n",
      "오룻휠헨룻휠헨룻휠헨룻휠헨룻휠헨룻휠헨룻휠헨룻휠헨룻휠헨룻휠헨룻휠헨룻휠헨룻휠헨룻휠헨룻휠헨룻휠헨룻휠헨룻휠헨룻휠헨룻휠헨룻휠헨룻휠헨룻휠헨룻휠헨룻휠헨룻휠헨룻휠헨룻휠헨룻휠헨룻휠헨룻휠헨룻휠헨룻휠헨룻\n"
     ]
    },
    {
     "name": "stderr",
     "output_type": "stream",
     "text": [
      "Epoch [235/300], 횟수 [990/997], Loss: 0.0061: 100%|██████████| 997/997 [01:55<00:00,  8.64it/s]\n"
     ]
    },
    {
     "name": "stdout",
     "output_type": "stream",
     "text": [
      "Epoch 235 학습 종료 ===> 손실: 0.0607, 정확도: 0.0181, f1 점수: 0.0065\n",
      "오룻핥띤뎅샌젯핥띤뎅샌젯핥띤뎅샌젯핥띤뎅샌젯핥띤뎅샌젯핥띤뎅샌젯핥띤뎅샌젯핥띤뎅샌젯핥띤뎅샌젯핥띤뎅샌젯핥띤뎅샌젯핥띤뎅샌젯핥띤뎅샌젯핥띤뎅샌젯핥띤뎅샌젯핥띤뎅샌젯핥띤뎅샌젯핥띤뎅샌젯핥띤뎅샌젯핥띤뎅샌\n"
     ]
    },
    {
     "name": "stderr",
     "output_type": "stream",
     "text": [
      "Epoch [236/300], 횟수 [990/997], Loss: 0.0061: 100%|██████████| 997/997 [02:01<00:00,  8.22it/s]\n"
     ]
    },
    {
     "name": "stdout",
     "output_type": "stream",
     "text": [
      "Epoch 236 학습 종료 ===> 손실: 0.0607, 정확도: 0.0183, f1 점수: 0.0066\n",
      "오룻핥띤샌젯핥띤샌젯핥띤샌젯핥띤샌젯핥띤샌젯핥띤샌젯핥띤샌젯핥띤샌젯핥띤샌젯핥띤샌젯핥띤샌젯핥띤샌젯핥띤샌젯핥띤샌젯핥띤샌젯핥띤샌젯핥띤샌젯핥띤샌젯핥띤샌젯핥띤샌젯핥띤샌젯핥띤샌젯핥띤샌젯핥띤샌젯핥띤샌\n"
     ]
    },
    {
     "name": "stderr",
     "output_type": "stream",
     "text": [
      "Epoch [237/300], 횟수 [990/997], Loss: 0.0061: 100%|██████████| 997/997 [02:02<00:00,  8.14it/s]\n"
     ]
    },
    {
     "name": "stdout",
     "output_type": "stream",
     "text": [
      "Epoch 237 학습 종료 ===> 손실: 0.0606, 정확도: 0.0184, f1 점수: 0.0065\n",
      "오룻핥띤뎅샌젯핥띤뎅샌젯핥띤뎅샌젯핥띤뎅샌젯핥띤뎅샌젯핥띤뎅샌젯핥띤뎅샌젯핥띤뎅샌젯핥띤뎅샌젯핥띤뎅샌젯핥띤뎅샌젯핥띤뎅샌젯핥띤뎅샌젯핥띤뎅샌젯핥띤뎅샌젯핥띤뎅샌젯핥띤뎅샌젯핥띤뎅샌젯핥띤뎅샌젯핥띤뎅샌\n"
     ]
    },
    {
     "name": "stderr",
     "output_type": "stream",
     "text": [
      "Epoch [238/300], 횟수 [990/997], Loss: 0.0061: 100%|██████████| 997/997 [01:53<00:00,  8.80it/s]\n"
     ]
    },
    {
     "name": "stdout",
     "output_type": "stream",
     "text": [
      "Epoch 238 학습 종료 ===> 손실: 0.0607, 정확도: 0.0184, f1 점수: 0.0065\n",
      "오룻핥띤뎅샌젯핥띤뎅샌젯핥띤뎅샌젯핥띤뎅샌젯핥띤뎅샌젯핥띤뎅샌젯핥띤뎅샌젯핥띤뎅샌젯핥띤뎅샌젯핥띤뎅샌젯핥띤뎅샌젯핥띤뎅샌젯핥띤뎅샌젯핥띤뎅샌젯핥띤뎅샌젯핥띤뎅샌젯핥띤뎅샌젯핥띤뎅샌젯핥띤뎅샌젯핥띤뎅샌\n"
     ]
    },
    {
     "name": "stderr",
     "output_type": "stream",
     "text": [
      "Epoch [239/300], 횟수 [990/997], Loss: 0.0060: 100%|██████████| 997/997 [02:04<00:00,  8.01it/s]\n"
     ]
    },
    {
     "name": "stdout",
     "output_type": "stream",
     "text": [
      "Epoch 239 학습 종료 ===> 손실: 0.0606, 정확도: 0.0187, f1 점수: 0.0066\n",
      "오룻핥띤샌젯핥띤샌젯핥띤샌젯핥띤샌젯핥띤샌젯핥띤샌젯핥띤샌젯핥띤샌젯핥띤샌젯핥띤샌젯핥띤샌젯핥띤샌젯핥띤샌젯핥띤샌젯핥띤샌젯핥띤샌젯핥띤샌젯핥띤샌젯핥띤샌젯핥띤샌젯핥띤샌젯핥띤샌젯핥띤샌젯핥띤샌젯핥띤샌\n"
     ]
    },
    {
     "name": "stderr",
     "output_type": "stream",
     "text": [
      "Epoch [240/300], 횟수 [990/997], Loss: 0.0061: 100%|██████████| 997/997 [01:53<00:00,  8.76it/s]\n"
     ]
    },
    {
     "name": "stdout",
     "output_type": "stream",
     "text": [
      "Epoch 240 학습 종료 ===> 손실: 0.0606, 정확도: 0.0189, f1 점수: 0.0066\n",
      "오룻핥궈룻핥궈룻핥궈룻핥궈룻핥궈룻핥궈룻핥궈룻핥궈룻핥궈룻핥궈룻핥궈룻핥궈룻핥궈룻핥궈룻핥궈룻핥궈룻핥궈룻핥궈룻핥궈룻핥궈룻핥궈룻핥궈룻핥궈룻핥궈룻핥궈룻핥궈룻핥궈룻핥궈룻핥궈룻핥궈룻핥궈룻핥궈룻핥궈룻\n"
     ]
    },
    {
     "name": "stderr",
     "output_type": "stream",
     "text": [
      "Epoch [241/300], 횟수 [990/997], Loss: 0.0059: 100%|██████████| 997/997 [02:02<00:00,  8.15it/s]\n"
     ]
    },
    {
     "name": "stdout",
     "output_type": "stream",
     "text": [
      "Epoch 241 학습 종료 ===> 손실: 0.0607, 정확도: 0.0186, f1 점수: 0.0066\n",
      "오룻핥띤샌젯핥띤샌젯핥띤샌젯핥띤샌젯핥띤샌젯핥띤샌젯핥띤샌젯핥띤샌젯핥띤샌젯핥띤샌젯핥띤샌젯핥띤샌젯핥띤샌젯핥띤샌젯핥띤샌젯핥띤샌젯핥띤샌젯핥띤샌젯핥띤샌젯핥띤샌젯핥띤샌젯핥띤샌젯핥띤샌젯핥띤샌젯핥띤샌\n"
     ]
    },
    {
     "name": "stderr",
     "output_type": "stream",
     "text": [
      "Epoch [242/300], 횟수 [990/997], Loss: 0.0061: 100%|██████████| 997/997 [02:01<00:00,  8.18it/s]\n"
     ]
    },
    {
     "name": "stdout",
     "output_type": "stream",
     "text": [
      "Epoch 242 학습 종료 ===> 손실: 0.0606, 정확도: 0.0186, f1 점수: 0.0066\n",
      "오룻핥띤샌젯핥띤샌젯핥띤샌젯핥띤샌젯핥띤샌젯핥띤샌젯핥띤샌젯핥띤샌젯핥띤샌젯핥띤샌젯핥띤샌젯핥띤샌젯핥띤샌젯핥띤샌젯핥띤샌젯핥띤샌젯핥띤샌젯핥띤샌젯핥띤샌젯핥띤샌젯핥띤샌젯핥띤샌젯핥띤샌젯핥띤샌젯핥띤샌\n"
     ]
    },
    {
     "name": "stderr",
     "output_type": "stream",
     "text": [
      "Epoch [243/300], 횟수 [990/997], Loss: 0.0059: 100%|██████████| 997/997 [01:55<00:00,  8.67it/s]\n"
     ]
    },
    {
     "name": "stdout",
     "output_type": "stream",
     "text": [
      "Epoch 243 학습 종료 ===> 손실: 0.0605, 정확도: 0.0184, f1 점수: 0.0066\n",
      "오룻핥띤샌젯핥띤샌젯핥띤샌젯핥띤샌젯핥띤샌젯핥띤샌젯핥띤샌젯핥띤샌젯핥띤샌젯핥띤샌젯핥띤샌젯핥띤샌젯핥띤샌젯핥띤샌젯핥띤샌젯핥띤샌젯핥띤샌젯핥띤샌젯핥띤샌젯핥띤샌젯핥띤샌젯핥띤샌젯핥띤샌젯핥띤샌젯핥띤샌\n"
     ]
    },
    {
     "name": "stderr",
     "output_type": "stream",
     "text": [
      "Epoch [244/300], 횟수 [990/997], Loss: 0.0061: 100%|██████████| 997/997 [02:04<00:00,  8.02it/s]\n"
     ]
    },
    {
     "name": "stdout",
     "output_type": "stream",
     "text": [
      "Epoch 244 학습 종료 ===> 손실: 0.0606, 정확도: 0.0187, f1 점수: 0.0067\n",
      "오룻핥띤띠젯핥띤띠젯핥띤띠젯핥띤띠젯핥띤띠젯핥띤띠젯핥띤띠젯핥띤띠젯핥띤띠젯핥띤띠젯핥띤띠젯핥띤띠젯핥띤띠젯핥띤띠젯핥띤띠젯핥띤띠젯핥띤띠젯핥띤띠젯핥띤띠젯핥띤띠젯핥띤띠젯핥띤띠젯핥띤띠젯핥띤띠젯핥띤띠\n"
     ]
    },
    {
     "name": "stderr",
     "output_type": "stream",
     "text": [
      "Epoch [245/300], 횟수 [990/997], Loss: 0.0060: 100%|██████████| 997/997 [01:55<00:00,  8.67it/s]\n"
     ]
    },
    {
     "name": "stdout",
     "output_type": "stream",
     "text": [
      "Epoch 245 학습 종료 ===> 손실: 0.0605, 정확도: 0.0187, f1 점수: 0.0066\n",
      "오룻헬룻헬룻헬룻헬룻헬룻헬룻헬룻헬룻헬룻헬룻헬룻헬룻헬룻헬룻헬룻헬룻헬룻헬룻헬룻헬룻헬룻헬룻헬룻헬룻헬룻헬룻헬룻헬룻헬룻헬룻헬룻헬룻헬룻헬룻헬룻헬룻헬룻헬룻헬룻헬룻헬룻헬룻헬룻헬룻헬룻헬룻헬룻헬룻헬룻헬\n"
     ]
    },
    {
     "name": "stderr",
     "output_type": "stream",
     "text": [
      "Epoch [246/300], 횟수 [990/997], Loss: 0.0060: 100%|██████████| 997/997 [02:00<00:00,  8.25it/s]\n"
     ]
    },
    {
     "name": "stdout",
     "output_type": "stream",
     "text": [
      "Epoch 246 학습 종료 ===> 손실: 0.0604, 정확도: 0.0189, f1 점수: 0.0067\n",
      "오룻핥띤띠젯핥띤띠젯핥띤띠젯핥띤띠젯핥띤띠젯핥띤띠젯핥띤띠젯핥띤띠젯핥띤띠젯핥띤띠젯핥띤띠젯핥띤띠젯핥띤띠젯핥띤띠젯핥띤띠젯핥띤띠젯핥띤띠젯핥띤띠젯핥띤띠젯핥띤띠젯핥띤띠젯핥띤띠젯핥띤띠젯핥띤띠젯핥띤띠\n"
     ]
    },
    {
     "name": "stderr",
     "output_type": "stream",
     "text": [
      "Epoch [247/300], 횟수 [990/997], Loss: 0.0062: 100%|██████████| 997/997 [02:03<00:00,  8.08it/s]\n"
     ]
    },
    {
     "name": "stdout",
     "output_type": "stream",
     "text": [
      "Epoch 247 학습 종료 ===> 손실: 0.0606, 정확도: 0.0188, f1 점수: 0.0066\n",
      "오룻핥띤샌젯핥띤샌젯핥띤샌젯핥띤샌젯핥띤샌젯핥띤샌젯핥띤샌젯핥띤샌젯핥띤샌젯핥띤샌젯핥띤샌젯핥띤샌젯핥띤샌젯핥띤샌젯핥띤샌젯핥띤샌젯핥띤샌젯핥띤샌젯핥띤샌젯핥띤샌젯핥띤샌젯핥띤샌젯핥띤샌젯핥띤샌젯핥띤샌\n"
     ]
    },
    {
     "name": "stderr",
     "output_type": "stream",
     "text": [
      "Epoch [248/300], 횟수 [990/997], Loss: 0.0061: 100%|██████████| 997/997 [01:53<00:00,  8.78it/s]\n"
     ]
    },
    {
     "name": "stdout",
     "output_type": "stream",
     "text": [
      "Epoch 248 학습 종료 ===> 손실: 0.0605, 정확도: 0.0188, f1 점수: 0.0066\n",
      "오룻헬룻헬룻헬룻헬룻헬룻헬룻헬룻헬룻헬룻헬룻헬룻헬룻헬룻헬룻헬룻헬룻헬룻헬룻헬룻헬룻헬룻헬룻헬룻헬룻헬룻헬룻헬룻헬룻헬룻헬룻헬룻헬룻헬룻헬룻헬룻헬룻헬룻헬룻헬룻헬룻헬룻헬룻헬룻헬룻헬룻헬룻헬룻헬룻헬룻헬\n"
     ]
    },
    {
     "name": "stderr",
     "output_type": "stream",
     "text": [
      "Epoch [249/300], 횟수 [990/997], Loss: 0.0061: 100%|██████████| 997/997 [02:04<00:00,  8.02it/s]\n"
     ]
    },
    {
     "name": "stdout",
     "output_type": "stream",
     "text": [
      "Epoch 249 학습 종료 ===> 손실: 0.0604, 정확도: 0.0189, f1 점수: 0.0066\n",
      "오룻헬룻헬룻헬룻헬룻헬룻헬룻헬룻헬룻헬룻헬룻헬룻헬룻헬룻헬룻헬룻헬룻헬룻헬룻헬룻헬룻헬룻헬룻헬룻헬룻헬룻헬룻헬룻헬룻헬룻헬룻헬룻헬룻헬룻헬룻헬룻헬룻헬룻헬룻헬룻헬룻헬룻헬룻헬룻헬룻헬룻헬룻헬룻헬룻헬룻헬\n"
     ]
    },
    {
     "name": "stderr",
     "output_type": "stream",
     "text": [
      "Epoch [250/300], 횟수 [990/997], Loss: 0.0060: 100%|██████████| 997/997 [01:55<00:00,  8.64it/s]\n"
     ]
    },
    {
     "name": "stdout",
     "output_type": "stream",
     "text": [
      "Epoch 250 학습 종료 ===> 손실: 0.0605, 정확도: 0.0189, f1 점수: 0.0066\n",
      "오룻핥띤샌젯핥띤샌젯핥띤샌젯핥띤샌젯핥띤샌젯핥띤샌젯핥띤샌젯핥띤샌젯핥띤샌젯핥띤샌젯핥띤샌젯핥띤샌젯핥띤샌젯핥띤샌젯핥띤샌젯핥띤샌젯핥띤샌젯핥띤샌젯핥띤샌젯핥띤샌젯핥띤샌젯핥띤샌젯핥띤샌젯핥띤샌젯핥띤샌\n"
     ]
    },
    {
     "name": "stderr",
     "output_type": "stream",
     "text": [
      "Epoch [251/300], 횟수 [990/997], Loss: 0.0062: 100%|██████████| 997/997 [01:58<00:00,  8.39it/s]\n"
     ]
    },
    {
     "name": "stdout",
     "output_type": "stream",
     "text": [
      "Epoch 251 학습 종료 ===> 손실: 0.0605, 정확도: 0.0188, f1 점수: 0.0066\n",
      "오룻핥띤샌젯핥띤샌젯핥띤샌젯핥띤샌젯핥띤샌젯핥띤샌젯핥띤샌젯핥띤샌젯핥띤샌젯핥띤샌젯핥띤샌젯핥띤샌젯핥띤샌젯핥띤샌젯핥띤샌젯핥띤샌젯핥띤샌젯핥띤샌젯핥띤샌젯핥띤샌젯핥띤샌젯핥띤샌젯핥띤샌젯핥띤샌젯핥띤샌\n"
     ]
    },
    {
     "name": "stderr",
     "output_type": "stream",
     "text": [
      "Epoch [252/300], 횟수 [990/997], Loss: 0.0060: 100%|██████████| 997/997 [02:00<00:00,  8.24it/s]\n"
     ]
    },
    {
     "name": "stdout",
     "output_type": "stream",
     "text": [
      "Epoch 252 학습 종료 ===> 손실: 0.0605, 정확도: 0.0189, f1 점수: 0.0067\n",
      "오룻헬룻헬룻헬룻헬룻헬룻헬룻헬룻헬룻헬룻헬룻헬룻헬룻헬룻헬룻헬룻헬룻헬룻헬룻헬룻헬룻헬룻헬룻헬룻헬룻헬룻헬룻헬룻헬룻헬룻헬룻헬룻헬룻헬룻헬룻헬룻헬룻헬룻헬룻헬룻헬룻헬룻헬룻헬룻헬룻헬룻헬룻헬룻헬룻헬룻헬\n"
     ]
    },
    {
     "name": "stderr",
     "output_type": "stream",
     "text": [
      "Epoch [253/300], 횟수 [990/997], Loss: 0.0061: 100%|██████████| 997/997 [01:51<00:00,  8.92it/s]\n"
     ]
    },
    {
     "name": "stdout",
     "output_type": "stream",
     "text": [
      "Epoch 253 학습 종료 ===> 손실: 0.0605, 정확도: 0.0192, f1 점수: 0.0067\n",
      "오룻핥띤샌젯핥띤샌젯핥띤샌젯핥띤샌젯핥띤샌젯핥띤샌젯핥띤샌젯핥띤샌젯핥띤샌젯핥띤샌젯핥띤샌젯핥띤샌젯핥띤샌젯핥띤샌젯핥띤샌젯핥띤샌젯핥띤샌젯핥띤샌젯핥띤샌젯핥띤샌젯핥띤샌젯핥띤샌젯핥띤샌젯핥띤샌젯핥띤샌\n"
     ]
    },
    {
     "name": "stderr",
     "output_type": "stream",
     "text": [
      "Epoch [254/300], 횟수 [990/997], Loss: 0.0060: 100%|██████████| 997/997 [02:02<00:00,  8.13it/s]\n"
     ]
    },
    {
     "name": "stdout",
     "output_type": "stream",
     "text": [
      "Epoch 254 학습 종료 ===> 손실: 0.0603, 정확도: 0.0190, f1 점수: 0.0066\n",
      "오룻핥띤띠퀴핥띤띠퀴핥띤띠퀴핥띤띠퀴핥띤띠퀴핥띤띠퀴핥띤띠퀴핥띤띠퀴핥띤띠퀴핥띤띠퀴핥띤띠퀴핥띤띠퀴핥띤띠퀴핥띤띠퀴핥띤띠퀴핥띤띠퀴핥띤띠퀴핥띤띠퀴핥띤띠퀴핥띤띠퀴핥띤띠퀴핥띤띠퀴핥띤띠퀴핥띤띠퀴핥띤띠\n"
     ]
    },
    {
     "name": "stderr",
     "output_type": "stream",
     "text": [
      "Epoch [255/300], 횟수 [990/997], Loss: 0.0061: 100%|██████████| 997/997 [01:53<00:00,  8.79it/s]\n"
     ]
    },
    {
     "name": "stdout",
     "output_type": "stream",
     "text": [
      "Epoch 255 학습 종료 ===> 손실: 0.0604, 정확도: 0.0189, f1 점수: 0.0066\n",
      "오룻핥띤띠쁨헨룹헨룹헨룹헨룹헨룹헨룹헨룹헨룹헨룹헨룹헨룹헨룹헨룹헨룹헨룹헨룹헨룹헨룹헨룹헨룹헨룹헨룹헨룹헨룹헨룹헨룹헨룹헨룹헨룹헨룹헨룹헨룹헨룹헨룹헨룹헨룹헨룹헨룹헨룹헨룹헨룹헨룹헨룹헨룹헨룹헨룹헨룹헨\n"
     ]
    },
    {
     "name": "stderr",
     "output_type": "stream",
     "text": [
      "Epoch [256/300], 횟수 [990/997], Loss: 0.0061: 100%|██████████| 997/997 [01:58<00:00,  8.44it/s]\n"
     ]
    },
    {
     "name": "stdout",
     "output_type": "stream",
     "text": [
      "Epoch 256 학습 종료 ===> 손실: 0.0605, 정확도: 0.0192, f1 점수: 0.0067\n",
      "오룻핥띤띠퀴핥띤띠퀴핥띤띠퀴핥띤띠퀴핥띤띠퀴핥띤띠퀴핥띤띠퀴핥띤띠퀴핥띤띠퀴핥띤띠퀴핥띤띠퀴핥띤띠퀴핥띤띠퀴핥띤띠퀴핥띤띠퀴핥띤띠퀴핥띤띠퀴핥띤띠퀴핥띤띠퀴핥띤띠퀴핥띤띠퀴핥띤띠퀴핥띤띠퀴핥띤띠퀴핥띤띠\n"
     ]
    },
    {
     "name": "stderr",
     "output_type": "stream",
     "text": [
      "Epoch [257/300], 횟수 [990/997], Loss: 0.0062: 100%|██████████| 997/997 [02:02<00:00,  8.17it/s]\n"
     ]
    },
    {
     "name": "stdout",
     "output_type": "stream",
     "text": [
      "Epoch 257 학습 종료 ===> 손실: 0.0603, 정확도: 0.0193, f1 점수: 0.0067\n",
      "오룻핥띤띠젯핥띤띠젯핥띤띠젯핥띤띠젯핥띤띠젯핥띤띠젯핥띤띠젯핥띤띠젯핥띤띠젯핥띤띠젯핥띤띠젯핥띤띠젯핥띤띠젯핥띤띠젯핥띤띠젯핥띤띠젯핥띤띠젯핥띤띠젯핥띤띠젯핥띤띠젯핥띤띠젯핥띤띠젯핥띤띠젯핥띤띠젯핥띤띠\n"
     ]
    },
    {
     "name": "stderr",
     "output_type": "stream",
     "text": [
      "Epoch [258/300], 횟수 [990/997], Loss: 0.0060: 100%|██████████| 997/997 [01:51<00:00,  8.96it/s]\n"
     ]
    },
    {
     "name": "stdout",
     "output_type": "stream",
     "text": [
      "Epoch 258 학습 종료 ===> 손실: 0.0605, 정확도: 0.0191, f1 점수: 0.0066\n",
      "오룻헬룻헬룻헬룻헬룻헬룻헬룻헬룻헬룻헬룻헬룻헬룻헬룻헬룻헬룻헬룻헬룻헬룻헬룻헬룻헬룻헬룻헬룻헬룻헬룻헬룻헬룻헬룻헬룻헬룻헬룻헬룻헬룻헬룻헬룻헬룻헬룻헬룻헬룻헬룻헬룻헬룻헬룻헬룻헬룻헬룻헬룻헬룻헬룻헬룻헬\n"
     ]
    },
    {
     "name": "stderr",
     "output_type": "stream",
     "text": [
      "Epoch [259/300], 횟수 [990/997], Loss: 0.0060: 100%|██████████| 997/997 [02:03<00:00,  8.08it/s]\n"
     ]
    },
    {
     "name": "stdout",
     "output_type": "stream",
     "text": [
      "Epoch 259 학습 종료 ===> 손실: 0.0604, 정확도: 0.0190, f1 점수: 0.0067\n",
      "오룻헬룻헬룻헬룻헬룻헬룻헬룻헬룻헬룻헬룻헬룻헬룻헬룻헬룻헬룻헬룻헬룻헬룻헬룻헬룻헬룻헬룻헬룻헬룻헬룻헬룻헬룻헬룻헬룻헬룻헬룻헬룻헬룻헬룻헬룻헬룻헬룻헬룻헬룻헬룻헬룻헬룻헬룻헬룻헬룻헬룻헬룻헬룻헬룻헬룻헬\n"
     ]
    },
    {
     "name": "stderr",
     "output_type": "stream",
     "text": [
      "Epoch [260/300], 횟수 [990/997], Loss: 0.0061: 100%|██████████| 997/997 [01:53<00:00,  8.79it/s]\n"
     ]
    },
    {
     "name": "stdout",
     "output_type": "stream",
     "text": [
      "Epoch 260 학습 종료 ===> 손실: 0.0603, 정확도: 0.0190, f1 점수: 0.0066\n",
      "오룻엎헨룻엎헨룻엎헨룻엎헨룻엎헨룻엎헨룻엎헨룻엎헨룻엎헨룻엎헨룻엎헨룻엎헨룻엎헨룻엎헨룻엎헨룻엎헨룻엎헨룻엎헨룻엎헨룻엎헨룻엎헨룻엎헨룻엎헨룻엎헨룻엎헨룻엎헨룻엎헨룻엎헨룻엎헨룻엎헨룻엎헨룻엎헨룻엎헨룻\n"
     ]
    },
    {
     "name": "stderr",
     "output_type": "stream",
     "text": [
      "Epoch [261/300], 횟수 [990/997], Loss: 0.0060: 100%|██████████| 997/997 [01:58<00:00,  8.41it/s]\n"
     ]
    },
    {
     "name": "stdout",
     "output_type": "stream",
     "text": [
      "Epoch 261 학습 종료 ===> 손실: 0.0604, 정확도: 0.0189, f1 점수: 0.0066\n",
      "오룻헬룻헬룻헬룻헬룻헬룻헬룻헬룻헬룻헬룻헬룻헬룻헬룻헬룻헬룻헬룻헬룻헬룻헬룻헬룻헬룻헬룻헬룻헬룻헬룻헬룻헬룻헬룻헬룻헬룻헬룻헬룻헬룻헬룻헬룻헬룻헬룻헬룻헬룻헬룻헬룻헬룻헬룻헬룻헬룻헬룻헬룻헬룻헬룻헬룻헬\n"
     ]
    },
    {
     "name": "stderr",
     "output_type": "stream",
     "text": [
      "Epoch [262/300], 횟수 [420/997], Loss: 0.0060:  43%|████▎     | 424/997 [00:50<01:40,  5.68it/s]"
     ]
    }
   ],
   "source": [
    "epochs = 300\n",
    "scoreList = [[], []]\n",
    "for epoch in range(epochs):\n",
    "    loss, acc, f1 = learning(\n",
    "        epoch,\n",
    "        epochs,\n",
    "        classifier,\n",
    "        learningDL,\n",
    "        criterion,\n",
    "        optimizer,\n",
    "        device,\n",
    "        mode=\"train\",\n",
    "    )\n",
    "    print(\n",
    "        f\"Epoch {epoch + 1} 학습 종료 ===> 손실: {loss:.4f}, 정확도: {acc:.4f}, f1 점수: {f1:.4f}\"\n",
    "    )\n",
    "    print(make_sentence(classifier, \"오\"))\n",
    "    scoreList[0].append(loss), scoreList[1].append(acc)\n"
   ]
  },
  {
   "cell_type": "code",
   "execution_count": null,
   "metadata": {},
   "outputs": [
    {
     "data": {
      "text/plain": [
       "'은'"
      ]
     },
     "execution_count": 34,
     "metadata": {},
     "output_type": "execute_result"
    }
   ],
   "source": [
    "predict(classifier, \"오\")\n"
   ]
  },
  {
   "cell_type": "code",
   "execution_count": null,
   "metadata": {},
   "outputs": [
    {
     "name": "stdout",
     "output_type": "stream",
     "text": [
      "오은.\n"
     ]
    }
   ],
   "source": [
    "print(make_sentence(classifier, \"오\"))\n"
   ]
  },
  {
   "cell_type": "code",
   "execution_count": null,
   "metadata": {},
   "outputs": [],
   "source": []
  },
  {
   "cell_type": "code",
   "execution_count": null,
   "metadata": {},
   "outputs": [],
   "source": []
  }
 ],
 "metadata": {
  "kernelspec": {
   "display_name": "Torch_NLP38",
   "language": "python",
   "name": "python3"
  },
  "language_info": {
   "codemirror_mode": {
    "name": "ipython",
    "version": 3
   },
   "file_extension": ".py",
   "mimetype": "text/x-python",
   "name": "python",
   "nbconvert_exporter": "python",
   "pygments_lexer": "ipython3",
   "version": "3.8.19"
  }
 },
 "nbformat": 4,
 "nbformat_minor": 2
}
