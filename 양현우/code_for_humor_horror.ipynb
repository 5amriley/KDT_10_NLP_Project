{
 "cells": [
  {
   "cell_type": "code",
   "execution_count": 2,
   "id": "initial_id",
   "metadata": {
    "collapsed": true,
    "ExecuteTime": {
     "end_time": "2024-04-05T04:54:18.503611400Z",
     "start_time": "2024-04-05T04:54:14.252722100Z"
    }
   },
   "outputs": [],
   "source": [
    "import pandas as pd\n",
    "import numpy as np\n",
    "from torch.utils.data import Dataset, DataLoader\n",
    "from torch.utils.data.dataset import random_split\n",
    "import torch\n",
    "import torch.nn as nn"
   ]
  },
  {
   "cell_type": "code",
   "outputs": [],
   "source": [
    "HDF1 = pd.read_excel('../DATA/2조 괴담 파일.xlsx',sheet_name='BJY',header=1)"
   ],
   "metadata": {
    "collapsed": false,
    "ExecuteTime": {
     "end_time": "2024-04-05T04:54:19.268443100Z",
     "start_time": "2024-04-05T04:54:18.508196100Z"
    }
   },
   "id": "1d88b06fabae8b6e",
   "execution_count": 3
  },
  {
   "cell_type": "code",
   "outputs": [],
   "source": [
    "HDF2=pd.read_excel('../DATA/2조 괴담 파일.xlsx',sheet_name=1,header=1)"
   ],
   "metadata": {
    "collapsed": false,
    "ExecuteTime": {
     "end_time": "2024-04-05T04:54:19.689432900Z",
     "start_time": "2024-04-05T04:54:19.271839600Z"
    }
   },
   "id": "d6e2fa3b67085d4e",
   "execution_count": 4
  },
  {
   "cell_type": "code",
   "outputs": [],
   "source": [
    "HDF3=pd.read_excel('../DATA/2조 괴담 파일.xlsx',sheet_name=2,header=1)"
   ],
   "metadata": {
    "collapsed": false,
    "ExecuteTime": {
     "end_time": "2024-04-05T04:54:20.100007400Z",
     "start_time": "2024-04-05T04:54:19.693349600Z"
    }
   },
   "id": "183ad88a0e1b456b",
   "execution_count": 5
  },
  {
   "cell_type": "code",
   "outputs": [],
   "source": [
    "HDF4=pd.read_excel('../DATA/2조 괴담 파일.xlsx',sheet_name=3,header=1)"
   ],
   "metadata": {
    "collapsed": false,
    "ExecuteTime": {
     "end_time": "2024-04-05T04:54:20.599202400Z",
     "start_time": "2024-04-05T04:54:20.104151200Z"
    }
   },
   "id": "8b640cf9b5dadfc5",
   "execution_count": 6
  },
  {
   "cell_type": "code",
   "outputs": [
    {
     "data": {
      "text/plain": "     CLASS                                               TEXT\n0        C                                     하농 언제까지 들어야 하농\n1        C                                        하니가 제일 잘하니?\n2        C                                    벼루가 벼르고 벼르던 1마디\n3        C                                     고르고 고른 고르곤이...\n4        C             유명 브랜드 모두 모여 있는 그 곳 합리적 가격 역시 마리오란 말이오\n...    ...                                                ...\n3195     C  한 남자가 사랑하는 여자에게 결혼하자고 하자 그 여자가 남자에게 말했다. \"저는 용...\n3196     C  기네스 기록에 관심이 많은 한 남자가 개미에게 음악을 들려주며 춤을 추도록 훈련을 ...\n3197     C  서해 바다 갯벌에 사는 숫게 한마리가 암게에게 청혼을 했다. 암게가 보니 그 숫게는...\n3198     C  대입 시험을 앞둔 맹구가 성당에 갔다. ​ 그는 성모 마리아상 앞에서 대학에 합격해...\n3199     C  서을의 어느 지하철에서 있었던 일이다. ​ 이날도 출근길의 지하철에는 출근하려는 사...\n\n[3200 rows x 2 columns]",
      "text/html": "<div>\n<style scoped>\n    .dataframe tbody tr th:only-of-type {\n        vertical-align: middle;\n    }\n\n    .dataframe tbody tr th {\n        vertical-align: top;\n    }\n\n    .dataframe thead th {\n        text-align: right;\n    }\n</style>\n<table border=\"1\" class=\"dataframe\">\n  <thead>\n    <tr style=\"text-align: right;\">\n      <th></th>\n      <th>CLASS</th>\n      <th>TEXT</th>\n    </tr>\n  </thead>\n  <tbody>\n    <tr>\n      <th>0</th>\n      <td>C</td>\n      <td>하농 언제까지 들어야 하농</td>\n    </tr>\n    <tr>\n      <th>1</th>\n      <td>C</td>\n      <td>하니가 제일 잘하니?</td>\n    </tr>\n    <tr>\n      <th>2</th>\n      <td>C</td>\n      <td>벼루가 벼르고 벼르던 1마디</td>\n    </tr>\n    <tr>\n      <th>3</th>\n      <td>C</td>\n      <td>고르고 고른 고르곤이...</td>\n    </tr>\n    <tr>\n      <th>4</th>\n      <td>C</td>\n      <td>유명 브랜드 모두 모여 있는 그 곳 합리적 가격 역시 마리오란 말이오</td>\n    </tr>\n    <tr>\n      <th>...</th>\n      <td>...</td>\n      <td>...</td>\n    </tr>\n    <tr>\n      <th>3195</th>\n      <td>C</td>\n      <td>한 남자가 사랑하는 여자에게 결혼하자고 하자 그 여자가 남자에게 말했다. \"저는 용...</td>\n    </tr>\n    <tr>\n      <th>3196</th>\n      <td>C</td>\n      <td>기네스 기록에 관심이 많은 한 남자가 개미에게 음악을 들려주며 춤을 추도록 훈련을 ...</td>\n    </tr>\n    <tr>\n      <th>3197</th>\n      <td>C</td>\n      <td>서해 바다 갯벌에 사는 숫게 한마리가 암게에게 청혼을 했다. 암게가 보니 그 숫게는...</td>\n    </tr>\n    <tr>\n      <th>3198</th>\n      <td>C</td>\n      <td>대입 시험을 앞둔 맹구가 성당에 갔다. ​ 그는 성모 마리아상 앞에서 대학에 합격해...</td>\n    </tr>\n    <tr>\n      <th>3199</th>\n      <td>C</td>\n      <td>서을의 어느 지하철에서 있었던 일이다. ​ 이날도 출근길의 지하철에는 출근하려는 사...</td>\n    </tr>\n  </tbody>\n</table>\n<p>3200 rows × 2 columns</p>\n</div>"
     },
     "execution_count": 7,
     "metadata": {},
     "output_type": "execute_result"
    }
   ],
   "source": [
    "CDF=pd.read_excel('../DATA/2조 괴담 파일.xlsx',sheet_name=4,header=1)\n",
    "CDF"
   ],
   "metadata": {
    "collapsed": false,
    "ExecuteTime": {
     "end_time": "2024-04-05T04:54:21.101824200Z",
     "start_time": "2024-04-05T04:54:20.603312400Z"
    }
   },
   "id": "35a872646c79f71b",
   "execution_count": 7
  },
  {
   "cell_type": "code",
   "outputs": [
    {
     "data": {
      "text/plain": "     CLASS                                               TEXT\n0        H  \"그런데 어떻게 알았어?\" 이렇게 묻더라구요, 저는 뭐가? 라고 대답하니 \"꿈인줄 ...\n1        H  또 똑같은 꿈을 꿨습니다. 방에서 일어나니까 옆방에서 여자가 미친듯이 웃으면서 00...\n2        H  그리고 출근 한 다음 근무 후 새벽에 퇴근하고 아침에 잠들었는데 낮 열두시쯤 까지 ...\n3        H  여튼 때는 20대 중반이었나?? 여름이었던것 같은데 여느때처럼 내방에서 잠을 자고 ...\n4        H  온몸에 소름이 돋으면서 식은땀 ㅈㄴ나고 뭐지?? 도둑인가?? 이런 생각에 너무 무서...\n...    ...                                                ...\n6395     C  한 남자가 사랑하는 여자에게 결혼하자고 하자 그 여자가 남자에게 말했다. \"저는 용...\n6396     C  기네스 기록에 관심이 많은 한 남자가 개미에게 음악을 들려주며 춤을 추도록 훈련을 ...\n6397     C  서해 바다 갯벌에 사는 숫게 한마리가 암게에게 청혼을 했다. 암게가 보니 그 숫게는...\n6398     C  대입 시험을 앞둔 맹구가 성당에 갔다. ​ 그는 성모 마리아상 앞에서 대학에 합격해...\n6399     C  서을의 어느 지하철에서 있었던 일이다. ​ 이날도 출근길의 지하철에는 출근하려는 사...\n\n[6400 rows x 2 columns]",
      "text/html": "<div>\n<style scoped>\n    .dataframe tbody tr th:only-of-type {\n        vertical-align: middle;\n    }\n\n    .dataframe tbody tr th {\n        vertical-align: top;\n    }\n\n    .dataframe thead th {\n        text-align: right;\n    }\n</style>\n<table border=\"1\" class=\"dataframe\">\n  <thead>\n    <tr style=\"text-align: right;\">\n      <th></th>\n      <th>CLASS</th>\n      <th>TEXT</th>\n    </tr>\n  </thead>\n  <tbody>\n    <tr>\n      <th>0</th>\n      <td>H</td>\n      <td>\"그런데 어떻게 알았어?\" 이렇게 묻더라구요, 저는 뭐가? 라고 대답하니 \"꿈인줄 ...</td>\n    </tr>\n    <tr>\n      <th>1</th>\n      <td>H</td>\n      <td>또 똑같은 꿈을 꿨습니다. 방에서 일어나니까 옆방에서 여자가 미친듯이 웃으면서 00...</td>\n    </tr>\n    <tr>\n      <th>2</th>\n      <td>H</td>\n      <td>그리고 출근 한 다음 근무 후 새벽에 퇴근하고 아침에 잠들었는데 낮 열두시쯤 까지 ...</td>\n    </tr>\n    <tr>\n      <th>3</th>\n      <td>H</td>\n      <td>여튼 때는 20대 중반이었나?? 여름이었던것 같은데 여느때처럼 내방에서 잠을 자고 ...</td>\n    </tr>\n    <tr>\n      <th>4</th>\n      <td>H</td>\n      <td>온몸에 소름이 돋으면서 식은땀 ㅈㄴ나고 뭐지?? 도둑인가?? 이런 생각에 너무 무서...</td>\n    </tr>\n    <tr>\n      <th>...</th>\n      <td>...</td>\n      <td>...</td>\n    </tr>\n    <tr>\n      <th>6395</th>\n      <td>C</td>\n      <td>한 남자가 사랑하는 여자에게 결혼하자고 하자 그 여자가 남자에게 말했다. \"저는 용...</td>\n    </tr>\n    <tr>\n      <th>6396</th>\n      <td>C</td>\n      <td>기네스 기록에 관심이 많은 한 남자가 개미에게 음악을 들려주며 춤을 추도록 훈련을 ...</td>\n    </tr>\n    <tr>\n      <th>6397</th>\n      <td>C</td>\n      <td>서해 바다 갯벌에 사는 숫게 한마리가 암게에게 청혼을 했다. 암게가 보니 그 숫게는...</td>\n    </tr>\n    <tr>\n      <th>6398</th>\n      <td>C</td>\n      <td>대입 시험을 앞둔 맹구가 성당에 갔다. ​ 그는 성모 마리아상 앞에서 대학에 합격해...</td>\n    </tr>\n    <tr>\n      <th>6399</th>\n      <td>C</td>\n      <td>서을의 어느 지하철에서 있었던 일이다. ​ 이날도 출근길의 지하철에는 출근하려는 사...</td>\n    </tr>\n  </tbody>\n</table>\n<p>6400 rows × 2 columns</p>\n</div>"
     },
     "execution_count": 8,
     "metadata": {},
     "output_type": "execute_result"
    }
   ],
   "source": [
    "storyDF = pd.concat([HDF1[['CLASS','TEXT']],HDF2[['CLASS','TEXT']],HDF3[['CLASS','TEXT']],\n",
    "                     HDF4[['CLASS','TEXT']],CDF],axis=0,ignore_index=True)\n",
    "storyDF"
   ],
   "metadata": {
    "collapsed": false,
    "ExecuteTime": {
     "end_time": "2024-04-05T04:54:36.382583100Z",
     "start_time": "2024-04-05T04:54:36.302696700Z"
    }
   },
   "id": "e85dc3efa92481bc",
   "execution_count": 8
  },
  {
   "cell_type": "code",
   "outputs": [
    {
     "name": "stdout",
     "output_type": "stream",
     "text": [
      "<class 'pandas.core.frame.DataFrame'>\n",
      "RangeIndex: 6400 entries, 0 to 6399\n",
      "Data columns (total 2 columns):\n",
      " #   Column  Non-Null Count  Dtype \n",
      "---  ------  --------------  ----- \n",
      " 0   CLASS   6400 non-null   object\n",
      " 1   TEXT    6400 non-null   object\n",
      "dtypes: object(2)\n",
      "memory usage: 100.1+ KB\n"
     ]
    }
   ],
   "source": [
    "storyDF.info()"
   ],
   "metadata": {
    "collapsed": false,
    "ExecuteTime": {
     "end_time": "2024-04-05T04:54:38.798786300Z",
     "start_time": "2024-04-05T04:54:38.602102800Z"
    }
   },
   "id": "fb542dd8cc0f9acc",
   "execution_count": 9
  },
  {
   "cell_type": "code",
   "outputs": [
    {
     "name": "stdout",
     "output_type": "stream",
     "text": [
      "\"그런데 어떻게 알았어?\" 이렇게 묻더라구요, 저는 뭐가? 라고 대답하니 \"꿈인줄 어떻게 알았어?\" 이렇게 물어서 느낌이 싸해 돌아보니 여자친구 얼굴이 아니라 노이즈 낀것처럼 기억이 안나는 느낌만 받았습니다. 뭔가 잘못 됬다 싶어서 입술을 다시 깨물고 잠에서 확 깼는데 출근시간도 아직 멀었길래 그냥 개꿈이다 생각하고 더 잤습니다. 아니나 다를까 다시 꿈을 똑같이 방에서 일어나는거로 시작했는데 옆방에서 어떤 여자가 미친듯이 웃으면서 (제 이름)00아 다시 왔어?ㅋㅋㅋ 이런식으로 웃고있더라구요 저는 다시 깨려고 입술을 막 깨물고 있는데 너 어차피 다시 여기로 올꺼야ㅋㅋ 이따봐 이런 식으로 얘기를 했습니다. 다시 깬다음에 출근 시간도 아직 남았고 누워서 핸드폰 하다가 저도 모르게 다시 잠들었는데\n"
     ]
    }
   ],
   "source": [
    "for a in range(storyDF.shape[0]):\n",
    "    print(storyDF.TEXT[a])\n",
    "    break"
   ],
   "metadata": {
    "collapsed": false,
    "ExecuteTime": {
     "end_time": "2024-04-04T08:05:13.579751800Z",
     "start_time": "2024-04-04T08:05:13.566727300Z"
    }
   },
   "id": "2c36fb8e5ce10243",
   "execution_count": 60
  },
  {
   "cell_type": "code",
   "outputs": [
    {
     "ename": "TypeError",
     "evalue": "replace expected at least 2 arguments, got 0",
     "output_type": "error",
     "traceback": [
      "\u001B[1;31m---------------------------------------------------------------------------\u001B[0m",
      "\u001B[1;31mTypeError\u001B[0m                                 Traceback (most recent call last)",
      "Cell \u001B[1;32mIn[61], line 2\u001B[0m\n\u001B[0;32m      1\u001B[0m \u001B[38;5;28;01mfor\u001B[39;00m a \u001B[38;5;129;01min\u001B[39;00m \u001B[38;5;28mrange\u001B[39m(storyDF\u001B[38;5;241m.\u001B[39mshape[\u001B[38;5;241m0\u001B[39m]):\n\u001B[1;32m----> 2\u001B[0m     \u001B[43mstoryDF\u001B[49m\u001B[38;5;241;43m.\u001B[39;49m\u001B[43mTEXT\u001B[49m\u001B[43m[\u001B[49m\u001B[43ma\u001B[49m\u001B[43m]\u001B[49m\u001B[38;5;241;43m.\u001B[39;49m\u001B[43mreplace\u001B[49m\u001B[43m(\u001B[49m\u001B[43m)\u001B[49m\n",
      "\u001B[1;31mTypeError\u001B[0m: replace expected at least 2 arguments, got 0"
     ]
    }
   ],
   "source": [
    "# for a in range(storyDF.shape[0]):\n",
    "#     storyDF.TEXT[a].replace()"
   ],
   "metadata": {
    "collapsed": false,
    "ExecuteTime": {
     "end_time": "2024-04-04T08:05:14.152380300Z",
     "start_time": "2024-04-04T08:05:14.126167400Z"
    }
   },
   "id": "e368937dfb19bacd",
   "execution_count": 61
  },
  {
   "cell_type": "code",
   "outputs": [
    {
     "data": {
      "text/plain": "'그런데 어떻게 알았어 이렇게 묻더라구요 저는 뭐가 라고 대답하니 꿈인줄 어떻게 알았어 이렇게 물어서 느낌이 싸해 돌아보니 여자친구 얼굴이 아니라 노이즈 낀것처럼 기억이 안나는 느낌만 받았습니다 뭔가 잘못 됬다 싶어서 입술을 다시 깨물고 잠에서 확 깼는데 출근시간도 아직 멀었길래 그냥 개꿈이다 생각하고 더 잤습니다 아니나 다를까 다시 꿈을 똑같이 방에서 일어나는거로 시작했는데 옆방에서 어떤 여자가 미친듯이 웃으면서 제 이름00아 다시 왔어ㅋㅋㅋ 이런식으로 웃고있더라구요 저는 다시 깨려고 입술을 막 깨물고 있는데 너 어차피 다시 여기로 올꺼야ㅋㅋ 이따봐 이런 식으로 얘기를 했습니다 다시 깬다음에 출근 시간도 아직 남았고 누워서 핸드폰 하다가 저도 모르게 다시 잠들었는데'"
     },
     "execution_count": 10,
     "metadata": {},
     "output_type": "execute_result"
    }
   ],
   "source": [
    "## 정규표현식으로 숫자,한글,영어,여백을 제외한 문자 제거\n",
    "sentenceDF = storyDF.copy()\n",
    "sentenceDF.TEXT=storyDF.TEXT.str.replace('[^ㄱ-ㅎ가-힣a-zA-Z0-9\\s]','',regex=True)\n",
    "sentenceDF.TEXT[0]"
   ],
   "metadata": {
    "collapsed": false,
    "ExecuteTime": {
     "end_time": "2024-04-05T04:54:46.104279100Z",
     "start_time": "2024-04-05T04:54:46.032700100Z"
    }
   },
   "id": "f4ed3409df45fbf0",
   "execution_count": 10
  },
  {
   "cell_type": "code",
   "outputs": [
    {
     "data": {
      "text/plain": "     CLASS                                               TEXT\n0        H  그런데 어떻게 알았어 이렇게 묻더라구요 저는 뭐가 라고 대답하니 꿈인줄 어떻게 알았...\n1        H  또 똑같은 꿈을 꿨습니다 방에서 일어나니까 옆방에서 여자가 미친듯이 웃으면서 00아...\n2        H  그리고 출근 한 다음 근무 후 새벽에 퇴근하고 아침에 잠들었는데 낮 열두시쯤 까지 ...\n3        H  여튼 때는 20대 중반이었나 여름이었던것 같은데 여느때처럼 내방에서 잠을 자고 있었...\n4        H  온몸에 소름이 돋으면서 식은땀 ㅈㄴ나고 뭐지 도둑인가 이런 생각에 너무 무서워서 눈...\n...    ...                                                ...\n6395     C  한 남자가 사랑하는 여자에게 결혼하자고 하자 그 여자가 남자에게 말했다 저는 용기있...\n6396     C  기네스 기록에 관심이 많은 한 남자가 개미에게 음악을 들려주며 춤을 추도록 훈련을 ...\n6397     C  서해 바다 갯벌에 사는 숫게 한마리가 암게에게 청혼을 했다 암게가 보니 그 숫게는 ...\n6398     C  대입 시험을 앞둔 맹구가 성당에 갔다  그는 성모 마리아상 앞에서 대학에 합격해 달...\n6399     C  서을의 어느 지하철에서 있었던 일이다  이날도 출근길의 지하철에는 출근하려는 사람들...\n\n[6400 rows x 2 columns]",
      "text/html": "<div>\n<style scoped>\n    .dataframe tbody tr th:only-of-type {\n        vertical-align: middle;\n    }\n\n    .dataframe tbody tr th {\n        vertical-align: top;\n    }\n\n    .dataframe thead th {\n        text-align: right;\n    }\n</style>\n<table border=\"1\" class=\"dataframe\">\n  <thead>\n    <tr style=\"text-align: right;\">\n      <th></th>\n      <th>CLASS</th>\n      <th>TEXT</th>\n    </tr>\n  </thead>\n  <tbody>\n    <tr>\n      <th>0</th>\n      <td>H</td>\n      <td>그런데 어떻게 알았어 이렇게 묻더라구요 저는 뭐가 라고 대답하니 꿈인줄 어떻게 알았...</td>\n    </tr>\n    <tr>\n      <th>1</th>\n      <td>H</td>\n      <td>또 똑같은 꿈을 꿨습니다 방에서 일어나니까 옆방에서 여자가 미친듯이 웃으면서 00아...</td>\n    </tr>\n    <tr>\n      <th>2</th>\n      <td>H</td>\n      <td>그리고 출근 한 다음 근무 후 새벽에 퇴근하고 아침에 잠들었는데 낮 열두시쯤 까지 ...</td>\n    </tr>\n    <tr>\n      <th>3</th>\n      <td>H</td>\n      <td>여튼 때는 20대 중반이었나 여름이었던것 같은데 여느때처럼 내방에서 잠을 자고 있었...</td>\n    </tr>\n    <tr>\n      <th>4</th>\n      <td>H</td>\n      <td>온몸에 소름이 돋으면서 식은땀 ㅈㄴ나고 뭐지 도둑인가 이런 생각에 너무 무서워서 눈...</td>\n    </tr>\n    <tr>\n      <th>...</th>\n      <td>...</td>\n      <td>...</td>\n    </tr>\n    <tr>\n      <th>6395</th>\n      <td>C</td>\n      <td>한 남자가 사랑하는 여자에게 결혼하자고 하자 그 여자가 남자에게 말했다 저는 용기있...</td>\n    </tr>\n    <tr>\n      <th>6396</th>\n      <td>C</td>\n      <td>기네스 기록에 관심이 많은 한 남자가 개미에게 음악을 들려주며 춤을 추도록 훈련을 ...</td>\n    </tr>\n    <tr>\n      <th>6397</th>\n      <td>C</td>\n      <td>서해 바다 갯벌에 사는 숫게 한마리가 암게에게 청혼을 했다 암게가 보니 그 숫게는 ...</td>\n    </tr>\n    <tr>\n      <th>6398</th>\n      <td>C</td>\n      <td>대입 시험을 앞둔 맹구가 성당에 갔다  그는 성모 마리아상 앞에서 대학에 합격해 달...</td>\n    </tr>\n    <tr>\n      <th>6399</th>\n      <td>C</td>\n      <td>서을의 어느 지하철에서 있었던 일이다  이날도 출근길의 지하철에는 출근하려는 사람들...</td>\n    </tr>\n  </tbody>\n</table>\n<p>6400 rows × 2 columns</p>\n</div>"
     },
     "execution_count": 64,
     "metadata": {},
     "output_type": "execute_result"
    }
   ],
   "source": [
    "sentenceDF"
   ],
   "metadata": {
    "collapsed": false,
    "ExecuteTime": {
     "end_time": "2024-04-04T08:05:33.245991400Z",
     "start_time": "2024-04-04T08:05:33.225051900Z"
    }
   },
   "id": "977629bf28ea0e14",
   "execution_count": 64
  },
  {
   "cell_type": "code",
   "outputs": [
    {
     "data": {
      "text/plain": "     CLASS                                               TEXT\n6303     C  한 남자가 길을 가다가 장례식 행렬을 보았다선두에 상주인 듯한 남자가 개 한 마리를...\n6305     C  토요일 밤이 지나고 일요일 아침 아파트 관리실에서 방송을 했다  집에 못 쓰는 물건...",
      "text/html": "<div>\n<style scoped>\n    .dataframe tbody tr th:only-of-type {\n        vertical-align: middle;\n    }\n\n    .dataframe tbody tr th {\n        vertical-align: top;\n    }\n\n    .dataframe thead th {\n        text-align: right;\n    }\n</style>\n<table border=\"1\" class=\"dataframe\">\n  <thead>\n    <tr style=\"text-align: right;\">\n      <th></th>\n      <th>CLASS</th>\n      <th>TEXT</th>\n    </tr>\n  </thead>\n  <tbody>\n    <tr>\n      <th>6303</th>\n      <td>C</td>\n      <td>한 남자가 길을 가다가 장례식 행렬을 보았다선두에 상주인 듯한 남자가 개 한 마리를...</td>\n    </tr>\n    <tr>\n      <th>6305</th>\n      <td>C</td>\n      <td>토요일 밤이 지나고 일요일 아침 아파트 관리실에서 방송을 했다  집에 못 쓰는 물건...</td>\n    </tr>\n  </tbody>\n</table>\n</div>"
     },
     "execution_count": 11,
     "metadata": {},
     "output_type": "execute_result"
    }
   ],
   "source": [
    "sentenceDF.TEXT=sentenceDF.TEXT.str.replace(' ',' ')\n",
    "sentenceDF.iloc[[6303,6305]]"
   ],
   "metadata": {
    "collapsed": false,
    "ExecuteTime": {
     "end_time": "2024-04-05T04:54:51.502674800Z",
     "start_time": "2024-04-05T04:54:51.388039900Z"
    }
   },
   "id": "943a35fea60057c6",
   "execution_count": 11
  },
  {
   "cell_type": "code",
   "outputs": [
    {
     "data": {
      "text/plain": "     CLASS                                               TEXT\n0        H  그런데 어떻게 알았어 이렇게 묻더라구요 저는 뭐가 라고 대답하니 꿈인줄 어떻게 알았...\n1        H  또 똑같은 꿈을 꿨습니다 방에서 일어나니까 옆방에서 여자가 미친듯이 웃으면서 00아...\n2        H  그리고 출근 한 다음 근무 후 새벽에 퇴근하고 아침에 잠들었는데 낮 열두시쯤 까지 ...\n3        H  여튼 때는 20대 중반이었나 여름이었던것 같은데 여느때처럼 내방에서 잠을 자고 있었...\n4        H  온몸에 소름이 돋으면서 식은땀 ㅈㄴ나고 뭐지 도둑인가 이런 생각에 너무 무서워서 눈...\n...    ...                                                ...\n6395     C  한 남자가 사랑하는 여자에게 결혼하자고 하자 그 여자가 남자에게 말했다 저는 용기있...\n6396     C  기네스 기록에 관심이 많은 한 남자가 개미에게 음악을 들려주며 춤을 추도록 훈련을 ...\n6397     C  서해 바다 갯벌에 사는 숫게 한마리가 암게에게 청혼을 했다 암게가 보니 그 숫게는 ...\n6398     C  대입 시험을 앞둔 맹구가 성당에 갔다  그는 성모 마리아상 앞에서 대학에 합격해 달...\n6399     C  서을의 어느 지하철에서 있었던 일이다  이날도 출근길의 지하철에는 출근하려는 사람들...\n\n[6400 rows x 2 columns]",
      "text/html": "<div>\n<style scoped>\n    .dataframe tbody tr th:only-of-type {\n        vertical-align: middle;\n    }\n\n    .dataframe tbody tr th {\n        vertical-align: top;\n    }\n\n    .dataframe thead th {\n        text-align: right;\n    }\n</style>\n<table border=\"1\" class=\"dataframe\">\n  <thead>\n    <tr style=\"text-align: right;\">\n      <th></th>\n      <th>CLASS</th>\n      <th>TEXT</th>\n    </tr>\n  </thead>\n  <tbody>\n    <tr>\n      <th>0</th>\n      <td>H</td>\n      <td>그런데 어떻게 알았어 이렇게 묻더라구요 저는 뭐가 라고 대답하니 꿈인줄 어떻게 알았...</td>\n    </tr>\n    <tr>\n      <th>1</th>\n      <td>H</td>\n      <td>또 똑같은 꿈을 꿨습니다 방에서 일어나니까 옆방에서 여자가 미친듯이 웃으면서 00아...</td>\n    </tr>\n    <tr>\n      <th>2</th>\n      <td>H</td>\n      <td>그리고 출근 한 다음 근무 후 새벽에 퇴근하고 아침에 잠들었는데 낮 열두시쯤 까지 ...</td>\n    </tr>\n    <tr>\n      <th>3</th>\n      <td>H</td>\n      <td>여튼 때는 20대 중반이었나 여름이었던것 같은데 여느때처럼 내방에서 잠을 자고 있었...</td>\n    </tr>\n    <tr>\n      <th>4</th>\n      <td>H</td>\n      <td>온몸에 소름이 돋으면서 식은땀 ㅈㄴ나고 뭐지 도둑인가 이런 생각에 너무 무서워서 눈...</td>\n    </tr>\n    <tr>\n      <th>...</th>\n      <td>...</td>\n      <td>...</td>\n    </tr>\n    <tr>\n      <th>6395</th>\n      <td>C</td>\n      <td>한 남자가 사랑하는 여자에게 결혼하자고 하자 그 여자가 남자에게 말했다 저는 용기있...</td>\n    </tr>\n    <tr>\n      <th>6396</th>\n      <td>C</td>\n      <td>기네스 기록에 관심이 많은 한 남자가 개미에게 음악을 들려주며 춤을 추도록 훈련을 ...</td>\n    </tr>\n    <tr>\n      <th>6397</th>\n      <td>C</td>\n      <td>서해 바다 갯벌에 사는 숫게 한마리가 암게에게 청혼을 했다 암게가 보니 그 숫게는 ...</td>\n    </tr>\n    <tr>\n      <th>6398</th>\n      <td>C</td>\n      <td>대입 시험을 앞둔 맹구가 성당에 갔다  그는 성모 마리아상 앞에서 대학에 합격해 달...</td>\n    </tr>\n    <tr>\n      <th>6399</th>\n      <td>C</td>\n      <td>서을의 어느 지하철에서 있었던 일이다  이날도 출근길의 지하철에는 출근하려는 사람들...</td>\n    </tr>\n  </tbody>\n</table>\n<p>6400 rows × 2 columns</p>\n</div>"
     },
     "execution_count": 66,
     "metadata": {},
     "output_type": "execute_result"
    }
   ],
   "source": [
    "sentenceDF"
   ],
   "metadata": {
    "collapsed": false,
    "ExecuteTime": {
     "end_time": "2024-04-04T08:06:07.338108100Z",
     "start_time": "2024-04-04T08:06:07.315042500Z"
    }
   },
   "id": "b70c21dd984ffec2",
   "execution_count": 66
  },
  {
   "cell_type": "code",
   "outputs": [
    {
     "data": {
      "text/plain": "     CLASS                                               TEXT\n0        1  그런데 어떻게 알았어 이렇게 묻더라구요 저는 뭐가 라고 대답하니 꿈인줄 어떻게 알았...\n1        1  또 똑같은 꿈을 꿨습니다 방에서 일어나니까 옆방에서 여자가 미친듯이 웃으면서 00아...\n2        1  그리고 출근 한 다음 근무 후 새벽에 퇴근하고 아침에 잠들었는데 낮 열두시쯤 까지 ...\n3        1  여튼 때는 20대 중반이었나 여름이었던것 같은데 여느때처럼 내방에서 잠을 자고 있었...\n4        1  온몸에 소름이 돋으면서 식은땀 ㅈㄴ나고 뭐지 도둑인가 이런 생각에 너무 무서워서 눈...\n...    ...                                                ...\n6395     0  한 남자가 사랑하는 여자에게 결혼하자고 하자 그 여자가 남자에게 말했다 저는 용기있...\n6396     0  기네스 기록에 관심이 많은 한 남자가 개미에게 음악을 들려주며 춤을 추도록 훈련을 ...\n6397     0  서해 바다 갯벌에 사는 숫게 한마리가 암게에게 청혼을 했다 암게가 보니 그 숫게는 ...\n6398     0  대입 시험을 앞둔 맹구가 성당에 갔다  그는 성모 마리아상 앞에서 대학에 합격해 달...\n6399     0  서을의 어느 지하철에서 있었던 일이다  이날도 출근길의 지하철에는 출근하려는 사람들...\n\n[6400 rows x 2 columns]",
      "text/html": "<div>\n<style scoped>\n    .dataframe tbody tr th:only-of-type {\n        vertical-align: middle;\n    }\n\n    .dataframe tbody tr th {\n        vertical-align: top;\n    }\n\n    .dataframe thead th {\n        text-align: right;\n    }\n</style>\n<table border=\"1\" class=\"dataframe\">\n  <thead>\n    <tr style=\"text-align: right;\">\n      <th></th>\n      <th>CLASS</th>\n      <th>TEXT</th>\n    </tr>\n  </thead>\n  <tbody>\n    <tr>\n      <th>0</th>\n      <td>1</td>\n      <td>그런데 어떻게 알았어 이렇게 묻더라구요 저는 뭐가 라고 대답하니 꿈인줄 어떻게 알았...</td>\n    </tr>\n    <tr>\n      <th>1</th>\n      <td>1</td>\n      <td>또 똑같은 꿈을 꿨습니다 방에서 일어나니까 옆방에서 여자가 미친듯이 웃으면서 00아...</td>\n    </tr>\n    <tr>\n      <th>2</th>\n      <td>1</td>\n      <td>그리고 출근 한 다음 근무 후 새벽에 퇴근하고 아침에 잠들었는데 낮 열두시쯤 까지 ...</td>\n    </tr>\n    <tr>\n      <th>3</th>\n      <td>1</td>\n      <td>여튼 때는 20대 중반이었나 여름이었던것 같은데 여느때처럼 내방에서 잠을 자고 있었...</td>\n    </tr>\n    <tr>\n      <th>4</th>\n      <td>1</td>\n      <td>온몸에 소름이 돋으면서 식은땀 ㅈㄴ나고 뭐지 도둑인가 이런 생각에 너무 무서워서 눈...</td>\n    </tr>\n    <tr>\n      <th>...</th>\n      <td>...</td>\n      <td>...</td>\n    </tr>\n    <tr>\n      <th>6395</th>\n      <td>0</td>\n      <td>한 남자가 사랑하는 여자에게 결혼하자고 하자 그 여자가 남자에게 말했다 저는 용기있...</td>\n    </tr>\n    <tr>\n      <th>6396</th>\n      <td>0</td>\n      <td>기네스 기록에 관심이 많은 한 남자가 개미에게 음악을 들려주며 춤을 추도록 훈련을 ...</td>\n    </tr>\n    <tr>\n      <th>6397</th>\n      <td>0</td>\n      <td>서해 바다 갯벌에 사는 숫게 한마리가 암게에게 청혼을 했다 암게가 보니 그 숫게는 ...</td>\n    </tr>\n    <tr>\n      <th>6398</th>\n      <td>0</td>\n      <td>대입 시험을 앞둔 맹구가 성당에 갔다  그는 성모 마리아상 앞에서 대학에 합격해 달...</td>\n    </tr>\n    <tr>\n      <th>6399</th>\n      <td>0</td>\n      <td>서을의 어느 지하철에서 있었던 일이다  이날도 출근길의 지하철에는 출근하려는 사람들...</td>\n    </tr>\n  </tbody>\n</table>\n<p>6400 rows × 2 columns</p>\n</div>"
     },
     "execution_count": 12,
     "metadata": {},
     "output_type": "execute_result"
    }
   ],
   "source": [
    "sentenceDF.CLASS=sentenceDF.CLASS.str.replace('C','0')\n",
    "sentenceDF.CLASS=sentenceDF.CLASS.str.replace('H','1')\n",
    "sentenceDF"
   ],
   "metadata": {
    "collapsed": false,
    "ExecuteTime": {
     "end_time": "2024-04-05T04:55:02.228606500Z",
     "start_time": "2024-04-05T04:55:02.067141900Z"
    }
   },
   "id": "fa34a2d9aae461f7",
   "execution_count": 12
  },
  {
   "cell_type": "code",
   "outputs": [
    {
     "name": "stdout",
     "output_type": "stream",
     "text": [
      "<class 'pandas.core.frame.DataFrame'>\n",
      "RangeIndex: 6400 entries, 0 to 6399\n",
      "Data columns (total 2 columns):\n",
      " #   Column  Non-Null Count  Dtype \n",
      "---  ------  --------------  ----- \n",
      " 0   CLASS   6400 non-null   int32 \n",
      " 1   TEXT    6400 non-null   object\n",
      "dtypes: int32(1), object(1)\n",
      "memory usage: 75.1+ KB\n"
     ]
    }
   ],
   "source": [
    "sentenceDF.CLASS=sentenceDF.CLASS.astype('int32')\n",
    "sentenceDF.info()"
   ],
   "metadata": {
    "collapsed": false,
    "ExecuteTime": {
     "end_time": "2024-04-05T04:55:06.284524300Z",
     "start_time": "2024-04-05T04:55:06.015436300Z"
    }
   },
   "id": "2c55499448635dcc",
   "execution_count": 13
  },
  {
   "cell_type": "code",
   "outputs": [],
   "source": [
    "from konlpy.tag import Okt\n",
    "tokenizer = Okt()"
   ],
   "metadata": {
    "collapsed": false,
    "ExecuteTime": {
     "end_time": "2024-04-05T04:55:11.721820300Z",
     "start_time": "2024-04-05T04:55:08.699688200Z"
    }
   },
   "id": "e35befdc8d79d520",
   "execution_count": 14
  },
  {
   "cell_type": "code",
   "outputs": [
    {
     "name": "stdout",
     "output_type": "stream",
     "text": [
      "['그런데', '어떻다', '알다', '이렇게', '묻다', '저', '는', '뭐', '가', '라고', '대답', '하다', '꾸다', '어떻다', '알다', '이렇게', '물어', '서', '느낌', '이', '싸하다', '돌아보다', '여자친구', '얼굴', '이', '아니다', '노이즈', '끼다', '기억', '이', '안나', '는', '느낌', '만', '받다', '뭔가', '잘못', '되다', '싶다', '입술', '을', '다시', '깨물다', '잠', '에서', '확', '깨다', '출근시간', '도', '아직', '멀다', '그냥', '개꿈', '이다', '생각', '하고', '더', '자다', '아니다', '다르다', '다시', '꿈', '을', '똑같이', '방', '에서', '일어나다', '시작', '하다', '옆방', '에서', '어떻다', '여자', '가', '미치다', '웃다', '제', '이름', '00', '아', '다시', '오다', 'ㅋㅋㅋ', '이런', '식', '으로', '웃다', '저', '는', '다시', '깨다', '입술', '을', '막', '깨물다', '있다', '너', '어차피', '다시', '여기', '로', '오다', 'ㅋㅋ', '이따', '보다', '이렇다', '식', '으로', '얘기', '를', '하다', '다시', '깨다', '다음', '에', '출근', '시간', '도', '아직', '남다', '눕다', '핸드폰', '하다', '저', '도', '모르다', '다시', '잠들다']\n"
     ]
    }
   ],
   "source": [
    "# 문장 ==> 단어 분리\n",
    "for text in sentenceDF.TEXT:\n",
    "    print(tokenizer.morphs(text, stem=True))\n",
    "    break"
   ],
   "metadata": {
    "collapsed": false,
    "ExecuteTime": {
     "end_time": "2024-04-04T08:06:27.886316700Z",
     "start_time": "2024-04-04T08:06:27.840991900Z"
    }
   },
   "id": "2df049e94839abd6",
   "execution_count": 70
  },
  {
   "cell_type": "code",
   "outputs": [
    {
     "name": "stdout",
     "output_type": "stream",
     "text": [
      "['그런데', '어떻다', '알다', '이렇게', '묻다', '저', '는', '뭐', '가', '라고', '대답', '하다', '꾸다', '어떻다', '알다', '이렇게', '물어', '서', '느낌', '이', '싸하다', '돌아보다', '여자친구', '얼굴', '이', '아니다', '노이즈', '끼다', '기억', '이', '안나', '는', '느낌', '만', '받다', '뭔가', '잘못', '되다', '싶다', '입술', '을', '다시', '깨물다', '잠', '에서', '확', '깨다', '출근시간', '도', '아직', '멀다', '그냥', '개꿈', '이다', '생각', '하고', '더', '자다', '아니다', '다르다', '다시', '꿈', '을', '똑같이', '방', '에서', '일어나다', '시작', '하다', '옆방', '에서', '어떻다', '여자', '가', '미치다', '웃다', '제', '이름', '00', '아', '다시', '오다', 'ㅋㅋㅋ', '이런', '식', '으로', '웃다', '저', '는', '다시', '깨다', '입술', '을', '막', '깨물다', '있다', '너', '어차피', '다시', '여기', '로', '오다', 'ㅋㅋ', '이따', '보다', '이렇다', '식', '으로', '얘기', '를', '하다', '다시', '깨다', '다음', '에', '출근', '시간', '도', '아직', '남다', '눕다', '핸드폰', '하다', '저', '도', '모르다', '다시', '잠들다']\n",
      "128\n"
     ]
    }
   ],
   "source": [
    "from soynlp.normalizer import *\n",
    "tokens = []\n",
    "token_count = []\n",
    "\n",
    "# sentenceDF.TEXT=sentenceDF.TEXT.str.replace('[ㅋ+]','ㅋㅋ',regex=True) # 실패: ㅋ 1개당 ㅋㅋ 가 들어가서 2배됨\n",
    "for text in sentenceDF.TEXT:\n",
    "    text=emoticon_normalize(text, num_repeats=2)\n",
    "    print(tokenizer.morphs(text, stem=True))\n",
    "    print(len(tokenizer.morphs(text, stem=True)))\n",
    "    break"
   ],
   "metadata": {
    "collapsed": false,
    "ExecuteTime": {
     "end_time": "2024-04-05T04:55:25.764661400Z",
     "start_time": "2024-04-05T04:55:18.142827900Z"
    }
   },
   "id": "c46baa06b360357a",
   "execution_count": 15
  },
  {
   "cell_type": "code",
   "outputs": [],
   "source": [
    "def emoticon(text):\n",
    "    text=emoticon_normalize(text,num_repeats=2)\n",
    "    return text\n",
    "## 각 이야기 별 토큰화 및 토큰갯수 \n",
    "for a in range(sentenceDF.shape[0]):\n",
    "    token=tokenizer.morphs(emoticon(sentenceDF.TEXT[a]),stem=True)\n",
    "    token=[m for m in token if not tokenizer.pos(m)[0][1] =='Josa']\n",
    "    tokens.append(token)\n",
    "    token_count.append(len(token))"
   ],
   "metadata": {
    "collapsed": false,
    "ExecuteTime": {
     "end_time": "2024-04-05T04:56:05.634786900Z",
     "start_time": "2024-04-05T04:55:27.875479800Z"
    }
   },
   "id": "4d4a45ae1ec9eec3",
   "execution_count": 16
  },
  {
   "cell_type": "code",
   "outputs": [
    {
     "name": "stdout",
     "output_type": "stream",
     "text": [
      "['그런데', '어떻다', '알다', '이렇게', '묻다', '저', '는', '뭐', '가', '대답', '하다', '꾸다', '어떻다', '알다', '이렇게', '물어', '서', '느낌', '이', '싸하다', '돌아보다', '여자친구', '얼굴', '이', '아니다', '노이즈', '끼다', '기억', '이', '안나', '는', '느낌', '만', '받다', '뭔가', '잘못', '되다', '싶다', '입술', '다시', '깨물다', '잠', '확', '깨다', '출근시간', '도', '아직', '멀다', '그냥', '개꿈', '생각', '하고', '더', '자다', '아니다', '다르다', '다시', '꿈', '똑같이', '방', '일어나다', '시작', '하다', '옆방', '어떻다', '여자', '가', '미치다', '웃다', '제', '이름', '00', '아', '다시', '오다', 'ㅋㅋ', '이런', '식', '웃다', '저', '는', '다시', '깨다', '입술', '막', '깨물다', '있다', '너', '어차피', '다시', '여기', '로', '오다', 'ㅋㅋ', '이따', '보다', '이렇다', '식', '얘기', '를', '하다', '다시', '깨다', '다음', '출근', '시간', '도', '아직', '남다', '눕다', '핸드폰', '하다', '저', '도', '모르다', '다시', '잠들다']\n"
     ]
    }
   ],
   "source": [
    "for a in tokens:\n",
    "    print(a)\n",
    "    break"
   ],
   "metadata": {
    "collapsed": false,
    "ExecuteTime": {
     "end_time": "2024-04-04T11:30:47.775989400Z",
     "start_time": "2024-04-04T11:30:47.757718500Z"
    }
   },
   "id": "c2ba47dc3ef1f04d",
   "execution_count": 143
  },
  {
   "cell_type": "code",
   "outputs": [
    {
     "name": "stdout",
     "output_type": "stream",
     "text": [
      "Conjunction\n",
      "Adjective\n",
      "Noun\n",
      "Adverb\n",
      "Verb\n",
      "Noun\n",
      "Verb\n",
      "Noun\n",
      "Verb\n",
      "Noun\n",
      "Verb\n",
      "Verb\n",
      "Adjective\n",
      "Noun\n",
      "Adverb\n",
      "Noun\n",
      "Verb\n",
      "Noun\n",
      "Noun\n",
      "Adjective\n",
      "Verb\n",
      "Noun\n",
      "Noun\n",
      "Noun\n",
      "Adjective\n",
      "Noun\n",
      "Noun\n",
      "Noun\n",
      "Noun\n",
      "Noun\n",
      "Verb\n",
      "Noun\n",
      "Noun\n",
      "Verb\n",
      "Noun\n",
      "Noun\n",
      "Verb\n",
      "Verb\n",
      "Noun\n",
      "Noun\n",
      "Verb\n",
      "Noun\n",
      "Noun\n",
      "Verb\n",
      "Noun\n",
      "Noun\n",
      "Adverb\n",
      "Adjective\n",
      "Noun\n",
      "Noun\n",
      "Noun\n",
      "Verb\n",
      "Noun\n",
      "Verb\n",
      "Adjective\n",
      "Adjective\n",
      "Noun\n",
      "Noun\n",
      "Adverb\n",
      "Noun\n",
      "Verb\n",
      "Noun\n",
      "Verb\n",
      "Noun\n",
      "Adjective\n",
      "Noun\n",
      "Verb\n",
      "Adjective\n",
      "Verb\n",
      "Noun\n",
      "Noun\n",
      "Number\n",
      "Exclamation\n",
      "Noun\n",
      "Verb\n",
      "KoreanParticle\n",
      "Adjective\n",
      "Noun\n",
      "Verb\n",
      "Noun\n",
      "Verb\n",
      "Noun\n",
      "Verb\n",
      "Noun\n",
      "Noun\n",
      "Verb\n",
      "Adjective\n",
      "Noun\n",
      "Noun\n",
      "Noun\n",
      "Noun\n",
      "Noun\n",
      "Verb\n",
      "KoreanParticle\n",
      "Noun\n",
      "Verb\n",
      "Adjective\n",
      "Noun\n",
      "Noun\n",
      "Noun\n",
      "Verb\n",
      "Noun\n",
      "Verb\n",
      "Noun\n",
      "Noun\n",
      "Noun\n",
      "Noun\n",
      "Adverb\n",
      "Verb\n",
      "Verb\n",
      "Noun\n",
      "Verb\n",
      "Noun\n",
      "Noun\n",
      "Verb\n",
      "Noun\n",
      "Verb\n"
     ]
    }
   ],
   "source": [
    "for a in tokens[0]:\n",
    "    print(tokenizer.pos(a)[0][1])"
   ],
   "metadata": {
    "collapsed": false,
    "ExecuteTime": {
     "end_time": "2024-04-04T11:31:47.422273200Z",
     "start_time": "2024-04-04T11:31:47.392031800Z"
    }
   },
   "id": "e48d0e55f6add068",
   "execution_count": 145
  },
  {
   "cell_type": "code",
   "outputs": [
    {
     "name": "stdout",
     "output_type": "stream",
     "text": [
      "117\n"
     ]
    }
   ],
   "source": [
    "print(token_count[0])"
   ],
   "metadata": {
    "collapsed": false,
    "ExecuteTime": {
     "end_time": "2024-04-04T11:33:02.522055700Z",
     "start_time": "2024-04-04T11:33:02.507519700Z"
    }
   },
   "id": "34ab41d6c49d99e1",
   "execution_count": 146
  },
  {
   "cell_type": "code",
   "outputs": [
    {
     "data": {
      "text/plain": "      CLASS                                               TEXT  \\\n0         1  그런데 어떻게 알았어 이렇게 묻더라구요 저는 뭐가 라고 대답하니 꿈인줄 어떻게 알았...   \n1         1  또 똑같은 꿈을 꿨습니다 방에서 일어나니까 옆방에서 여자가 미친듯이 웃으면서 00아...   \n2         1  그리고 출근 한 다음 근무 후 새벽에 퇴근하고 아침에 잠들었는데 낮 열두시쯤 까지 ...   \n3         1  여튼 때는 20대 중반이었나 여름이었던것 같은데 여느때처럼 내방에서 잠을 자고 있었...   \n4         1  온몸에 소름이 돋으면서 식은땀 ㅈㄴ나고 뭐지 도둑인가 이런 생각에 너무 무서워서 눈...   \n...     ...                                                ...   \n6395      0  한 남자가 사랑하는 여자에게 결혼하자고 하자 그 여자가 남자에게 말했다 저는 용기있...   \n6396      0  기네스 기록에 관심이 많은 한 남자가 개미에게 음악을 들려주며 춤을 추도록 훈련을 ...   \n6397      0  서해 바다 갯벌에 사는 숫게 한마리가 암게에게 청혼을 했다 암게가 보니 그 숫게는 ...   \n6398      0  대입 시험을 앞둔 맹구가 성당에 갔다  그는 성모 마리아상 앞에서 대학에 합격해 달...   \n6399      0  서을의 어느 지하철에서 있었던 일이다  이날도 출근길의 지하철에는 출근하려는 사람들...   \n\n                                                  token  token_count  \n0     [그런데, 어떻다, 알다, 이렇게, 묻다, 저, 는, 뭐, 가, 대답, 하다, 꾸다...          117  \n1     [또, 똑같다, 꿈, 끄다, 방, 일어나다, 옆방, 여자, 가, 미치다, 웃다, 0...          117  \n2     [그리고, 출근, 하다, 다음, 근무, 후, 새벽, 퇴근, 하고, 아침, 잠들다, ...          101  \n3     [여, 틀다, 때, 는, 20, 대다, 중반, 여름, 같다, 여느, 때, 처럼, 내...           83  \n4     [온몸, 소름, 이, 돋다, 식은땀, ㅈㄴㄴㅏ, 고, 뭐, 지, 도둑, 이렇다, 생...           68  \n...                                                 ...          ...  \n6395  [하다, 남자, 가, 사랑, 하다, 여자, 결혼, 하다, 하자, 그, 여자, 가, ...           81  \n6396  [기네스, 기록, 관심, 이, 많다, 하다, 남자, 가, 개미, 음악, 들려주다, ...          107  \n6397  [서해, 바다, 갯벌, 살다, 숫, 게, 한, 마리, 가, 암, 게, 청혼, 하다,...           78  \n6398  [대입, 시험, 앞두다, 맹구, 가, 성당, 가다, 그, 는, 성모, 마리아, 상,...          128  \n6399  [서다, 어느, 지하철, 있다, 일이, 다, 이, 날, 도, 출근길, 의, 지하철,...           80  \n\n[6400 rows x 4 columns]",
      "text/html": "<div>\n<style scoped>\n    .dataframe tbody tr th:only-of-type {\n        vertical-align: middle;\n    }\n\n    .dataframe tbody tr th {\n        vertical-align: top;\n    }\n\n    .dataframe thead th {\n        text-align: right;\n    }\n</style>\n<table border=\"1\" class=\"dataframe\">\n  <thead>\n    <tr style=\"text-align: right;\">\n      <th></th>\n      <th>CLASS</th>\n      <th>TEXT</th>\n      <th>token</th>\n      <th>token_count</th>\n    </tr>\n  </thead>\n  <tbody>\n    <tr>\n      <th>0</th>\n      <td>1</td>\n      <td>그런데 어떻게 알았어 이렇게 묻더라구요 저는 뭐가 라고 대답하니 꿈인줄 어떻게 알았...</td>\n      <td>[그런데, 어떻다, 알다, 이렇게, 묻다, 저, 는, 뭐, 가, 대답, 하다, 꾸다...</td>\n      <td>117</td>\n    </tr>\n    <tr>\n      <th>1</th>\n      <td>1</td>\n      <td>또 똑같은 꿈을 꿨습니다 방에서 일어나니까 옆방에서 여자가 미친듯이 웃으면서 00아...</td>\n      <td>[또, 똑같다, 꿈, 끄다, 방, 일어나다, 옆방, 여자, 가, 미치다, 웃다, 0...</td>\n      <td>117</td>\n    </tr>\n    <tr>\n      <th>2</th>\n      <td>1</td>\n      <td>그리고 출근 한 다음 근무 후 새벽에 퇴근하고 아침에 잠들었는데 낮 열두시쯤 까지 ...</td>\n      <td>[그리고, 출근, 하다, 다음, 근무, 후, 새벽, 퇴근, 하고, 아침, 잠들다, ...</td>\n      <td>101</td>\n    </tr>\n    <tr>\n      <th>3</th>\n      <td>1</td>\n      <td>여튼 때는 20대 중반이었나 여름이었던것 같은데 여느때처럼 내방에서 잠을 자고 있었...</td>\n      <td>[여, 틀다, 때, 는, 20, 대다, 중반, 여름, 같다, 여느, 때, 처럼, 내...</td>\n      <td>83</td>\n    </tr>\n    <tr>\n      <th>4</th>\n      <td>1</td>\n      <td>온몸에 소름이 돋으면서 식은땀 ㅈㄴ나고 뭐지 도둑인가 이런 생각에 너무 무서워서 눈...</td>\n      <td>[온몸, 소름, 이, 돋다, 식은땀, ㅈㄴㄴㅏ, 고, 뭐, 지, 도둑, 이렇다, 생...</td>\n      <td>68</td>\n    </tr>\n    <tr>\n      <th>...</th>\n      <td>...</td>\n      <td>...</td>\n      <td>...</td>\n      <td>...</td>\n    </tr>\n    <tr>\n      <th>6395</th>\n      <td>0</td>\n      <td>한 남자가 사랑하는 여자에게 결혼하자고 하자 그 여자가 남자에게 말했다 저는 용기있...</td>\n      <td>[하다, 남자, 가, 사랑, 하다, 여자, 결혼, 하다, 하자, 그, 여자, 가, ...</td>\n      <td>81</td>\n    </tr>\n    <tr>\n      <th>6396</th>\n      <td>0</td>\n      <td>기네스 기록에 관심이 많은 한 남자가 개미에게 음악을 들려주며 춤을 추도록 훈련을 ...</td>\n      <td>[기네스, 기록, 관심, 이, 많다, 하다, 남자, 가, 개미, 음악, 들려주다, ...</td>\n      <td>107</td>\n    </tr>\n    <tr>\n      <th>6397</th>\n      <td>0</td>\n      <td>서해 바다 갯벌에 사는 숫게 한마리가 암게에게 청혼을 했다 암게가 보니 그 숫게는 ...</td>\n      <td>[서해, 바다, 갯벌, 살다, 숫, 게, 한, 마리, 가, 암, 게, 청혼, 하다,...</td>\n      <td>78</td>\n    </tr>\n    <tr>\n      <th>6398</th>\n      <td>0</td>\n      <td>대입 시험을 앞둔 맹구가 성당에 갔다  그는 성모 마리아상 앞에서 대학에 합격해 달...</td>\n      <td>[대입, 시험, 앞두다, 맹구, 가, 성당, 가다, 그, 는, 성모, 마리아, 상,...</td>\n      <td>128</td>\n    </tr>\n    <tr>\n      <th>6399</th>\n      <td>0</td>\n      <td>서을의 어느 지하철에서 있었던 일이다  이날도 출근길의 지하철에는 출근하려는 사람들...</td>\n      <td>[서다, 어느, 지하철, 있다, 일이, 다, 이, 날, 도, 출근길, 의, 지하철,...</td>\n      <td>80</td>\n    </tr>\n  </tbody>\n</table>\n<p>6400 rows × 4 columns</p>\n</div>"
     },
     "execution_count": 17,
     "metadata": {},
     "output_type": "execute_result"
    }
   ],
   "source": [
    "sentenceDF['token']=tokens\n",
    "sentenceDF['token_count']=token_count\n",
    "sentenceDF"
   ],
   "metadata": {
    "collapsed": false,
    "ExecuteTime": {
     "end_time": "2024-04-05T04:56:23.040322100Z",
     "start_time": "2024-04-05T04:56:22.964781300Z"
    }
   },
   "id": "dd1c328a2659258f",
   "execution_count": 17
  },
  {
   "cell_type": "code",
   "outputs": [
    {
     "data": {
      "text/plain": "token_count\n325      2\n276      1\n250      1\n246      1\n234      1\n      ... \n6      433\n5      297\n4      136\n3       32\n2        7\nName: count, Length: 155, dtype: int64"
     },
     "execution_count": 18,
     "metadata": {},
     "output_type": "execute_result"
    }
   ],
   "source": [
    "countDF=sentenceDF.value_counts('token_count').sort_index()\n",
    "countDF.sort_index(ascending=False)"
   ],
   "metadata": {
    "collapsed": false,
    "ExecuteTime": {
     "end_time": "2024-04-05T04:56:29.495162400Z",
     "start_time": "2024-04-05T04:56:29.430767600Z"
    }
   },
   "id": "ef11608ae14ac45d",
   "execution_count": 18
  },
  {
   "cell_type": "code",
   "outputs": [
    {
     "data": {
      "text/plain": "852     325\n15      325\n8       276\n16      250\n12      246\n       ... \n5629      2\n4258      2\n5642      2\n5115      2\n503       2\nName: token_count, Length: 6400, dtype: int64"
     },
     "execution_count": 149,
     "metadata": {},
     "output_type": "execute_result"
    }
   ],
   "source": [
    "sentenceDF['token_count'].sort_values(ascending=False)"
   ],
   "metadata": {
    "collapsed": false,
    "ExecuteTime": {
     "end_time": "2024-04-04T11:35:19.535947300Z",
     "start_time": "2024-04-04T11:35:19.494607500Z"
    }
   },
   "id": "2d30744420b01c00",
   "execution_count": 149
  },
  {
   "cell_type": "code",
   "outputs": [
    {
     "data": {
      "text/plain": "<Figure size 640x480 with 1 Axes>",
      "image/png": "[encoded data removed]"
     },
     "metadata": {},
     "output_type": "display_data"
    }
   ],
   "source": [
    "import matplotlib.pyplot as plt\n",
    "\n",
    "plt.bar(range(1,len(sentenceDF['token_count'])+1),sentenceDF['token_count'].sort_values(ascending=False).values)\n",
    "plt.plot(range(1,len(sentenceDF['token_count'])+1),[32]*6400,color='red')\n",
    "plt.plot(range(1,len(sentenceDF['token_count'])+1),[64]*6400,color='orange')\n",
    "plt.xticks()\n",
    "plt.show()"
   ],
   "metadata": {
    "collapsed": false,
    "ExecuteTime": {
     "end_time": "2024-04-04T13:30:09.936197200Z",
     "start_time": "2024-04-04T13:30:03.226776100Z"
    }
   },
   "id": "9d8b42aa1f56e0b0",
   "execution_count": 208
  },
  {
   "cell_type": "code",
   "outputs": [],
   "source": [
    "## 사전 생성 1) build_vocab_from_iterator\n",
    "from torchtext.vocab import build_vocab_from_iterator\n",
    "\n",
    "def build_vocab(tokens):\n",
    "    for list in tokens:\n",
    "        yield list\n",
    "\n",
    "UNK = '<UNK>'\n",
    "PAD = '<PAD>'\n"
   ],
   "metadata": {
    "collapsed": false,
    "ExecuteTime": {
     "end_time": "2024-04-05T04:56:47.928822800Z",
     "start_time": "2024-04-05T04:56:47.726316700Z"
    }
   },
   "id": "c9ab45833fefcbd2",
   "execution_count": 19
  },
  {
   "cell_type": "code",
   "outputs": [],
   "source": [
    "vocab1 = build_vocab_from_iterator(build_vocab(tokens),\n",
    "                                  min_freq=2,\n",
    "                                  specials=[PAD,UNK],\n",
    "                                  special_first=True)"
   ],
   "metadata": {
    "collapsed": false,
    "ExecuteTime": {
     "end_time": "2024-04-05T04:56:50.612802600Z",
     "start_time": "2024-04-05T04:56:50.495806Z"
    }
   },
   "id": "b4e87d37c763f94",
   "execution_count": 20
  },
  {
   "cell_type": "code",
   "outputs": [],
   "source": [
    "### <UNK> 인덱스 설정\n",
    "vocab1.set_default_index(vocab1[UNK])"
   ],
   "metadata": {
    "collapsed": false,
    "ExecuteTime": {
     "end_time": "2024-04-05T04:56:52.168708400Z",
     "start_time": "2024-04-05T04:56:52.110190600Z"
    }
   },
   "id": "2e424d0f880deba3",
   "execution_count": 21
  },
  {
   "cell_type": "code",
   "outputs": [
    {
     "data": {
      "text/plain": "['<PAD>', '<UNK>', '하다', '이', '가', '있다', '은', '를', '는']"
     },
     "execution_count": 22,
     "metadata": {},
     "output_type": "execute_result"
    }
   ],
   "source": [
    "vocab1.get_itos()[:9]"
   ],
   "metadata": {
    "collapsed": false,
    "ExecuteTime": {
     "end_time": "2024-04-05T04:56:53.715897500Z",
     "start_time": "2024-04-05T04:56:53.653782Z"
    }
   },
   "id": "42e671a206e00f8c",
   "execution_count": 22
  },
  {
   "cell_type": "code",
   "outputs": [],
   "source": [
    "### ===> 텍스트 >>>> 정수 인코딩\n",
    "text_pipeline = lambda x: vocab1(tokenizer.morphs(text, stem=True))\n",
    "\n",
    "### ===> 레이블 >>> 정수 인코딩 (0~1)\n",
    "label_pipeline = lambda x: int(x) - 1"
   ],
   "metadata": {
    "collapsed": false,
    "ExecuteTime": {
     "end_time": "2024-04-05T00:15:13.087663600Z",
     "start_time": "2024-04-05T00:15:13.069784800Z"
    }
   },
   "id": "29679f91211d9236",
   "execution_count": 328
  },
  {
   "cell_type": "code",
   "outputs": [
    {
     "name": "stdout",
     "output_type": "stream",
     "text": [
      "['그런데', '어떻다', '알다', '이렇게', '묻다', '저', '는', '뭐', '가', '라고', '대답', '하다', '꾸다', '어떻다', '알다', '이렇게', '물어', '서', '느낌', '이', '싸하다', '돌아보다', '여자친구', '얼굴', '이', '아니다', '노이즈', '끼다', '기억', '이', '안나', '는', '느낌', '만', '받다', '뭔가', '잘못', '되다', '싶다', '입술', '을', '다시', '깨물다', '잠', '에서', '확', '깨다', '출근시간', '도', '아직', '멀다', '그냥', '개꿈', '이다', '생각', '하고', '더', '자다', '아니다', '다르다', '다시', '꿈', '을', '똑같이', '방', '에서', '일어나다', '시작', '하다', '옆방', '에서', '어떻다', '여자', '가', '미치다', '웃다', '제', '이름', '00', '아', '다시', '오다', 'ㅋㅋ', '이런', '식', '으로', '웃다', '저', '는', '다시', '깨다', '입술', '을', '막', '깨물다', '있다', '너', '어차피', '다시', '여기', '로', '오다', 'ㅋㅋ', '이따', '보다', '이렇다', '식', '으로', '얘기', '를', '하다', '다시', '깨다', '다음', '에', '출근', '시간', '도', '아직', '남다', '눕다', '핸드폰', '하다', '저', '도', '모르다', '다시', '잠들다']\n"
     ]
    }
   ],
   "source": [
    "for a in build_vocab(tokens):\n",
    "    print(a)\n",
    "    break"
   ],
   "metadata": {
    "collapsed": false,
    "ExecuteTime": {
     "end_time": "2024-04-04T11:11:52.640875500Z",
     "start_time": "2024-04-04T11:11:52.629239300Z"
    }
   },
   "id": "38e567d59a310e8f",
   "execution_count": 125
  },
  {
   "cell_type": "code",
   "outputs": [
    {
     "data": {
      "text/plain": "8680"
     },
     "execution_count": 154,
     "metadata": {},
     "output_type": "execute_result"
    }
   ],
   "source": [
    "len(vocab1)"
   ],
   "metadata": {
    "collapsed": false,
    "ExecuteTime": {
     "end_time": "2024-04-04T11:39:04.050192900Z",
     "start_time": "2024-04-04T11:39:04.013059600Z"
    }
   },
   "id": "d9c155cb8a193f74",
   "execution_count": 154
  },
  {
   "cell_type": "code",
   "outputs": [],
   "source": [
    "# ## 데이터셋 준비\n",
    "\n",
    "# \n",
    "# \n",
    "# class CustomDataset(Dataset):\n",
    "#     def __init__(self):\n",
    "#         \n",
    "#         self.x_data = sentenceDF.TEXT\n",
    "#         self.y_data = sentenceDF.CLASS\n",
    "# \n",
    "#     def __len__(self):\n",
    "#         return len(self.x_data)\n",
    "# \n",
    "#     def __getitem__(self, idx):\n",
    "#         x = self.x_data[idx]\n",
    "#         y = self.y_data[idx]\n",
    "#         return y, x"
   ],
   "metadata": {
    "collapsed": false,
    "ExecuteTime": {
     "end_time": "2024-04-04T12:38:48.917409900Z",
     "start_time": "2024-04-04T12:38:48.738275Z"
    }
   },
   "id": "90a0727bf85e1158",
   "execution_count": 189
  },
  {
   "cell_type": "code",
   "outputs": [],
   "source": [
    "# dataset = CustomDataset()"
   ],
   "metadata": {
    "collapsed": false,
    "ExecuteTime": {
     "end_time": "2024-04-04T12:32:59.531059600Z",
     "start_time": "2024-04-04T12:32:59.496494800Z"
    }
   },
   "id": "b81e3579663e53e8",
   "execution_count": 177
  },
  {
   "cell_type": "code",
   "outputs": [
    {
     "name": "stdout",
     "output_type": "stream",
     "text": [
      "0 1 그런데 어떻게 알았어 이렇게 묻더라구요 저는 뭐가 라고 대답하니 꿈인줄 어떻게 알았어 이렇게 물어서 느낌이 싸해 돌아보니 여자친구 얼굴이 아니라 노이즈 낀것처럼 기억이 안나는 느낌만 받았습니다 뭔가 잘못 됬다 싶어서 입술을 다시 깨물고 잠에서 확 깼는데 출근시간도 아직 멀었길래 그냥 개꿈이다 생각하고 더 잤습니다 아니나 다를까 다시 꿈을 똑같이 방에서 일어나는거로 시작했는데 옆방에서 어떤 여자가 미친듯이 웃으면서 제 이름00아 다시 왔어ㅋㅋㅋㅋㅋㅋ 이런식으로 웃고있더라구요 저는 다시 깨려고 입술을 막 깨물고 있는데 너 어차피 다시 여기로 올꺼야ㅋㅋㅋㅋ 이따봐 이런 식으로 얘기를 했습니다 다시 깬다음에 출근 시간도 아직 남았고 누워서 핸드폰 하다가 저도 모르게 다시 잠들었는데\n"
     ]
    }
   ],
   "source": [
    "# for idx, (a,b) in enumerate(dataset):\n",
    "#     print(idx,a,b)\n",
    "#     break"
   ],
   "metadata": {
    "collapsed": false,
    "ExecuteTime": {
     "end_time": "2024-04-04T12:44:18.904149400Z",
     "start_time": "2024-04-04T12:44:18.850998900Z"
    }
   },
   "id": "7e6859fe3b9cfbb9",
   "execution_count": 191
  },
  {
   "cell_type": "code",
   "outputs": [
    {
     "data": {
      "text/plain": "6400"
     },
     "execution_count": 160,
     "metadata": {},
     "output_type": "execute_result"
    }
   ],
   "source": [
    "# len(dataset)"
   ],
   "metadata": {
    "collapsed": false,
    "ExecuteTime": {
     "end_time": "2024-04-04T12:23:13.970875600Z",
     "start_time": "2024-04-04T12:23:13.800173900Z"
    }
   },
   "id": "d061508c995cd0a",
   "execution_count": 160
  },
  {
   "cell_type": "code",
   "outputs": [
    {
     "data": {
      "text/plain": "(6400, 4)"
     },
     "execution_count": 180,
     "metadata": {},
     "output_type": "execute_result"
    }
   ],
   "source": [
    "# sentenceDF.shape"
   ],
   "metadata": {
    "collapsed": false,
    "ExecuteTime": {
     "end_time": "2024-04-04T12:33:15.531230700Z",
     "start_time": "2024-04-04T12:33:15.506678700Z"
    }
   },
   "id": "f36d816b303631a7",
   "execution_count": 180
  },
  {
   "cell_type": "code",
   "outputs": [
    {
     "data": {
      "text/plain": "((6400,), (6400,))"
     },
     "execution_count": 166,
     "metadata": {},
     "output_type": "execute_result"
    }
   ],
   "source": [
    "# dataset.x_data.shape, dataset.y_data.shape"
   ],
   "metadata": {
    "collapsed": false,
    "ExecuteTime": {
     "end_time": "2024-04-04T12:27:36.534274800Z",
     "start_time": "2024-04-04T12:27:36.483026200Z"
    }
   },
   "id": "b467771cd53e1797",
   "execution_count": 166
  },
  {
   "cell_type": "code",
   "outputs": [],
   "source": [
    "# dl = DataLoader(dataset, 10,shuffle=True)"
   ],
   "metadata": {
    "collapsed": false,
    "ExecuteTime": {
     "end_time": "2024-04-04T12:31:57.143931600Z",
     "start_time": "2024-04-04T12:31:57.117575700Z"
    }
   },
   "id": "12ab1a4521e30536",
   "execution_count": 173
  },
  {
   "cell_type": "code",
   "outputs": [
    {
     "name": "stdout",
     "output_type": "stream",
     "text": [
      "[tensor([1, 1, 0, 1, 0, 0, 0, 1, 0, 0], dtype=torch.int32), ('어릴적 부모님께선 내가 잘못을 저지를때마다 날 대신할 쌍둥이가 다락방에 있다는 농담을 하곤 했었지 아 경고를 들었어야 했는데', '1화장실로 갈때 불이 자동으로 켜진다면 당장 화장실에서 빠져나와 본인의 방으로 돌아가서 룸메이트를 깨워 같이 가십시오', '자동차가 녹슬면 녹차', '엄마는 낚시 여행중 내 잘못으로 동생이 죽은 사건을 언급하며 그 일을 내게 상기시키곤 했었다 엄마의 치매가 악화된 지금 난 그 여자에게 동생을 죽게한 건 내가 아닌 당신이라고 말하며  몇번이고 무너져내리는 그 모습을 바라보면서 즐기고 있다', '오징어를 땅에 묻으면 오징어무침', '호랑이들이 배가 고프면 기아타이거즈', '메르스 코로나바이러스를 3자로 메로나', '1 오후 7시 30분 이후에는 산에서 내려오시길 바랍니다 야간에는 실종 사건이 많이 일어나기 때문입니다', '1주일 먹을 음식을 5자로 한주먹거리', '구석에 있으면서 세상구경을 다 하는 것은 우표')]\n"
     ]
    }
   ],
   "source": [
    "# for _ in dl:\n",
    "#     print(_)\n",
    "#     break"
   ],
   "metadata": {
    "collapsed": false,
    "ExecuteTime": {
     "end_time": "2024-04-04T12:34:29.809103600Z",
     "start_time": "2024-04-04T12:34:29.771047900Z"
    }
   },
   "id": "659f2c52c85777e",
   "execution_count": 183
  },
  {
   "cell_type": "code",
   "outputs": [
    {
     "name": "stdout",
     "output_type": "stream",
     "text": [
      "len(trainDL) = 512\n",
      "len(validDL) = 128\n"
     ]
    }
   ],
   "source": [
    "# trainDL, validDL = random_split(dl,[0.8,0.2])\n",
    "# print(f'len(trainDL) = {len(trainDL)}')\n",
    "# print(f'len(validDL) = {len(validDL)}')"
   ],
   "metadata": {
    "collapsed": false,
    "ExecuteTime": {
     "end_time": "2024-04-04T12:41:03.664610200Z",
     "start_time": "2024-04-04T12:41:03.469292700Z"
    }
   },
   "id": "52b2a2c60b3f0daa",
   "execution_count": 190
  },
  {
   "cell_type": "code",
   "outputs": [],
   "source": [],
   "metadata": {
    "collapsed": false
   },
   "id": "6f993a82dbb5926e"
  },
  {
   "cell_type": "code",
   "outputs": [],
   "source": [],
   "metadata": {
    "collapsed": false
   },
   "id": "d1352b834ecbe872"
  },
  {
   "cell_type": "markdown",
   "source": [
    "- [2-3] 인코딩 & 디코딩 인덱싱"
   ],
   "metadata": {
    "collapsed": false
   },
   "id": "6d4e59e2f2851b13"
  },
  {
   "cell_type": "code",
   "outputs": [],
   "source": [
    "### 인코딩 : 문자 >>>> 숫자로 변환\n",
    "token_to_id ={ label : id  for label, id in vocab1.get_stoi().items()}\n",
    "\n",
    "### 디코딩 : 숫자 >>>> 문자로 변환\n",
    "id_to_token ={ id : label  for label, id in vocab1.get_stoi().items()}"
   ],
   "metadata": {
    "collapsed": false,
    "ExecuteTime": {
     "end_time": "2024-04-05T04:57:09.092421200Z",
     "start_time": "2024-04-05T04:57:09.021234500Z"
    }
   },
   "id": "7554844109123fb2",
   "execution_count": 23
  },
  {
   "cell_type": "code",
   "outputs": [
    {
     "data": {
      "text/plain": "1"
     },
     "execution_count": 24,
     "metadata": {},
     "output_type": "execute_result"
    }
   ],
   "source": [
    "unk_id = vocab1.get_stoi()['<UNK>']\n",
    "unk_id"
   ],
   "metadata": {
    "collapsed": false,
    "ExecuteTime": {
     "end_time": "2024-04-05T04:57:10.407828700Z",
     "start_time": "2024-04-05T04:57:10.290349400Z"
    }
   },
   "id": "e35e771e44208d42",
   "execution_count": 24
  },
  {
   "cell_type": "code",
   "outputs": [],
   "source": [
    "### ===> 리뷰에 문자를 정수로 변환 및 단어/어휘 사전에 없는 문자도 처리\n",
    "data_ids = [[vocab1.get_stoi().get(token,unk_id) for token in text] for text in tokens]\n"
   ],
   "metadata": {
    "collapsed": false,
    "ExecuteTime": {
     "end_time": "2024-04-05T05:10:53.105324400Z",
     "start_time": "2024-04-05T04:57:18.112475600Z"
    }
   },
   "id": "f2fcd6094756f7f6",
   "execution_count": 25
  },
  {
   "cell_type": "code",
   "outputs": [
    {
     "data": {
      "text/plain": "       0     1       2       3       4       5       6       7       8    \\\n0      208    86    97.0   275.0   412.0    47.0     8.0   137.0     4.0   \n1      227   981   341.0   268.0    77.0   189.0  4679.0    80.0     4.0   \n2       87  1165     2.0   106.0   176.0    62.0   640.0  1621.0    33.0   \n3      642  1950    22.0     8.0  1170.0   435.0  3557.0  1201.0    31.0   \n4     1917   771     3.0   980.0  2519.0     1.0    29.0   137.0   124.0   \n...    ...   ...     ...     ...     ...     ...     ...     ...     ...   \n6395     2    52     4.0   616.0     2.0    80.0   729.0     2.0  1264.0   \n6396  6614   681  2245.0     3.0   129.0     2.0    52.0     4.0  1481.0   \n6397     1   600  6449.0   151.0  7534.0    57.0    21.0   471.0     4.0   \n6398  6810   653  7684.0  2688.0     4.0  4569.0    28.0    10.0     8.0   \n6399   153   160   822.0     5.0   131.0    54.0     3.0    44.0    16.0   \n\n         9    ...  315  316  317  318  319  320  321  322  323  324  \n0      209.0  ...  NaN  NaN  NaN  NaN  NaN  NaN  NaN  NaN  NaN  NaN  \n1      614.0  ...  NaN  NaN  NaN  NaN  NaN  NaN  NaN  NaN  NaN  NaN  \n2      376.0  ...  NaN  NaN  NaN  NaN  NaN  NaN  NaN  NaN  NaN  NaN  \n3     3088.0  ...  NaN  NaN  NaN  NaN  NaN  NaN  NaN  NaN  NaN  NaN  \n4     1233.0  ...  NaN  NaN  NaN  NaN  NaN  NaN  NaN  NaN  NaN  NaN  \n...      ...  ...  ...  ...  ...  ...  ...  ...  ...  ...  ...  ...  \n6395    10.0  ...  NaN  NaN  NaN  NaN  NaN  NaN  NaN  NaN  NaN  NaN  \n6396  1923.0  ...  NaN  NaN  NaN  NaN  NaN  NaN  NaN  NaN  NaN  NaN  \n6397   870.0  ...  NaN  NaN  NaN  NaN  NaN  NaN  NaN  NaN  NaN  NaN  \n6398  4570.0  ...  NaN  NaN  NaN  NaN  NaN  NaN  NaN  NaN  NaN  NaN  \n6399  8291.0  ...  NaN  NaN  NaN  NaN  NaN  NaN  NaN  NaN  NaN  NaN  \n\n[6400 rows x 325 columns]",
      "text/html": "<div>\n<style scoped>\n    .dataframe tbody tr th:only-of-type {\n        vertical-align: middle;\n    }\n\n    .dataframe tbody tr th {\n        vertical-align: top;\n    }\n\n    .dataframe thead th {\n        text-align: right;\n    }\n</style>\n<table border=\"1\" class=\"dataframe\">\n  <thead>\n    <tr style=\"text-align: right;\">\n      <th></th>\n      <th>0</th>\n      <th>1</th>\n      <th>2</th>\n      <th>3</th>\n      <th>4</th>\n      <th>5</th>\n      <th>6</th>\n      <th>7</th>\n      <th>8</th>\n      <th>9</th>\n      <th>...</th>\n      <th>315</th>\n      <th>316</th>\n      <th>317</th>\n      <th>318</th>\n      <th>319</th>\n      <th>320</th>\n      <th>321</th>\n      <th>322</th>\n      <th>323</th>\n      <th>324</th>\n    </tr>\n  </thead>\n  <tbody>\n    <tr>\n      <th>0</th>\n      <td>208</td>\n      <td>86</td>\n      <td>97.0</td>\n      <td>275.0</td>\n      <td>412.0</td>\n      <td>47.0</td>\n      <td>8.0</td>\n      <td>137.0</td>\n      <td>4.0</td>\n      <td>209.0</td>\n      <td>...</td>\n      <td>NaN</td>\n      <td>NaN</td>\n      <td>NaN</td>\n      <td>NaN</td>\n      <td>NaN</td>\n      <td>NaN</td>\n      <td>NaN</td>\n      <td>NaN</td>\n      <td>NaN</td>\n      <td>NaN</td>\n    </tr>\n    <tr>\n      <th>1</th>\n      <td>227</td>\n      <td>981</td>\n      <td>341.0</td>\n      <td>268.0</td>\n      <td>77.0</td>\n      <td>189.0</td>\n      <td>4679.0</td>\n      <td>80.0</td>\n      <td>4.0</td>\n      <td>614.0</td>\n      <td>...</td>\n      <td>NaN</td>\n      <td>NaN</td>\n      <td>NaN</td>\n      <td>NaN</td>\n      <td>NaN</td>\n      <td>NaN</td>\n      <td>NaN</td>\n      <td>NaN</td>\n      <td>NaN</td>\n      <td>NaN</td>\n    </tr>\n    <tr>\n      <th>2</th>\n      <td>87</td>\n      <td>1165</td>\n      <td>2.0</td>\n      <td>106.0</td>\n      <td>176.0</td>\n      <td>62.0</td>\n      <td>640.0</td>\n      <td>1621.0</td>\n      <td>33.0</td>\n      <td>376.0</td>\n      <td>...</td>\n      <td>NaN</td>\n      <td>NaN</td>\n      <td>NaN</td>\n      <td>NaN</td>\n      <td>NaN</td>\n      <td>NaN</td>\n      <td>NaN</td>\n      <td>NaN</td>\n      <td>NaN</td>\n      <td>NaN</td>\n    </tr>\n    <tr>\n      <th>3</th>\n      <td>642</td>\n      <td>1950</td>\n      <td>22.0</td>\n      <td>8.0</td>\n      <td>1170.0</td>\n      <td>435.0</td>\n      <td>3557.0</td>\n      <td>1201.0</td>\n      <td>31.0</td>\n      <td>3088.0</td>\n      <td>...</td>\n      <td>NaN</td>\n      <td>NaN</td>\n      <td>NaN</td>\n      <td>NaN</td>\n      <td>NaN</td>\n      <td>NaN</td>\n      <td>NaN</td>\n      <td>NaN</td>\n      <td>NaN</td>\n      <td>NaN</td>\n    </tr>\n    <tr>\n      <th>4</th>\n      <td>1917</td>\n      <td>771</td>\n      <td>3.0</td>\n      <td>980.0</td>\n      <td>2519.0</td>\n      <td>1.0</td>\n      <td>29.0</td>\n      <td>137.0</td>\n      <td>124.0</td>\n      <td>1233.0</td>\n      <td>...</td>\n      <td>NaN</td>\n      <td>NaN</td>\n      <td>NaN</td>\n      <td>NaN</td>\n      <td>NaN</td>\n      <td>NaN</td>\n      <td>NaN</td>\n      <td>NaN</td>\n      <td>NaN</td>\n      <td>NaN</td>\n    </tr>\n    <tr>\n      <th>...</th>\n      <td>...</td>\n      <td>...</td>\n      <td>...</td>\n      <td>...</td>\n      <td>...</td>\n      <td>...</td>\n      <td>...</td>\n      <td>...</td>\n      <td>...</td>\n      <td>...</td>\n      <td>...</td>\n      <td>...</td>\n      <td>...</td>\n      <td>...</td>\n      <td>...</td>\n      <td>...</td>\n      <td>...</td>\n      <td>...</td>\n      <td>...</td>\n      <td>...</td>\n      <td>...</td>\n    </tr>\n    <tr>\n      <th>6395</th>\n      <td>2</td>\n      <td>52</td>\n      <td>4.0</td>\n      <td>616.0</td>\n      <td>2.0</td>\n      <td>80.0</td>\n      <td>729.0</td>\n      <td>2.0</td>\n      <td>1264.0</td>\n      <td>10.0</td>\n      <td>...</td>\n      <td>NaN</td>\n      <td>NaN</td>\n      <td>NaN</td>\n      <td>NaN</td>\n      <td>NaN</td>\n      <td>NaN</td>\n      <td>NaN</td>\n      <td>NaN</td>\n      <td>NaN</td>\n      <td>NaN</td>\n    </tr>\n    <tr>\n      <th>6396</th>\n      <td>6614</td>\n      <td>681</td>\n      <td>2245.0</td>\n      <td>3.0</td>\n      <td>129.0</td>\n      <td>2.0</td>\n      <td>52.0</td>\n      <td>4.0</td>\n      <td>1481.0</td>\n      <td>1923.0</td>\n      <td>...</td>\n      <td>NaN</td>\n      <td>NaN</td>\n      <td>NaN</td>\n      <td>NaN</td>\n      <td>NaN</td>\n      <td>NaN</td>\n      <td>NaN</td>\n      <td>NaN</td>\n      <td>NaN</td>\n      <td>NaN</td>\n    </tr>\n    <tr>\n      <th>6397</th>\n      <td>1</td>\n      <td>600</td>\n      <td>6449.0</td>\n      <td>151.0</td>\n      <td>7534.0</td>\n      <td>57.0</td>\n      <td>21.0</td>\n      <td>471.0</td>\n      <td>4.0</td>\n      <td>870.0</td>\n      <td>...</td>\n      <td>NaN</td>\n      <td>NaN</td>\n      <td>NaN</td>\n      <td>NaN</td>\n      <td>NaN</td>\n      <td>NaN</td>\n      <td>NaN</td>\n      <td>NaN</td>\n      <td>NaN</td>\n      <td>NaN</td>\n    </tr>\n    <tr>\n      <th>6398</th>\n      <td>6810</td>\n      <td>653</td>\n      <td>7684.0</td>\n      <td>2688.0</td>\n      <td>4.0</td>\n      <td>4569.0</td>\n      <td>28.0</td>\n      <td>10.0</td>\n      <td>8.0</td>\n      <td>4570.0</td>\n      <td>...</td>\n      <td>NaN</td>\n      <td>NaN</td>\n      <td>NaN</td>\n      <td>NaN</td>\n      <td>NaN</td>\n      <td>NaN</td>\n      <td>NaN</td>\n      <td>NaN</td>\n      <td>NaN</td>\n      <td>NaN</td>\n    </tr>\n    <tr>\n      <th>6399</th>\n      <td>153</td>\n      <td>160</td>\n      <td>822.0</td>\n      <td>5.0</td>\n      <td>131.0</td>\n      <td>54.0</td>\n      <td>3.0</td>\n      <td>44.0</td>\n      <td>16.0</td>\n      <td>8291.0</td>\n      <td>...</td>\n      <td>NaN</td>\n      <td>NaN</td>\n      <td>NaN</td>\n      <td>NaN</td>\n      <td>NaN</td>\n      <td>NaN</td>\n      <td>NaN</td>\n      <td>NaN</td>\n      <td>NaN</td>\n      <td>NaN</td>\n    </tr>\n  </tbody>\n</table>\n<p>6400 rows × 325 columns</p>\n</div>"
     },
     "execution_count": 26,
     "metadata": {},
     "output_type": "execute_result"
    }
   ],
   "source": [
    "pd.DataFrame(data_ids)"
   ],
   "metadata": {
    "collapsed": false,
    "ExecuteTime": {
     "end_time": "2024-04-05T05:10:53.314395300Z",
     "start_time": "2024-04-05T05:10:53.107465Z"
    }
   },
   "id": "f17eb8317927dfd0",
   "execution_count": 26
  },
  {
   "cell_type": "code",
   "outputs": [],
   "source": [
    "### ===> 패딩 처리 함수\n",
    "# - sentences  : 토큰화된 문장 데이터\n",
    "# - max_length : 최대 문장길이 즉, 1개 문장 구성 단어수\n",
    "# - pad        : 패딩 처리 시 추가될 문자 값\n",
    "# - start      : 패딩 시 처리 방향 [기:R 오른쪽 즉, 뒷부분 자르기/추가하기]\n",
    "def pad_sequences(sentences, maxlen, pad, start='R'):\n",
    "    result = []\n",
    "    for sen in sentences:\n",
    "        sen = sen[:maxlen] if start == 'R' else sen[:maxlen*(-1)]\n",
    "        padd_sen = sen + [pad] * (maxlen-len(sen)) if start == 'R' else [pad] * (maxlen-len(sen)) + sen\n",
    "        result.append(padd_sen)\n",
    "    \n",
    "    return result"
   ],
   "metadata": {
    "collapsed": false,
    "ExecuteTime": {
     "end_time": "2024-04-05T05:10:53.367523400Z",
     "start_time": "2024-04-05T05:10:53.312942200Z"
    }
   },
   "id": "8ffafa97f6939b82",
   "execution_count": 27
  },
  {
   "cell_type": "code",
   "outputs": [],
   "source": [
    "### 학습용, 테스트용 데이터 패딩 처리\n",
    "PAD_ID = vocab1.get_stoi().get('<PAD>')\n",
    "MAX_LENGTH = 64\n",
    "\n",
    "data_ids = pad_sequences(data_ids, MAX_LENGTH, PAD_ID)\n"
   ],
   "metadata": {
    "collapsed": false,
    "ExecuteTime": {
     "end_time": "2024-04-05T05:10:53.459966200Z",
     "start_time": "2024-04-05T05:10:53.360162200Z"
    }
   },
   "id": "69420d88f239092",
   "execution_count": 28
  },
  {
   "cell_type": "code",
   "outputs": [
    {
     "data": {
      "text/plain": "64"
     },
     "execution_count": 216,
     "metadata": {},
     "output_type": "execute_result"
    }
   ],
   "source": [
    "len(data_ids[2])"
   ],
   "metadata": {
    "collapsed": false,
    "ExecuteTime": {
     "end_time": "2024-04-04T13:49:40.154239100Z",
     "start_time": "2024-04-04T13:49:40.130010400Z"
    }
   },
   "id": "c1e91c9da2e48f9",
   "execution_count": 216
  },
  {
   "cell_type": "code",
   "outputs": [
    {
     "name": "stdout",
     "output_type": "stream",
     "text": [
      "dataTS => torch.Size([6400, 64]), labelTS => torch.Size([6400])\n"
     ]
    }
   ],
   "source": [
    "### ==> 합 데이터셋 생성 : List >>>> Tensor\n",
    "# 전체 데이터셋\n",
    "from torch.utils.data import TensorDataset, DataLoader\n",
    "\n",
    "dataTS = torch.LongTensor(data_ids)\n",
    "labelTS = torch.FloatTensor(sentenceDF.CLASS.values)\n",
    "\n",
    "print(f'dataTS => {dataTS.shape}, labelTS => {labelTS.shape}')\n",
    "\n",
    "dataDS=TensorDataset(dataTS, labelTS)"
   ],
   "metadata": {
    "collapsed": false,
    "ExecuteTime": {
     "end_time": "2024-04-05T05:10:53.665856Z",
     "start_time": "2024-04-05T05:10:53.375855800Z"
    }
   },
   "id": "b58bac04b552c6ea",
   "execution_count": 29
  },
  {
   "cell_type": "code",
   "outputs": [],
   "source": [
    "### ===> DataSET 준비\n",
    "BATCH_SIZE = 32"
   ],
   "metadata": {
    "collapsed": false,
    "ExecuteTime": {
     "end_time": "2024-04-05T05:10:53.674275900Z",
     "start_time": "2024-04-05T05:10:53.435588400Z"
    }
   },
   "id": "5aee3c7af51fc12b",
   "execution_count": 30
  },
  {
   "cell_type": "code",
   "outputs": [],
   "source": [
    "trainDS, validDS = random_split(dataDS, [0.8,0.2])\n",
    "trainDL = DataLoader(trainDS, BATCH_SIZE, shuffle=True)\n",
    "validDL = DataLoader(validDS, BATCH_SIZE, shuffle=True)"
   ],
   "metadata": {
    "collapsed": false,
    "ExecuteTime": {
     "end_time": "2024-04-05T05:10:53.764353200Z",
     "start_time": "2024-04-05T05:10:53.451457Z"
    }
   },
   "id": "c6af3e2aea783450",
   "execution_count": 31
  },
  {
   "cell_type": "code",
   "outputs": [],
   "source": [
    "class SentenceClassifier(nn.Module):\n",
    "    def __init__(self,\n",
    "                 n_vocab,\n",
    "                 hidden_dim,\n",
    "                 embedding_dim,\n",
    "                 n_layers,\n",
    "                 dropout=0.5,\n",
    "                 bidirectional=True,\n",
    "                 model_type='lstm'):\n",
    "        super(SentenceClassifier, self).__init__()\n",
    "        \n",
    "        self.embedding = nn.Embedding(\n",
    "            num_embeddings=n_vocab,\n",
    "            embedding_dim=embedding_dim,\n",
    "            padding_idx=0)\n",
    "        \n",
    "        if model_type == 'rnn':\n",
    "            self.model = nn.RNN(\n",
    "                input_size=embedding_dim,\n",
    "                hidden_size=hidden_dim,\n",
    "                num_layers=n_layers,\n",
    "                bidirectional=bidirectional,\n",
    "                dropout=dropout,\n",
    "                batch_first=True,\n",
    "            )\n",
    "        elif model_type == 'lstm':\n",
    "            self.model = nn.LSTM(\n",
    "                input_size=embedding_dim,\n",
    "                hidden_size=hidden_dim,\n",
    "                num_layers=n_layers,\n",
    "                bidirectional=bidirectional,\n",
    "                dropout=dropout,\n",
    "                batch_first=True,\n",
    "            )\n",
    "        if bidirectional:\n",
    "            self.classifier = nn.Linear(hidden_dim*2, 1)\n",
    "        else:\n",
    "            self.classifier = nn.Linear(hidden_dim,1)\n",
    "        self.dropout = nn.Dropout(dropout)\n",
    "    \n",
    "    def forward(self, inputs):\n",
    "        embeddings = self.embedding(inputs)\n",
    "        output, _ = self.model(embeddings)\n",
    "        last_output = output[:, -1, :]\n",
    "        last_output = self.dropout(last_output)\n",
    "        logits = self.classifier(last_output)\n",
    "        \n",
    "        return logits"
   ],
   "metadata": {
    "collapsed": false,
    "ExecuteTime": {
     "end_time": "2024-04-05T05:10:53.771008300Z",
     "start_time": "2024-04-05T05:10:53.475442Z"
    }
   },
   "id": "63a59b024ac06a90",
   "execution_count": 32
  },
  {
   "cell_type": "code",
   "outputs": [],
   "source": [
    "from torch import optim\n",
    "\n",
    "n_vocab = len(token_to_id)\n",
    "hidden_dim = 64\n",
    "embedding_dim = 128\n",
    "n_layers = 2\n",
    "interval = 40\n",
    "\n",
    "epochs = 100\n",
    "\n",
    "device = \"cuda\" if torch.cuda.is_available() else \"cpu\""
   ],
   "metadata": {
    "collapsed": false,
    "ExecuteTime": {
     "end_time": "2024-04-05T05:11:06.045334700Z",
     "start_time": "2024-04-05T05:11:05.964107800Z"
    }
   },
   "id": "ecee1f7a5539c717",
   "execution_count": 33
  },
  {
   "cell_type": "code",
   "outputs": [],
   "source": [
    "classifier = SentenceClassifier(\n",
    "    n_vocab=n_vocab, hidden_dim=hidden_dim, embedding_dim=embedding_dim, n_layers=n_layers\n",
    ").to(device)\n",
    "\n",
    "criterion = nn.BCEWithLogitsLoss().to(device)\n",
    "optimizer = optim.Adam(classifier.parameters(), lr=0.001)\n",
    "scheduler = optim.lr_scheduler.StepLR(optimizer, 1.0, gamma=0.1)"
   ],
   "metadata": {
    "collapsed": false,
    "ExecuteTime": {
     "end_time": "2024-04-04T16:12:56.219607500Z",
     "start_time": "2024-04-04T16:12:56.166541300Z"
    }
   },
   "id": "b3f4c8daaf3143b5",
   "execution_count": 322
  },
  {
   "cell_type": "code",
   "outputs": [],
   "source": [
    "classifier2 = SentenceClassifier(\n",
    "    n_vocab=n_vocab, hidden_dim=hidden_dim, embedding_dim=embedding_dim, n_layers=n_layers, model_type='rnn'\n",
    ").to(device)"
   ],
   "metadata": {
    "collapsed": false,
    "ExecuteTime": {
     "end_time": "2024-04-05T03:01:18.253081400Z",
     "start_time": "2024-04-05T03:01:18.154813200Z"
    }
   },
   "id": "2a754babe9feb2ca",
   "execution_count": 407
  },
  {
   "cell_type": "code",
   "outputs": [],
   "source": [
    "# 학습 및 테스트 함수 생성\n",
    "\n",
    "def train(model, dataset, criterion, optimizer, device, interval):\n",
    "    model.train()\n",
    "    losses = list()\n",
    "    \n",
    "    corrects = list()\n",
    "    \n",
    "    for step, (input_ids, labels) in enumerate(dataset):\n",
    "        input_ids = input_ids.to(device)\n",
    "        labels =labels.to(device).unsqueeze(1)\n",
    "        \n",
    "        logits = model(input_ids)\n",
    "        loss = criterion(logits, labels)\n",
    "        losses.append(loss.item())\n",
    "        \n",
    "        optimizer.zero_grad()\n",
    "        loss.backward()\n",
    "        optimizer.step()\n",
    "        \n",
    "        # 배치 학습 평가\n",
    "        yhat = torch.sigmoid(logits)>.5\n",
    "        corrects.extend(\n",
    "            torch.eq(yhat, labels).cpu().tolist()\n",
    "        )\n",
    "        \n",
    "        if step % interval == 0:\n",
    "            print(f'{step+40}/160-> Train Loss  : {np.mean(losses)} | Accuracy {np.mean(corrects)}')\n"
   ],
   "metadata": {
    "collapsed": false,
    "ExecuteTime": {
     "end_time": "2024-04-05T05:11:20.054236100Z",
     "start_time": "2024-04-05T05:11:19.995296500Z"
    }
   },
   "id": "71071df1e108754b",
   "execution_count": 34
  },
  {
   "cell_type": "code",
   "outputs": [],
   "source": [
    "loss_list,acc_list=[],[]\n",
    "def test(model, datasets, criterion, device,epoch):\n",
    "    model.eval()\n",
    "    losses = list()\n",
    "    corrects = list()\n",
    "    \n",
    "    for step, (input_ids, labels) in enumerate(datasets):\n",
    "        input_ids = input_ids.to(device)\n",
    "        labels = labels.to(device).unsqueeze(1)\n",
    "        \n",
    "        logits =model(input_ids)\n",
    "        loss = criterion(logits, labels)\n",
    "        losses.append(loss.item())\n",
    "        yhat = torch.sigmoid(logits)>.5\n",
    "        corrects.extend(\n",
    "            torch.eq(yhat, labels).cpu().tolist()\n",
    "        )\n",
    "    \n",
    "    print(f'[epoch:{epoch+1}] Val Loss : {np.mean(losses)}, Val Accuracy : {np.mean(corrects)}\\n')\n",
    "    a = np.mean(losses)\n",
    "    b = np.mean(corrects)\n",
    "    loss_list.append(a)\n",
    "    acc_list.append(b)\n",
    "    \n",
    "\n",
    "\n"
   ],
   "metadata": {
    "collapsed": false,
    "ExecuteTime": {
     "end_time": "2024-04-05T05:11:21.914604400Z",
     "start_time": "2024-04-05T05:11:21.797482200Z"
    }
   },
   "id": "e14a5fa9740abca5",
   "execution_count": 35
  },
  {
   "cell_type": "code",
   "outputs": [
    {
     "name": "stdout",
     "output_type": "stream",
     "text": [
      "40/160-> Train Loss  : 0.6912899017333984 | Accuracy 0.625\n",
      "80/160-> Train Loss  : 0.6872233777511411 | Accuracy 0.5685975609756098\n",
      "120/160-> Train Loss  : 0.5405250996535207 | Accuracy 0.7067901234567902\n",
      "160/160-> Train Loss  : 0.44854397757733167 | Accuracy 0.778150826446281\n",
      "[epoch:1] Val Loss : 0.2020319690927863, Val Accuracy : 0.93671875\n",
      "\n",
      "40/160-> Train Loss  : 0.2024417519569397 | Accuracy 0.9375\n",
      "80/160-> Train Loss  : 0.21524259766064038 | Accuracy 0.9298780487804879\n",
      "120/160-> Train Loss  : 0.18792467541348787 | Accuracy 0.941358024691358\n",
      "160/160-> Train Loss  : 0.18001227230141478 | Accuracy 0.9462809917355371\n",
      "[epoch:2] Val Loss : 0.20220841290429234, Val Accuracy : 0.9328125\n",
      "\n",
      "40/160-> Train Loss  : 0.04593934118747711 | Accuracy 1.0\n",
      "80/160-> Train Loss  : 0.13389831940393623 | Accuracy 0.961890243902439\n",
      "120/160-> Train Loss  : 0.1383316526764337 | Accuracy 0.9606481481481481\n",
      "160/160-> Train Loss  : 0.13665831036680987 | Accuracy 0.9591942148760331\n",
      "[epoch:3] Val Loss : 0.16738202096894383, Val Accuracy : 0.95078125\n",
      "\n",
      "40/160-> Train Loss  : 0.06954345852136612 | Accuracy 0.96875\n",
      "80/160-> Train Loss  : 0.093084108425168 | Accuracy 0.9733231707317073\n",
      "120/160-> Train Loss  : 0.0869064409814683 | Accuracy 0.9756944444444444\n",
      "160/160-> Train Loss  : 0.09044198865024758 | Accuracy 0.9744318181818182\n",
      "[epoch:4] Val Loss : 0.15113101480528712, Val Accuracy : 0.9546875\n",
      "\n",
      "40/160-> Train Loss  : 0.03461897745728493 | Accuracy 1.0\n",
      "80/160-> Train Loss  : 0.0476873808926562 | Accuracy 0.9878048780487805\n",
      "120/160-> Train Loss  : 0.04884823846895202 | Accuracy 0.9876543209876543\n",
      "160/160-> Train Loss  : 0.06972309128450584 | Accuracy 0.9816632231404959\n",
      "[epoch:5] Val Loss : 0.18421953648794442, Val Accuracy : 0.9453125\n",
      "\n",
      "40/160-> Train Loss  : 0.014889020472764969 | Accuracy 1.0\n",
      "80/160-> Train Loss  : 0.043241642915257596 | Accuracy 0.9900914634146342\n",
      "120/160-> Train Loss  : 0.05287707780982241 | Accuracy 0.9872685185185185\n",
      "160/160-> Train Loss  : 0.05802460358100982 | Accuracy 0.9852789256198347\n",
      "[epoch:6] Val Loss : 0.16138731776736676, Val Accuracy : 0.959375\n",
      "\n",
      "40/160-> Train Loss  : 0.0065702954307198524 | Accuracy 1.0\n",
      "80/160-> Train Loss  : 0.047776370048068645 | Accuracy 0.9885670731707317\n",
      "120/160-> Train Loss  : 0.0400895420346915 | Accuracy 0.9899691358024691\n",
      "160/160-> Train Loss  : 0.038759506823233335 | Accuracy 0.9907024793388429\n",
      "[epoch:7] Val Loss : 0.1710626154206693, Val Accuracy : 0.95546875\n",
      "\n",
      "40/160-> Train Loss  : 0.01045933272689581 | Accuracy 1.0\n",
      "80/160-> Train Loss  : 0.019452560250079486 | Accuracy 0.9969512195121951\n",
      "120/160-> Train Loss  : 0.024436092449720077 | Accuracy 0.9945987654320988\n",
      "160/160-> Train Loss  : 0.028898376512556712 | Accuracy 0.9932851239669421\n",
      "[epoch:8] Val Loss : 0.14288079710677265, Val Accuracy : 0.96015625\n",
      "\n",
      "40/160-> Train Loss  : 0.013964487239718437 | Accuracy 1.0\n",
      "80/160-> Train Loss  : 0.04039508177012932 | Accuracy 0.9916158536585366\n",
      "120/160-> Train Loss  : 0.04007832855733549 | Accuracy 0.9903549382716049\n",
      "160/160-> Train Loss  : 0.03676939214010192 | Accuracy 0.9901859504132231\n",
      "[epoch:9] Val Loss : 0.18307730031083339, Val Accuracy : 0.95\n",
      "\n",
      "40/160-> Train Loss  : 0.004809414502233267 | Accuracy 1.0\n",
      "80/160-> Train Loss  : 0.016880036274925236 | Accuracy 0.9969512195121951\n",
      "120/160-> Train Loss  : 0.015163549337030194 | Accuracy 0.9969135802469136\n",
      "160/160-> Train Loss  : 0.01726623319189472 | Accuracy 0.9961260330578512\n",
      "[epoch:10] Val Loss : 0.23790160568605642, Val Accuracy : 0.94609375\n",
      "\n",
      "40/160-> Train Loss  : 0.003688561264425516 | Accuracy 1.0\n",
      "80/160-> Train Loss  : 0.011840322563174839 | Accuracy 0.9984756097560976\n",
      "120/160-> Train Loss  : 0.010389624240400016 | Accuracy 0.998070987654321\n",
      "160/160-> Train Loss  : 0.009376717937729236 | Accuracy 0.9974173553719008\n",
      "[epoch:11] Val Loss : 0.20078835775202605, Val Accuracy : 0.95390625\n",
      "\n",
      "40/160-> Train Loss  : 0.0018785317661240697 | Accuracy 1.0\n",
      "80/160-> Train Loss  : 0.009713914344745984 | Accuracy 0.9984756097560976\n",
      "120/160-> Train Loss  : 0.006672104999543754 | Accuracy 0.9992283950617284\n",
      "160/160-> Train Loss  : 0.006785856401124461 | Accuracy 0.9989669421487604\n",
      "[epoch:12] Val Loss : 0.2774812404808472, Val Accuracy : 0.946875\n",
      "\n",
      "40/160-> Train Loss  : 0.0005893080960959196 | Accuracy 1.0\n",
      "80/160-> Train Loss  : 0.004380479205127169 | Accuracy 0.9992378048780488\n",
      "120/160-> Train Loss  : 0.002782349463948911 | Accuracy 0.9996141975308642\n",
      "160/160-> Train Loss  : 0.004580292645322298 | Accuracy 0.9984504132231405\n",
      "[epoch:13] Val Loss : 0.23176920125479228, Val Accuracy : 0.95859375\n",
      "\n",
      "40/160-> Train Loss  : 0.0005465294816531241 | Accuracy 1.0\n",
      "80/160-> Train Loss  : 0.0011899865490793272 | Accuracy 1.0\n",
      "120/160-> Train Loss  : 0.0030076199363526187 | Accuracy 0.9996141975308642\n",
      "160/160-> Train Loss  : 0.004741897895520414 | Accuracy 0.9992252066115702\n",
      "[epoch:14] Val Loss : 0.28743426466135136, Val Accuracy : 0.9578125\n",
      "\n",
      "40/160-> Train Loss  : 0.001432649907656014 | Accuracy 1.0\n",
      "80/160-> Train Loss  : 0.0006920242555746128 | Accuracy 1.0\n",
      "120/160-> Train Loss  : 0.0009072087029639034 | Accuracy 0.9996141975308642\n",
      "160/160-> Train Loss  : 0.001755072290755131 | Accuracy 0.9994834710743802\n",
      "[epoch:15] Val Loss : 0.32483889042487135, Val Accuracy : 0.9546875\n",
      "\n",
      "40/160-> Train Loss  : 0.00043275189818814397 | Accuracy 1.0\n",
      "80/160-> Train Loss  : 0.00045144161430937124 | Accuracy 1.0\n",
      "120/160-> Train Loss  : 0.00039288097774081026 | Accuracy 1.0\n",
      "160/160-> Train Loss  : 0.00038939994273511 | Accuracy 1.0\n",
      "[epoch:16] Val Loss : 0.3676292325442773, Val Accuracy : 0.9484375\n",
      "\n",
      "40/160-> Train Loss  : 0.001269029569812119 | Accuracy 1.0\n",
      "80/160-> Train Loss  : 0.0003866082358687957 | Accuracy 1.0\n",
      "120/160-> Train Loss  : 0.00041595212139698023 | Accuracy 1.0\n",
      "160/160-> Train Loss  : 0.00037404373924349905 | Accuracy 1.0\n",
      "[epoch:17] Val Loss : 0.40111261663323605, Val Accuracy : 0.9453125\n",
      "\n",
      "40/160-> Train Loss  : 0.0005417971988208592 | Accuracy 1.0\n",
      "80/160-> Train Loss  : 0.00025321300323944676 | Accuracy 1.0\n",
      "120/160-> Train Loss  : 0.00023217382068303126 | Accuracy 1.0\n",
      "160/160-> Train Loss  : 0.00022728135893486964 | Accuracy 1.0\n",
      "[epoch:18] Val Loss : 0.42777492725781485, Val Accuracy : 0.9453125\n",
      "\n",
      "40/160-> Train Loss  : 0.00033917874679900706 | Accuracy 1.0\n",
      "80/160-> Train Loss  : 0.00017973926257648754 | Accuracy 1.0\n",
      "120/160-> Train Loss  : 0.00020125124371397871 | Accuracy 1.0\n",
      "160/160-> Train Loss  : 0.0002073328252949113 | Accuracy 1.0\n",
      "[epoch:19] Val Loss : 0.46199838576985713, Val Accuracy : 0.94140625\n",
      "\n",
      "40/160-> Train Loss  : 8.132681250572205e-05 | Accuracy 1.0\n",
      "80/160-> Train Loss  : 0.0002049866264470194 | Accuracy 1.0\n",
      "120/160-> Train Loss  : 0.0001957621503539418 | Accuracy 1.0\n",
      "160/160-> Train Loss  : 0.00018426492608927792 | Accuracy 1.0\n",
      "[epoch:20] Val Loss : 0.47444019010290506, Val Accuracy : 0.94140625\n",
      "\n",
      "40/160-> Train Loss  : 0.0003832075744867325 | Accuracy 1.0\n",
      "80/160-> Train Loss  : 0.00016125758844370977 | Accuracy 1.0\n",
      "120/160-> Train Loss  : 0.0001426394726113807 | Accuracy 1.0\n",
      "160/160-> Train Loss  : 0.0001570430486477442 | Accuracy 1.0\n",
      "[epoch:21] Val Loss : 0.48534470103745664, Val Accuracy : 0.9421875\n",
      "\n",
      "40/160-> Train Loss  : 9.564177162246779e-05 | Accuracy 1.0\n",
      "80/160-> Train Loss  : 0.00012850264563273479 | Accuracy 1.0\n",
      "120/160-> Train Loss  : 0.00013115377621516805 | Accuracy 1.0\n",
      "160/160-> Train Loss  : 0.00011929288356899753 | Accuracy 1.0\n",
      "[epoch:22] Val Loss : 0.4989246355868545, Val Accuracy : 0.9421875\n",
      "\n",
      "40/160-> Train Loss  : 6.918083090567961e-05 | Accuracy 1.0\n",
      "80/160-> Train Loss  : 0.00010817235413081263 | Accuracy 1.0\n",
      "120/160-> Train Loss  : 0.00010769444688102576 | Accuracy 1.0\n",
      "160/160-> Train Loss  : 0.0001005507952522598 | Accuracy 1.0\n",
      "[epoch:23] Val Loss : 0.512730139988571, Val Accuracy : 0.9421875\n",
      "\n",
      "40/160-> Train Loss  : 0.00010344885231461376 | Accuracy 1.0\n",
      "80/160-> Train Loss  : 7.438876047849701e-05 | Accuracy 1.0\n",
      "120/160-> Train Loss  : 0.00010376471856696658 | Accuracy 1.0\n",
      "160/160-> Train Loss  : 0.00010476172406203306 | Accuracy 1.0\n",
      "[epoch:24] Val Loss : 0.5230669697163648, Val Accuracy : 0.94140625\n",
      "\n",
      "40/160-> Train Loss  : 3.326241494505666e-05 | Accuracy 1.0\n",
      "80/160-> Train Loss  : 9.178212748360593e-05 | Accuracy 1.0\n",
      "120/160-> Train Loss  : 9.063527256700952e-05 | Accuracy 1.0\n",
      "160/160-> Train Loss  : 8.92185713939007e-05 | Accuracy 1.0\n",
      "[epoch:25] Val Loss : 0.5305401529892606, Val Accuracy : 0.94140625\n",
      "\n",
      "40/160-> Train Loss  : 2.2850290406495333e-05 | Accuracy 1.0\n",
      "80/160-> Train Loss  : 7.821974408792945e-05 | Accuracy 1.0\n",
      "120/160-> Train Loss  : 7.791392584485835e-05 | Accuracy 1.0\n",
      "160/160-> Train Loss  : 7.619104242110567e-05 | Accuracy 1.0\n",
      "[epoch:26] Val Loss : 0.5425113023618906, Val Accuracy : 0.94140625\n",
      "\n",
      "40/160-> Train Loss  : 4.0571863792138174e-05 | Accuracy 1.0\n",
      "80/160-> Train Loss  : 5.205836523822566e-05 | Accuracy 1.0\n",
      "120/160-> Train Loss  : 6.426590094454212e-05 | Accuracy 1.0\n",
      "160/160-> Train Loss  : 6.938841919285295e-05 | Accuracy 1.0\n",
      "[epoch:27] Val Loss : 0.5546624344093743, Val Accuracy : 0.940625\n",
      "\n",
      "40/160-> Train Loss  : 0.00010557724453974515 | Accuracy 1.0\n",
      "80/160-> Train Loss  : 5.364633296089667e-05 | Accuracy 1.0\n",
      "120/160-> Train Loss  : 5.3755372391606215e-05 | Accuracy 1.0\n",
      "160/160-> Train Loss  : 5.6121465040783083e-05 | Accuracy 1.0\n",
      "[epoch:28] Val Loss : 0.5642178804108425, Val Accuracy : 0.940625\n",
      "\n",
      "40/160-> Train Loss  : 8.762598736211658e-05 | Accuracy 1.0\n",
      "80/160-> Train Loss  : 5.205764065932471e-05 | Accuracy 1.0\n",
      "120/160-> Train Loss  : 5.863951318369126e-05 | Accuracy 1.0\n",
      "160/160-> Train Loss  : 5.5925480169696306e-05 | Accuracy 1.0\n",
      "[epoch:29] Val Loss : 0.581218692363177, Val Accuracy : 0.94140625\n",
      "\n",
      "40/160-> Train Loss  : 1.661063652136363e-05 | Accuracy 1.0\n",
      "80/160-> Train Loss  : 4.485477088232207e-05 | Accuracy 1.0\n",
      "120/160-> Train Loss  : 4.682318593287714e-05 | Accuracy 1.0\n",
      "160/160-> Train Loss  : 4.3637343796118245e-05 | Accuracy 1.0\n",
      "[epoch:30] Val Loss : 0.5882072863028952, Val Accuracy : 0.94140625\n",
      "\n",
      "40/160-> Train Loss  : 4.280309804016724e-05 | Accuracy 1.0\n",
      "80/160-> Train Loss  : 4.4180407291228556e-05 | Accuracy 1.0\n",
      "120/160-> Train Loss  : 4.454096864562562e-05 | Accuracy 1.0\n",
      "160/160-> Train Loss  : 4.225442551028547e-05 | Accuracy 1.0\n",
      "[epoch:31] Val Loss : 0.6005249094442547, Val Accuracy : 0.940625\n",
      "\n",
      "40/160-> Train Loss  : 2.392963506281376e-05 | Accuracy 1.0\n",
      "80/160-> Train Loss  : 5.1948243486638205e-05 | Accuracy 1.0\n",
      "120/160-> Train Loss  : 5.4987517188114174e-05 | Accuracy 1.0\n",
      "160/160-> Train Loss  : 4.8644830671533285e-05 | Accuracy 1.0\n",
      "[epoch:32] Val Loss : 0.9009199264863128, Val Accuracy : 0.9203125\n",
      "\n",
      "40/160-> Train Loss  : 3.14399840135593e-05 | Accuracy 1.0\n",
      "80/160-> Train Loss  : 0.06497619421096294 | Accuracy 0.9939024390243902\n",
      "120/160-> Train Loss  : 0.077032572448057 | Accuracy 0.9895833333333334\n",
      "160/160-> Train Loss  : 0.2247737409706366 | Accuracy 0.8990185950413223\n",
      "[epoch:33] Val Loss : 0.5527247712016106, Val Accuracy : 0.665625\n",
      "\n",
      "40/160-> Train Loss  : 0.5816640853881836 | Accuracy 0.625\n",
      "80/160-> Train Loss  : 0.504557134174719 | Accuracy 0.7103658536585366\n",
      "120/160-> Train Loss  : 0.4482565623374633 | Accuracy 0.7476851851851852\n",
      "160/160-> Train Loss  : 0.37288158790262277 | Accuracy 0.8096590909090909\n",
      "[epoch:34] Val Loss : 0.22552816341631116, Val Accuracy : 0.93203125\n",
      "\n",
      "40/160-> Train Loss  : 0.06109662353992462 | Accuracy 0.96875\n",
      "80/160-> Train Loss  : 0.09971561405535151 | Accuracy 0.9717987804878049\n",
      "120/160-> Train Loss  : 0.08955050072414272 | Accuracy 0.9749228395061729\n",
      "160/160-> Train Loss  : 0.079046227661354 | Accuracy 0.9772727272727273\n",
      "[epoch:35] Val Loss : 0.20141785847954452, Val Accuracy : 0.946875\n",
      "\n",
      "40/160-> Train Loss  : 0.01531915832310915 | Accuracy 1.0\n",
      "80/160-> Train Loss  : 0.03475536381053489 | Accuracy 0.9923780487804879\n",
      "120/160-> Train Loss  : 0.035518696494285525 | Accuracy 0.9911265432098766\n",
      "160/160-> Train Loss  : 0.029677632749696408 | Accuracy 0.9927685950413223\n",
      "[epoch:36] Val Loss : 0.21335337317432276, Val Accuracy : 0.9484375\n",
      "\n",
      "40/160-> Train Loss  : 0.0034620657097548246 | Accuracy 1.0\n",
      "80/160-> Train Loss  : 0.015570132368494098 | Accuracy 0.9946646341463414\n",
      "120/160-> Train Loss  : 0.01317638828114457 | Accuracy 0.9957561728395061\n",
      "160/160-> Train Loss  : 0.012370687911348524 | Accuracy 0.9963842975206612\n",
      "[epoch:37] Val Loss : 0.33595467483391983, Val Accuracy : 0.9375\n",
      "\n",
      "40/160-> Train Loss  : 0.003835993353277445 | Accuracy 1.0\n",
      "80/160-> Train Loss  : 0.011535235941864369 | Accuracy 0.9969512195121951\n",
      "120/160-> Train Loss  : 0.014132028138035057 | Accuracy 0.9969135802469136\n",
      "160/160-> Train Loss  : 0.014151920077644965 | Accuracy 0.9966425619834711\n",
      "[epoch:38] Val Loss : 0.2525793972919928, Val Accuracy : 0.94296875\n",
      "\n",
      "40/160-> Train Loss  : 0.0021278690546751022 | Accuracy 1.0\n",
      "80/160-> Train Loss  : 0.009100162881290222 | Accuracy 0.9992378048780488\n",
      "120/160-> Train Loss  : 0.00597323923598814 | Accuracy 0.9992283950617284\n",
      "160/160-> Train Loss  : 0.004577623591719826 | Accuracy 0.9994834710743802\n",
      "[epoch:39] Val Loss : 0.3108854924117622, Val Accuracy : 0.9390625\n",
      "\n",
      "40/160-> Train Loss  : 0.0015124179190024734 | Accuracy 1.0\n",
      "80/160-> Train Loss  : 0.006232887743574726 | Accuracy 0.9984756097560976\n",
      "120/160-> Train Loss  : 0.011886465171334782 | Accuracy 0.998070987654321\n",
      "160/160-> Train Loss  : 0.008874388820056858 | Accuracy 0.9984504132231405\n",
      "[epoch:40] Val Loss : 0.34045440772169966, Val Accuracy : 0.94296875\n",
      "\n",
      "40/160-> Train Loss  : 0.0015943007310852408 | Accuracy 1.0\n",
      "80/160-> Train Loss  : 0.005669027528577916 | Accuracy 0.9992378048780488\n",
      "120/160-> Train Loss  : 0.003440657135438358 | Accuracy 0.9996141975308642\n",
      "160/160-> Train Loss  : 0.006407869962421207 | Accuracy 0.9992252066115702\n",
      "[epoch:41] Val Loss : 0.33673684752357075, Val Accuracy : 0.94765625\n",
      "\n",
      "40/160-> Train Loss  : 0.001153392600826919 | Accuracy 1.0\n",
      "80/160-> Train Loss  : 0.0011932186203122866 | Accuracy 1.0\n",
      "120/160-> Train Loss  : 0.006319253351165695 | Accuracy 0.9992283950617284\n",
      "160/160-> Train Loss  : 0.00914159410129001 | Accuracy 0.9981921487603306\n",
      "[epoch:42] Val Loss : 0.3097337951505324, Val Accuracy : 0.940625\n",
      "\n",
      "40/160-> Train Loss  : 0.0011986205354332924 | Accuracy 1.0\n",
      "80/160-> Train Loss  : 0.013851057400177346 | Accuracy 0.9969512195121951\n",
      "120/160-> Train Loss  : 0.014044493451185617 | Accuracy 0.9969135802469136\n",
      "160/160-> Train Loss  : 0.01693385601436242 | Accuracy 0.9953512396694215\n",
      "[epoch:43] Val Loss : 0.29617171956706445, Val Accuracy : 0.93671875\n",
      "\n",
      "40/160-> Train Loss  : 0.0012371214106678963 | Accuracy 1.0\n",
      "80/160-> Train Loss  : 0.007297763977875569 | Accuracy 0.9992378048780488\n",
      "120/160-> Train Loss  : 0.005072424277723594 | Accuracy 0.9992283950617284\n",
      "160/160-> Train Loss  : 0.004064385636569162 | Accuracy 0.9994834710743802\n",
      "[epoch:44] Val Loss : 0.41079353335371704, Val Accuracy : 0.9234375\n",
      "\n",
      "40/160-> Train Loss  : 0.003697211854159832 | Accuracy 1.0\n",
      "80/160-> Train Loss  : 0.0151350940350534 | Accuracy 0.9946646341463414\n",
      "120/160-> Train Loss  : 0.008153474246536922 | Accuracy 0.9972993827160493\n",
      "160/160-> Train Loss  : 0.009814031645107229 | Accuracy 0.9976756198347108\n",
      "[epoch:45] Val Loss : 0.2713619711204956, Val Accuracy : 0.946875\n",
      "\n",
      "40/160-> Train Loss  : 0.0013119860086590052 | Accuracy 1.0\n",
      "80/160-> Train Loss  : 0.005557262659549895 | Accuracy 0.9992378048780488\n",
      "120/160-> Train Loss  : 0.003251707365658755 | Accuracy 0.9996141975308642\n",
      "160/160-> Train Loss  : 0.0024111599703261644 | Accuracy 0.99974173553719\n",
      "[epoch:46] Val Loss : 0.2956412984709459, Val Accuracy : 0.9453125\n",
      "\n",
      "40/160-> Train Loss  : 0.00026223924942314625 | Accuracy 1.0\n",
      "80/160-> Train Loss  : 0.01135756955169732 | Accuracy 0.9984756097560976\n",
      "120/160-> Train Loss  : 0.006189522263019082 | Accuracy 0.9992283950617284\n",
      "160/160-> Train Loss  : 0.0043993780241744235 | Accuracy 0.9994834710743802\n",
      "[epoch:47] Val Loss : 0.3039849453314673, Val Accuracy : 0.94609375\n",
      "\n",
      "40/160-> Train Loss  : 0.0007341416203416884 | Accuracy 1.0\n",
      "80/160-> Train Loss  : 0.0006569890538230538 | Accuracy 1.0\n",
      "120/160-> Train Loss  : 0.0006158916976009668 | Accuracy 1.0\n",
      "160/160-> Train Loss  : 0.0006090926125738 | Accuracy 1.0\n",
      "[epoch:48] Val Loss : 0.657640173487016, Val Accuracy : 0.91015625\n",
      "\n",
      "40/160-> Train Loss  : 0.026767075061798096 | Accuracy 0.96875\n",
      "80/160-> Train Loss  : 0.029482455598332395 | Accuracy 0.9923780487804879\n",
      "120/160-> Train Loss  : 0.024115674703218112 | Accuracy 0.9942129629629629\n",
      "160/160-> Train Loss  : 0.017695868338269666 | Accuracy 0.9953512396694215\n",
      "[epoch:49] Val Loss : 0.2897254234914726, Val Accuracy : 0.9484375\n",
      "\n",
      "40/160-> Train Loss  : 0.0009363574208691716 | Accuracy 1.0\n",
      "80/160-> Train Loss  : 0.0011536025956114073 | Accuracy 1.0\n",
      "120/160-> Train Loss  : 0.004679602906064785 | Accuracy 0.9992283950617284\n",
      "160/160-> Train Loss  : 0.00413082952467794 | Accuracy 0.9992252066115702\n",
      "[epoch:50] Val Loss : 0.3298681392407161, Val Accuracy : 0.93984375\n",
      "\n",
      "40/160-> Train Loss  : 0.00029752217233181 | Accuracy 1.0\n",
      "80/160-> Train Loss  : 0.0007234555026715076 | Accuracy 1.0\n",
      "120/160-> Train Loss  : 0.0006236515491539728 | Accuracy 1.0\n",
      "160/160-> Train Loss  : 0.0006056055321968122 | Accuracy 1.0\n",
      "[epoch:51] Val Loss : 0.35364505448287675, Val Accuracy : 0.940625\n",
      "\n",
      "40/160-> Train Loss  : 0.0008989849593490362 | Accuracy 1.0\n",
      "80/160-> Train Loss  : 0.0004934417428136463 | Accuracy 1.0\n",
      "120/160-> Train Loss  : 0.0004885440645056754 | Accuracy 1.0\n",
      "160/160-> Train Loss  : 0.0004634325362358065 | Accuracy 1.0\n",
      "[epoch:52] Val Loss : 0.36093264222145083, Val Accuracy : 0.94140625\n",
      "\n",
      "40/160-> Train Loss  : 0.0006810564082115889 | Accuracy 1.0\n",
      "80/160-> Train Loss  : 0.00031875017760662225 | Accuracy 1.0\n",
      "120/160-> Train Loss  : 0.0003744466939005414 | Accuracy 1.0\n",
      "160/160-> Train Loss  : 0.0003369449944382587 | Accuracy 1.0\n",
      "[epoch:53] Val Loss : 0.3720478716820253, Val Accuracy : 0.94140625\n",
      "\n",
      "40/160-> Train Loss  : 0.00015112219261936843 | Accuracy 1.0\n",
      "80/160-> Train Loss  : 0.00023661733824311096 | Accuracy 1.0\n",
      "120/160-> Train Loss  : 0.0002260158025482842 | Accuracy 1.0\n",
      "160/160-> Train Loss  : 0.00021911359471240088 | Accuracy 1.0\n",
      "[epoch:54] Val Loss : 0.38169107563780924, Val Accuracy : 0.94140625\n",
      "\n",
      "40/160-> Train Loss  : 0.0002348224661545828 | Accuracy 1.0\n",
      "80/160-> Train Loss  : 0.0002040055337491184 | Accuracy 1.0\n",
      "120/160-> Train Loss  : 0.00021364581258284836 | Accuracy 1.0\n",
      "160/160-> Train Loss  : 0.0002572149964526184 | Accuracy 1.0\n",
      "[epoch:55] Val Loss : 0.3869781299450551, Val Accuracy : 0.94140625\n",
      "\n",
      "40/160-> Train Loss  : 0.0001643231516936794 | Accuracy 1.0\n",
      "80/160-> Train Loss  : 0.0001794740999729384 | Accuracy 1.0\n",
      "120/160-> Train Loss  : 0.00017994890543007017 | Accuracy 1.0\n",
      "160/160-> Train Loss  : 0.00017830343332650593 | Accuracy 1.0\n",
      "[epoch:56] Val Loss : 0.4017681976633412, Val Accuracy : 0.94140625\n",
      "\n",
      "40/160-> Train Loss  : 6.67023632558994e-05 | Accuracy 1.0\n",
      "80/160-> Train Loss  : 0.00013843270390657937 | Accuracy 1.0\n",
      "120/160-> Train Loss  : 0.00012321299571474946 | Accuracy 1.0\n",
      "160/160-> Train Loss  : 0.00012122171362481958 | Accuracy 1.0\n",
      "[epoch:57] Val Loss : 0.4097441339141824, Val Accuracy : 0.94140625\n",
      "\n",
      "40/160-> Train Loss  : 8.483647980028763e-05 | Accuracy 1.0\n",
      "80/160-> Train Loss  : 0.00011154596953618726 | Accuracy 1.0\n",
      "120/160-> Train Loss  : 0.0001237931638222366 | Accuracy 1.0\n",
      "160/160-> Train Loss  : 0.00012270126950350774 | Accuracy 1.0\n",
      "[epoch:58] Val Loss : 0.4185000352309089, Val Accuracy : 0.94140625\n",
      "\n",
      "40/160-> Train Loss  : 5.276440060697496e-05 | Accuracy 1.0\n",
      "80/160-> Train Loss  : 0.00011090254018909479 | Accuracy 1.0\n",
      "120/160-> Train Loss  : 0.00011596815961694782 | Accuracy 1.0\n",
      "160/160-> Train Loss  : 0.00010824458913402324 | Accuracy 1.0\n",
      "[epoch:59] Val Loss : 0.4240688978876278, Val Accuracy : 0.94140625\n",
      "\n",
      "40/160-> Train Loss  : 6.731167377438396e-05 | Accuracy 1.0\n",
      "80/160-> Train Loss  : 0.00010285597787382047 | Accuracy 1.0\n",
      "120/160-> Train Loss  : 0.00010078084046710254 | Accuracy 1.0\n",
      "160/160-> Train Loss  : 0.0001017239940943714 | Accuracy 1.0\n",
      "[epoch:60] Val Loss : 0.432654916441561, Val Accuracy : 0.94140625\n",
      "\n",
      "40/160-> Train Loss  : 7.245063170557842e-05 | Accuracy 1.0\n",
      "80/160-> Train Loss  : 7.912807756461339e-05 | Accuracy 1.0\n",
      "120/160-> Train Loss  : 7.45635081532075e-05 | Accuracy 1.0\n",
      "160/160-> Train Loss  : 7.531125555950224e-05 | Accuracy 1.0\n",
      "[epoch:61] Val Loss : 0.43900267949020416, Val Accuracy : 0.94140625\n",
      "\n",
      "40/160-> Train Loss  : 0.00021920008293818682 | Accuracy 1.0\n",
      "80/160-> Train Loss  : 6.141404615269361e-05 | Accuracy 1.0\n",
      "120/160-> Train Loss  : 6.016965598524778e-05 | Accuracy 1.0\n",
      "160/160-> Train Loss  : 6.261303545118209e-05 | Accuracy 1.0\n",
      "[epoch:62] Val Loss : 0.44543963769378936, Val Accuracy : 0.94140625\n",
      "\n",
      "40/160-> Train Loss  : 7.605649443576112e-05 | Accuracy 1.0\n",
      "80/160-> Train Loss  : 6.284755383559258e-05 | Accuracy 1.0\n",
      "120/160-> Train Loss  : 6.0161071511780996e-05 | Accuracy 1.0\n",
      "160/160-> Train Loss  : 5.9953594365862415e-05 | Accuracy 1.0\n",
      "[epoch:63] Val Loss : 0.4671259411042456, Val Accuracy : 0.94296875\n",
      "\n",
      "40/160-> Train Loss  : 3.6609322705771774e-05 | Accuracy 1.0\n",
      "80/160-> Train Loss  : 5.208100225079362e-05 | Accuracy 1.0\n",
      "120/160-> Train Loss  : 6.696128242945207e-05 | Accuracy 1.0\n",
      "160/160-> Train Loss  : 6.666509029893243e-05 | Accuracy 1.0\n",
      "[epoch:64] Val Loss : 0.46731076990568, Val Accuracy : 0.9453125\n",
      "\n",
      "40/160-> Train Loss  : 0.00010067017865367234 | Accuracy 1.0\n",
      "80/160-> Train Loss  : 5.0839370465482495e-05 | Accuracy 1.0\n",
      "120/160-> Train Loss  : 5.539213176504105e-05 | Accuracy 1.0\n",
      "160/160-> Train Loss  : 5.321914199728871e-05 | Accuracy 1.0\n",
      "[epoch:65] Val Loss : 0.47002024211242316, Val Accuracy : 0.94453125\n",
      "\n",
      "40/160-> Train Loss  : 2.5088123948080465e-05 | Accuracy 1.0\n",
      "80/160-> Train Loss  : 4.577046135037984e-05 | Accuracy 1.0\n",
      "120/160-> Train Loss  : 4.829474240933102e-05 | Accuracy 1.0\n",
      "160/160-> Train Loss  : 4.7914199862405e-05 | Accuracy 1.0\n",
      "[epoch:66] Val Loss : 0.4718803566764109, Val Accuracy : 0.94453125\n",
      "\n",
      "40/160-> Train Loss  : 2.37365147768287e-05 | Accuracy 1.0\n",
      "80/160-> Train Loss  : 4.2528271323379423e-05 | Accuracy 1.0\n",
      "120/160-> Train Loss  : 3.9762584694674137e-05 | Accuracy 1.0\n",
      "160/160-> Train Loss  : 4.19219717484286e-05 | Accuracy 1.0\n",
      "[epoch:67] Val Loss : 0.47715868254549604, Val Accuracy : 0.94375\n",
      "\n",
      "40/160-> Train Loss  : 2.7121846869704314e-05 | Accuracy 1.0\n",
      "80/160-> Train Loss  : 2.846475313052041e-05 | Accuracy 1.0\n",
      "120/160-> Train Loss  : 3.364391874510832e-05 | Accuracy 1.0\n",
      "160/160-> Train Loss  : 3.3455757478474304e-05 | Accuracy 1.0\n",
      "[epoch:68] Val Loss : 0.483109996451617, Val Accuracy : 0.94375\n",
      "\n",
      "40/160-> Train Loss  : 1.4870949598844163e-05 | Accuracy 1.0\n",
      "80/160-> Train Loss  : 3.21780614130392e-05 | Accuracy 1.0\n",
      "120/160-> Train Loss  : 3.42956191386214e-05 | Accuracy 1.0\n",
      "160/160-> Train Loss  : 3.446635611742915e-05 | Accuracy 1.0\n",
      "[epoch:69] Val Loss : 0.4893166311725622, Val Accuracy : 0.94375\n",
      "\n",
      "40/160-> Train Loss  : 3.022062810487114e-05 | Accuracy 1.0\n",
      "80/160-> Train Loss  : 5.629552624224921e-05 | Accuracy 1.0\n",
      "120/160-> Train Loss  : 4.233583723800149e-05 | Accuracy 1.0\n",
      "160/160-> Train Loss  : 3.779666458135317e-05 | Accuracy 1.0\n",
      "[epoch:70] Val Loss : 0.49142600534974007, Val Accuracy : 0.94375\n",
      "\n",
      "40/160-> Train Loss  : 9.625902748666704e-06 | Accuracy 1.0\n",
      "80/160-> Train Loss  : 2.3411226654233603e-05 | Accuracy 1.0\n",
      "120/160-> Train Loss  : 2.408294241472448e-05 | Accuracy 1.0\n",
      "160/160-> Train Loss  : 2.4483489386143483e-05 | Accuracy 1.0\n",
      "[epoch:71] Val Loss : 0.49678459953497056, Val Accuracy : 0.94375\n",
      "\n",
      "40/160-> Train Loss  : 2.5435232601012103e-05 | Accuracy 1.0\n",
      "80/160-> Train Loss  : 2.705270427080594e-05 | Accuracy 1.0\n",
      "120/160-> Train Loss  : 2.2944102137904494e-05 | Accuracy 1.0\n",
      "160/160-> Train Loss  : 2.1355553683838668e-05 | Accuracy 1.0\n",
      "[epoch:72] Val Loss : 0.5036024921796809, Val Accuracy : 0.94375\n",
      "\n",
      "40/160-> Train Loss  : 5.0949412980116904e-05 | Accuracy 1.0\n",
      "80/160-> Train Loss  : 2.0982713378055826e-05 | Accuracy 1.0\n",
      "120/160-> Train Loss  : 1.9870585775707797e-05 | Accuracy 1.0\n",
      "160/160-> Train Loss  : 1.9917981856353948e-05 | Accuracy 1.0\n",
      "[epoch:73] Val Loss : 0.5086414671670809, Val Accuracy : 0.94375\n",
      "\n",
      "40/160-> Train Loss  : 6.675660642940784e-06 | Accuracy 1.0\n",
      "80/160-> Train Loss  : 2.579829739571745e-05 | Accuracy 1.0\n",
      "120/160-> Train Loss  : 2.1404621189324162e-05 | Accuracy 1.0\n",
      "160/160-> Train Loss  : 1.9730092234124092e-05 | Accuracy 1.0\n",
      "[epoch:74] Val Loss : 0.5090736882656813, Val Accuracy : 0.94375\n",
      "\n",
      "40/160-> Train Loss  : 2.5088251277338713e-05 | Accuracy 1.0\n",
      "80/160-> Train Loss  : 1.4153266808379403e-05 | Accuracy 1.0\n",
      "120/160-> Train Loss  : 1.5757952766122157e-05 | Accuracy 1.0\n",
      "160/160-> Train Loss  : 1.630677257888553e-05 | Accuracy 1.0\n",
      "[epoch:75] Val Loss : 0.5135718737986338, Val Accuracy : 0.94375\n",
      "\n",
      "40/160-> Train Loss  : 1.3548426068155095e-05 | Accuracy 1.0\n",
      "80/160-> Train Loss  : 1.7288329140350603e-05 | Accuracy 1.0\n",
      "120/160-> Train Loss  : 1.619829335039766e-05 | Accuracy 1.0\n",
      "160/160-> Train Loss  : 1.6239393336630104e-05 | Accuracy 1.0\n",
      "[epoch:76] Val Loss : 0.5189370295910465, Val Accuracy : 0.94375\n",
      "\n",
      "40/160-> Train Loss  : 3.2042706152424216e-05 | Accuracy 1.0\n",
      "80/160-> Train Loss  : 1.855225966165762e-05 | Accuracy 1.0\n",
      "120/160-> Train Loss  : 1.588997600793161e-05 | Accuracy 1.0\n",
      "160/160-> Train Loss  : 1.7199714849152206e-05 | Accuracy 1.0\n",
      "[epoch:77] Val Loss : 0.5275585136922956, Val Accuracy : 0.94375\n",
      "\n",
      "40/160-> Train Loss  : 1.2978591257706285e-05 | Accuracy 1.0\n",
      "80/160-> Train Loss  : 1.464106125928172e-05 | Accuracy 1.0\n",
      "120/160-> Train Loss  : 1.918198162412061e-05 | Accuracy 1.0\n",
      "160/160-> Train Loss  : 1.6995580944999083e-05 | Accuracy 1.0\n",
      "[epoch:78] Val Loss : 0.5340518260409908, Val Accuracy : 0.94375\n",
      "\n",
      "40/160-> Train Loss  : 2.0564775695675053e-05 | Accuracy 1.0\n",
      "80/160-> Train Loss  : 1.13099320060428e-05 | Accuracy 1.0\n",
      "120/160-> Train Loss  : 1.2408899254768147e-05 | Accuracy 1.0\n",
      "160/160-> Train Loss  : 1.208436453663494e-05 | Accuracy 1.0\n",
      "[epoch:79] Val Loss : 0.5390698110181603, Val Accuracy : 0.94375\n",
      "\n",
      "40/160-> Train Loss  : 5.990208592265844e-06 | Accuracy 1.0\n",
      "80/160-> Train Loss  : 1.4713499451051864e-05 | Accuracy 1.0\n",
      "120/160-> Train Loss  : 1.3268396085348084e-05 | Accuracy 1.0\n",
      "160/160-> Train Loss  : 1.1815024746200917e-05 | Accuracy 1.0\n",
      "[epoch:80] Val Loss : 0.5441373781004017, Val Accuracy : 0.94375\n",
      "\n",
      "40/160-> Train Loss  : 4.690070454671513e-06 | Accuracy 1.0\n",
      "80/160-> Train Loss  : 7.213946801351906e-06 | Accuracy 1.0\n",
      "120/160-> Train Loss  : 1.0159927507719444e-05 | Accuracy 1.0\n",
      "160/160-> Train Loss  : 9.638630828237732e-06 | Accuracy 1.0\n",
      "[epoch:81] Val Loss : 0.5491895857731379, Val Accuracy : 0.94375\n",
      "\n",
      "40/160-> Train Loss  : 7.200817890407052e-06 | Accuracy 1.0\n",
      "80/160-> Train Loss  : 6.883185056810872e-06 | Accuracy 1.0\n",
      "120/160-> Train Loss  : 7.119696735773889e-06 | Accuracy 1.0\n",
      "160/160-> Train Loss  : 8.361503632878631e-06 | Accuracy 1.0\n",
      "[epoch:82] Val Loss : 0.5528651835908448, Val Accuracy : 0.94375\n",
      "\n",
      "40/160-> Train Loss  : 8.225184501498006e-06 | Accuracy 1.0\n",
      "80/160-> Train Loss  : 1.0222688360510978e-05 | Accuracy 1.0\n",
      "120/160-> Train Loss  : 1.3135808441723912e-05 | Accuracy 1.0\n",
      "160/160-> Train Loss  : 1.1748198373372496e-05 | Accuracy 1.0\n",
      "[epoch:83] Val Loss : 0.5591104210942831, Val Accuracy : 0.94453125\n",
      "\n",
      "40/160-> Train Loss  : 3.345275445099105e-06 | Accuracy 1.0\n",
      "80/160-> Train Loss  : 6.957289476148861e-06 | Accuracy 1.0\n",
      "120/160-> Train Loss  : 7.227260036898646e-06 | Accuracy 1.0\n",
      "160/160-> Train Loss  : 7.487032238834428e-06 | Accuracy 1.0\n",
      "[epoch:84] Val Loss : 0.5660212000752296, Val Accuracy : 0.94453125\n",
      "\n",
      "40/160-> Train Loss  : 1.927095217979513e-05 | Accuracy 1.0\n",
      "80/160-> Train Loss  : 8.478924586398069e-06 | Accuracy 1.0\n",
      "120/160-> Train Loss  : 7.90787472385686e-06 | Accuracy 1.0\n",
      "160/160-> Train Loss  : 8.14701393924337e-06 | Accuracy 1.0\n",
      "[epoch:85] Val Loss : 0.5681178893172187, Val Accuracy : 0.9453125\n",
      "\n",
      "40/160-> Train Loss  : 3.0398193757719127e-06 | Accuracy 1.0\n",
      "80/160-> Train Loss  : 6.491031944356442e-06 | Accuracy 1.0\n",
      "120/160-> Train Loss  : 6.453672396511127e-06 | Accuracy 1.0\n",
      "160/160-> Train Loss  : 6.1305770388143105e-06 | Accuracy 1.0\n",
      "[epoch:86] Val Loss : 0.5753695375014246, Val Accuracy : 0.9453125\n",
      "\n",
      "40/160-> Train Loss  : 2.969041133837891e-06 | Accuracy 1.0\n",
      "80/160-> Train Loss  : 6.162829333511692e-06 | Accuracy 1.0\n",
      "120/160-> Train Loss  : 6.447825304899141e-06 | Accuracy 1.0\n",
      "160/160-> Train Loss  : 6.047975509510019e-06 | Accuracy 1.0\n",
      "[epoch:87] Val Loss : 0.5627891405437182, Val Accuracy : 0.9453125\n",
      "\n",
      "40/160-> Train Loss  : 3.0658807190775406e-06 | Accuracy 1.0\n",
      "80/160-> Train Loss  : 4.507855552252827e-06 | Accuracy 1.0\n",
      "120/160-> Train Loss  : 6.614295675380735e-06 | Accuracy 1.0\n",
      "160/160-> Train Loss  : 5.832420802511674e-06 | Accuracy 1.0\n",
      "[epoch:88] Val Loss : 0.5679214990508143, Val Accuracy : 0.9453125\n",
      "\n",
      "40/160-> Train Loss  : 8.180359145626426e-06 | Accuracy 1.0\n",
      "80/160-> Train Loss  : 7.92503986181922e-06 | Accuracy 1.0\n",
      "120/160-> Train Loss  : 6.0176967320521616e-06 | Accuracy 1.0\n",
      "160/160-> Train Loss  : 6.057093914538305e-06 | Accuracy 1.0\n",
      "[epoch:89] Val Loss : 0.574752057580757, Val Accuracy : 0.94609375\n",
      "\n",
      "40/160-> Train Loss  : 1.4267822052715928e-06 | Accuracy 1.0\n",
      "80/160-> Train Loss  : 3.5912363320521096e-06 | Accuracy 1.0\n",
      "120/160-> Train Loss  : 4.5964859944792866e-06 | Accuracy 1.0\n",
      "160/160-> Train Loss  : 4.793084361262877e-06 | Accuracy 1.0\n",
      "[epoch:90] Val Loss : 0.5819283989814593, Val Accuracy : 0.94609375\n",
      "\n",
      "40/160-> Train Loss  : 2.298490244356799e-06 | Accuracy 1.0\n",
      "80/160-> Train Loss  : 7.97268054190304e-06 | Accuracy 1.0\n",
      "120/160-> Train Loss  : 6.23869227203254e-06 | Accuracy 1.0\n",
      "160/160-> Train Loss  : 6.09971914870156e-06 | Accuracy 1.0\n",
      "[epoch:91] Val Loss : 0.5899226439126235, Val Accuracy : 0.94609375\n",
      "\n",
      "40/160-> Train Loss  : 3.6246572108211694e-06 | Accuracy 1.0\n",
      "80/160-> Train Loss  : 4.7538792927764185e-06 | Accuracy 1.0\n",
      "120/160-> Train Loss  : 4.025908232475603e-06 | Accuracy 1.0\n",
      "160/160-> Train Loss  : 3.996942408943036e-06 | Accuracy 1.0\n",
      "[epoch:92] Val Loss : 0.5971725969636722, Val Accuracy : 0.94609375\n",
      "\n",
      "40/160-> Train Loss  : 3.9188935261336155e-06 | Accuracy 1.0\n",
      "80/160-> Train Loss  : 3.543354842449622e-06 | Accuracy 1.0\n",
      "120/160-> Train Loss  : 3.3783018258513893e-06 | Accuracy 1.0\n",
      "160/160-> Train Loss  : 3.7542964944745002e-06 | Accuracy 1.0\n",
      "[epoch:93] Val Loss : 0.6026021493049477, Val Accuracy : 0.94609375\n",
      "\n",
      "40/160-> Train Loss  : 6.411019057850353e-06 | Accuracy 1.0\n",
      "80/160-> Train Loss  : 2.873567532693725e-06 | Accuracy 1.0\n",
      "120/160-> Train Loss  : 3.243933422128167e-06 | Accuracy 1.0\n",
      "160/160-> Train Loss  : 3.21363039607747e-06 | Accuracy 1.0\n",
      "[epoch:94] Val Loss : 0.6086956146407253, Val Accuracy : 0.9453125\n",
      "\n",
      "40/160-> Train Loss  : 1.2069890544808004e-06 | Accuracy 1.0\n",
      "80/160-> Train Loss  : 3.11524788699211e-06 | Accuracy 1.0\n",
      "120/160-> Train Loss  : 2.8228290725592945e-06 | Accuracy 1.0\n",
      "160/160-> Train Loss  : 2.6425492781673855e-06 | Accuracy 1.0\n",
      "[epoch:95] Val Loss : 0.613789647558065, Val Accuracy : 0.9453125\n",
      "\n",
      "40/160-> Train Loss  : 8.754400937505125e-07 | Accuracy 1.0\n",
      "80/160-> Train Loss  : 3.671443997385412e-06 | Accuracy 1.0\n",
      "120/160-> Train Loss  : 2.8851113353522563e-06 | Accuracy 1.0\n",
      "160/160-> Train Loss  : 2.929767794010647e-06 | Accuracy 1.0\n",
      "[epoch:96] Val Loss : 0.6217366312846913, Val Accuracy : 0.9453125\n",
      "\n",
      "40/160-> Train Loss  : 7.897597242845222e-07 | Accuracy 1.0\n",
      "80/160-> Train Loss  : 3.5922392724820027e-06 | Accuracy 1.0\n",
      "120/160-> Train Loss  : 3.0742030294684385e-06 | Accuracy 1.0\n",
      "160/160-> Train Loss  : 3.5393805925254173e-06 | Accuracy 1.0\n",
      "[epoch:97] Val Loss : 0.6292187088055792, Val Accuracy : 0.9453125\n",
      "\n",
      "40/160-> Train Loss  : 8.419132200288004e-07 | Accuracy 1.0\n",
      "80/160-> Train Loss  : 2.3765093791409038e-06 | Accuracy 1.0\n",
      "120/160-> Train Loss  : 3.2566827251735554e-06 | Accuracy 1.0\n",
      "160/160-> Train Loss  : 3.084867345974503e-06 | Accuracy 1.0\n",
      "[epoch:98] Val Loss : 0.63146703299626, Val Accuracy : 0.9453125\n",
      "\n",
      "40/160-> Train Loss  : 9.68572521742317e-07 | Accuracy 1.0\n",
      "80/160-> Train Loss  : 3.493786051621566e-06 | Accuracy 1.0\n",
      "120/160-> Train Loss  : 3.6588418134265844e-06 | Accuracy 1.0\n",
      "160/160-> Train Loss  : 3.017326616029005e-06 | Accuracy 1.0\n",
      "[epoch:99] Val Loss : 0.6375269446871226, Val Accuracy : 0.9453125\n",
      "\n",
      "40/160-> Train Loss  : 9.871984048004379e-07 | Accuracy 1.0\n",
      "80/160-> Train Loss  : 2.479681338571958e-06 | Accuracy 1.0\n",
      "120/160-> Train Loss  : 2.2428106187059407e-06 | Accuracy 1.0\n",
      "160/160-> Train Loss  : 2.29023299645392e-06 | Accuracy 1.0\n",
      "[epoch:100] Val Loss : 0.6420381405557247, Val Accuracy : 0.9453125\n"
     ]
    }
   ],
   "source": [
    "for epoch in range(epochs):\n",
    "    train(classifier, trainDL, criterion, optimizer, device, interval)\n",
    "    test(classifier, validDL, criterion, device, epoch)"
   ],
   "metadata": {
    "collapsed": false,
    "ExecuteTime": {
     "end_time": "2024-04-04T16:25:09.192521900Z",
     "start_time": "2024-04-04T16:13:26.929887100Z"
    }
   },
   "id": "240f3b13ede1eba9",
   "execution_count": 326
  },
  {
   "cell_type": "code",
   "outputs": [
    {
     "name": "stdout",
     "output_type": "stream",
     "text": [
      "40/160-> Train Loss  : 0.6799883842468262 | Accuracy 0.625\n",
      "80/160-> Train Loss  : 0.6777690241976482 | Accuracy 0.5617378048780488\n",
      "120/160-> Train Loss  : 0.509331547183755 | Accuracy 0.7272376543209876\n",
      "160/160-> Train Loss  : 0.42322646112235124 | Accuracy 0.7910640495867769\n",
      "[epoch:1] Val Loss : 0.20809413492679596, Val Accuracy : 0.93515625\n",
      "\n",
      "40/160-> Train Loss  : 0.3607920706272125 | Accuracy 0.84375\n",
      "80/160-> Train Loss  : 0.18844986743316416 | Accuracy 0.9428353658536586\n",
      "120/160-> Train Loss  : 0.198040809666301 | Accuracy 0.939429012345679\n",
      "160/160-> Train Loss  : 0.18631351015661374 | Accuracy 0.9429235537190083\n",
      "[epoch:2] Val Loss : 0.19433738570660353, Val Accuracy : 0.93359375\n",
      "\n",
      "40/160-> Train Loss  : 0.1177838146686554 | Accuracy 0.96875\n",
      "80/160-> Train Loss  : 0.14056587092033246 | Accuracy 0.9596036585365854\n",
      "120/160-> Train Loss  : 0.13372251766239418 | Accuracy 0.9610339506172839\n",
      "160/160-> Train Loss  : 0.1407378595938121 | Accuracy 0.9591942148760331\n",
      "[epoch:3] Val Loss : 0.1638073424808681, Val Accuracy : 0.95\n",
      "\n",
      "40/160-> Train Loss  : 0.16707240045070648 | Accuracy 0.9375\n",
      "80/160-> Train Loss  : 0.10310778812300868 | Accuracy 0.9710365853658537\n",
      "120/160-> Train Loss  : 0.11685363781626945 | Accuracy 0.9672067901234568\n",
      "160/160-> Train Loss  : 0.11525920406753613 | Accuracy 0.9674586776859504\n",
      "[epoch:4] Val Loss : 0.1662884969264269, Val Accuracy : 0.94296875\n",
      "\n",
      "40/160-> Train Loss  : 0.13408544659614563 | Accuracy 0.96875\n",
      "80/160-> Train Loss  : 0.07175891167234356 | Accuracy 0.9801829268292683\n",
      "120/160-> Train Loss  : 0.068431318645584 | Accuracy 0.9818672839506173\n",
      "160/160-> Train Loss  : 0.06395104783009892 | Accuracy 0.9839876033057852\n",
      "[epoch:5] Val Loss : 0.23710662068333477, Val Accuracy : 0.9421875\n",
      "\n",
      "40/160-> Train Loss  : 0.005149242002516985 | Accuracy 1.0\n",
      "80/160-> Train Loss  : 0.026124091069327622 | Accuracy 0.9946646341463414\n",
      "120/160-> Train Loss  : 0.03238132230385586 | Accuracy 0.9930555555555556\n",
      "160/160-> Train Loss  : 0.043343983402029294 | Accuracy 0.9899276859504132\n",
      "[epoch:6] Val Loss : 0.17305106956046074, Val Accuracy : 0.94921875\n",
      "\n",
      "40/160-> Train Loss  : 0.04307162016630173 | Accuracy 0.96875\n",
      "80/160-> Train Loss  : 0.04862067907503465 | Accuracy 0.9878048780487805\n",
      "120/160-> Train Loss  : 0.050508997012159704 | Accuracy 0.9876543209876543\n",
      "160/160-> Train Loss  : 0.053394832936969915 | Accuracy 0.9865702479338843\n",
      "[epoch:7] Val Loss : 0.2561089908471331, Val Accuracy : 0.940625\n",
      "\n",
      "40/160-> Train Loss  : 0.0063349418342113495 | Accuracy 1.0\n",
      "80/160-> Train Loss  : 0.029351790560545717 | Accuracy 0.993140243902439\n",
      "120/160-> Train Loss  : 0.03403464989322755 | Accuracy 0.9926697530864198\n",
      "160/160-> Train Loss  : 0.028606853407445895 | Accuracy 0.9940599173553719\n",
      "[epoch:8] Val Loss : 0.2674095872149337, Val Accuracy : 0.9390625\n",
      "\n",
      "40/160-> Train Loss  : 0.004745834972709417 | Accuracy 1.0\n",
      "80/160-> Train Loss  : 0.032357015402805875 | Accuracy 0.9946646341463414\n",
      "120/160-> Train Loss  : 0.03496354189413933 | Accuracy 0.9930555555555556\n",
      "160/160-> Train Loss  : 0.034475581164371744 | Accuracy 0.9930268595041323\n",
      "[epoch:9] Val Loss : 0.21940492092981004, Val Accuracy : 0.9421875\n",
      "\n",
      "40/160-> Train Loss  : 0.09470093995332718 | Accuracy 0.9375\n",
      "80/160-> Train Loss  : 0.020608127083084207 | Accuracy 0.993140243902439\n",
      "120/160-> Train Loss  : 0.03625755817169485 | Accuracy 0.9907407407407407\n",
      "160/160-> Train Loss  : 0.026284881455685236 | Accuracy 0.993801652892562\n",
      "[epoch:10] Val Loss : 0.2216038267710246, Val Accuracy : 0.94453125\n",
      "\n",
      "40/160-> Train Loss  : 0.008184733800590038 | Accuracy 1.0\n",
      "80/160-> Train Loss  : 0.02104667078976224 | Accuracy 0.9954268292682927\n",
      "120/160-> Train Loss  : 0.02402305515212823 | Accuracy 0.9949845679012346\n",
      "160/160-> Train Loss  : 0.022808918164665848 | Accuracy 0.9953512396694215\n",
      "[epoch:11] Val Loss : 0.25745064924121835, Val Accuracy : 0.94140625\n",
      "\n",
      "40/160-> Train Loss  : 0.004331008996814489 | Accuracy 1.0\n",
      "80/160-> Train Loss  : 0.024733150735633765 | Accuracy 0.9961890243902439\n",
      "120/160-> Train Loss  : 0.0163216523633534 | Accuracy 0.9965277777777778\n",
      "160/160-> Train Loss  : 0.01842590244121326 | Accuracy 0.9963842975206612\n",
      "[epoch:12] Val Loss : 0.3173466410458786, Val Accuracy : 0.94296875\n",
      "\n",
      "40/160-> Train Loss  : 0.0008805786492303014 | Accuracy 1.0\n",
      "80/160-> Train Loss  : 0.020639396337905853 | Accuracy 0.9969512195121951\n",
      "120/160-> Train Loss  : 0.017373633476112177 | Accuracy 0.9976851851851852\n",
      "160/160-> Train Loss  : 0.01502497409747467 | Accuracy 0.9979338842975206\n",
      "[epoch:13] Val Loss : 0.27973262323939707, Val Accuracy : 0.9453125\n",
      "\n",
      "40/160-> Train Loss  : 0.0013758172281086445 | Accuracy 1.0\n",
      "80/160-> Train Loss  : 0.001968738279396259 | Accuracy 1.0\n",
      "120/160-> Train Loss  : 0.005814434005447698 | Accuracy 0.9992283950617284\n",
      "160/160-> Train Loss  : 0.007176709536959471 | Accuracy 0.9989669421487604\n",
      "[epoch:14] Val Loss : 0.3363637643036782, Val Accuracy : 0.9453125\n",
      "\n",
      "40/160-> Train Loss  : 0.0008844498079270124 | Accuracy 1.0\n",
      "80/160-> Train Loss  : 0.0016606304760477164 | Accuracy 1.0\n",
      "120/160-> Train Loss  : 0.0013978521894364628 | Accuracy 1.0\n",
      "160/160-> Train Loss  : 0.006504895100379671 | Accuracy 0.9989669421487604\n",
      "[epoch:15] Val Loss : 0.23638806862290948, Val Accuracy : 0.95078125\n",
      "\n",
      "40/160-> Train Loss  : 0.001737880171276629 | Accuracy 1.0\n",
      "80/160-> Train Loss  : 0.0015855842786727519 | Accuracy 1.0\n",
      "120/160-> Train Loss  : 0.004699489047152944 | Accuracy 0.9996141975308642\n",
      "160/160-> Train Loss  : 0.0075271288264919965 | Accuracy 0.9992252066115702\n",
      "[epoch:16] Val Loss : 0.28574343552900244, Val Accuracy : 0.9453125\n",
      "\n",
      "40/160-> Train Loss  : 0.0011212666286155581 | Accuracy 1.0\n",
      "80/160-> Train Loss  : 0.007292452572118037 | Accuracy 0.9992378048780488\n",
      "120/160-> Train Loss  : 0.0070270417580800704 | Accuracy 0.9992283950617284\n",
      "160/160-> Train Loss  : 0.005033027347993137 | Accuracy 0.9994834710743802\n",
      "[epoch:17] Val Loss : 0.3088038818408677, Val Accuracy : 0.94609375\n",
      "\n",
      "40/160-> Train Loss  : 0.0011037366930395365 | Accuracy 1.0\n",
      "80/160-> Train Loss  : 0.007724009131268803 | Accuracy 0.9992378048780488\n",
      "120/160-> Train Loss  : 0.011043534383830258 | Accuracy 0.9988425925925926\n",
      "160/160-> Train Loss  : 0.007716707113893579 | Accuracy 0.9992252066115702\n",
      "[epoch:18] Val Loss : 0.3237620659674576, Val Accuracy : 0.94609375\n",
      "\n",
      "40/160-> Train Loss  : 0.0006359588587656617 | Accuracy 1.0\n",
      "80/160-> Train Loss  : 0.0007825634469244084 | Accuracy 1.0\n",
      "120/160-> Train Loss  : 0.007256385354313677 | Accuracy 0.9992283950617284\n",
      "160/160-> Train Loss  : 0.005096830167035064 | Accuracy 0.9994834710743802\n",
      "[epoch:19] Val Loss : 0.3298810968422913, Val Accuracy : 0.946875\n",
      "\n",
      "40/160-> Train Loss  : 0.0010237735696136951 | Accuracy 1.0\n",
      "80/160-> Train Loss  : 0.0007421721842015026 | Accuracy 1.0\n",
      "120/160-> Train Loss  : 0.0006998196566897088 | Accuracy 1.0\n",
      "160/160-> Train Loss  : 0.0031652639842253516 | Accuracy 0.99974173553719\n",
      "[epoch:20] Val Loss : 0.33382895632166765, Val Accuracy : 0.94609375\n",
      "\n",
      "40/160-> Train Loss  : 0.0006729288725182414 | Accuracy 1.0\n",
      "80/160-> Train Loss  : 0.008427537318955108 | Accuracy 0.9992378048780488\n",
      "120/160-> Train Loss  : 0.004600393562146497 | Accuracy 0.9996141975308642\n",
      "160/160-> Train Loss  : 0.007043375769795557 | Accuracy 0.9992252066115702\n",
      "[epoch:21] Val Loss : 0.33850739243935096, Val Accuracy : 0.946875\n",
      "\n",
      "40/160-> Train Loss  : 0.0007243048748932779 | Accuracy 1.0\n",
      "80/160-> Train Loss  : 0.007082718013496161 | Accuracy 0.9992378048780488\n",
      "120/160-> Train Loss  : 0.006703064985354833 | Accuracy 0.9992283950617284\n",
      "160/160-> Train Loss  : 0.0047119647540606185 | Accuracy 0.9994834710743802\n",
      "[epoch:22] Val Loss : 0.34423809624422574, Val Accuracy : 0.94609375\n",
      "\n",
      "40/160-> Train Loss  : 0.0006368354661390185 | Accuracy 1.0\n",
      "80/160-> Train Loss  : 0.0006320073493620063 | Accuracy 1.0\n",
      "120/160-> Train Loss  : 0.0042361527664103995 | Accuracy 0.9996141975308642\n",
      "160/160-> Train Loss  : 0.005454145377205516 | Accuracy 0.9994834710743802\n",
      "[epoch:23] Val Loss : 0.3407343837308872, Val Accuracy : 0.946875\n",
      "\n",
      "40/160-> Train Loss  : 0.0010379665764048696 | Accuracy 1.0\n",
      "80/160-> Train Loss  : 0.006278820782360371 | Accuracy 0.9992378048780488\n",
      "120/160-> Train Loss  : 0.0035586479593522524 | Accuracy 0.9996141975308642\n",
      "160/160-> Train Loss  : 0.005483512269007812 | Accuracy 0.9994834710743802\n",
      "[epoch:24] Val Loss : 0.35413609591778367, Val Accuracy : 0.94609375\n",
      "\n",
      "40/160-> Train Loss  : 0.0005265712970867753 | Accuracy 1.0\n",
      "80/160-> Train Loss  : 0.007354526089862126 | Accuracy 0.9992378048780488\n",
      "120/160-> Train Loss  : 0.007021017134387943 | Accuracy 0.9992283950617284\n",
      "160/160-> Train Loss  : 0.007359210600449188 | Accuracy 0.9992252066115702\n",
      "[epoch:25] Val Loss : 0.35382726554307736, Val Accuracy : 0.94609375\n",
      "\n",
      "40/160-> Train Loss  : 0.0007219487451948225 | Accuracy 1.0\n",
      "80/160-> Train Loss  : 0.0005927389507499955 | Accuracy 1.0\n",
      "120/160-> Train Loss  : 0.004021794291250522 | Accuracy 0.9996141975308642\n",
      "160/160-> Train Loss  : 0.006807827288025128 | Accuracy 0.9992252066115702\n",
      "[epoch:26] Val Loss : 0.3579801851454249, Val Accuracy : 0.94609375\n",
      "\n",
      "40/160-> Train Loss  : 0.0003435307298786938 | Accuracy 1.0\n",
      "80/160-> Train Loss  : 0.0006613525669885482 | Accuracy 1.0\n",
      "120/160-> Train Loss  : 0.0037564287406973034 | Accuracy 0.9996141975308642\n",
      "160/160-> Train Loss  : 0.004666560485358696 | Accuracy 0.9994834710743802\n",
      "[epoch:27] Val Loss : 0.35786890389426845, Val Accuracy : 0.94375\n",
      "\n",
      "40/160-> Train Loss  : 0.0007100984221324325 | Accuracy 1.0\n",
      "80/160-> Train Loss  : 0.007998198901853956 | Accuracy 0.9992378048780488\n",
      "120/160-> Train Loss  : 0.004360472335031739 | Accuracy 0.9996141975308642\n",
      "160/160-> Train Loss  : 0.003103945142116151 | Accuracy 0.99974173553719\n",
      "[epoch:28] Val Loss : 0.3597724190345616, Val Accuracy : 0.9453125\n",
      "\n",
      "40/160-> Train Loss  : 0.0005101640126667917 | Accuracy 1.0\n",
      "80/160-> Train Loss  : 0.013300131495315127 | Accuracy 0.9984756097560976\n",
      "120/160-> Train Loss  : 0.007141624745498929 | Accuracy 0.9992283950617284\n",
      "160/160-> Train Loss  : 0.007060703134052609 | Accuracy 0.9992252066115702\n",
      "[epoch:29] Val Loss : 0.37172876478362016, Val Accuracy : 0.94453125\n",
      "\n",
      "40/160-> Train Loss  : 0.0003988536773249507 | Accuracy 1.0\n",
      "80/160-> Train Loss  : 0.0006558441801178382 | Accuracy 1.0\n",
      "120/160-> Train Loss  : 0.0028172653810879973 | Accuracy 0.9996141975308642\n",
      "160/160-> Train Loss  : 0.00206173694892671 | Accuracy 0.99974173553719\n",
      "[epoch:30] Val Loss : 0.37929998873660226, Val Accuracy : 0.94453125\n",
      "\n",
      "40/160-> Train Loss  : 0.000820505665615201 | Accuracy 1.0\n",
      "80/160-> Train Loss  : 0.005946208032915686 | Accuracy 0.9992378048780488\n",
      "120/160-> Train Loss  : 0.006941607843920657 | Accuracy 0.9992283950617284\n",
      "160/160-> Train Loss  : 0.0070165354560787424 | Accuracy 0.9992252066115702\n",
      "[epoch:31] Val Loss : 0.3777377176942537, Val Accuracy : 0.94453125\n",
      "\n",
      "40/160-> Train Loss  : 0.0004951776936650276 | Accuracy 1.0\n",
      "80/160-> Train Loss  : 0.012287950378178232 | Accuracy 0.9984756097560976\n",
      "120/160-> Train Loss  : 0.00661107178642357 | Accuracy 0.9992283950617284\n",
      "160/160-> Train Loss  : 0.006463033043248348 | Accuracy 0.9992252066115702\n",
      "[epoch:32] Val Loss : 0.385972816238791, Val Accuracy : 0.94453125\n",
      "\n",
      "40/160-> Train Loss  : 0.0004605876747518778 | Accuracy 1.0\n",
      "80/160-> Train Loss  : 0.0005681738094142751 | Accuracy 1.0\n",
      "120/160-> Train Loss  : 0.0004976695571612152 | Accuracy 1.0\n",
      "160/160-> Train Loss  : 0.004035329218056199 | Accuracy 0.9994834710743802\n",
      "[epoch:33] Val Loss : 0.40099571465252665, Val Accuracy : 0.94453125\n",
      "\n",
      "40/160-> Train Loss  : 0.00036587566137313843 | Accuracy 1.0\n",
      "80/160-> Train Loss  : 0.006985143428276543 | Accuracy 0.9992378048780488\n",
      "120/160-> Train Loss  : 0.0038725612688677406 | Accuracy 0.9996141975308642\n",
      "160/160-> Train Loss  : 0.007556592406751203 | Accuracy 0.9992252066115702\n",
      "[epoch:34] Val Loss : 0.3830888524003967, Val Accuracy : 0.9453125\n",
      "\n",
      "40/160-> Train Loss  : 0.0009694539476186037 | Accuracy 1.0\n",
      "80/160-> Train Loss  : 0.006982967712513239 | Accuracy 0.9992378048780488\n",
      "120/160-> Train Loss  : 0.0038812613706851813 | Accuracy 0.9996141975308642\n",
      "160/160-> Train Loss  : 0.007263623647755474 | Accuracy 0.9992252066115702\n",
      "[epoch:35] Val Loss : 0.39078381650106164, Val Accuracy : 0.94453125\n",
      "\n",
      "40/160-> Train Loss  : 0.000694219779688865 | Accuracy 1.0\n",
      "80/160-> Train Loss  : 0.01071757622199451 | Accuracy 0.9984756097560976\n",
      "120/160-> Train Loss  : 0.009598842446899248 | Accuracy 0.9988425925925926\n",
      "160/160-> Train Loss  : 0.006675419469810407 | Accuracy 0.9992252066115702\n",
      "[epoch:36] Val Loss : 0.40335648640830185, Val Accuracy : 0.9421875\n",
      "\n",
      "40/160-> Train Loss  : 0.000567651994060725 | Accuracy 1.0\n",
      "80/160-> Train Loss  : 0.00046048884027319526 | Accuracy 1.0\n",
      "120/160-> Train Loss  : 0.007144405072508955 | Accuracy 0.9992283950617284\n",
      "160/160-> Train Loss  : 0.004998448601161892 | Accuracy 0.9994834710743802\n",
      "[epoch:37] Val Loss : 0.38880004008606195, Val Accuracy : 0.94375\n",
      "\n",
      "40/160-> Train Loss  : 0.0006959765451028943 | Accuracy 1.0\n",
      "80/160-> Train Loss  : 0.007401544038524352 | Accuracy 0.9992378048780488\n",
      "120/160-> Train Loss  : 0.00402104837121442 | Accuracy 0.9996141975308642\n",
      "160/160-> Train Loss  : 0.002851033448948802 | Accuracy 0.99974173553719\n",
      "[epoch:38] Val Loss : 0.40318886517925423, Val Accuracy : 0.93984375\n",
      "\n",
      "40/160-> Train Loss  : 0.00034587932168506086 | Accuracy 1.0\n",
      "80/160-> Train Loss  : 0.0006459396255838616 | Accuracy 1.0\n",
      "120/160-> Train Loss  : 0.0038292701557324626 | Accuracy 0.9996141975308642\n",
      "160/160-> Train Loss  : 0.004719859528863294 | Accuracy 0.9994834710743802\n",
      "[epoch:39] Val Loss : 0.4060298418087768, Val Accuracy : 0.9390625\n",
      "\n",
      "40/160-> Train Loss  : 0.0005893571651540697 | Accuracy 1.0\n",
      "80/160-> Train Loss  : 0.011930174789130233 | Accuracy 0.9984756097560976\n",
      "120/160-> Train Loss  : 0.006628567020532411 | Accuracy 0.9992283950617284\n",
      "160/160-> Train Loss  : 0.007192097563144543 | Accuracy 0.9992252066115702\n",
      "[epoch:40] Val Loss : 0.42163538356981006, Val Accuracy : 0.9390625\n",
      "\n",
      "40/160-> Train Loss  : 0.00041716269333846867 | Accuracy 1.0\n",
      "80/160-> Train Loss  : 0.000480276791566256 | Accuracy 1.0\n",
      "120/160-> Train Loss  : 0.003191244918536855 | Accuracy 0.9996141975308642\n",
      "160/160-> Train Loss  : 0.002296885282372717 | Accuracy 0.99974173553719\n",
      "[epoch:41] Val Loss : 0.4265741900206194, Val Accuracy : 0.93984375\n",
      "\n",
      "40/160-> Train Loss  : 0.0007171243196353316 | Accuracy 1.0\n",
      "80/160-> Train Loss  : 0.005317743333828885 | Accuracy 0.9992378048780488\n",
      "120/160-> Train Loss  : 0.003019435031204427 | Accuracy 0.9996141975308642\n",
      "160/160-> Train Loss  : 0.002193483597625909 | Accuracy 0.99974173553719\n",
      "[epoch:42] Val Loss : 0.41333705741781157, Val Accuracy : 0.93828125\n",
      "\n",
      "40/160-> Train Loss  : 0.0009463627939112484 | Accuracy 1.0\n",
      "80/160-> Train Loss  : 0.0005942723243894828 | Accuracy 1.0\n",
      "120/160-> Train Loss  : 0.0041308616105478575 | Accuracy 0.9996141975308642\n",
      "160/160-> Train Loss  : 0.002958064711477592 | Accuracy 0.99974173553719\n",
      "[epoch:43] Val Loss : 0.4088438398561266, Val Accuracy : 0.93828125\n",
      "\n",
      "40/160-> Train Loss  : 0.001385627081617713 | Accuracy 1.0\n",
      "80/160-> Train Loss  : 0.0007011553949801387 | Accuracy 1.0\n",
      "120/160-> Train Loss  : 0.0029296561325382856 | Accuracy 0.9996141975308642\n",
      "160/160-> Train Loss  : 0.004331393289323973 | Accuracy 0.9994834710743802\n",
      "[epoch:44] Val Loss : 0.43368770603847223, Val Accuracy : 0.93828125\n",
      "\n",
      "40/160-> Train Loss  : 0.00043750827899202704 | Accuracy 1.0\n",
      "80/160-> Train Loss  : 0.0006048624182301687 | Accuracy 1.0\n",
      "120/160-> Train Loss  : 0.0005522714798442192 | Accuracy 1.0\n",
      "160/160-> Train Loss  : 0.004784262051694249 | Accuracy 0.9994834710743802\n",
      "[epoch:45] Val Loss : 0.4188251112762373, Val Accuracy : 0.9390625\n",
      "\n",
      "40/160-> Train Loss  : 0.0006996135925874114 | Accuracy 1.0\n",
      "80/160-> Train Loss  : 0.011428950597225438 | Accuracy 0.9984756097560976\n",
      "120/160-> Train Loss  : 0.009743700591548358 | Accuracy 0.9988425925925926\n",
      "160/160-> Train Loss  : 0.006800473211881559 | Accuracy 0.9992252066115702\n",
      "[epoch:46] Val Loss : 0.4982809266395634, Val Accuracy : 0.93203125\n",
      "\n",
      "40/160-> Train Loss  : 0.0004541022062767297 | Accuracy 1.0\n",
      "80/160-> Train Loss  : 0.007024978117154139 | Accuracy 0.9992378048780488\n",
      "120/160-> Train Loss  : 0.0038089013660619793 | Accuracy 0.9996141975308642\n",
      "160/160-> Train Loss  : 0.024543928500064763 | Accuracy 0.9966425619834711\n",
      "[epoch:47] Val Loss : 0.3149811901152134, Val Accuracy : 0.903125\n",
      "\n",
      "40/160-> Train Loss  : 0.173054039478302 | Accuracy 0.9375\n",
      "80/160-> Train Loss  : 0.12695332139548732 | Accuracy 0.9717987804878049\n",
      "120/160-> Train Loss  : 0.11667162136255223 | Accuracy 0.9733796296296297\n",
      "160/160-> Train Loss  : 0.1125095057770733 | Accuracy 0.974948347107438\n",
      "[epoch:48] Val Loss : 0.5140328109264374, Val Accuracy : 0.70859375\n",
      "\n",
      "40/160-> Train Loss  : 0.3903391361236572 | Accuracy 0.875\n",
      "80/160-> Train Loss  : 0.45437365843028554 | Accuracy 0.774390243902439\n",
      "120/160-> Train Loss  : 0.40573491284876695 | Accuracy 0.8070987654320988\n",
      "160/160-> Train Loss  : 0.37788702947788 | Accuracy 0.8259297520661157\n",
      "[epoch:49] Val Loss : 0.32642702367156745, Val Accuracy : 0.878125\n",
      "\n",
      "40/160-> Train Loss  : 0.1473115235567093 | Accuracy 0.96875\n",
      "80/160-> Train Loss  : 0.19144485163979413 | Accuracy 0.9420731707317073\n",
      "120/160-> Train Loss  : 0.18760563377980832 | Accuracy 0.9421296296296297\n",
      "160/160-> Train Loss  : 0.20935305749828165 | Accuracy 0.9318181818181818\n",
      "[epoch:50] Val Loss : 0.36779761090874674, Val Accuracy : 0.83515625\n",
      "\n",
      "40/160-> Train Loss  : 0.24027737975120544 | Accuracy 0.90625\n",
      "80/160-> Train Loss  : 0.20280258784570346 | Accuracy 0.9176829268292683\n",
      "120/160-> Train Loss  : 0.1981194971796171 | Accuracy 0.9162808641975309\n",
      "160/160-> Train Loss  : 0.18965104323896495 | Accuracy 0.9163223140495868\n",
      "[epoch:51] Val Loss : 0.22384334383532406, Val Accuracy : 0.9421875\n",
      "\n",
      "40/160-> Train Loss  : 0.07896873354911804 | Accuracy 1.0\n",
      "80/160-> Train Loss  : 0.09093522076017974 | Accuracy 0.9649390243902439\n",
      "120/160-> Train Loss  : 0.08389518998655272 | Accuracy 0.9741512345679012\n",
      "160/160-> Train Loss  : 0.0796576670047727 | Accuracy 0.9757231404958677\n",
      "[epoch:52] Val Loss : 0.19999827537685633, Val Accuracy : 0.95234375\n",
      "\n",
      "40/160-> Train Loss  : 0.012673713266849518 | Accuracy 1.0\n",
      "80/160-> Train Loss  : 0.04686186437654059 | Accuracy 0.9908536585365854\n",
      "120/160-> Train Loss  : 0.050950990820211574 | Accuracy 0.9888117283950617\n",
      "160/160-> Train Loss  : 0.04942809783638078 | Accuracy 0.9894111570247934\n",
      "[epoch:53] Val Loss : 0.27398927055764943, Val Accuracy : 0.92734375\n",
      "\n",
      "40/160-> Train Loss  : 0.020891621708869934 | Accuracy 1.0\n",
      "80/160-> Train Loss  : 0.033323267088612406 | Accuracy 0.993140243902439\n",
      "120/160-> Train Loss  : 0.028114165006964294 | Accuracy 0.9938271604938271\n",
      "160/160-> Train Loss  : 0.03439034825029267 | Accuracy 0.9917355371900827\n",
      "[epoch:54] Val Loss : 0.2409540377673693, Val Accuracy : 0.94765625\n",
      "\n",
      "40/160-> Train Loss  : 0.006936970632523298 | Accuracy 1.0\n",
      "80/160-> Train Loss  : 0.012815343562468159 | Accuracy 0.9977134146341463\n",
      "120/160-> Train Loss  : 0.018426243991901476 | Accuracy 0.996141975308642\n",
      "160/160-> Train Loss  : 0.016674943809967088 | Accuracy 0.996900826446281\n",
      "[epoch:55] Val Loss : 0.24414292571600527, Val Accuracy : 0.9546875\n",
      "\n",
      "40/160-> Train Loss  : 0.0026111705228686333 | Accuracy 1.0\n",
      "80/160-> Train Loss  : 0.014218901037011386 | Accuracy 0.9984756097560976\n",
      "120/160-> Train Loss  : 0.016205961686662503 | Accuracy 0.9972993827160493\n",
      "160/160-> Train Loss  : 0.024978523531328303 | Accuracy 0.9948347107438017\n",
      "[epoch:56] Val Loss : 0.2964853399374988, Val Accuracy : 0.9390625\n",
      "\n",
      "40/160-> Train Loss  : 0.026241721585392952 | Accuracy 0.96875\n",
      "80/160-> Train Loss  : 0.007158797981058497 | Accuracy 0.9984756097560976\n",
      "120/160-> Train Loss  : 0.01051000706753751 | Accuracy 0.9976851851851852\n",
      "160/160-> Train Loss  : 0.01144632641784077 | Accuracy 0.9979338842975206\n",
      "[epoch:57] Val Loss : 0.2782070022512926, Val Accuracy : 0.94765625\n",
      "\n",
      "40/160-> Train Loss  : 0.0021482864394783974 | Accuracy 1.0\n",
      "80/160-> Train Loss  : 0.0028677887805714838 | Accuracy 1.0\n",
      "120/160-> Train Loss  : 0.004561347429882045 | Accuracy 0.9996141975308642\n",
      "160/160-> Train Loss  : 0.005219126417742242 | Accuracy 0.9994834710743802\n",
      "[epoch:58] Val Loss : 0.2970492100881529, Val Accuracy : 0.9484375\n",
      "\n",
      "40/160-> Train Loss  : 0.0020184521563351154 | Accuracy 1.0\n",
      "80/160-> Train Loss  : 0.0049886611054606005 | Accuracy 0.9992378048780488\n",
      "120/160-> Train Loss  : 0.005631096507307648 | Accuracy 0.9988425925925926\n",
      "160/160-> Train Loss  : 0.006432638910824187 | Accuracy 0.9989669421487604\n",
      "[epoch:59] Val Loss : 0.28434084141335914, Val Accuracy : 0.95078125\n",
      "\n",
      "40/160-> Train Loss  : 0.0007765035261400044 | Accuracy 1.0\n",
      "80/160-> Train Loss  : 0.007173308093248435 | Accuracy 0.9992378048780488\n",
      "120/160-> Train Loss  : 0.004318712690247245 | Accuracy 0.9996141975308642\n",
      "160/160-> Train Loss  : 0.0033245407050179147 | Accuracy 0.99974173553719\n",
      "[epoch:60] Val Loss : 0.29816935876733625, Val Accuracy : 0.95\n",
      "\n",
      "40/160-> Train Loss  : 0.0007631481857970357 | Accuracy 1.0\n",
      "80/160-> Train Loss  : 0.0012578348438936945 | Accuracy 1.0\n",
      "120/160-> Train Loss  : 0.0011882165009960716 | Accuracy 1.0\n",
      "160/160-> Train Loss  : 0.002160981352573784 | Accuracy 0.9994834710743802\n",
      "[epoch:61] Val Loss : 0.3497445704502752, Val Accuracy : 0.9484375\n",
      "\n",
      "40/160-> Train Loss  : 0.0003607559483498335 | Accuracy 1.0\n",
      "80/160-> Train Loss  : 0.012224120616049664 | Accuracy 0.9969512195121951\n",
      "120/160-> Train Loss  : 0.0076621437009084786 | Accuracy 0.998070987654321\n",
      "160/160-> Train Loss  : 0.007887183134405574 | Accuracy 0.9976756198347108\n",
      "[epoch:62] Val Loss : 0.3076264477276709, Val Accuracy : 0.95\n",
      "\n",
      "40/160-> Train Loss  : 0.00455247750505805 | Accuracy 1.0\n",
      "80/160-> Train Loss  : 0.001157410696245412 | Accuracy 1.0\n",
      "120/160-> Train Loss  : 0.008284765777155112 | Accuracy 0.9988425925925926\n",
      "160/160-> Train Loss  : 0.0063215306710378725 | Accuracy 0.9992252066115702\n",
      "[epoch:63] Val Loss : 0.26735144115955334, Val Accuracy : 0.95703125\n",
      "\n",
      "40/160-> Train Loss  : 0.0015790000325068831 | Accuracy 1.0\n",
      "80/160-> Train Loss  : 0.0017112848929572487 | Accuracy 0.9992378048780488\n",
      "120/160-> Train Loss  : 0.0014093377750315187 | Accuracy 0.9996141975308642\n",
      "160/160-> Train Loss  : 0.003390566381185185 | Accuracy 0.9992252066115702\n",
      "[epoch:64] Val Loss : 0.34595006477320567, Val Accuracy : 0.94296875\n",
      "\n",
      "40/160-> Train Loss  : 0.0004426622181199491 | Accuracy 1.0\n",
      "80/160-> Train Loss  : 0.0010091313771426495 | Accuracy 1.0\n",
      "120/160-> Train Loss  : 0.0009096676004435407 | Accuracy 1.0\n",
      "160/160-> Train Loss  : 0.0026066250543972124 | Accuracy 0.99974173553719\n",
      "[epoch:65] Val Loss : 0.3445443835767946, Val Accuracy : 0.946875\n",
      "\n",
      "40/160-> Train Loss  : 0.0006294399499893188 | Accuracy 1.0\n",
      "80/160-> Train Loss  : 0.005719629808459658 | Accuracy 0.9992378048780488\n",
      "120/160-> Train Loss  : 0.0031646895457711644 | Accuracy 0.9996141975308642\n",
      "160/160-> Train Loss  : 0.0024314018644436748 | Accuracy 0.99974173553719\n",
      "[epoch:66] Val Loss : 0.36445785013675047, Val Accuracy : 0.9453125\n",
      "\n",
      "40/160-> Train Loss  : 0.0005172840319573879 | Accuracy 1.0\n",
      "80/160-> Train Loss  : 0.0006095381342186933 | Accuracy 1.0\n",
      "120/160-> Train Loss  : 0.002761127885156541 | Accuracy 0.9996141975308642\n",
      "160/160-> Train Loss  : 0.0020273138641731907 | Accuracy 0.99974173553719\n",
      "[epoch:67] Val Loss : 0.38426914792289607, Val Accuracy : 0.9453125\n",
      "\n",
      "40/160-> Train Loss  : 0.0001857752213254571 | Accuracy 1.0\n",
      "80/160-> Train Loss  : 0.00051331690444452 | Accuracy 1.0\n",
      "120/160-> Train Loss  : 0.003384265882310883 | Accuracy 0.9996141975308642\n",
      "160/160-> Train Loss  : 0.002445498015731573 | Accuracy 0.99974173553719\n",
      "[epoch:68] Val Loss : 0.3837933156224608, Val Accuracy : 0.9453125\n",
      "\n",
      "40/160-> Train Loss  : 0.0004538146604318172 | Accuracy 1.0\n",
      "80/160-> Train Loss  : 0.008261424685947642 | Accuracy 0.9992378048780488\n",
      "120/160-> Train Loss  : 0.004434110770141418 | Accuracy 0.9996141975308642\n",
      "160/160-> Train Loss  : 0.0031196049295273446 | Accuracy 0.99974173553719\n",
      "[epoch:69] Val Loss : 0.33915590916913063, Val Accuracy : 0.95\n",
      "\n",
      "40/160-> Train Loss  : 0.0002735248999670148 | Accuracy 1.0\n",
      "80/160-> Train Loss  : 0.0004377916303361062 | Accuracy 1.0\n",
      "120/160-> Train Loss  : 0.004054344742649442 | Accuracy 0.9996141975308642\n",
      "160/160-> Train Loss  : 0.0028617969415369944 | Accuracy 0.99974173553719\n",
      "[epoch:70] Val Loss : 0.34764996934100056, Val Accuracy : 0.95\n",
      "\n",
      "40/160-> Train Loss  : 0.00025024544447660446 | Accuracy 1.0\n",
      "80/160-> Train Loss  : 0.0005565447318963934 | Accuracy 1.0\n",
      "120/160-> Train Loss  : 0.0004702966419885073 | Accuracy 1.0\n",
      "160/160-> Train Loss  : 0.002776341913037064 | Accuracy 0.99974173553719\n",
      "[epoch:71] Val Loss : 0.3635807403530634, Val Accuracy : 0.95078125\n",
      "\n",
      "40/160-> Train Loss  : 0.0002523333241697401 | Accuracy 1.0\n",
      "80/160-> Train Loss  : 0.00036523447204494803 | Accuracy 1.0\n",
      "120/160-> Train Loss  : 0.0003782969834441089 | Accuracy 1.0\n",
      "160/160-> Train Loss  : 0.0021879715096467167 | Accuracy 0.99974173553719\n",
      "[epoch:72] Val Loss : 0.41334077752035225, Val Accuracy : 0.9453125\n",
      "\n",
      "40/160-> Train Loss  : 0.00035525287967175245 | Accuracy 1.0\n",
      "80/160-> Train Loss  : 0.00035343144448167393 | Accuracy 1.0\n",
      "120/160-> Train Loss  : 0.008338874201545417 | Accuracy 0.9984567901234568\n",
      "160/160-> Train Loss  : 0.006822722212520662 | Accuracy 0.9987086776859504\n",
      "[epoch:73] Val Loss : 0.284583057105192, Val Accuracy : 0.95078125\n",
      "\n",
      "40/160-> Train Loss  : 0.0014617475681006908 | Accuracy 1.0\n",
      "80/160-> Train Loss  : 0.005628476696651111 | Accuracy 0.9992378048780488\n",
      "120/160-> Train Loss  : 0.006954999026169794 | Accuracy 0.9984567901234568\n",
      "160/160-> Train Loss  : 0.010270745471583617 | Accuracy 0.9974173553719008\n",
      "[epoch:74] Val Loss : 0.27935157164174595, Val Accuracy : 0.946875\n",
      "\n",
      "40/160-> Train Loss  : 0.0005526060704141855 | Accuracy 1.0\n",
      "80/160-> Train Loss  : 0.001598045726096621 | Accuracy 1.0\n",
      "120/160-> Train Loss  : 0.0011202927950459223 | Accuracy 1.0\n",
      "160/160-> Train Loss  : 0.0009880741176143488 | Accuracy 1.0\n",
      "[epoch:75] Val Loss : 0.26412534205010163, Val Accuracy : 0.93125\n",
      "\n",
      "40/160-> Train Loss  : 0.0016631981125101447 | Accuracy 1.0\n",
      "80/160-> Train Loss  : 0.04424665616427707 | Accuracy 0.9885670731707317\n",
      "120/160-> Train Loss  : 0.030331775061010074 | Accuracy 0.9926697530864198\n",
      "160/160-> Train Loss  : 0.028756633958459853 | Accuracy 0.9925103305785123\n",
      "[epoch:76] Val Loss : 0.20244413681793957, Val Accuracy : 0.95234375\n",
      "\n",
      "40/160-> Train Loss  : 0.015828825533390045 | Accuracy 1.0\n",
      "80/160-> Train Loss  : 0.007809990890630771 | Accuracy 0.9992378048780488\n",
      "120/160-> Train Loss  : 0.008723606269254728 | Accuracy 0.9988425925925926\n",
      "160/160-> Train Loss  : 0.008597229509989632 | Accuracy 0.9987086776859504\n",
      "[epoch:77] Val Loss : 0.21334990247851238, Val Accuracy : 0.95859375\n",
      "\n",
      "40/160-> Train Loss  : 0.0020706518553197384 | Accuracy 1.0\n",
      "80/160-> Train Loss  : 0.007489574359014358 | Accuracy 0.9992378048780488\n",
      "120/160-> Train Loss  : 0.004564975707591971 | Accuracy 0.9992283950617284\n",
      "160/160-> Train Loss  : 0.005960694311330026 | Accuracy 0.9989669421487604\n",
      "[epoch:78] Val Loss : 0.2514994904711784, Val Accuracy : 0.95625\n",
      "\n",
      "40/160-> Train Loss  : 0.0009187698597088456 | Accuracy 1.0\n",
      "80/160-> Train Loss  : 0.0010686746788517822 | Accuracy 1.0\n",
      "120/160-> Train Loss  : 0.001059083020484167 | Accuracy 1.0\n",
      "160/160-> Train Loss  : 0.0011137855962719307 | Accuracy 0.99974173553719\n",
      "[epoch:79] Val Loss : 0.2967096522785141, Val Accuracy : 0.9515625\n",
      "\n",
      "40/160-> Train Loss  : 0.00025617494247853756 | Accuracy 1.0\n",
      "80/160-> Train Loss  : 0.007101967301157235 | Accuracy 0.9992378048780488\n",
      "120/160-> Train Loss  : 0.0038724840749098264 | Accuracy 0.9996141975308642\n",
      "160/160-> Train Loss  : 0.0027868234147635203 | Accuracy 0.99974173553719\n",
      "[epoch:80] Val Loss : 0.29215437873790506, Val Accuracy : 0.95625\n",
      "\n",
      "40/160-> Train Loss  : 0.00019061341299675405 | Accuracy 1.0\n",
      "80/160-> Train Loss  : 0.000525092327024606 | Accuracy 1.0\n",
      "120/160-> Train Loss  : 0.0005420976825759827 | Accuracy 1.0\n",
      "160/160-> Train Loss  : 0.0023579080762896757 | Accuracy 0.99974173553719\n",
      "[epoch:81] Val Loss : 0.24726232372777304, Val Accuracy : 0.959375\n",
      "\n",
      "40/160-> Train Loss  : 0.0006216799956746399 | Accuracy 1.0\n",
      "80/160-> Train Loss  : 0.009102606976251459 | Accuracy 0.9992378048780488\n",
      "120/160-> Train Loss  : 0.0049225120854788215 | Accuracy 0.9996141975308642\n",
      "160/160-> Train Loss  : 0.0035857335671066683 | Accuracy 0.99974173553719\n",
      "[epoch:82] Val Loss : 0.26551228880198324, Val Accuracy : 0.9578125\n",
      "\n",
      "40/160-> Train Loss  : 0.00033339776564389467 | Accuracy 1.0\n",
      "80/160-> Train Loss  : 0.006014482284294124 | Accuracy 0.9992378048780488\n",
      "120/160-> Train Loss  : 0.0032926976905681515 | Accuracy 0.9996141975308642\n",
      "160/160-> Train Loss  : 0.002374990321893037 | Accuracy 0.99974173553719\n",
      "[epoch:83] Val Loss : 0.30031618318917025, Val Accuracy : 0.953125\n",
      "\n",
      "40/160-> Train Loss  : 0.0002756555622909218 | Accuracy 1.0\n",
      "80/160-> Train Loss  : 0.0003689854588961547 | Accuracy 1.0\n",
      "120/160-> Train Loss  : 0.00036617693578232263 | Accuracy 1.0\n",
      "160/160-> Train Loss  : 0.0021082467744935086 | Accuracy 0.99974173553719\n",
      "[epoch:84] Val Loss : 0.3261210956219657, Val Accuracy : 0.95234375\n",
      "\n",
      "40/160-> Train Loss  : 0.0004728867788799107 | Accuracy 1.0\n",
      "80/160-> Train Loss  : 0.00047596813521700026 | Accuracy 1.0\n",
      "120/160-> Train Loss  : 0.00041944567190647057 | Accuracy 1.0\n",
      "160/160-> Train Loss  : 0.002893388517211049 | Accuracy 0.99974173553719\n",
      "[epoch:85] Val Loss : 0.33901729727458585, Val Accuracy : 0.9515625\n",
      "\n",
      "40/160-> Train Loss  : 0.00031492774724029005 | Accuracy 1.0\n",
      "80/160-> Train Loss  : 0.00030223602693806197 | Accuracy 1.0\n",
      "120/160-> Train Loss  : 0.00041315048409519534 | Accuracy 1.0\n",
      "160/160-> Train Loss  : 0.00037034412122943463 | Accuracy 1.0\n",
      "[epoch:86] Val Loss : 0.36207510969707074, Val Accuracy : 0.94921875\n",
      "\n",
      "40/160-> Train Loss  : 0.00022436073049902916 | Accuracy 1.0\n",
      "80/160-> Train Loss  : 0.004320711921403616 | Accuracy 0.9992378048780488\n",
      "120/160-> Train Loss  : 0.002357646447094732 | Accuracy 0.9996141975308642\n",
      "160/160-> Train Loss  : 0.0017067698184795262 | Accuracy 0.99974173553719\n",
      "[epoch:87] Val Loss : 0.3541431745117734, Val Accuracy : 0.953125\n",
      "\n",
      "40/160-> Train Loss  : 6.475614645751193e-05 | Accuracy 1.0\n",
      "80/160-> Train Loss  : 0.004605556855073324 | Accuracy 0.9992378048780488\n",
      "120/160-> Train Loss  : 0.0025150940691000194 | Accuracy 0.9996141975308642\n",
      "160/160-> Train Loss  : 0.00188841246028069 | Accuracy 0.99974173553719\n",
      "[epoch:88] Val Loss : 0.3562472632409481, Val Accuracy : 0.95703125\n",
      "\n",
      "40/160-> Train Loss  : 0.00017925059364642948 | Accuracy 1.0\n",
      "80/160-> Train Loss  : 0.00027385951983799204 | Accuracy 1.0\n",
      "120/160-> Train Loss  : 0.004021734735381611 | Accuracy 0.9988425925925926\n",
      "160/160-> Train Loss  : 0.002874772206118642 | Accuracy 0.9992252066115702\n",
      "[epoch:89] Val Loss : 0.32456703059269787, Val Accuracy : 0.959375\n",
      "\n",
      "40/160-> Train Loss  : 0.00010936360922642052 | Accuracy 1.0\n",
      "80/160-> Train Loss  : 0.008277496422457129 | Accuracy 0.9984756097560976\n",
      "120/160-> Train Loss  : 0.026481847468532556 | Accuracy 0.9907407407407407\n",
      "160/160-> Train Loss  : 0.02184935549107762 | Accuracy 0.9927685950413223\n",
      "[epoch:90] Val Loss : 0.2556097275373759, Val Accuracy : 0.95\n",
      "\n",
      "40/160-> Train Loss  : 0.0013127905549481511 | Accuracy 1.0\n",
      "80/160-> Train Loss  : 0.009312708581380388 | Accuracy 0.9969512195121951\n",
      "120/160-> Train Loss  : 0.006348084833366612 | Accuracy 0.9976851851851852\n",
      "160/160-> Train Loss  : 0.004958908832107655 | Accuracy 0.9984504132231405\n",
      "[epoch:91] Val Loss : 0.28797455387903026, Val Accuracy : 0.95390625\n",
      "\n",
      "40/160-> Train Loss  : 0.00013848426169715822 | Accuracy 1.0\n",
      "80/160-> Train Loss  : 0.0010071607798525337 | Accuracy 1.0\n",
      "120/160-> Train Loss  : 0.0007690161678230068 | Accuracy 1.0\n",
      "160/160-> Train Loss  : 0.0014761153467010115 | Accuracy 0.99974173553719\n",
      "[epoch:92] Val Loss : 0.29226159233876386, Val Accuracy : 0.95390625\n",
      "\n",
      "40/160-> Train Loss  : 0.0001804941421141848 | Accuracy 1.0\n",
      "80/160-> Train Loss  : 0.0005475426088839701 | Accuracy 1.0\n",
      "120/160-> Train Loss  : 0.0040296718174049825 | Accuracy 0.9996141975308642\n",
      "160/160-> Train Loss  : 0.0029090475119036537 | Accuracy 0.99974173553719\n",
      "[epoch:93] Val Loss : 0.3216370343601739, Val Accuracy : 0.95234375\n",
      "\n",
      "40/160-> Train Loss  : 0.000382225145585835 | Accuracy 1.0\n",
      "80/160-> Train Loss  : 0.0055339709609298305 | Accuracy 0.9992378048780488\n",
      "120/160-> Train Loss  : 0.0030223634691347 | Accuracy 0.9996141975308642\n",
      "160/160-> Train Loss  : 0.00215332862356541 | Accuracy 0.99974173553719\n",
      "[epoch:94] Val Loss : 0.33564393980486784, Val Accuracy : 0.953125\n",
      "\n",
      "40/160-> Train Loss  : 0.00011108354374300689 | Accuracy 1.0\n",
      "80/160-> Train Loss  : 0.0003792524950723618 | Accuracy 1.0\n",
      "120/160-> Train Loss  : 0.0003757105949733631 | Accuracy 1.0\n",
      "160/160-> Train Loss  : 0.002676082484409442 | Accuracy 0.99974173553719\n",
      "[epoch:95] Val Loss : 0.3590042712943614, Val Accuracy : 0.95078125\n",
      "\n",
      "40/160-> Train Loss  : 0.0002485587901901454 | Accuracy 1.0\n",
      "80/160-> Train Loss  : 0.0003506553988611303 | Accuracy 1.0\n",
      "120/160-> Train Loss  : 0.0003323674156019007 | Accuracy 1.0\n",
      "160/160-> Train Loss  : 0.002234637204159945 | Accuracy 0.99974173553719\n",
      "[epoch:96] Val Loss : 0.3681582620482914, Val Accuracy : 0.95078125\n",
      "\n",
      "40/160-> Train Loss  : 0.0005666903452947736 | Accuracy 1.0\n",
      "80/160-> Train Loss  : 0.0006963585949894722 | Accuracy 1.0\n",
      "120/160-> Train Loss  : 0.0037844394197842726 | Accuracy 0.9996141975308642\n",
      "160/160-> Train Loss  : 0.002622543895063433 | Accuracy 0.99974173553719\n",
      "[epoch:97] Val Loss : 0.3580343215209723, Val Accuracy : 0.95234375\n",
      "\n",
      "40/160-> Train Loss  : 0.00017251163080800325 | Accuracy 1.0\n",
      "80/160-> Train Loss  : 0.00039637772027983773 | Accuracy 1.0\n",
      "120/160-> Train Loss  : 0.00031840404189557533 | Accuracy 1.0\n",
      "160/160-> Train Loss  : 0.0002975111882365164 | Accuracy 1.0\n",
      "[epoch:98] Val Loss : 0.3583173051975791, Val Accuracy : 0.95390625\n",
      "\n",
      "40/160-> Train Loss  : 7.55212313379161e-05 | Accuracy 1.0\n",
      "80/160-> Train Loss  : 0.00025864009965117455 | Accuracy 1.0\n",
      "120/160-> Train Loss  : 0.0002357694569649606 | Accuracy 1.0\n",
      "160/160-> Train Loss  : 0.002027338204776949 | Accuracy 0.99974173553719\n",
      "[epoch:99] Val Loss : 0.3624192846586084, Val Accuracy : 0.95390625\n",
      "\n",
      "40/160-> Train Loss  : 0.00022458109015133232 | Accuracy 1.0\n",
      "80/160-> Train Loss  : 0.00023163310709982973 | Accuracy 1.0\n",
      "120/160-> Train Loss  : 0.000287059624508716 | Accuracy 1.0\n",
      "160/160-> Train Loss  : 0.0029131674974067676 | Accuracy 0.99974173553719\n",
      "[epoch:100] Val Loss : 0.36607972934725697, Val Accuracy : 0.95390625\n"
     ]
    }
   ],
   "source": [
    "classifier_save = SentenceClassifier(\n",
    "    n_vocab=n_vocab, hidden_dim=hidden_dim, embedding_dim=embedding_dim, n_layers=n_layers\n",
    ").to(device)\n",
    "loss_list,acc_list=[],[]\n",
    "criterion = nn.BCEWithLogitsLoss().to(device)\n",
    "optimizer = optim.Adam(classifier_save.parameters(), lr=0.001)\n",
    "scheduler = optim.lr_scheduler.StepLR(optimizer, 1.0, gamma=0.1)\n",
    "for epoch in range(epochs):\n",
    "    train(classifier_save, trainDL, criterion, optimizer, device, interval)\n",
    "    test(classifier_save, validDL, criterion, device, epoch)"
   ],
   "metadata": {
    "collapsed": false,
    "ExecuteTime": {
     "end_time": "2024-04-05T04:24:18.844044800Z",
     "start_time": "2024-04-05T04:08:56.066344600Z"
    }
   },
   "id": "f69a9afa16660e4f",
   "execution_count": 419
  },
  {
   "cell_type": "code",
   "outputs": [
    {
     "data": {
      "text/plain": "<Figure size 640x480 with 2 Axes>",
      "image/png": "[encoded data removed]"
     },
     "metadata": {},
     "output_type": "display_data"
    }
   ],
   "source": [
    "plt.plot(acc_list,'b',label='accuracy')\n",
    "plt.legend(loc='upper left')\n",
    "plt.ylabel('accuracy')\n",
    "plt.xlabel('epochs')\n",
    "ax2=plt.twinx()\n",
    "ax2.plot(loss_list,'r',label='loss')\n",
    "ax2.legend()\n",
    "plt.show()"
   ],
   "metadata": {
    "collapsed": false,
    "ExecuteTime": {
     "end_time": "2024-04-05T04:30:16.947303800Z",
     "start_time": "2024-04-05T04:30:16.630808600Z"
    }
   },
   "id": "839b69a6508c2e7e",
   "execution_count": 426
  },
  {
   "cell_type": "code",
   "outputs": [
    {
     "data": {
      "text/plain": "<Figure size 640x480 with 1 Axes>",
      "image/png": "[encoded data removed]"
     },
     "metadata": {},
     "output_type": "display_data"
    }
   ],
   "source": [
    "plt.plot(acc_list,'b',label='accuracy')\n",
    "plt.plot(loss_list,'r',label='loss')\n",
    "plt.xlabel('epoch')\n",
    "plt.legend()\n",
    "plt.show()"
   ],
   "metadata": {
    "collapsed": false,
    "ExecuteTime": {
     "end_time": "2024-04-05T04:32:32.704276700Z",
     "start_time": "2024-04-05T04:32:32.480258900Z"
    }
   },
   "id": "18ea8019f9eaa005",
   "execution_count": 428
  },
  {
   "cell_type": "code",
   "outputs": [],
   "source": [
    "torch.save(classifier,'why_so_serious.pt')"
   ],
   "metadata": {
    "collapsed": false,
    "ExecuteTime": {
     "end_time": "2024-04-04T16:25:09.230438100Z",
     "start_time": "2024-04-04T16:25:09.203131500Z"
    }
   },
   "id": "84515beb0defe63e",
   "execution_count": 327
  },
  {
   "cell_type": "code",
   "outputs": [
    {
     "data": {
      "text/plain": "<bound method Module.parameters of SentenceClassifier(\n  (embedding): Embedding(8680, 128, padding_idx=0)\n  (model): LSTM(128, 64, num_layers=2, batch_first=True, dropout=0.5, bidirectional=True)\n  (classifier): Linear(in_features=128, out_features=1, bias=True)\n  (dropout): Dropout(p=0.5, inplace=False)\n)>"
     },
     "execution_count": 46,
     "metadata": {},
     "output_type": "execute_result"
    }
   ],
   "source": [
    "# classifier = SentenceClassifier(\n",
    "#     n_vocab=n_vocab, hidden_dim=hidden_dim, embedding_dim=embedding_dim, n_layers=n_layers\n",
    "# ).to(device)\n",
    "# classifier.load_state_dict(torch.load('why_so_serious.pt'))\n",
    "classifier = torch.load('why_so_serious.pt')\n",
    "classifier.parameters"
   ],
   "metadata": {
    "collapsed": false,
    "ExecuteTime": {
     "end_time": "2024-04-05T05:38:02.285780600Z",
     "start_time": "2024-04-05T05:38:02.171483900Z"
    }
   },
   "id": "9409dd6740d8f533",
   "execution_count": 46
  },
  {
   "cell_type": "code",
   "outputs": [],
   "source": [
    "def text_pipeline(text):\n",
    "    return vocab1(tokenizer.morphs(text, stem=True))"
   ],
   "metadata": {
    "collapsed": false,
    "ExecuteTime": {
     "end_time": "2024-04-05T05:11:36.345768700Z",
     "start_time": "2024-04-05T05:11:36.286847300Z"
    }
   },
   "id": "4fd7cada213d3ed6",
   "execution_count": 36
  },
  {
   "cell_type": "code",
   "outputs": [],
   "source": [
    "### ====> 예측 함수\n",
    "def predict(model, text, text_pipeline):\n",
    "    with torch.no_grad():\n",
    "        # 토큰화 => 정수변환 => 텐서\n",
    "        text=pad_sequences([text_pipeline(text)],MAX_LENGTH, PAD_ID)\n",
    "        text = torch.tensor(text)\n",
    "        logits = model(text)\n",
    "        # print(logits)\n",
    "        yhat = torch.sigmoid(logits)\n",
    "        # print(yhat.item())\n",
    "        # print(yhat)\n",
    "        # print(yhat[0][0].item())\n",
    "        if yhat.item() > 0.5:\n",
    "            print('이것은 괴담입니다.')\n",
    "            print('꺄악')\n",
    "        else:\n",
    "            print('이것은 아주 웃긴 유머네요')\n",
    "            print('깔깔깔')"
   ],
   "metadata": {
    "collapsed": false,
    "ExecuteTime": {
     "end_time": "2024-04-05T05:11:36.985993800Z",
     "start_time": "2024-04-05T05:11:36.931543600Z"
    }
   },
   "id": "4ac517584bd367d0",
   "execution_count": 37
  },
  {
   "cell_type": "code",
   "outputs": [],
   "source": [
    "text = '내가 그를 짝사랑한지 벌써 2년.. 그렇지만 나는 내 마음을 그에게 아직 고백하지 못하고 있었다. 이제는 고백할 때가 되지 않았느냐는 친구의 말에 용기를 내어 사랑의 고백이 담긴 편지를 썼다. 장장 4일 동안 정성껏 내 마음을 담았다. 그러나 건네줄 기회를 매번 놓쳐 편지는 주머니에서 꼬깃꼬깃해졌다. 그러던 어느날 그를 보자마자 주머니에서 꼬깃꼬깃해진 편지를 그에게 던지듯 건네주고는 도망치듯 그 자리를 피했다. 다음날 그에게서 전화가 왔다. 그는 내게 만나자고 했다. 드디어 내 사랑의 결실을 보게 되는거라 생각했다. 가로등 불빛 아래 달빛을 받으며 그가 내게 다정스럽게 말했다. . . . \"어제 나한테 2천원 왜 던졌어?\"'"
   ],
   "metadata": {
    "collapsed": false,
    "ExecuteTime": {
     "end_time": "2024-04-05T05:38:24.420543100Z",
     "start_time": "2024-04-05T05:38:24.362714200Z"
    }
   },
   "id": "905e43006392cfb2",
   "execution_count": 47
  },
  {
   "cell_type": "code",
   "outputs": [
    {
     "name": "stdout",
     "output_type": "stream",
     "text": [
      "이것은 괴담입니다.\n",
      "꺄악\n"
     ]
    }
   ],
   "source": [
    "predict(classifier, text, text_pipeline)"
   ],
   "metadata": {
    "collapsed": false,
    "ExecuteTime": {
     "end_time": "2024-04-05T05:38:33.311252900Z",
     "start_time": "2024-04-05T05:38:31.873939600Z"
    }
   },
   "id": "e2cd8123abfef190",
   "execution_count": 48
  },
  {
   "cell_type": "code",
   "outputs": [
    {
     "data": {
      "text/plain": "[20,\n 4,\n 10,\n 7,\n 1,\n 4142,\n 1878,\n 2084,\n 1,\n 2436,\n 24,\n 8,\n 20,\n 422,\n 1,\n 10,\n 1,\n 423,\n 2426,\n 2,\n 43,\n 33,\n 5,\n 1,\n 257,\n 8,\n 2426,\n 2,\n 22,\n 4,\n 14,\n 17,\n 75,\n 9,\n 15,\n 1,\n 2530,\n 7,\n 154,\n 616,\n 9,\n 2426,\n 3,\n 3314,\n 910,\n 7,\n 393,\n 1,\n 1,\n 4192,\n 325,\n 1,\n 20,\n 422,\n 1,\n 2651,\n 1,\n 658,\n 3241,\n 3285,\n 7,\n 3345,\n 3303,\n 910,\n 8,\n 1379,\n 1,\n 1,\n 2,\n 1,\n 32,\n 160,\n 44,\n 10,\n 7,\n 19,\n 1379,\n 1,\n 1,\n 2,\n 910,\n 7,\n 10,\n 1,\n 888,\n 3241,\n 451,\n 10,\n 234,\n 7,\n 303,\n 2,\n 1,\n 106,\n 44,\n 10,\n 1,\n 194,\n 4,\n 39,\n 1,\n 10,\n 8,\n 154,\n 567,\n 2,\n 1,\n 890,\n 20,\n 616,\n 9,\n 1,\n 1,\n 19,\n 14,\n 36,\n 2,\n 1,\n 2611,\n 987,\n 465,\n 1,\n 1,\n 69,\n 10,\n 4,\n 154,\n 1,\n 1,\n 15,\n 2,\n 1,\n 1,\n 1,\n 1,\n 1,\n 1111,\n 24,\n 1,\n 1,\n 175,\n 888,\n 1]"
     },
     "execution_count": 387,
     "metadata": {},
     "output_type": "execute_result"
    }
   ],
   "source": [
    "text_pipeline(text)"
   ],
   "metadata": {
    "collapsed": false,
    "ExecuteTime": {
     "end_time": "2024-04-05T01:16:00.496253700Z",
     "start_time": "2024-04-05T01:16:00.412606500Z"
    }
   },
   "id": "f24f5956ba4e6f1e",
   "execution_count": 387
  },
  {
   "cell_type": "code",
   "outputs": [
    {
     "data": {
      "text/plain": "tensor([[  20,    4,   10,    7,    1, 4142, 1878, 2084,    1, 2436,   24,    8,\n           20,  422,    1,   10,    1,  423, 2426,    2,   43,   33,    5,    1,\n          257,    8, 2426,    2,   22,    4,   14,   17,   75,    9,   15,    1,\n         2530,    7,  154,  616,    9, 2426,    3, 3314,  910,    7,  393,    1,\n            1, 4192,  325,    1,   20,  422,    1, 2651,    1,  658, 3241, 3285,\n            7, 3345, 3303,  910,    8, 1379,    1,    1,    2,    1,   32,  160,\n           44,   10,    7,   19, 1379,    1,    1,    2,  910,    7,   10,    1,\n          888, 3241,  451,   10,  234,    7,  303,    2,    1,  106,   44,   10,\n            1,  194,    4,   39,    1,   10,    8,  154,  567,    2,    1,  890,\n           20,  616,    9,    1,    1,   19,   14,   36,    2,    1, 2611,  987,\n          465,    1,    1,   69,   10,    4,  154,    1,    1,   15,    2,    1,\n            1,    1,    1,    1, 1111,   24,    1,    1,  175,  888,    1]])"
     },
     "execution_count": 359,
     "metadata": {},
     "output_type": "execute_result"
    }
   ],
   "source": [
    "torch.tensor([text_pipeline(text)])"
   ],
   "metadata": {
    "collapsed": false,
    "ExecuteTime": {
     "end_time": "2024-04-05T00:54:02.908595600Z",
     "start_time": "2024-04-05T00:54:02.865960800Z"
    }
   },
   "id": "9290b464869a8287",
   "execution_count": 359
  },
  {
   "cell_type": "code",
   "outputs": [
    {
     "name": "stdout",
     "output_type": "stream",
     "text": [
      "이것은 괴담입니다.\n",
      "꺄악\n"
     ]
    }
   ],
   "source": [
    "predict(classifier, text, text_pipeline)"
   ],
   "metadata": {
    "collapsed": false,
    "ExecuteTime": {
     "end_time": "2024-04-05T04:05:40.325132600Z",
     "start_time": "2024-04-05T04:05:40.240939500Z"
    }
   },
   "id": "143c4e0d519dfadf",
   "execution_count": 417
  },
  {
   "cell_type": "code",
   "outputs": [],
   "source": [
    "test_text = '1982년, 도쿄도 N구에서 혼자 살던 남성 (당시 21살・학생)이 시체로 발견되었다. 사인은 심장발작으로 경찰은 사건성이 없다고 판단하였다. 발견된 시점에서 사망하고 꽤나 시간이 지나있었는데,  근처 주민은 누구도 [시체 냄새] 같은 것을 전혀 느끼지 못했다고 한다. 단, 때마침 그가 죽었다고 생각되는 시점부터 얼마 사이,  근처에는 사방에서 무언가 꽃과 같은 달콤한 냄새가 풍겼다고 한다. '"
   ],
   "metadata": {
    "collapsed": false,
    "ExecuteTime": {
     "end_time": "2024-04-05T05:38:38.336910800Z",
     "start_time": "2024-04-05T05:38:38.282882800Z"
    }
   },
   "id": "92a6437c65ea5dd2",
   "execution_count": 49
  },
  {
   "cell_type": "code",
   "outputs": [
    {
     "data": {
      "text/plain": "64"
     },
     "execution_count": 397,
     "metadata": {},
     "output_type": "execute_result"
    }
   ],
   "source": [
    "len(pad_sequences([text_pipeline(test_text)],MAX_LENGTH, PAD_ID)[0])"
   ],
   "metadata": {
    "collapsed": false,
    "ExecuteTime": {
     "end_time": "2024-04-05T01:23:38.299293300Z",
     "start_time": "2024-04-05T01:23:38.242816300Z"
    }
   },
   "id": "f411e188ab8ef842",
   "execution_count": 397
  },
  {
   "cell_type": "code",
   "outputs": [
    {
     "data": {
      "text/plain": "tensor([[13.2159]], grad_fn=<AddmmBackward0>)"
     },
     "execution_count": 393,
     "metadata": {},
     "output_type": "execute_result"
    }
   ],
   "source": [
    "agg=torch.tensor([vocab1(tokenizer.morphs(test_text,stem=True))])\n",
    "classifier(agg)"
   ],
   "metadata": {
    "collapsed": false,
    "ExecuteTime": {
     "end_time": "2024-04-05T01:19:14.830546100Z",
     "start_time": "2024-04-05T01:19:14.724973100Z"
    }
   },
   "id": "7a04e77cb98a2839",
   "execution_count": 393
  },
  {
   "cell_type": "code",
   "outputs": [
    {
     "name": "stdout",
     "output_type": "stream",
     "text": [
      "tensor([[13.2476]])\n",
      "0.9999982118606567\n",
      "이것은 괴담입니다.\n",
      "꺄악\n"
     ]
    }
   ],
   "source": [
    "predict(classifier, test_text, text_pipeline)"
   ],
   "metadata": {
    "collapsed": false,
    "ExecuteTime": {
     "end_time": "2024-04-05T04:05:06.759467200Z",
     "start_time": "2024-04-05T04:05:06.679510900Z"
    }
   },
   "id": "1d203e088a83bad6",
   "execution_count": 415
  },
  {
   "cell_type": "code",
   "outputs": [
    {
     "name": "stdout",
     "output_type": "stream",
     "text": [
      "이것은 괴담입니다.\n",
      "꺄악\n"
     ]
    }
   ],
   "source": [
    "predict(classifier, test_text, text_pipeline)"
   ],
   "metadata": {
    "collapsed": false,
    "ExecuteTime": {
     "end_time": "2024-04-05T05:38:50.301485500Z",
     "start_time": "2024-04-05T05:38:50.127352700Z"
    }
   },
   "id": "9b8695e3d88ffc52",
   "execution_count": 50
  },
  {
   "cell_type": "code",
   "outputs": [],
   "source": [
    "test_text2 = '동해물과 백두산이 마르고 닳도록 하느님이 보우하사 우리나라만세 무궁화 삼천리 화려강산 대한사람 대한으로 우리나라 만세'"
   ],
   "metadata": {
    "collapsed": false,
    "ExecuteTime": {
     "end_time": "2024-04-05T05:38:55.300307400Z",
     "start_time": "2024-04-05T05:38:55.247013800Z"
    }
   },
   "id": "6e7f552c52b7cd89",
   "execution_count": 51
  },
  {
   "cell_type": "code",
   "outputs": [
    {
     "data": {
      "text/plain": "tensor([[-9.4838]], grad_fn=<AddmmBackward0>)"
     },
     "execution_count": 392,
     "metadata": {},
     "output_type": "execute_result"
    }
   ],
   "source": [
    "agg=torch.tensor([vocab1(tokenizer.morphs(test_text2,stem=True))])\n",
    "classifier(agg)"
   ],
   "metadata": {
    "collapsed": false,
    "ExecuteTime": {
     "end_time": "2024-04-05T01:18:50.879672400Z",
     "start_time": "2024-04-05T01:18:50.807683900Z"
    }
   },
   "id": "b0464006c0afb0e2",
   "execution_count": 392
  },
  {
   "cell_type": "code",
   "outputs": [
    {
     "name": "stdout",
     "output_type": "stream",
     "text": [
      "tensor([[-15.9453]])\n",
      "1.1886604056599026e-07\n",
      "이것은 아주 웃긴 유머네요\n",
      "깔깔깔\n"
     ]
    }
   ],
   "source": [
    "predict(classifier,test_text2,text_pipeline)"
   ],
   "metadata": {
    "collapsed": false,
    "ExecuteTime": {
     "end_time": "2024-04-05T01:26:45.999637900Z",
     "start_time": "2024-04-05T01:26:45.948285500Z"
    }
   },
   "id": "fcba0dcbad282c5a",
   "execution_count": 406
  },
  {
   "cell_type": "code",
   "outputs": [
    {
     "name": "stdout",
     "output_type": "stream",
     "text": [
      "이것은 아주 웃긴 유머네요\n",
      "깔깔깔\n"
     ]
    }
   ],
   "source": [
    "predict(classifier,test_text2,text_pipeline)"
   ],
   "metadata": {
    "collapsed": false,
    "ExecuteTime": {
     "end_time": "2024-04-05T05:39:01.923045300Z",
     "start_time": "2024-04-05T05:39:01.787883500Z"
    }
   },
   "id": "283bc02281ec62c5",
   "execution_count": 52
  },
  {
   "cell_type": "code",
   "outputs": [
    {
     "name": "stdout",
     "output_type": "stream",
     "text": [
      "이것은 아주 웃긴 유머네요\n",
      "깔깔깔\n"
     ]
    }
   ],
   "source": [
    "tax1 = '파란 소가 용을 구한다 를 5글자로 하면? 청소용구함'\n",
    "\n",
    "predict(classifier,tax1,text_pipeline)"
   ],
   "metadata": {
    "collapsed": false,
    "ExecuteTime": {
     "end_time": "2024-04-05T05:39:12.948709100Z",
     "start_time": "2024-04-05T05:39:12.839983700Z"
    }
   },
   "id": "297f946516f274d3",
   "execution_count": 53
  },
  {
   "cell_type": "code",
   "outputs": [
    {
     "name": "stdout",
     "output_type": "stream",
     "text": [
      "이것은 괴담입니다.\n",
      "꺄악\n"
     ]
    }
   ],
   "source": [
    "tax2 = '창문 사이로 쳐다보는 검은 눈동자'\n",
    "predict(classifier,tax2,text_pipeline)"
   ],
   "metadata": {
    "collapsed": false,
    "ExecuteTime": {
     "end_time": "2024-04-05T05:39:20.557221400Z",
     "start_time": "2024-04-05T05:39:20.395761400Z"
    }
   },
   "id": "93fa61a0bcddda90",
   "execution_count": 54
  },
  {
   "cell_type": "code",
   "outputs": [
    {
     "name": "stdout",
     "output_type": "stream",
     "text": [
      "이것은 괴담입니다.\n",
      "꺄악\n"
     ]
    }
   ],
   "source": [
    "testfor = '자연어 처리를 간간아빠네 안데 정중앙저게달리머로 그냐고 난달리못된 안녀께줄 나도리기서 나갈고 내미간알빠용데 안녀리를간간간아빠네 안데달리셨다.'\n",
    "predict(classifier,testfor,text_pipeline)"
   ],
   "metadata": {
    "collapsed": false,
    "ExecuteTime": {
     "end_time": "2024-04-05T06:10:37.953589300Z",
     "start_time": "2024-04-05T06:10:37.845693Z"
    }
   },
   "id": "983d862efddb3add",
   "execution_count": 55
  },
  {
   "cell_type": "code",
   "outputs": [
    {
     "name": "stdout",
     "output_type": "stream",
     "text": [
      "이것은 아주 웃긴 유머네요\n",
      "깔깔깔\n"
     ]
    }
   ],
   "source": [
    "tttt='아니 이게 무슨소리야 내가 성불구자가 됐다고?? 고자가 됐다 그말인가? 고자라니!? 아니 내가 고자라니!?'\n",
    "predict(classifier,tttt,text_pipeline)"
   ],
   "metadata": {
    "collapsed": false,
    "ExecuteTime": {
     "end_time": "2024-04-05T07:10:05.602360100Z",
     "start_time": "2024-04-05T07:10:05.511854700Z"
    }
   },
   "id": "6f5b1f80cc131d3",
   "execution_count": 56
  },
  {
   "cell_type": "code",
   "outputs": [],
   "source": [],
   "metadata": {
    "collapsed": false
   },
   "id": "9dfd47faa9d316bb"
  },
  {
   "cell_type": "code",
   "outputs": [],
   "source": [],
   "metadata": {
    "collapsed": false
   },
   "id": "56da887ced68b813"
  },
  {
   "cell_type": "markdown",
   "source": [
    "2) rnn 으로 학습하면?"
   ],
   "metadata": {
    "collapsed": false
   },
   "id": "29a2818319f345fe"
  },
  {
   "cell_type": "code",
   "outputs": [],
   "source": [
    "classifier2 = SentenceClassifier(\n",
    "    n_vocab=n_vocab, hidden_dim=hidden_dim, embedding_dim=embedding_dim, n_layers=n_layers, model_type='rnn'\n",
    ").to(device)"
   ],
   "metadata": {
    "collapsed": false,
    "ExecuteTime": {
     "end_time": "2024-04-05T05:11:47.984743900Z",
     "start_time": "2024-04-05T05:11:47.938231800Z"
    }
   },
   "id": "5000ad9a3e78b28a",
   "execution_count": 38
  },
  {
   "cell_type": "code",
   "outputs": [
    {
     "name": "stdout",
     "output_type": "stream",
     "text": [
      "40/160-> Train Loss  : 0.6950479745864868 | Accuracy 0.53125\n",
      "80/160-> Train Loss  : 0.6720068832723106 | Accuracy 0.6059451219512195\n",
      "120/160-> Train Loss  : 0.5817674506961563 | Accuracy 0.6917438271604939\n",
      "160/160-> Train Loss  : 0.5663782257186479 | Accuracy 0.7179752066115702\n",
      "[epoch:1] Val Loss : 0.5607930205762386, Val Accuracy : 0.7703125\n",
      "\n",
      "40/160-> Train Loss  : 0.5719612836837769 | Accuracy 0.75\n",
      "80/160-> Train Loss  : 0.5903458980525412 | Accuracy 0.7362804878048781\n",
      "120/160-> Train Loss  : 0.5794833600521088 | Accuracy 0.7291666666666666\n",
      "160/160-> Train Loss  : 0.5890066062123323 | Accuracy 0.6983471074380165\n",
      "[epoch:2] Val Loss : 0.5936051100492478, Val Accuracy : 0.63046875\n",
      "\n",
      "40/160-> Train Loss  : 0.6081539392471313 | Accuracy 0.625\n",
      "80/160-> Train Loss  : 0.5894496877018999 | Accuracy 0.6082317073170732\n",
      "120/160-> Train Loss  : 0.6013998466509359 | Accuracy 0.6327160493827161\n",
      "160/160-> Train Loss  : 0.5996040620587089 | Accuracy 0.6306818181818182\n",
      "[epoch:3] Val Loss : 0.6593540102243424, Val Accuracy : 0.59453125\n",
      "\n",
      "40/160-> Train Loss  : 0.5815948247909546 | Accuracy 0.65625\n",
      "80/160-> Train Loss  : 0.6419880419242673 | Accuracy 0.5907012195121951\n",
      "120/160-> Train Loss  : 0.6508587341249725 | Accuracy 0.5960648148148148\n",
      "160/160-> Train Loss  : 0.6563612138929446 | Accuracy 0.5883264462809917\n",
      "[epoch:4] Val Loss : 0.66676494628191, Val Accuracy : 0.58515625\n",
      "\n",
      "40/160-> Train Loss  : 0.6546189188957214 | Accuracy 0.65625\n",
      "80/160-> Train Loss  : 0.6486846964533736 | Accuracy 0.5853658536585366\n",
      "120/160-> Train Loss  : 0.6470070304693999 | Accuracy 0.5891203703703703\n",
      "160/160-> Train Loss  : 0.6372884007032252 | Accuracy 0.6027892561983471\n",
      "[epoch:5] Val Loss : 0.6445665031671524, Val Accuracy : 0.60390625\n",
      "\n",
      "40/160-> Train Loss  : 0.5178689956665039 | Accuracy 0.75\n",
      "80/160-> Train Loss  : 0.6280531301731016 | Accuracy 0.586890243902439\n",
      "120/160-> Train Loss  : 0.6082048416137695 | Accuracy 0.6180555555555556\n",
      "160/160-> Train Loss  : 0.6232965687089715 | Accuracy 0.6265495867768595\n",
      "[epoch:6] Val Loss : 0.6931484073400498, Val Accuracy : 0.603125\n",
      "\n",
      "40/160-> Train Loss  : 0.6572549343109131 | Accuracy 0.65625\n",
      "80/160-> Train Loss  : 0.5670030160648066 | Accuracy 0.7263719512195121\n",
      "120/160-> Train Loss  : 0.5549848716200134 | Accuracy 0.7349537037037037\n",
      "160/160-> Train Loss  : 0.5565725786626832 | Accuracy 0.7334710743801653\n",
      "[epoch:7] Val Loss : 0.5758379869163036, Val Accuracy : 0.7203125\n",
      "\n",
      "40/160-> Train Loss  : 0.4735252261161804 | Accuracy 0.8125\n",
      "80/160-> Train Loss  : 0.49120721439035925 | Accuracy 0.7850609756097561\n",
      "120/160-> Train Loss  : 0.49661135268800055 | Accuracy 0.7824074074074074\n",
      "160/160-> Train Loss  : 0.49688001211024513 | Accuracy 0.78150826446281\n",
      "[epoch:8] Val Loss : 0.6049829371273517, Val Accuracy : 0.69609375\n",
      "\n",
      "40/160-> Train Loss  : 0.6005547046661377 | Accuracy 0.65625\n",
      "80/160-> Train Loss  : 0.467543462427651 | Accuracy 0.7903963414634146\n",
      "120/160-> Train Loss  : 0.46190955131142225 | Accuracy 0.7924382716049383\n",
      "160/160-> Train Loss  : 0.45300622567657595 | Accuracy 0.797004132231405\n",
      "[epoch:9] Val Loss : 0.5784336715936661, Val Accuracy : 0.72890625\n",
      "\n",
      "40/160-> Train Loss  : 0.31614160537719727 | Accuracy 0.875\n",
      "80/160-> Train Loss  : 0.41864257905541397 | Accuracy 0.8269817073170732\n",
      "120/160-> Train Loss  : 0.4233744322885702 | Accuracy 0.8194444444444444\n",
      "160/160-> Train Loss  : 0.4217094726060048 | Accuracy 0.8215392561983471\n",
      "[epoch:10] Val Loss : 0.5960922405123711, Val Accuracy : 0.7296875\n",
      "\n",
      "40/160-> Train Loss  : 0.744224488735199 | Accuracy 0.6875\n",
      "80/160-> Train Loss  : 0.35524797857534596 | Accuracy 0.8589939024390244\n",
      "120/160-> Train Loss  : 0.3528461600711316 | Accuracy 0.8576388888888888\n",
      "160/160-> Train Loss  : 0.3505881780312081 | Accuracy 0.8620867768595041\n",
      "[epoch:11] Val Loss : 0.5618549086153507, Val Accuracy : 0.765625\n",
      "\n",
      "40/160-> Train Loss  : 0.49243032932281494 | Accuracy 0.84375\n",
      "80/160-> Train Loss  : 0.29164636480372125 | Accuracy 0.885670731707317\n",
      "120/160-> Train Loss  : 0.29119816137316784 | Accuracy 0.8888888888888888\n",
      "160/160-> Train Loss  : 0.30032502539640615 | Accuracy 0.8871384297520661\n",
      "[epoch:12] Val Loss : 0.6098528608679772, Val Accuracy : 0.7625\n",
      "\n",
      "40/160-> Train Loss  : 0.16820697486400604 | Accuracy 0.96875\n",
      "80/160-> Train Loss  : 0.261275506601101 | Accuracy 0.9092987804878049\n",
      "120/160-> Train Loss  : 0.2515377026097274 | Accuracy 0.9135802469135802\n",
      "160/160-> Train Loss  : 0.25226690466246326 | Accuracy 0.9111570247933884\n",
      "[epoch:13] Val Loss : 0.5812532186508179, Val Accuracy : 0.77421875\n",
      "\n",
      "40/160-> Train Loss  : 0.24828766286373138 | Accuracy 0.9375\n",
      "80/160-> Train Loss  : 0.232356962270853 | Accuracy 0.9222560975609756\n",
      "120/160-> Train Loss  : 0.23732810058159592 | Accuracy 0.9193672839506173\n",
      "160/160-> Train Loss  : 0.24507624184912888 | Accuracy 0.9137396694214877\n",
      "[epoch:14] Val Loss : 0.6262705944478512, Val Accuracy : 0.76171875\n",
      "\n",
      "40/160-> Train Loss  : 0.42074260115623474 | Accuracy 0.90625\n",
      "80/160-> Train Loss  : 0.23014436771229999 | Accuracy 0.9260670731707317\n",
      "120/160-> Train Loss  : 0.21990977568022999 | Accuracy 0.9320987654320988\n",
      "160/160-> Train Loss  : 0.21742520872349583 | Accuracy 0.9297520661157025\n",
      "[epoch:15] Val Loss : 0.7195388793945312, Val Accuracy : 0.7453125\n",
      "\n",
      "40/160-> Train Loss  : 0.21521498262882233 | Accuracy 0.90625\n",
      "80/160-> Train Loss  : 0.16563446701663295 | Accuracy 0.9466463414634146\n",
      "120/160-> Train Loss  : 0.17625267049412668 | Accuracy 0.9436728395061729\n",
      "160/160-> Train Loss  : 0.1887273265064255 | Accuracy 0.9390495867768595\n",
      "[epoch:16] Val Loss : 0.6836771782487631, Val Accuracy : 0.7578125\n",
      "\n",
      "40/160-> Train Loss  : 0.2735218107700348 | Accuracy 0.90625\n",
      "80/160-> Train Loss  : 0.20495421593872512 | Accuracy 0.9230182926829268\n",
      "120/160-> Train Loss  : 0.20836970936736943 | Accuracy 0.9243827160493827\n",
      "160/160-> Train Loss  : 0.20469288817368264 | Accuracy 0.9284607438016529\n",
      "[epoch:17] Val Loss : 0.6554919511079789, Val Accuracy : 0.7671875\n",
      "\n",
      "40/160-> Train Loss  : 0.3033151626586914 | Accuracy 0.9375\n",
      "80/160-> Train Loss  : 0.13142416980571864 | Accuracy 0.961890243902439\n",
      "120/160-> Train Loss  : 0.13848363070024383 | Accuracy 0.9591049382716049\n",
      "160/160-> Train Loss  : 0.1507101604822746 | Accuracy 0.9537706611570248\n",
      "[epoch:18] Val Loss : 0.6791452258825302, Val Accuracy : 0.7765625\n",
      "\n",
      "40/160-> Train Loss  : 0.025835029780864716 | Accuracy 1.0\n",
      "80/160-> Train Loss  : 0.12409828362486712 | Accuracy 0.9634146341463414\n",
      "120/160-> Train Loss  : 0.12174594593176871 | Accuracy 0.964891975308642\n",
      "160/160-> Train Loss  : 0.15041525888233637 | Accuracy 0.9542871900826446\n",
      "[epoch:19] Val Loss : 0.8284489035606384, Val Accuracy : 0.70546875\n",
      "\n",
      "40/160-> Train Loss  : 0.3426973223686218 | Accuracy 0.84375\n",
      "80/160-> Train Loss  : 0.14362943467752234 | Accuracy 0.9573170731707317\n",
      "120/160-> Train Loss  : 0.14791867778533035 | Accuracy 0.9540895061728395\n",
      "160/160-> Train Loss  : 0.15051868888895867 | Accuracy 0.9527376033057852\n",
      "[epoch:20] Val Loss : 0.757164529338479, Val Accuracy : 0.77578125\n",
      "\n",
      "40/160-> Train Loss  : 0.02805727906525135 | Accuracy 1.0\n",
      "80/160-> Train Loss  : 0.11203788745603184 | Accuracy 0.9710365853658537\n",
      "120/160-> Train Loss  : 0.11874978056890362 | Accuracy 0.96875\n",
      "160/160-> Train Loss  : 0.11116073011951752 | Accuracy 0.9702995867768595\n",
      "[epoch:21] Val Loss : 0.7777041107416153, Val Accuracy : 0.76484375\n",
      "\n",
      "40/160-> Train Loss  : 0.05632878467440605 | Accuracy 0.96875\n",
      "80/160-> Train Loss  : 0.12358042347903658 | Accuracy 0.9603658536585366\n",
      "120/160-> Train Loss  : 0.1167331887294113 | Accuracy 0.9645061728395061\n",
      "160/160-> Train Loss  : 0.14252391876267992 | Accuracy 0.9553202479338843\n",
      "[epoch:22] Val Loss : 0.7803381964564323, Val Accuracy : 0.75625\n",
      "\n",
      "40/160-> Train Loss  : 0.15855225920677185 | Accuracy 0.9375\n",
      "80/160-> Train Loss  : 0.10946265317317916 | Accuracy 0.9733231707317073\n",
      "120/160-> Train Loss  : 0.10687801811016268 | Accuracy 0.9710648148148148\n",
      "160/160-> Train Loss  : 0.11223055540068337 | Accuracy 0.9677169421487604\n",
      "[epoch:23] Val Loss : 0.8315464623272419, Val Accuracy : 0.78359375\n",
      "\n",
      "40/160-> Train Loss  : 0.09602046012878418 | Accuracy 0.9375\n",
      "80/160-> Train Loss  : 0.07844845305492239 | Accuracy 0.975609756097561\n",
      "120/160-> Train Loss  : 0.08038828234521696 | Accuracy 0.9780092592592593\n",
      "160/160-> Train Loss  : 0.0763279762242205 | Accuracy 0.9793388429752066\n",
      "[epoch:24] Val Loss : 0.8750747576355934, Val Accuracy : 0.7765625\n",
      "\n",
      "40/160-> Train Loss  : 0.1680871546268463 | Accuracy 0.96875\n",
      "80/160-> Train Loss  : 0.09607850780665148 | Accuracy 0.9748475609756098\n",
      "120/160-> Train Loss  : 0.0872079081442437 | Accuracy 0.9787808641975309\n",
      "160/160-> Train Loss  : 0.07723034373369099 | Accuracy 0.981146694214876\n",
      "[epoch:25] Val Loss : 0.9277185410261154, Val Accuracy : 0.76015625\n",
      "\n",
      "40/160-> Train Loss  : 0.02156100422143936 | Accuracy 1.0\n",
      "80/160-> Train Loss  : 0.15837641214815582 | Accuracy 0.9535060975609756\n",
      "120/160-> Train Loss  : 0.1895597968480469 | Accuracy 0.939429012345679\n",
      "160/160-> Train Loss  : 0.17085139371824165 | Accuracy 0.9467975206611571\n",
      "[epoch:26] Val Loss : 0.8133120343089104, Val Accuracy : 0.74453125\n",
      "\n",
      "40/160-> Train Loss  : 0.03128161281347275 | Accuracy 1.0\n",
      "80/160-> Train Loss  : 0.09993921988075827 | Accuracy 0.9733231707317073\n",
      "120/160-> Train Loss  : 0.09023117018794571 | Accuracy 0.9764660493827161\n",
      "160/160-> Train Loss  : 0.09303050693740283 | Accuracy 0.9752066115702479\n",
      "[epoch:27] Val Loss : 0.8859222292900085, Val Accuracy : 0.76875\n",
      "40/160-> Train Loss  : 0.01116228848695755 | Accuracy 1.0\n",
      "80/160-> Train Loss  : 0.0463191872553491 | Accuracy 0.9885670731707317\n",
      "120/160-> Train Loss  : 0.056123314810525855 | Accuracy 0.9872685185185185\n",
      "160/160-> Train Loss  : 0.0675100541850629 | Accuracy 0.9824380165289256\n",
      "[epoch:28] Val Loss : 0.9070213586091995, Val Accuracy : 0.771875\n",
      "\n",
      "40/160-> Train Loss  : 0.12600715458393097 | Accuracy 0.96875\n",
      "80/160-> Train Loss  : 0.0677871844708556 | Accuracy 0.9832317073170732\n",
      "120/160-> Train Loss  : 0.05474075494495071 | Accuracy 0.9884259259259259\n",
      "160/160-> Train Loss  : 0.05622668335337407 | Accuracy 0.9881198347107438\n",
      "[epoch:29] Val Loss : 0.9033031158149243, Val Accuracy : 0.77578125\n",
      "\n",
      "40/160-> Train Loss  : 0.048384618014097214 | Accuracy 0.96875\n",
      "80/160-> Train Loss  : 0.034228199445528955 | Accuracy 0.9923780487804879\n",
      "120/160-> Train Loss  : 0.04056255223608955 | Accuracy 0.9903549382716049\n",
      "160/160-> Train Loss  : 0.04866409099907114 | Accuracy 0.9886363636363636\n",
      "[epoch:30] Val Loss : 1.1145202428102494, Val Accuracy : 0.73203125\n",
      "\n",
      "40/160-> Train Loss  : 0.11128976941108704 | Accuracy 0.9375\n",
      "80/160-> Train Loss  : 0.12189507502608182 | Accuracy 0.9603658536585366\n",
      "120/160-> Train Loss  : 0.14373591721609788 | Accuracy 0.9537037037037037\n",
      "160/160-> Train Loss  : 0.1537331262033833 | Accuracy 0.9524793388429752\n",
      "[epoch:31] Val Loss : 0.9508773170411586, Val Accuracy : 0.72109375\n",
      "\n",
      "40/160-> Train Loss  : 0.052886899560689926 | Accuracy 1.0\n",
      "80/160-> Train Loss  : 0.14212142246798043 | Accuracy 0.9527439024390244\n",
      "120/160-> Train Loss  : 0.12094906551970376 | Accuracy 0.9625771604938271\n",
      "160/160-> Train Loss  : 0.11462201208861406 | Accuracy 0.9664256198347108\n",
      "[epoch:32] Val Loss : 0.8169058226048946, Val Accuracy : 0.7671875\n",
      "\n",
      "40/160-> Train Loss  : 0.04141262546181679 | Accuracy 0.96875\n",
      "80/160-> Train Loss  : 0.07455654341227762 | Accuracy 0.9824695121951219\n",
      "120/160-> Train Loss  : 0.06800172592363792 | Accuracy 0.9834104938271605\n",
      "160/160-> Train Loss  : 0.12240354956535637 | Accuracy 0.9630681818181818\n",
      "[epoch:33] Val Loss : 0.7779671840369702, Val Accuracy : 0.76640625\n",
      "\n",
      "40/160-> Train Loss  : 0.3411591053009033 | Accuracy 0.90625\n",
      "80/160-> Train Loss  : 0.1513318016034801 | Accuracy 0.9489329268292683\n",
      "120/160-> Train Loss  : 0.13285787039102964 | Accuracy 0.9564043209876543\n",
      "160/160-> Train Loss  : 0.12033865550024943 | Accuracy 0.9633264462809917\n",
      "[epoch:34] Val Loss : 0.8622030071914196, Val Accuracy : 0.75390625\n",
      "\n",
      "40/160-> Train Loss  : 0.12318135052919388 | Accuracy 0.9375\n",
      "80/160-> Train Loss  : 0.08810457971128749 | Accuracy 0.9725609756097561\n",
      "120/160-> Train Loss  : 0.08015334994796618 | Accuracy 0.9760802469135802\n",
      "160/160-> Train Loss  : 0.08416912527677935 | Accuracy 0.9759814049586777\n",
      "[epoch:35] Val Loss : 0.9083842121064662, Val Accuracy : 0.75546875\n",
      "\n",
      "40/160-> Train Loss  : 0.017772851511836052 | Accuracy 1.0\n",
      "80/160-> Train Loss  : 0.04951330961477829 | Accuracy 0.9908536585365854\n",
      "120/160-> Train Loss  : 0.04462112420824943 | Accuracy 0.9907407407407407\n",
      "160/160-> Train Loss  : 0.053074050075105156 | Accuracy 0.9888946280991735\n",
      "[epoch:36] Val Loss : 1.117744265496731, Val Accuracy : 0.72578125\n",
      "\n",
      "40/160-> Train Loss  : 0.2456137239933014 | Accuracy 0.90625\n",
      "80/160-> Train Loss  : 0.06264189514899399 | Accuracy 0.979420731707317\n",
      "120/160-> Train Loss  : 0.04700276986580848 | Accuracy 0.9872685185185185\n",
      "160/160-> Train Loss  : 0.046268248751620986 | Accuracy 0.9883780991735537\n",
      "[epoch:37] Val Loss : 1.0669839188456536, Val Accuracy : 0.7578125\n",
      "\n",
      "40/160-> Train Loss  : 0.005351711995899677 | Accuracy 1.0\n",
      "80/160-> Train Loss  : 0.06053244157853287 | Accuracy 0.9870426829268293\n",
      "120/160-> Train Loss  : 0.04539013672964992 | Accuracy 0.9903549382716049\n",
      "160/160-> Train Loss  : 0.043116374907260835 | Accuracy 0.9904442148760331\n",
      "[epoch:38] Val Loss : 1.051018026471138, Val Accuracy : 0.76484375\n",
      "\n",
      "40/160-> Train Loss  : 0.004620034713298082 | Accuracy 1.0\n",
      "80/160-> Train Loss  : 0.030427970758798283 | Accuracy 0.9946646341463414\n",
      "120/160-> Train Loss  : 0.03260809229399411 | Accuracy 0.9942129629629629\n",
      "160/160-> Train Loss  : 0.03986672732463368 | Accuracy 0.9919938016528925\n",
      "[epoch:39] Val Loss : 1.1114720210433007, Val Accuracy : 0.75234375\n",
      "\n",
      "40/160-> Train Loss  : 0.1592848151922226 | Accuracy 0.96875\n",
      "80/160-> Train Loss  : 0.05624701894774306 | Accuracy 0.9855182926829268\n",
      "120/160-> Train Loss  : 0.05909970711433777 | Accuracy 0.9845679012345679\n",
      "160/160-> Train Loss  : 0.05622828873028317 | Accuracy 0.9860537190082644\n",
      "[epoch:40] Val Loss : 1.1974809750914575, Val Accuracy : 0.71640625\n",
      "\n",
      "40/160-> Train Loss  : 0.12095633894205093 | Accuracy 0.9375\n",
      "80/160-> Train Loss  : 0.05421080877550128 | Accuracy 0.9839939024390244\n",
      "120/160-> Train Loss  : 0.057558120872227496 | Accuracy 0.9861111111111112\n",
      "160/160-> Train Loss  : 0.049640464088456196 | Accuracy 0.9883780991735537\n",
      "[epoch:41] Val Loss : 1.036239242553711, Val Accuracy : 0.746875\n",
      "\n",
      "40/160-> Train Loss  : 0.03356251120567322 | Accuracy 0.96875\n",
      "80/160-> Train Loss  : 0.13768477258613196 | Accuracy 0.9542682926829268\n",
      "120/160-> Train Loss  : 0.12135298652459442 | Accuracy 0.9594907407407407\n",
      "160/160-> Train Loss  : 0.10487164476932573 | Accuracy 0.9672004132231405\n",
      "[epoch:42] Val Loss : 0.864818812161684, Val Accuracy : 0.7671875\n",
      "\n",
      "40/160-> Train Loss  : 0.10126350075006485 | Accuracy 0.96875\n",
      "80/160-> Train Loss  : 0.03938507540832933 | Accuracy 0.993140243902439\n",
      "120/160-> Train Loss  : 0.04202482189385243 | Accuracy 0.9918981481481481\n",
      "160/160-> Train Loss  : 0.037989476060664114 | Accuracy 0.9927685950413223\n",
      "[epoch:43] Val Loss : 1.1549861192703248, Val Accuracy : 0.73828125\n",
      "\n",
      "40/160-> Train Loss  : 0.026325620710849762 | Accuracy 1.0\n",
      "80/160-> Train Loss  : 0.049975380091360065 | Accuracy 0.989329268292683\n",
      "120/160-> Train Loss  : 0.05284218037972388 | Accuracy 0.9876543209876543\n",
      "160/160-> Train Loss  : 0.0442250699116579 | Accuracy 0.9899276859504132\n",
      "[epoch:44] Val Loss : 1.1237525522708893, Val Accuracy : 0.75546875\n",
      "\n",
      "40/160-> Train Loss  : 0.013463770039379597 | Accuracy 1.0\n",
      "80/160-> Train Loss  : 0.04839434372488319 | Accuracy 0.9878048780487805\n",
      "120/160-> Train Loss  : 0.066043183081036 | Accuracy 0.9837962962962963\n",
      "160/160-> Train Loss  : 0.0682814028268018 | Accuracy 0.9834710743801653\n",
      "[epoch:45] Val Loss : 0.8894861057400704, Val Accuracy : 0.76953125\n",
      "\n",
      "40/160-> Train Loss  : 0.08124271035194397 | Accuracy 0.96875\n",
      "80/160-> Train Loss  : 0.051436795364701894 | Accuracy 0.989329268292683\n",
      "120/160-> Train Loss  : 0.04055808361527728 | Accuracy 0.9911265432098766\n",
      "160/160-> Train Loss  : 0.04178257963104435 | Accuracy 0.9917355371900827\n",
      "[epoch:46] Val Loss : 1.0937603078782558, Val Accuracy : 0.76015625\n",
      "\n",
      "40/160-> Train Loss  : 0.00291994190774858 | Accuracy 1.0\n",
      "80/160-> Train Loss  : 0.033027680386312125 | Accuracy 0.9916158536585366\n",
      "120/160-> Train Loss  : 0.03475929428478358 | Accuracy 0.9922839506172839\n",
      "160/160-> Train Loss  : 0.03493378251744819 | Accuracy 0.9922520661157025\n",
      "[epoch:47] Val Loss : 1.1062053918838501, Val Accuracy : 0.76953125\n",
      "\n",
      "40/160-> Train Loss  : 0.22555220127105713 | Accuracy 0.96875\n",
      "80/160-> Train Loss  : 0.02930950614476077 | Accuracy 0.9946646341463414\n",
      "120/160-> Train Loss  : 0.02438016684817863 | Accuracy 0.9957561728395061\n",
      "160/160-> Train Loss  : 0.029165172268259376 | Accuracy 0.9948347107438017\n",
      "[epoch:48] Val Loss : 1.0631950154900551, Val Accuracy : 0.7671875\n",
      "\n",
      "40/160-> Train Loss  : 0.004603836219757795 | Accuracy 1.0\n",
      "80/160-> Train Loss  : 0.026035988078702513 | Accuracy 0.993140243902439\n",
      "120/160-> Train Loss  : 0.02903473683356963 | Accuracy 0.9926697530864198\n",
      "160/160-> Train Loss  : 0.03002763899189443 | Accuracy 0.9927685950413223\n",
      "[epoch:49] Val Loss : 1.1615428745746612, Val Accuracy : 0.73203125\n",
      "\n",
      "40/160-> Train Loss  : 0.06856893002986908 | Accuracy 0.96875\n",
      "80/160-> Train Loss  : 0.07257579761080263 | Accuracy 0.9771341463414634\n",
      "120/160-> Train Loss  : 0.06485254742941003 | Accuracy 0.9795524691358025\n",
      "160/160-> Train Loss  : 0.07034697783302732 | Accuracy 0.9801136363636364\n",
      "[epoch:50] Val Loss : 0.7102851994335652, Val Accuracy : 0.75078125\n",
      "\n",
      "40/160-> Train Loss  : 0.19591060280799866 | Accuracy 0.96875\n",
      "80/160-> Train Loss  : 0.23778322502607252 | Accuracy 0.9161585365853658\n",
      "120/160-> Train Loss  : 0.2037710988043267 | Accuracy 0.9286265432098766\n",
      "160/160-> Train Loss  : 0.18095563978634097 | Accuracy 0.9408574380165289\n",
      "[epoch:51] Val Loss : 0.80437331199646, Val Accuracy : 0.76796875\n",
      "\n",
      "40/160-> Train Loss  : 0.18380483984947205 | Accuracy 0.9375\n",
      "80/160-> Train Loss  : 0.06970083100221507 | Accuracy 0.9801829268292683\n",
      "120/160-> Train Loss  : 0.0710492153065624 | Accuracy 0.9799382716049383\n",
      "160/160-> Train Loss  : 0.07098474718384014 | Accuracy 0.9806301652892562\n",
      "[epoch:52] Val Loss : 0.8679484363645316, Val Accuracy : 0.76953125\n",
      "\n",
      "40/160-> Train Loss  : 0.012272529304027557 | Accuracy 1.0\n",
      "80/160-> Train Loss  : 0.04041120932414764 | Accuracy 0.9908536585365854\n",
      "120/160-> Train Loss  : 0.04870275721632312 | Accuracy 0.9861111111111112\n",
      "160/160-> Train Loss  : 0.05227499849871109 | Accuracy 0.9855371900826446\n",
      "[epoch:53] Val Loss : 1.0011606708168983, Val Accuracy : 0.76953125\n",
      "\n",
      "40/160-> Train Loss  : 0.005208979360759258 | Accuracy 1.0\n",
      "80/160-> Train Loss  : 0.021433303899290723 | Accuracy 0.993140243902439\n",
      "120/160-> Train Loss  : 0.03393958696670094 | Accuracy 0.9918981481481481\n",
      "160/160-> Train Loss  : 0.03273867008522584 | Accuracy 0.9930268595041323\n",
      "[epoch:54] Val Loss : 1.0030743546783925, Val Accuracy : 0.76484375\n",
      "\n",
      "40/160-> Train Loss  : 0.020352212712168694 | Accuracy 1.0\n",
      "80/160-> Train Loss  : 0.04374357736555905 | Accuracy 0.9908536585365854\n",
      "120/160-> Train Loss  : 0.039983766757089784 | Accuracy 0.9911265432098766\n",
      "160/160-> Train Loss  : 0.035371193943221954 | Accuracy 0.9927685950413223\n",
      "[epoch:55] Val Loss : 1.0547309443354607, Val Accuracy : 0.75078125\n",
      "\n",
      "40/160-> Train Loss  : 0.008212456479668617 | Accuracy 1.0\n",
      "80/160-> Train Loss  : 0.03760843742184523 | Accuracy 0.989329268292683\n",
      "120/160-> Train Loss  : 0.03730703776782769 | Accuracy 0.9903549382716049\n",
      "160/160-> Train Loss  : 0.03769682160932725 | Accuracy 0.9909607438016529\n",
      "[epoch:56] Val Loss : 0.9938567016273737, Val Accuracy : 0.76796875\n",
      "\n",
      "40/160-> Train Loss  : 0.005069876089692116 | Accuracy 1.0\n",
      "80/160-> Train Loss  : 0.03443642418331853 | Accuracy 0.9939024390243902\n",
      "120/160-> Train Loss  : 0.03056343503434349 | Accuracy 0.9942129629629629\n",
      "160/160-> Train Loss  : 0.03450115610776115 | Accuracy 0.9932851239669421\n",
      "[epoch:57] Val Loss : 1.0456502509303391, Val Accuracy : 0.76171875\n",
      "\n",
      "40/160-> Train Loss  : 0.003600495867431164 | Accuracy 1.0\n",
      "80/160-> Train Loss  : 0.022823486232948376 | Accuracy 0.9954268292682927\n",
      "120/160-> Train Loss  : 0.027562622946721536 | Accuracy 0.9930555555555556\n",
      "160/160-> Train Loss  : 0.022536097490805977 | Accuracy 0.9943181818181818\n",
      "[epoch:58] Val Loss : 0.9972004175186158, Val Accuracy : 0.78203125\n",
      "\n",
      "40/160-> Train Loss  : 0.0076690614223480225 | Accuracy 1.0\n",
      "80/160-> Train Loss  : 0.03012486544392276 | Accuracy 0.9946646341463414\n",
      "120/160-> Train Loss  : 0.02700136921564002 | Accuracy 0.9953703703703703\n",
      "160/160-> Train Loss  : 0.12523074296480122 | Accuracy 0.9646177685950413\n",
      "[epoch:59] Val Loss : 0.7480429351329804, Val Accuracy : 0.75703125\n",
      "\n",
      "40/160-> Train Loss  : 0.1547064185142517 | Accuracy 0.9375\n",
      "80/160-> Train Loss  : 0.10246682689502472 | Accuracy 0.9657012195121951\n",
      "120/160-> Train Loss  : 0.10282746309207545 | Accuracy 0.9699074074074074\n",
      "160/160-> Train Loss  : 0.09580838643322306 | Accuracy 0.9715909090909091\n",
      "[epoch:60] Val Loss : 0.8383891850709915, Val Accuracy : 0.76796875\n",
      "\n",
      "40/160-> Train Loss  : 0.021387893706560135 | Accuracy 1.0\n",
      "80/160-> Train Loss  : 0.04396686089656702 | Accuracy 0.9916158536585366\n",
      "120/160-> Train Loss  : 0.043199139204520134 | Accuracy 0.9899691358024691\n",
      "160/160-> Train Loss  : 0.04666385731144138 | Accuracy 0.9881198347107438\n",
      "[epoch:61] Val Loss : 0.9169514805078507, Val Accuracy : 0.76796875\n",
      "\n",
      "40/160-> Train Loss  : 0.012651297263801098 | Accuracy 1.0\n",
      "80/160-> Train Loss  : 0.044280348822656204 | Accuracy 0.9900914634146342\n",
      "120/160-> Train Loss  : 0.043583430700510004 | Accuracy 0.9895833333333334\n",
      "160/160-> Train Loss  : 0.03909795585257763 | Accuracy 0.9909607438016529\n",
      "[epoch:62] Val Loss : 0.9795652195811272, Val Accuracy : 0.7640625\n",
      "\n",
      "40/160-> Train Loss  : 0.01084855105727911 | Accuracy 1.0\n",
      "80/160-> Train Loss  : 0.01373237289670037 | Accuracy 0.9954268292682927\n",
      "120/160-> Train Loss  : 0.023537625499748062 | Accuracy 0.9945987654320988\n",
      "160/160-> Train Loss  : 0.023960933966700695 | Accuracy 0.9945764462809917\n",
      "[epoch:63] Val Loss : 1.007223665714264, Val Accuracy : 0.778125\n",
      "\n",
      "40/160-> Train Loss  : 0.24276596307754517 | Accuracy 0.96875\n",
      "80/160-> Train Loss  : 0.01852009306014402 | Accuracy 0.9977134146341463\n",
      "120/160-> Train Loss  : 0.030317122747627212 | Accuracy 0.9930555555555556\n",
      "160/160-> Train Loss  : 0.029926682965760697 | Accuracy 0.9922520661157025\n",
      "[epoch:64] Val Loss : 1.0293807543814182, Val Accuracy : 0.7703125\n",
      "\n",
      "40/160-> Train Loss  : 0.005147208459675312 | Accuracy 1.0\n",
      "80/160-> Train Loss  : 0.028614348760329006 | Accuracy 0.993140243902439\n",
      "120/160-> Train Loss  : 0.021797968429674245 | Accuracy 0.9945987654320988\n",
      "160/160-> Train Loss  : 0.03092274947422903 | Accuracy 0.9930268595041323\n",
      "[epoch:65] Val Loss : 1.1437976039946078, Val Accuracy : 0.76640625\n",
      "\n",
      "40/160-> Train Loss  : 0.0025210129097104073 | Accuracy 1.0\n",
      "80/160-> Train Loss  : 0.02424330418225287 | Accuracy 0.9939024390243902\n",
      "120/160-> Train Loss  : 0.018212050955489646 | Accuracy 0.9957561728395061\n",
      "160/160-> Train Loss  : 0.019402613530458867 | Accuracy 0.9958677685950413\n",
      "[epoch:66] Val Loss : 1.174879141896963, Val Accuracy : 0.75234375\n",
      "\n",
      "40/160-> Train Loss  : 0.06859049946069717 | Accuracy 0.96875\n",
      "80/160-> Train Loss  : 0.033284866921149375 | Accuracy 0.9923780487804879\n",
      "120/160-> Train Loss  : 0.03096716442105165 | Accuracy 0.9918981481481481\n",
      "160/160-> Train Loss  : 0.03797808885939943 | Accuracy 0.9912190082644629\n",
      "[epoch:67] Val Loss : 1.0612075924873352, Val Accuracy : 0.7578125\n",
      "\n",
      "40/160-> Train Loss  : 0.005677395034581423 | Accuracy 1.0\n",
      "80/160-> Train Loss  : 0.037096298123687144 | Accuracy 0.9916158536585366\n",
      "120/160-> Train Loss  : 0.02518197015951169 | Accuracy 0.9949845679012346\n",
      "160/160-> Train Loss  : 0.02833071473720368 | Accuracy 0.9945764462809917\n",
      "[epoch:68] Val Loss : 0.973177594691515, Val Accuracy : 0.784375\n",
      "\n",
      "40/160-> Train Loss  : 0.0034157056361436844 | Accuracy 1.0\n",
      "80/160-> Train Loss  : 0.009867941213930706 | Accuracy 0.9977134146341463\n",
      "120/160-> Train Loss  : 0.009923600759874616 | Accuracy 0.998070987654321\n",
      "160/160-> Train Loss  : 0.020661302165836403 | Accuracy 0.9956095041322314\n",
      "[epoch:69] Val Loss : 0.9705825783312321, Val Accuracy : 0.775\n",
      "\n",
      "40/160-> Train Loss  : 0.0027177701704204082 | Accuracy 1.0\n",
      "80/160-> Train Loss  : 0.016402244880204885 | Accuracy 0.9961890243902439\n",
      "120/160-> Train Loss  : 0.02024441304973062 | Accuracy 0.996141975308642\n",
      "160/160-> Train Loss  : 0.021611387337257794 | Accuracy 0.9958677685950413\n",
      "[epoch:70] Val Loss : 1.0108445160090924, Val Accuracy : 0.775\n",
      "\n",
      "40/160-> Train Loss  : 0.0030521207954734564 | Accuracy 1.0\n",
      "80/160-> Train Loss  : 0.022566856359267924 | Accuracy 0.9961890243902439\n",
      "120/160-> Train Loss  : 0.01864757766964397 | Accuracy 0.9965277777777778\n",
      "160/160-> Train Loss  : 0.017257299328084327 | Accuracy 0.996900826446281\n",
      "[epoch:71] Val Loss : 1.0484779909253121, Val Accuracy : 0.7734375\n",
      "\n",
      "40/160-> Train Loss  : 0.007791454438120127 | Accuracy 1.0\n",
      "80/160-> Train Loss  : 0.01645366530354339 | Accuracy 0.9969512195121951\n",
      "120/160-> Train Loss  : 0.01968360473660545 | Accuracy 0.9965277777777778\n",
      "160/160-> Train Loss  : 0.01892412416752397 | Accuracy 0.9963842975206612\n",
      "[epoch:72] Val Loss : 1.1331582695245743, Val Accuracy : 0.77421875\n",
      "\n",
      "40/160-> Train Loss  : 0.003341573989018798 | Accuracy 1.0\n",
      "80/160-> Train Loss  : 0.038051944632060464 | Accuracy 0.9900914634146342\n",
      "120/160-> Train Loss  : 0.026824571989925095 | Accuracy 0.9938271604938271\n",
      "160/160-> Train Loss  : 0.025450812406406915 | Accuracy 0.9943181818181818\n",
      "[epoch:73] Val Loss : 0.7986692734062671, Val Accuracy : 0.7734375\n",
      "\n",
      "40/160-> Train Loss  : 0.2924952208995819 | Accuracy 0.90625\n",
      "80/160-> Train Loss  : 0.30407553929381254 | Accuracy 0.8795731707317073\n",
      "120/160-> Train Loss  : 0.1976560779651742 | Accuracy 0.9247685185185185\n",
      "160/160-> Train Loss  : 0.15518338174736204 | Accuracy 0.9426652892561983\n",
      "[epoch:74] Val Loss : 0.8438680499792099, Val Accuracy : 0.75234375\n",
      "\n",
      "40/160-> Train Loss  : 0.07238021492958069 | Accuracy 0.96875\n",
      "80/160-> Train Loss  : 0.06356997031536771 | Accuracy 0.9839939024390244\n",
      "120/160-> Train Loss  : 0.06343413524927548 | Accuracy 0.9834104938271605\n",
      "160/160-> Train Loss  : 0.08317734161007011 | Accuracy 0.9767561983471075\n",
      "[epoch:75] Val Loss : 0.8499761059880256, Val Accuracy : 0.74609375\n",
      "\n",
      "40/160-> Train Loss  : 0.03665747120976448 | Accuracy 1.0\n",
      "80/160-> Train Loss  : 0.3203369942834465 | Accuracy 0.9009146341463414\n",
      "120/160-> Train Loss  : 0.28474942606264425 | Accuracy 0.9066358024691358\n",
      "160/160-> Train Loss  : 0.28828259996207783 | Accuracy 0.9023760330578512\n",
      "[epoch:76] Val Loss : 0.7443665951490402, Val Accuracy : 0.74921875\n",
      "\n",
      "40/160-> Train Loss  : 0.033028990030288696 | Accuracy 1.0\n",
      "80/160-> Train Loss  : 0.09268518866653122 | Accuracy 0.9710365853658537\n",
      "120/160-> Train Loss  : 0.10504187362981432 | Accuracy 0.9683641975308642\n",
      "160/160-> Train Loss  : 0.10542024277951106 | Accuracy 0.96849173553719\n",
      "[epoch:77] Val Loss : 0.8021816913038492, Val Accuracy : 0.765625\n",
      "\n",
      "40/160-> Train Loss  : 0.16047105193138123 | Accuracy 0.96875\n",
      "80/160-> Train Loss  : 0.11041770125852853 | Accuracy 0.9626524390243902\n",
      "120/160-> Train Loss  : 0.1688437301573562 | Accuracy 0.9417438271604939\n",
      "160/160-> Train Loss  : 0.1689181914168202 | Accuracy 0.9411157024793388\n",
      "[epoch:78] Val Loss : 0.7075947023928165, Val Accuracy : 0.7609375\n",
      "\n",
      "40/160-> Train Loss  : 0.32305800914764404 | Accuracy 0.90625\n",
      "80/160-> Train Loss  : 0.1189886329286709 | Accuracy 0.9672256097560976\n",
      "120/160-> Train Loss  : 0.11268414437402914 | Accuracy 0.9679783950617284\n",
      "160/160-> Train Loss  : 0.10169155413885254 | Accuracy 0.9705578512396694\n",
      "[epoch:79] Val Loss : 0.8465162225067615, Val Accuracy : 0.7578125\n",
      "\n",
      "40/160-> Train Loss  : 0.21351173520088196 | Accuracy 0.9375\n",
      "80/160-> Train Loss  : 0.08822277226916901 | Accuracy 0.9748475609756098\n",
      "120/160-> Train Loss  : 0.07554475109978223 | Accuracy 0.9791666666666666\n",
      "160/160-> Train Loss  : 0.07422724543985995 | Accuracy 0.9803719008264463\n",
      "[epoch:80] Val Loss : 0.9474523037672042, Val Accuracy : 0.7375\n",
      "\n",
      "40/160-> Train Loss  : 0.006603527348488569 | Accuracy 1.0\n",
      "80/160-> Train Loss  : 0.08742645733830769 | Accuracy 0.9695121951219512\n",
      "120/160-> Train Loss  : 0.0874497041531643 | Accuracy 0.9695216049382716\n",
      "160/160-> Train Loss  : 0.11116566153027671 | Accuracy 0.9615185950413223\n",
      "[epoch:81] Val Loss : 0.8058954998850822, Val Accuracy : 0.75\n",
      "\n",
      "40/160-> Train Loss  : 0.20263423025608063 | Accuracy 0.9375\n",
      "80/160-> Train Loss  : 0.10108511885855256 | Accuracy 0.9649390243902439\n",
      "120/160-> Train Loss  : 0.09976903938998778 | Accuracy 0.9699074074074074\n",
      "160/160-> Train Loss  : 0.09261833885607641 | Accuracy 0.9728822314049587\n",
      "[epoch:82] Val Loss : 0.8489701099693775, Val Accuracy : 0.76328125\n",
      "\n",
      "40/160-> Train Loss  : 0.02773430198431015 | Accuracy 1.0\n",
      "80/160-> Train Loss  : 0.05229810607142565 | Accuracy 0.9878048780487805\n",
      "120/160-> Train Loss  : 0.07193478708511886 | Accuracy 0.9795524691358025\n",
      "160/160-> Train Loss  : 0.07144556817991182 | Accuracy 0.9806301652892562\n",
      "[epoch:83] Val Loss : 0.9226875670254231, Val Accuracy : 0.7578125\n",
      "\n",
      "40/160-> Train Loss  : 0.013684567995369434 | Accuracy 1.0\n",
      "80/160-> Train Loss  : 0.05700041171981067 | Accuracy 0.9824695121951219\n",
      "120/160-> Train Loss  : 0.05655829145653564 | Accuracy 0.9834104938271605\n",
      "160/160-> Train Loss  : 0.05162856588524974 | Accuracy 0.9860537190082644\n",
      "[epoch:84] Val Loss : 0.9175002962350846, Val Accuracy : 0.76484375\n",
      "\n",
      "40/160-> Train Loss  : 0.008948381058871746 | Accuracy 1.0\n",
      "80/160-> Train Loss  : 0.034051425016780455 | Accuracy 0.993140243902439\n",
      "120/160-> Train Loss  : 0.043139935143429925 | Accuracy 0.9911265432098766\n",
      "160/160-> Train Loss  : 0.04404472907204643 | Accuracy 0.9904442148760331\n",
      "[epoch:85] Val Loss : 0.9650763036683202, Val Accuracy : 0.76015625\n",
      "\n",
      "40/160-> Train Loss  : 0.036370884627103806 | Accuracy 0.96875\n",
      "80/160-> Train Loss  : 0.038776015749246606 | Accuracy 0.9908536585365854\n",
      "120/160-> Train Loss  : 0.05051299582384987 | Accuracy 0.9884259259259259\n",
      "160/160-> Train Loss  : 0.047328847464297184 | Accuracy 0.9883780991735537\n",
      "[epoch:86] Val Loss : 1.0267328687012196, Val Accuracy : 0.759375\n",
      "\n",
      "40/160-> Train Loss  : 0.008529971353709698 | Accuracy 1.0\n",
      "80/160-> Train Loss  : 0.037557707980229726 | Accuracy 0.9908536585365854\n",
      "120/160-> Train Loss  : 0.03048600408501555 | Accuracy 0.9926697530864198\n",
      "160/160-> Train Loss  : 0.03180448598159123 | Accuracy 0.9922520661157025\n",
      "[epoch:87] Val Loss : 1.0311841078102588, Val Accuracy : 0.759375\n",
      "\n",
      "40/160-> Train Loss  : 0.04463348165154457 | Accuracy 0.96875\n",
      "80/160-> Train Loss  : 0.05361938851930928 | Accuracy 0.9824695121951219\n",
      "120/160-> Train Loss  : 0.061214266868055235 | Accuracy 0.9810956790123457\n",
      "160/160-> Train Loss  : 0.06446719696853033 | Accuracy 0.9816632231404959\n",
      "[epoch:88] Val Loss : 0.9710347056388855, Val Accuracy : 0.76015625\n",
      "\n",
      "40/160-> Train Loss  : 0.006858539767563343 | Accuracy 1.0\n",
      "80/160-> Train Loss  : 0.11345950520892696 | Accuracy 0.9672256097560976\n",
      "120/160-> Train Loss  : 0.09769535832750945 | Accuracy 0.9710648148148148\n",
      "160/160-> Train Loss  : 0.08645100772288467 | Accuracy 0.974948347107438\n",
      "[epoch:89] Val Loss : 0.8704321913421154, Val Accuracy : 0.7625\n",
      "\n",
      "40/160-> Train Loss  : 0.010617216117680073 | Accuracy 1.0\n",
      "80/160-> Train Loss  : 0.05360064485178488 | Accuracy 0.9885670731707317\n",
      "120/160-> Train Loss  : 0.04541154351246394 | Accuracy 0.9911265432098766\n",
      "160/160-> Train Loss  : 0.041559765654161945 | Accuracy 0.9912190082644629\n",
      "[epoch:90] Val Loss : 0.9902453891932964, Val Accuracy : 0.7671875\n",
      "\n",
      "40/160-> Train Loss  : 0.08539268374443054 | Accuracy 0.96875\n",
      "80/160-> Train Loss  : 0.03214714840258949 | Accuracy 0.9923780487804879\n",
      "120/160-> Train Loss  : 0.029359546880939124 | Accuracy 0.9934413580246914\n",
      "160/160-> Train Loss  : 0.030205033253878355 | Accuracy 0.9927685950413223\n",
      "[epoch:91] Val Loss : 0.9823243133723736, Val Accuracy : 0.77109375\n",
      "\n",
      "40/160-> Train Loss  : 0.002298749051988125 | Accuracy 1.0\n",
      "80/160-> Train Loss  : 0.04300824502801023 | Accuracy 0.989329268292683\n",
      "120/160-> Train Loss  : 0.039971809210485695 | Accuracy 0.9907407407407407\n",
      "160/160-> Train Loss  : 0.03747341398742388 | Accuracy 0.9914772727272727\n",
      "[epoch:92] Val Loss : 1.054504033178091, Val Accuracy : 0.753125\n",
      "\n",
      "40/160-> Train Loss  : 0.016939355060458183 | Accuracy 1.0\n",
      "80/160-> Train Loss  : 0.023671962650174776 | Accuracy 0.993140243902439\n",
      "120/160-> Train Loss  : 0.03348379058441446 | Accuracy 0.9926697530864198\n",
      "160/160-> Train Loss  : 0.039897108602545354 | Accuracy 0.9914772727272727\n",
      "[epoch:93] Val Loss : 1.0003908365964889, Val Accuracy : 0.76953125\n",
      "\n",
      "40/160-> Train Loss  : 0.091377392411232 | Accuracy 0.96875\n",
      "80/160-> Train Loss  : 0.039366008299289316 | Accuracy 0.9916158536585366\n",
      "120/160-> Train Loss  : 0.026387926202589347 | Accuracy 0.9942129629629629\n",
      "160/160-> Train Loss  : 0.03349975837309929 | Accuracy 0.9925103305785123\n",
      "[epoch:94] Val Loss : 1.0266505047678947, Val Accuracy : 0.76796875\n",
      "\n",
      "40/160-> Train Loss  : 0.004410943482071161 | Accuracy 1.0\n",
      "80/160-> Train Loss  : 0.027842219992790643 | Accuracy 0.993140243902439\n",
      "120/160-> Train Loss  : 0.032323067674390325 | Accuracy 0.9930555555555556\n",
      "160/160-> Train Loss  : 0.033447653300529116 | Accuracy 0.9925103305785123\n",
      "[epoch:95] Val Loss : 1.0103722386062146, Val Accuracy : 0.76875\n",
      "\n",
      "40/160-> Train Loss  : 0.003996128216385841 | Accuracy 1.0\n",
      "80/160-> Train Loss  : 0.018390541061440984 | Accuracy 0.9946646341463414\n",
      "120/160-> Train Loss  : 0.020289443827084738 | Accuracy 0.9953703703703703\n",
      "160/160-> Train Loss  : 0.025212950652372862 | Accuracy 0.9940599173553719\n",
      "[epoch:96] Val Loss : 1.0454404063522815, Val Accuracy : 0.759375\n",
      "\n",
      "40/160-> Train Loss  : 0.009641913697123528 | Accuracy 1.0\n",
      "80/160-> Train Loss  : 0.01836901177402313 | Accuracy 0.9954268292682927\n",
      "120/160-> Train Loss  : 0.022697280365168864 | Accuracy 0.9953703703703703\n",
      "160/160-> Train Loss  : 0.03142767238684676 | Accuracy 0.9932851239669421\n",
      "[epoch:97] Val Loss : 1.0960464410483837, Val Accuracy : 0.76953125\n",
      "\n",
      "40/160-> Train Loss  : 0.002440085168927908 | Accuracy 1.0\n",
      "80/160-> Train Loss  : 0.01656747666448809 | Accuracy 0.9961890243902439\n",
      "120/160-> Train Loss  : 0.024979514843082907 | Accuracy 0.9945987654320988\n",
      "160/160-> Train Loss  : 0.020045795719416365 | Accuracy 0.9958677685950413\n",
      "[epoch:98] Val Loss : 1.070675154775381, Val Accuracy : 0.76875\n",
      "\n",
      "40/160-> Train Loss  : 0.001967473654076457 | Accuracy 1.0\n",
      "80/160-> Train Loss  : 0.023314370370538132 | Accuracy 0.9961890243902439\n",
      "120/160-> Train Loss  : 0.02371722247083614 | Accuracy 0.9949845679012346\n",
      "160/160-> Train Loss  : 0.024486991955921793 | Accuracy 0.9948347107438017\n",
      "[epoch:99] Val Loss : 1.1095676615834236, Val Accuracy : 0.76953125\n",
      "\n",
      "40/160-> Train Loss  : 0.0014706534566357732 | Accuracy 1.0\n",
      "80/160-> Train Loss  : 0.014504678570097539 | Accuracy 0.9961890243902439\n",
      "120/160-> Train Loss  : 0.014047405400807842 | Accuracy 0.9969135802469136\n",
      "160/160-> Train Loss  : 0.019628302505901776 | Accuracy 0.9961260330578512\n",
      "[epoch:100] Val Loss : 1.0915740795433522, Val Accuracy : 0.7671875\n"
     ]
    }
   ],
   "source": [
    "loss_list,acc_list=[],[]\n",
    "criterion = nn.BCEWithLogitsLoss().to(device)\n",
    "optimizer = optim.Adam(classifier2.parameters(), lr=0.001)\n",
    "scheduler = optim.lr_scheduler.StepLR(optimizer, 1.0, gamma=0.1)\n",
    "for epoch in range(epochs):\n",
    "    train(classifier2, trainDL, criterion, optimizer, device, interval)\n",
    "    test(classifier2, validDL, criterion, device, epoch)"
   ],
   "metadata": {
    "collapsed": false,
    "ExecuteTime": {
     "end_time": "2024-04-05T05:35:40.756258800Z",
     "start_time": "2024-04-05T05:11:52.661186300Z"
    }
   },
   "id": "e7815389ee33ad8f",
   "execution_count": 39
  },
  {
   "cell_type": "code",
   "outputs": [],
   "source": [
    "torch.save(classifier2,'why_so_serious_rnn.pt')"
   ],
   "metadata": {
    "collapsed": false,
    "ExecuteTime": {
     "end_time": "2024-04-05T05:35:40.812404100Z",
     "start_time": "2024-04-05T05:35:40.760502200Z"
    }
   },
   "id": "50de3b7cacaee441",
   "execution_count": 40
  },
  {
   "cell_type": "code",
   "outputs": [],
   "source": [
    "import matplotlib.pyplot as plt"
   ],
   "metadata": {
    "collapsed": false,
    "ExecuteTime": {
     "end_time": "2024-04-05T05:36:38.561325400Z",
     "start_time": "2024-04-05T05:36:37.479311600Z"
    }
   },
   "id": "633a095290911c89",
   "execution_count": 42
  },
  {
   "cell_type": "code",
   "outputs": [
    {
     "data": {
      "text/plain": "<Figure size 640x480 with 1 Axes>",
      "image/png": "[encoded data removed]"
     },
     "metadata": {},
     "output_type": "display_data"
    }
   ],
   "source": [
    "plt.plot(acc_list,'b',label='accuracy')\n",
    "plt.plot(loss_list,'r',label='loss')\n",
    "plt.xlabel('epoch')\n",
    "plt.legend()\n",
    "plt.show()"
   ],
   "metadata": {
    "collapsed": false,
    "ExecuteTime": {
     "end_time": "2024-04-05T05:36:39.511189800Z",
     "start_time": "2024-04-05T05:36:39.285462900Z"
    }
   },
   "id": "2b5a43da782cb3fd",
   "execution_count": 43
  },
  {
   "cell_type": "code",
   "outputs": [],
   "source": [],
   "metadata": {
    "collapsed": false
   },
   "id": "284c4b4f1b17a464"
  }
 ],
 "metadata": {
  "kernelspec": {
   "display_name": "Python 3",
   "language": "python",
   "name": "python3"
  },
  "language_info": {
   "codemirror_mode": {
    "name": "ipython",
    "version": 2
   },
   "file_extension": ".py",
   "mimetype": "text/x-python",
   "name": "python",
   "nbconvert_exporter": "python",
   "pygments_lexer": "ipython2",
   "version": "2.7.6"
  }
 },
 "nbformat": 4,
 "nbformat_minor": 5
}
