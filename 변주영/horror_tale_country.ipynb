{
 "cells": [
  {
   "cell_type": "markdown",
   "metadata": {},
   "source": [
    "### NLP 프로젝트 [2조. TypeError줄까... ShapeError줄까...]\n",
    "### 괴담 탐색 모델 (RNN) 만들기\n",
    "\n",
    "*괴담 국적 분류 모델*\n",
    "- [1] 데이터 준비\n",
    "- [2] 데이터 전처리\n",
    "    - (한글 제외 모두 제거, 줄임말 한 가지로 처리) ~ skip\n",
    "    - 토큰화\n",
    "    - 토큰 데이터 정수 인코딩, 데이터 길이 표준화(패딩)\n",
    "- [3] 학습 준비\n",
    "    - Dataset, DataLoader 준비\n",
    "    - 모델 클래스\n",
    "    - 학습, 테스트 함수\n",
    "    - 학습 관련 변수 => DEVICE, OPTIMIZER, MODEL 인스턴스, EPOCHS, BATCH_SIZE, LOSS_FN"
   ]
  },
  {
   "cell_type": "markdown",
   "metadata": {},
   "source": [
    "[1] 데이터 준비"
   ]
  },
  {
   "cell_type": "code",
   "execution_count": 1,
   "metadata": {},
   "outputs": [],
   "source": [
    "### 데이터셋 읽기 (모든 시트를 읽어온다.)\n",
    "import pandas as pd\n",
    "\n",
    "sheet_names = []    # 시트이름 저장\n",
    "\n",
    "with pd.ExcelFile('horror_comedy.xlsx') as xls:\n",
    "    sheet_names = xls.sheet_names\n",
    "    \n",
    "    horrorDict = {}\n",
    "    for sheet_name in xls.sheet_names:\n",
    "        # 각 시트의 2번째 행을 컬럼으로 설정하여 DataFrame으로 읽어온다.\n",
    "        df = pd.read_excel(xls, sheet_name=sheet_name, header=1)\n",
    "        horrorDict[sheet_name] = df"
   ]
  },
  {
   "cell_type": "code",
   "execution_count": 2,
   "metadata": {},
   "outputs": [
    {
     "data": {
      "text/plain": [
       "['BJY', 'LHG_Neapolitan', 'LHG_Horror', 'SY', 'why']"
      ]
     },
     "execution_count": 2,
     "metadata": {},
     "output_type": "execute_result"
    }
   ],
   "source": [
    "sheet_names"
   ]
  },
  {
   "cell_type": "code",
   "execution_count": 3,
   "metadata": {},
   "outputs": [
    {
     "name": "stdout",
     "output_type": "stream",
     "text": [
      "k : BJY\n",
      "v : <class 'pandas.core.frame.DataFrame'>\n",
      "k : LHG_Neapolitan\n",
      "v : <class 'pandas.core.frame.DataFrame'>\n",
      "k : LHG_Horror\n",
      "v : <class 'pandas.core.frame.DataFrame'>\n",
      "k : SY\n",
      "v : <class 'pandas.core.frame.DataFrame'>\n",
      "k : why\n",
      "v : <class 'pandas.core.frame.DataFrame'>\n"
     ]
    }
   ],
   "source": [
    "for i, (k, v) in enumerate(horrorDict.items()):\n",
    "    print(f'k : {k}')\n",
    "    print(f'v : {type(v)}')"
   ]
  },
  {
   "cell_type": "code",
   "execution_count": 4,
   "metadata": {},
   "outputs": [
    {
     "name": "stdout",
     "output_type": "stream",
     "text": [
      "4\n"
     ]
    }
   ],
   "source": [
    "# '괴담'에 해당하는 DataFrame만 저장\n",
    "horrorDFs = []\n",
    "\n",
    "for i in range(4):\n",
    "    horrorDFs.append(horrorDict[sheet_names[i]])\n",
    "\n",
    "print(len(horrorDFs))"
   ]
  },
  {
   "cell_type": "code",
   "execution_count": 5,
   "metadata": {},
   "outputs": [
    {
     "name": "stdout",
     "output_type": "stream",
     "text": [
      "Index(['CLASS', 'TYPE', 'FROM', 'TEXT'], dtype='object')\n",
      "Index(['CLASS', 'TYPE', 'FROM', 'TEXT'], dtype='object')\n",
      "Index(['CLASS', 'TYPE', 'FROM', 'TEXT'], dtype='object')\n",
      "Index(['CLASS', 'TYPE', 'FROM', 'TEXT'], dtype='object')\n"
     ]
    }
   ],
   "source": [
    "# '괴담'에 해당하는 DataFrame들의 컬럼명 확인\n",
    "for i in range(4):\n",
    "    print(horrorDFs[i].columns)"
   ]
  },
  {
   "cell_type": "code",
   "execution_count": 6,
   "metadata": {},
   "outputs": [
    {
     "name": "stdout",
     "output_type": "stream",
     "text": [
      "<class 'pandas.core.frame.DataFrame'>\n",
      "Index: 3200 entries, 0 to 998\n",
      "Data columns (total 4 columns):\n",
      " #   Column  Non-Null Count  Dtype \n",
      "---  ------  --------------  ----- \n",
      " 0   CLASS   3200 non-null   object\n",
      " 1   TYPE    3200 non-null   object\n",
      " 2   FROM    3200 non-null   object\n",
      " 3   TEXT    3200 non-null   object\n",
      "dtypes: object(4)\n",
      "memory usage: 125.0+ KB\n",
      "None\n"
     ]
    }
   ],
   "source": [
    "### '괴담'에 해당하는 DataFrame 들을 하나로 합치기\n",
    "# 세로 방향으로 DataFrame 합치키\n",
    "horrorDF = pd.concat(horrorDFs, axis=0)\n",
    "\n",
    "# 합쳐진 DataFrame 확인\n",
    "print(horrorDF.info())"
   ]
  },
  {
   "cell_type": "code",
   "execution_count": 7,
   "metadata": {},
   "outputs": [
    {
     "name": "stdout",
     "output_type": "stream",
     "text": [
      "1\n",
      "2\n",
      "3\n",
      "3161\n"
     ]
    }
   ],
   "source": [
    "### horrorDF 컬럼 구성요소 확인\n",
    "for col in horrorDF.columns:\n",
    "    print(horrorDF[col].nunique())"
   ]
  },
  {
   "cell_type": "code",
   "execution_count": 8,
   "metadata": {},
   "outputs": [
    {
     "name": "stdout",
     "output_type": "stream",
     "text": [
      "['H']\n",
      "<class 'pandas.core.frame.DataFrame'>\n",
      "Index: 3200 entries, 0 to 998\n",
      "Data columns (total 3 columns):\n",
      " #   Column  Non-Null Count  Dtype \n",
      "---  ------  --------------  ----- \n",
      " 0   TYPE    3200 non-null   object\n",
      " 1   FROM    3200 non-null   object\n",
      " 2   TEXT    3200 non-null   object\n",
      "dtypes: object(3)\n",
      "memory usage: 100.0+ KB\n"
     ]
    }
   ],
   "source": [
    "# 'CLASS' 컬럼의 구성요소 확인\n",
    "print(horrorDF['CLASS'].unique())\n",
    "\n",
    "# 'CLASS' 컬럼은 'H' 로만 이루어져 있으므로 삭제\n",
    "horrorDF.drop(columns=['CLASS'], inplace=True)\n",
    "\n",
    "# horrorDF 정보 출력\n",
    "horrorDF.info()"
   ]
  },
  {
   "cell_type": "code",
   "execution_count": 9,
   "metadata": {},
   "outputs": [
    {
     "name": "stdout",
     "output_type": "stream",
     "text": [
      "Index([  0,   1,   2,   3,   4,   5,   6,   7,   8,   9,\n",
      "       ...\n",
      "       989, 990, 991, 992, 993, 994, 995, 996, 997, 998],\n",
      "      dtype='int64', length=3200)\n"
     ]
    }
   ],
   "source": [
    "print(horrorDF.index)"
   ]
  },
  {
   "cell_type": "code",
   "execution_count": 10,
   "metadata": {},
   "outputs": [
    {
     "name": "stdout",
     "output_type": "stream",
     "text": [
      "  TYPE FROM                                               TEXT\n",
      "0    E    K  \"그런데 어떻게 알았어?\" 이렇게 묻더라구요, 저는 뭐가? 라고 대답하니 \"꿈인줄 ...\n",
      "0    G    W                      - 마을에 있는 모든 간판과 게시판에 주의를 기울여.\n",
      "0    E    J  \" 병원에 오랫동안 입원 중이셨던 시어머니가 돌아가시고 시동생 부부와 저 그리고 남...\n",
      "0    E    K  오늘 학교에서 모의고사보는데 가위눌리다가 한쪽눈만 떠진상태로 교실에서 내 다리에 올...\n",
      "RangeIndex(start=0, stop=3200, step=1)\n"
     ]
    }
   ],
   "source": [
    "# 인덱스가 중복되는 것을 확인\n",
    "print(horrorDF.loc[0])\n",
    "\n",
    "# 인덱스를 RangeIndex로 초기화\n",
    "horrorDF.reset_index(drop=True, inplace=True)\n",
    "\n",
    "# 잘 초기화되었는지 확인\n",
    "print(horrorDF.index)"
   ]
  },
  {
   "cell_type": "code",
   "execution_count": 11,
   "metadata": {},
   "outputs": [
    {
     "data": {
      "text/plain": [
       "FROM\n",
       "K    1539\n",
       "J     965\n",
       "W     696\n",
       "Name: count, dtype: int64"
      ]
     },
     "execution_count": 11,
     "metadata": {},
     "output_type": "execute_result"
    }
   ],
   "source": [
    "### 괴담의 국가별 비중 확인\n",
    "### 한국 : 일본 : 영미권 = 1500 : 1000 : 700\n",
    "horrorDF['FROM'].value_counts()"
   ]
  },
  {
   "cell_type": "markdown",
   "metadata": {},
   "source": [
    "[2] 데이터 전처리"
   ]
  },
  {
   "cell_type": "code",
   "execution_count": 12,
   "metadata": {},
   "outputs": [
    {
     "data": {
      "text/plain": [
       "('./stopwords.txt', <http.client.HTTPMessage at 0x1d52e692dc0>)"
      ]
     },
     "execution_count": 12,
     "metadata": {},
     "output_type": "execute_result"
    }
   ],
   "source": [
    "### 불용어 다운로드\n",
    "from urllib.request import urlretrieve\n",
    "\n",
    "hangule_stopword = \"https://gist.githubusercontent.com/chulgil/d10b18575a73778da4bc83853385465c/raw/a1a451421097fa9a93179cb1f1f0dc392f1f9da9/stopwords.txt\"\n",
    "urlretrieve(hangule_stopword, \"./stopwords.txt\")"
   ]
  },
  {
   "cell_type": "code",
   "execution_count": 13,
   "metadata": {},
   "outputs": [
    {
     "data": {
      "text/plain": [
       "'ㄷㄷ'"
      ]
     },
     "execution_count": 13,
     "metadata": {},
     "output_type": "execute_result"
    }
   ],
   "source": [
    "from soynlp.normalizer import *\n",
    "\n",
    "repeat_normalize('ㄷㄷㄷㄷ', num_repeats=2)"
   ]
  },
  {
   "cell_type": "code",
   "execution_count": 14,
   "metadata": {},
   "outputs": [],
   "source": [
    "from soynlp.normalizer import *\n",
    "\n",
    "def kor_nlp_preprocessing(inputSR):\n",
    "    \"\"\"\n",
    "    한국어 NLP 전처리 (결측치 제거, 한글과 공백만 남김, 한글 줄임말 제거)\n",
    "    :param inputSR: 한국어 문장으로 구성된 pandas Series 객체\n",
    "    :return: 전처리가 끝난 pandas Series 객체\n",
    "    \"\"\"\n",
    "    \n",
    "    if not isinstance(inputSR, pd.Series):\n",
    "        print('Series 객체가 아님')\n",
    "        return False\n",
    "    \n",
    "    ### 결측치 제거\n",
    "    inputSR = inputSR.dropna()\n",
    "    \n",
    "    ### 한글과 공백만 남김\n",
    "    inputSR = inputSR.str.replace(\"[^ㄱ-ㅎㅏ-ㅣ가-힣 ]\", '', regex=True)\n",
    "    \n",
    "    ### 한글 줄임말 정규화\n",
    "    inputSR= inputSR.apply(repeat_normalize, num_repeats=2)\n",
    "    \n",
    "    return inputSR"
   ]
  },
  {
   "cell_type": "code",
   "execution_count": 15,
   "metadata": {},
   "outputs": [],
   "source": [
    "horrorDF['TEXT2'] = kor_nlp_preprocessing(horrorDF['TEXT'])"
   ]
  },
  {
   "cell_type": "code",
   "execution_count": 16,
   "metadata": {},
   "outputs": [],
   "source": [
    "### 토크나이저 생성\n",
    "from konlpy.tag import Okt\n",
    "tokenizer = Okt()"
   ]
  },
  {
   "cell_type": "code",
   "execution_count": 17,
   "metadata": {},
   "outputs": [],
   "source": [
    "### 토큰화 (전체 문장)\n",
    "total_tokens = [tokenizer.morphs(text, stem=True) for text in horrorDF['TEXT2']]"
   ]
  },
  {
   "cell_type": "code",
   "execution_count": 18,
   "metadata": {},
   "outputs": [],
   "source": [
    "### 문장 당 토큰 개수 (전체 문장)\n",
    "total_token_counts = [len(tokens) for tokens in total_tokens]"
   ]
  },
  {
   "cell_type": "code",
   "execution_count": 19,
   "metadata": {},
   "outputs": [
    {
     "name": "stdout",
     "output_type": "stream",
     "text": [
      "Counter({38: 60, 56: 55, 51: 54, 41: 54, 42: 53, 53: 53, 57: 51, 50: 51, 40: 51, 47: 49, 60: 48, 28: 48, 33: 48, 29: 48, 52: 47, 48: 47, 65: 46, 71: 46, 30: 46, 44: 46, 37: 45, 43: 45, 54: 44, 32: 44, 25: 43, 35: 42, 64: 42, 70: 41, 58: 41, 34: 41, 31: 41, 45: 41, 63: 41, 46: 40, 66: 39, 23: 39, 62: 38, 49: 38, 36: 38, 39: 38, 69: 37, 68: 37, 24: 37, 61: 37, 59: 37, 73: 37, 74: 36, 55: 35, 26: 35, 72: 33, 67: 33, 20: 33, 79: 32, 27: 32, 22: 32, 15: 31, 80: 30, 76: 29, 87: 27, 77: 26, 78: 26, 83: 25, 75: 25, 81: 22, 21: 22, 85: 20, 82: 20, 19: 20, 86: 19, 17: 19, 14: 19, 12: 19, 95: 18, 88: 18, 11: 18, 18: 18, 84: 17, 91: 16, 93: 14, 16: 14, 92: 14, 102: 13, 94: 13, 9: 12, 90: 11, 13: 11, 97: 11, 10: 11, 8: 10, 109: 10, 98: 9, 99: 9, 96: 9, 108: 8, 103: 8, 89: 8, 7: 8, 100: 7, 112: 7, 121: 6, 6: 6, 106: 6, 105: 6, 101: 5, 3: 5, 104: 4, 122: 4, 110: 4, 127: 3, 126: 3, 113: 3, 116: 3, 5: 3, 111: 3, 125: 3, 145: 3, 114: 3, 115: 3, 107: 3, 117: 2, 134: 2, 135: 2, 120: 2, 119: 2, 153: 2, 2: 2, 4: 2, 123: 2, 160: 2, 124: 2, 118: 2, 129: 1, 162: 1, 304: 1, 265: 1, 156: 1, 367: 1, 276: 1, 184: 1, 177: 1, 132: 1, 189: 1, 250: 1, 144: 1, 140: 1, 348: 1, 167: 1, 208: 1, 211: 1, 201: 1, 142: 1, 131: 1, 171: 1, 176: 1, 143: 1, 141: 1, 227: 1, 147: 1, 128: 1, 130: 1, 139: 1, 158: 1})\n"
     ]
    }
   ],
   "source": [
    "### 숫자들의 등장 횟수 세기\n",
    "from collections import Counter\n",
    "\n",
    "counter = Counter(total_token_counts)\n",
    "print(counter)"
   ]
  },
  {
   "cell_type": "code",
   "execution_count": 20,
   "metadata": {},
   "outputs": [
    {
     "data": {
      "text/plain": [
       "[(38, 60), (56, 55), (51, 54), (41, 54), (42, 53)]"
      ]
     },
     "execution_count": 20,
     "metadata": {},
     "output_type": "execute_result"
    }
   ],
   "source": [
    "# 문장당 가장 많이 나왔던 토큰 수 Top 5\n",
    "counter.most_common(5)"
   ]
  },
  {
   "cell_type": "code",
   "execution_count": 21,
   "metadata": {},
   "outputs": [
    {
     "data": {
      "image/png": "[encoded data removed]",
      "text/plain": [
       "<Figure size 640x480 with 1 Axes>"
      ]
     },
     "metadata": {},
     "output_type": "display_data"
    }
   ],
   "source": [
    "### 패딩할 문장 길이 알아보기 -> 50개로 결정 (이상적: 64개)\n",
    "import matplotlib.pyplot as plt\n",
    "import koreanize_matplotlib\n",
    "\n",
    "x_values = list(counter.keys())\n",
    "y_values = list(counter.values())\n",
    "\n",
    "plt.bar(x_values, y_values)\n",
    "plt.title('문장당 토큰 수 집계')\n",
    "plt.xlabel('문장당 토큰 수')\n",
    "plt.ylabel('문장 수')\n",
    "plt.show()"
   ]
  },
  {
   "cell_type": "markdown",
   "metadata": {},
   "source": [
    "단어사전 생성 (1) - Okt 토크나이저 사용 (학습 : horror 데이터셋)"
   ]
  },
  {
   "cell_type": "code",
   "execution_count": 22,
   "metadata": {},
   "outputs": [],
   "source": [
    "### 토큰 제너레이터 함수 : 데이터 추출하여 토큰화\n",
    "def yield_tokens(tokenizer, data_iter):\n",
    "    for _, text in data_iter:\n",
    "        # 라벨, 텍스트 -> 텍스트 토큰화\n",
    "        yield tokenizer.morphs(text)"
   ]
  },
  {
   "cell_type": "code",
   "execution_count": 23,
   "metadata": {},
   "outputs": [],
   "source": [
    "### 훈련용, 테스트용 데이터셋으로 나누기 (DataFrame.sample)\n",
    "trainDF = horrorDF.sample(frac=0.9, random_state=42)   # DF\n",
    "testDF = horrorDF.drop(trainDF.index)                  # DF"
   ]
  },
  {
   "cell_type": "code",
   "execution_count": 24,
   "metadata": {},
   "outputs": [
    {
     "data": {
      "text/plain": [
       "((2880, 4), (320, 4))"
      ]
     },
     "execution_count": 24,
     "metadata": {},
     "output_type": "execute_result"
    }
   ],
   "source": [
    "trainDF.shape, testDF.shape"
   ]
  },
  {
   "cell_type": "code",
   "execution_count": 25,
   "metadata": {},
   "outputs": [],
   "source": [
    "# 단어 사전 생성\n",
    "from torchtext.vocab import build_vocab_from_iterator\n",
    "\n",
    "train_text = trainDF['TEXT2']\n",
    "train_iter = train_text.items()     # zip 객체 (제너레이터)"
   ]
  },
  {
   "cell_type": "code",
   "execution_count": 26,
   "metadata": {},
   "outputs": [],
   "source": [
    "vocab = build_vocab_from_iterator(yield_tokens(tokenizer, train_iter), min_freq=2, specials=['<PAD>', '<UNK>'])\n",
    "# min_freq : 최소 n번 나와야 사전에 등록할 지 정함, n=1이 기본값, n이 커지면 사전에 등재되는 단어의 수도 적어진다\n",
    "# specials : 사전에 등재할 특수 토큰을 지정할 수 있다. 기본값은 [\"<unk>\", \"<pad>\", \"<bos>\", \"<eos>\", \"<mask>\"]이다"
   ]
  },
  {
   "cell_type": "code",
   "execution_count": 27,
   "metadata": {},
   "outputs": [],
   "source": [
    "vocab.set_default_index(vocab[\"<UNK>\"])"
   ]
  },
  {
   "cell_type": "code",
   "execution_count": 28,
   "metadata": {},
   "outputs": [
    {
     "data": {
      "text/plain": [
       "9053"
      ]
     },
     "execution_count": 28,
     "metadata": {},
     "output_type": "execute_result"
    }
   ],
   "source": [
    "len(vocab.get_itos())   # 단어사전의 크기"
   ]
  },
  {
   "cell_type": "code",
   "execution_count": 29,
   "metadata": {},
   "outputs": [
    {
     "data": {
      "text/plain": [
       "['내', '가', '초등학교', '2', '학년', '때', '일이', '야']"
      ]
     },
     "execution_count": 29,
     "metadata": {},
     "output_type": "execute_result"
    }
   ],
   "source": [
    "tokenizer.morphs('내가초등학교2학년때일이야')"
   ]
  },
  {
   "cell_type": "code",
   "execution_count": 30,
   "metadata": {},
   "outputs": [
    {
     "data": {
      "text/plain": [
       "[19, 5, 708, 1, 609, 22, 107, 135]"
      ]
     },
     "execution_count": 30,
     "metadata": {},
     "output_type": "execute_result"
    }
   ],
   "source": [
    "vocab(tokenizer.morphs('내가초등학교2학년때일이야'))"
   ]
  },
  {
   "cell_type": "markdown",
   "metadata": {},
   "source": [
    "단어사전 생성 (2) - MaxScoreTokenizer 사용 (학습 : news_data 데이터셋)"
   ]
  },
  {
   "cell_type": "code",
   "execution_count": 31,
   "metadata": {},
   "outputs": [
    {
     "name": "stdout",
     "output_type": "stream",
     "text": [
      "훈련 데이터 문서 : 30091개\n",
      "training was done. used memory 1.409 Gb\n",
      "all cohesion probabilities was computed. # words = 223348\n",
      "all branching entropies was computed # words = 361598\n",
      "all accessor variety was computed # words = 361598\n",
      "['국제사회', '와', '우리', '의', '노력', '들로', '범죄', '를', '척결', '하자']\n"
     ]
    }
   ],
   "source": [
    "from soynlp.word import WordExtractor       # 단어 추출\n",
    "from soynlp.tokenizer import MaxScoreTokenizer\n",
    "from soynlp import DoublespaceLineCorpus    # 한 개로 통합된 문서 데이터 분리\n",
    "\n",
    "filename = './news_data.txt'\n",
    "corpus = DoublespaceLineCorpus(filename)\n",
    "print(f'훈련 데이터 문서 : {len(corpus)}개')\n",
    "\n",
    "### soynlp 학습 진행\n",
    "word_extractor = WordExtractor()\n",
    "\n",
    "# 학습 진행하며 단어별 점수 생성\n",
    "word_extractor.train(corpus)\n",
    "\n",
    "# 단어별 점수표 추출\n",
    "word_score_table = word_extractor.extract()\n",
    "\n",
    "scores = {word:score.cohesion_forward for word, score in word_score_table.items()}\n",
    "\n",
    "maxscore_tokenizer = MaxScoreTokenizer(scores=scores)\n",
    "print(maxscore_tokenizer.tokenize('국제사회와 우리의노력들로 범죄를척결하자'\n",
    "                            # , flatten=False\n",
    "                            ))"
   ]
  },
  {
   "cell_type": "code",
   "execution_count": 32,
   "metadata": {},
   "outputs": [],
   "source": [
    "### 토큰 제너레이터 함수 : 데이터 추출하여 토큰화\n",
    "def yield_tokens2(tokenizer, data_iter):\n",
    "    for _, text in data_iter:\n",
    "        # 라벨, 텍스트 -> 텍스트 토큰화\n",
    "        yield tokenizer.tokenize(text)"
   ]
  },
  {
   "cell_type": "code",
   "execution_count": 33,
   "metadata": {},
   "outputs": [],
   "source": [
    "vocab2 = build_vocab_from_iterator(yield_tokens2(maxscore_tokenizer, train_iter), min_freq=2, specials=['<PAD>', '<UNK>'])"
   ]
  },
  {
   "cell_type": "code",
   "execution_count": 34,
   "metadata": {},
   "outputs": [],
   "source": [
    "vocab2.set_default_index(vocab2[\"<UNK>\"])"
   ]
  },
  {
   "cell_type": "code",
   "execution_count": 35,
   "metadata": {},
   "outputs": [
    {
     "data": {
      "text/plain": [
       "2"
      ]
     },
     "execution_count": 35,
     "metadata": {},
     "output_type": "execute_result"
    }
   ],
   "source": [
    "len(vocab2.get_itos())"
   ]
  },
  {
   "cell_type": "code",
   "execution_count": 36,
   "metadata": {},
   "outputs": [
    {
     "data": {
      "text/plain": [
       "['내가', '초등학교', '2학년때', '일이', '야']"
      ]
     },
     "execution_count": 36,
     "metadata": {},
     "output_type": "execute_result"
    }
   ],
   "source": [
    "maxscore_tokenizer.tokenize('내가초등학교2학년때일이야')"
   ]
  },
  {
   "cell_type": "code",
   "execution_count": 37,
   "metadata": {},
   "outputs": [
    {
     "data": {
      "text/plain": [
       "[1, 1, 1, 1, 1, 1]"
      ]
     },
     "execution_count": 37,
     "metadata": {},
     "output_type": "execute_result"
    }
   ],
   "source": [
    "vocab2(maxscore_tokenizer.tokenize('내가 초등학교 2학년 때 일이야'))"
   ]
  },
  {
   "cell_type": "code",
   "execution_count": 38,
   "metadata": {},
   "outputs": [
    {
     "name": "stdout",
     "output_type": "stream",
     "text": [
      "[VOCAB] -> 9053개\n",
      "\n",
      "['<PAD>', '<UNK>', '이', '을', '에', '가', '를', '의', '는', '그']\n"
     ]
    }
   ],
   "source": [
    "print(f'[VOCAB] -> {len(vocab)}개\\n')\n",
    "print(vocab.get_itos()[:10])"
   ]
  },
  {
   "cell_type": "markdown",
   "metadata": {},
   "source": [
    "[3] 데이터 가공\n",
    "- 토큰 데이터 정수 인코딩\n",
    "- 데이터 길이 표준화 => 데이터의 길이 맞추기(1개 문장 구성하는 단어 수 통일)"
   ]
  },
  {
   "cell_type": "code",
   "execution_count": 39,
   "metadata": {},
   "outputs": [],
   "source": [
    "### 훈련용, 테스트용 데이터셋으로 나누기 (DataFrame.sample)\n",
    "trainDF = horrorDF.sample(frac=0.9, random_state=42)   # DF\n",
    "testDF = horrorDF.drop(trainDF.index)                  # DF"
   ]
  },
  {
   "cell_type": "code",
   "execution_count": 40,
   "metadata": {},
   "outputs": [
    {
     "data": {
      "text/plain": [
       "((2880, 4), (320, 4))"
      ]
     },
     "execution_count": 40,
     "metadata": {},
     "output_type": "execute_result"
    }
   ],
   "source": [
    "trainDF.shape, testDF.shape"
   ]
  },
  {
   "cell_type": "code",
   "execution_count": 41,
   "metadata": {},
   "outputs": [],
   "source": [
    "### 문장들을 단어 단위로 분리 (stem : 어근 처리)\n",
    "train_tokens = [tokenizer.morphs(text, stem=True) for text in trainDF['TEXT2']]\n",
    "test_tokens = [tokenizer.morphs(text, stem=True) for text in testDF['TEXT2']]"
   ]
  },
  {
   "cell_type": "code",
   "execution_count": 42,
   "metadata": {},
   "outputs": [],
   "source": [
    "### 인코딩 : 문자 >>> 숫자로 변환\n",
    "token_to_id = vocab.get_stoi()  # Dict\n",
    "\n",
    "### 디코딩 : 숫자 >>> 문자로 변환\n",
    "id_to_token = vocab.get_itos()  # List"
   ]
  },
  {
   "cell_type": "code",
   "execution_count": 43,
   "metadata": {},
   "outputs": [],
   "source": [
    "### 단어를 정수로 변환 (단어/어휘 사전에 없는 문자는 <UNK>에 대응하는 숫자[1]로 처리)\n",
    "UNK_ID = token_to_id[\"<UNK>\"]   # 1\n",
    "train_ids = [[token_to_id.get(token, UNK_ID) for token in text] for text in train_tokens]\n",
    "test_ids = [[token_to_id.get(token, UNK_ID) for token in text] for text in test_tokens]"
   ]
  },
  {
   "cell_type": "markdown",
   "metadata": {},
   "source": [
    "[3-2] 데이터 구성 단어 수 맞추기 즉, 패딩(padding)\n",
    "- 단어 수 선정 필요\n",
    "- 선정된 단어 수에 맞게 데이터 조절 => 길면 잘라내기, 짧으면 채우기"
   ]
  },
  {
   "cell_type": "code",
   "execution_count": 44,
   "metadata": {},
   "outputs": [],
   "source": [
    "### 패딩 처리 함수\n",
    "def pad_sequence(sentences, max_length, pad, start='R'):    # start : padding이 붙는 방향\n",
    "    result = []\n",
    "    for sen in sentences:\n",
    "        sen = sen[:max_length] if start == 'R' else sen[-1 * max_length:]\n",
    "        pad_length = max_length - len(sen)  # sen이 원래 max_length 보다 짧았다면 1이상의 값 저장\n",
    "        padd_sen = sen + [pad]*pad_length if start == 'R' else [pad]*pad_length + sen\n",
    "        result.append(padd_sen)\n",
    "    return result"
   ]
  },
  {
   "cell_type": "code",
   "execution_count": 45,
   "metadata": {},
   "outputs": [],
   "source": [
    "### 학습용, 테스트용 데이터 패딩 처리\n",
    "PAD_ID = token_to_id.get('<PAD>')\n",
    "MAX_LENGTH = 64     # 패딩 길이. 데이터를 분석해서 결정해야 한다.\n",
    "\n",
    "train_ids = pad_sequence(train_ids, MAX_LENGTH, PAD_ID)     # 일정한 길이의 정수 인코딩 데이터\n",
    "test_ids = pad_sequence(test_ids, MAX_LENGTH, PAD_ID)       # 일정한 길이의 정수 인코딩 데이터"
   ]
  },
  {
   "cell_type": "code",
   "execution_count": 46,
   "metadata": {},
   "outputs": [
    {
     "name": "stdout",
     "output_type": "stream",
     "text": [
      "[train_ids] -> 64개\n",
      "[test_ids] -> 64개\n"
     ]
    }
   ],
   "source": [
    "print(f'[train_ids] -> {len(train_ids[1])}개')\n",
    "print(f'[test_ids] -> {len(test_ids[1])}개')"
   ]
  },
  {
   "cell_type": "code",
   "execution_count": 47,
   "metadata": {},
   "outputs": [
    {
     "name": "stdout",
     "output_type": "stream",
     "text": [
      "[183, 5, 2, 8442, 6, 72, 216, 1, 1979, 2254, 2, 199, 2644, 13, 902, 69, 2, 1196, 566, 4, 338, 3661, 902, 67, 12, 1, 107, 1, 4552, 2608, 6239, 0, 0, 0, 0, 0, 0, 0, 0, 0, 0, 0, 0, 0, 0, 0, 0, 0, 0, 0, 0, 0, 0, 0, 0, 0, 0, 0, 0, 0, 0, 0, 0, 0]\n",
      "[53, 9, 278, 9026, 4, 120, 1876, 46, 4, 4172, 39, 12, 1, 1979, 153, 1, 7326, 2, 1, 39, 12, 1, 136, 274, 133, 14, 4603, 411, 46, 12, 46, 14, 1, 1979, 144, 1014, 23, 465, 1, 1, 120, 46, 12, 93, 128, 1036, 120, 430, 1, 17, 1, 274, 5, 8901, 12, 93, 128, 1036, 120, 47, 8, 528, 465, 3193]\n"
     ]
    }
   ],
   "source": [
    "print(train_ids[1])\n",
    "print(test_ids[1])"
   ]
  },
  {
   "cell_type": "markdown",
   "metadata": {},
   "source": [
    "[4] 학습 준비\n",
    "- Dataset, DataLoader 준비\n",
    "- 학습용/테스트용 함수\n",
    "- 모델 클래스\n",
    "- 학습 관련 변수 => DEVICE, OPTIMIZER, MODEL 인스턴스, EPOCHS, BATCH_SIZE, LOSS_FN"
   ]
  },
  {
   "cell_type": "code",
   "execution_count": 48,
   "metadata": {},
   "outputs": [],
   "source": [
    "from sklearn.preprocessing import LabelEncoder\n",
    "\n",
    "# LabelEncoder 객체 생성\n",
    "label_encoder = LabelEncoder()\n",
    "\n",
    "# 문자열 Series를 숫자 Series로 변환\n",
    "train_labels = label_encoder.fit_transform(trainDF['FROM'])\n",
    "test_labels = label_encoder.fit_transform(testDF['FROM'])"
   ]
  },
  {
   "cell_type": "code",
   "execution_count": 49,
   "metadata": {},
   "outputs": [
    {
     "data": {
      "text/plain": [
       "array(['J', 'K', 'W'], dtype=object)"
      ]
     },
     "execution_count": 49,
     "metadata": {},
     "output_type": "execute_result"
    }
   ],
   "source": [
    "label_encoder.classes_"
   ]
  },
  {
   "cell_type": "code",
   "execution_count": 50,
   "metadata": {},
   "outputs": [],
   "source": [
    "import torch\n",
    "from torch.utils.data import TensorDataset, DataLoader"
   ]
  },
  {
   "cell_type": "code",
   "execution_count": 51,
   "metadata": {},
   "outputs": [
    {
     "name": "stdout",
     "output_type": "stream",
     "text": [
      "<class 'list'> <class 'numpy.ndarray'>\n",
      "torch.Size([2880, 64]) torch.Size([2880])\n",
      "torch.Size([320, 64]) torch.Size([320])\n"
     ]
    }
   ],
   "source": [
    "### 데이터셋 생성 : List >>> Tensor\n",
    "print(type(train_ids), type(trainDF.FROM.values))\n",
    "\n",
    "dataTS1 = torch.LongTensor(train_ids)   # 임베딩에 들어가는 것은 Long, Int\n",
    "labelTS1 = torch.LongTensor(train_labels)\n",
    "dataTS2 = torch.LongTensor(test_ids)    # 임베딩에 들어가는 것은 Long, Int\n",
    "labelTS2 = torch.LongTensor(test_labels)\n",
    "\n",
    "print(dataTS1.shape, labelTS1.shape)\n",
    "print(dataTS2.shape, labelTS2.shape)\n",
    "\n",
    "# 데이터셋 생성\n",
    "trainDS = TensorDataset(dataTS1, labelTS1)\n",
    "testDS = TensorDataset(dataTS2, labelTS2)"
   ]
  },
  {
   "cell_type": "code",
   "execution_count": 52,
   "metadata": {},
   "outputs": [],
   "source": [
    "### 데이터로더 생성\n",
    "BATCH_SIZE = 32\n",
    "\n",
    "trainDL = DataLoader(trainDS, BATCH_SIZE, shuffle=True)\n",
    "testDL = DataLoader(testDS, BATCH_SIZE, shuffle=True)"
   ]
  },
  {
   "cell_type": "code",
   "execution_count": 53,
   "metadata": {},
   "outputs": [
    {
     "name": "stdout",
     "output_type": "stream",
     "text": [
      "tensor([[3032, 5149,   10,  ...,    0,    0,    0],\n",
      "        [ 153, 2916,    2,  ...,    0,    0,    0],\n",
      "        [  57, 2238,   16,  ...,    0,    0,    0],\n",
      "        ...,\n",
      "        [ 247,    2,  572,  ...,    0,    0,    0],\n",
      "        [ 462,  274,    8,  ...,    0,    0,    0],\n",
      "        [4474,    7,    9,  ...,    0,    0,    0]])\n",
      "tensor([1, 1, 1, 1, 1, 1, 1, 1, 0, 0, 0, 1, 1, 0, 1, 2, 0, 2, 0, 0, 1, 2, 0, 1,\n",
      "        1, 1, 1, 1, 0, 2, 1, 2])\n",
      "torch.Size([32, 64]) torch.Size([32])\n"
     ]
    }
   ],
   "source": [
    "for texts, labels in trainDL:\n",
    "    print(texts)\n",
    "    print(labels)\n",
    "    print(texts.shape, labels.shape)\n",
    "    break"
   ]
  },
  {
   "cell_type": "markdown",
   "metadata": {},
   "source": [
    "[4-2] 모델 클래스 정의\n",
    "- 입력층 : Embedding Layer\n",
    "- 은닉층 : RNN/LSTM Layer\n",
    "- 은닉층 : Dropout Layer\n",
    "- 출력층 : Linear Layer"
   ]
  },
  {
   "cell_type": "code",
   "execution_count": 54,
   "metadata": {},
   "outputs": [],
   "source": [
    "from torch import nn\n",
    "\n",
    "class SentenceClassifier(nn.Module):\n",
    "    \n",
    "    def __init__(\n",
    "            self,\n",
    "            vocab_size,\n",
    "            hidden_dim,\n",
    "            embedding_dim,\n",
    "            n_layers,\n",
    "            dropout=0.5,\n",
    "            bidirectional=True,\n",
    "            model_type='lstm'\n",
    "    ):\n",
    "        super().__init__()\n",
    "\n",
    "        self.embedding = nn.Embedding(\n",
    "            num_embeddings=vocab_size,\n",
    "            embedding_dim=embedding_dim,\n",
    "            padding_idx=0\n",
    "        )\n",
    "\n",
    "        if model_type == 'rnn':\n",
    "            self.model = nn.RNN(\n",
    "                input_size=embedding_dim,\n",
    "                hidden_size=hidden_dim,\n",
    "                num_layers=n_layers,\n",
    "                bidirectional=bidirectional,\n",
    "                dropout=dropout,\n",
    "                batch_first=True,\n",
    "            )\n",
    "        elif model_type == 'lstm':\n",
    "            self.model = nn.LSTM(\n",
    "                input_size=embedding_dim,\n",
    "                hidden_size=hidden_dim,\n",
    "                num_layers=n_layers,\n",
    "                bidirectional=bidirectional,\n",
    "                dropout=dropout,\n",
    "                batch_first=True,\n",
    "            )\n",
    "        \n",
    "        self.classifier = nn.Linear(hidden_dim * 2, 3) if bidirectional else nn.Linear(hidden_dim, 3)\n",
    "        self.dropout = nn.Dropout(dropout)\n",
    "    \n",
    "    def forward(self, inputs):\n",
    "        embeddings = self.embedding(inputs)\n",
    "        output, _ = self.model(embeddings)\n",
    "        last_output = output[:, -1, :]\n",
    "        last_output = self.dropout(last_output)\n",
    "        logits = self.classifier(last_output)\n",
    "        return logits"
   ]
  },
  {
   "cell_type": "code",
   "execution_count": 55,
   "metadata": {},
   "outputs": [],
   "source": [
    "### DEVICE, CLASSIFIER, CRITERION, OPTIMIZER\n",
    "from torch import optim\n",
    "\n",
    "vocab_size = len(token_to_id)\n",
    "hidden_dim = 64\n",
    "embedding_dim = 128             # 임베딩 차원\n",
    "n_layers = 2\n",
    "\n",
    "DEVICE = 'cuda' if torch.cuda.is_available() else 'cpu'\n",
    "CLASSIFIER = SentenceClassifier(\n",
    "    vocab_size=vocab_size, hidden_dim=hidden_dim, embedding_dim=embedding_dim, n_layers=n_layers\n",
    ")\n",
    "# CRITERION = nn.BCEWithLogitsLoss().to(DEVICE)     # 이진분류용\n",
    "CRITERION = nn.CrossEntropyLoss().to(DEVICE)\n",
    "OPTIMIZER = optim.RMSprop(CLASSIFIER.parameters(), lr=0.001)\n",
    "# OPTIMIZER = optim.Adam(CLASSIFIER.parameters())\n",
    "# OPTIMIZER = optim.SGD(CLASSIFIER.parameters(), lr=0.01)"
   ]
  },
  {
   "cell_type": "code",
   "execution_count": 56,
   "metadata": {},
   "outputs": [],
   "source": [
    "### 학습 중 모델 저장 관련 변수\n",
    "import os\n",
    "\n",
    "dir = './model/'\n",
    "filename = dir + 'best_model.pth'\n",
    "\n",
    "if not os.path.exists(dir):\n",
    "    os.mkdir(dir)"
   ]
  },
  {
   "cell_type": "code",
   "execution_count": 57,
   "metadata": {},
   "outputs": [],
   "source": [
    "import numpy as np\n",
    "import torchmetrics.functional as metrics\n",
    "\n",
    "def train(model, datasets, criterion, optimizer, device, interval):\n",
    "    model.train()       # 학습 모드 ON\n",
    "    losses = list()     # []\n",
    "    accs = list()       # []\n",
    "\n",
    "\n",
    "    for step, (input_ids, labels) in enumerate(datasets):\n",
    "        input_ids = input_ids.to(device)\n",
    "        # labels = labels.to(device).unsqueeze(1)\n",
    "        \n",
    "        logits = model(input_ids)\n",
    "        loss = criterion(logits, labels)\n",
    "        losses.append(loss.item())\n",
    "\n",
    "        # 성능 평가\n",
    "        pred_labels = logits.argmax(1)\n",
    "        acc = metrics.accuracy(pred_labels, labels, task='multiclass', num_classes=3)\n",
    "        accs.append(acc)\n",
    "\n",
    "        optimizer.zero_grad()\n",
    "        loss.backward()\n",
    "        optimizer.step()\n",
    "\n",
    "        # if step % interval == 0:\n",
    "            #print(f'Train Loss {step} : {np.mean(losses)}')\n",
    "            # print(f'logit 값 : {len(logits)}, 실제 정답 : {len(labels)}')\n",
    "        \n",
    "        if not step%10: print('.', end='')\n",
    "    \n",
    "    print(f'\\nTrain Loss : {np.mean(losses):.14f}, Train Accuracy : {np.mean(accs)}')\n",
    "    # print(f'\\n[ Train ] Loss ==> {np.mean(losses):.14f}')\n",
    "    # print(f'[ Train ] Acc ==> {np.mean(accs):.14f}')\n",
    "    return np.mean(losses), np.mean(accs)"
   ]
  },
  {
   "cell_type": "code",
   "execution_count": 58,
   "metadata": {},
   "outputs": [],
   "source": [
    "def test(model, datasets, criterion, device):\n",
    "    model.eval()    # 테스트 모드 ON\n",
    "    losses = list() # []\n",
    "    corrects = list()\n",
    "    total_acc, total_count = 0,0\n",
    "\n",
    "    for step, (input_ids, labels) in enumerate(datasets):\n",
    "        input_ids = input_ids.to(device)\n",
    "        # labels = labels.to(device).unsqueeze(1)\n",
    "\n",
    "        logits = model(input_ids)\n",
    "        loss = criterion(logits, labels)\n",
    "        losses.append(loss.item())\n",
    "        # yhat = torch.sigmoid(logits) > 0.5\n",
    "        # corrects.extend(torch.eq(yhat, labels).cpu().tolist())\n",
    "        total_acc += (logits.argmax(1) == labels).sum().item()\n",
    "        total_count += labels.size(0)\n",
    "    \n",
    "    # print(f'Val Loss : {np.mean(losses)}, Val Accuracy : {np.mean(corrects)}')\n",
    "    print(f'Val Loss : {np.mean(losses)}, Val Accuracy : {total_acc/total_count}')\n",
    "    return np.mean(losses), total_acc/total_count"
   ]
  },
  {
   "cell_type": "code",
   "execution_count": 59,
   "metadata": {},
   "outputs": [
    {
     "name": "stdout",
     "output_type": "stream",
     "text": [
      "[EPOCH 1] .........\n",
      "Train Loss : 0.90875685148769, Train Accuracy : 0.5392361283302307\n",
      "Val Loss : 0.8722127676010132, Val Accuracy : 0.578125\n",
      "[EPOCH 2] .........\n",
      "Train Loss : 0.83029259906875, Train Accuracy : 0.6111111044883728\n",
      "Val Loss : 0.8050983190536499, Val Accuracy : 0.621875\n",
      "[EPOCH 3] .........\n",
      "Train Loss : 0.73620104789734, Train Accuracy : 0.6552083492279053\n",
      "Val Loss : 0.7934063076972961, Val Accuracy : 0.64375\n",
      "[EPOCH 4] .........\n",
      "Train Loss : 0.64556944138474, Train Accuracy : 0.7013888955116272\n",
      "Val Loss : 0.7034563422203064, Val Accuracy : 0.734375\n",
      "[EPOCH 5] .........\n",
      "Train Loss : 0.55600781275166, Train Accuracy : 0.7670139074325562\n",
      "Val Loss : 0.7545588552951813, Val Accuracy : 0.721875\n",
      "[EPOCH 6] .........\n",
      "Train Loss : 0.46902784556150, Train Accuracy : 0.8138889074325562\n",
      "Val Loss : 0.742962795495987, Val Accuracy : 0.709375\n",
      "[EPOCH 7] .........\n",
      "Train Loss : 0.43631859852208, Train Accuracy : 0.8368055820465088\n",
      "Val Loss : 0.7191297084093093, Val Accuracy : 0.771875\n",
      "[EPOCH 8] .........\n",
      "Train Loss : 0.34760572248035, Train Accuracy : 0.8732638955116272\n",
      "Val Loss : 0.8166545480489731, Val Accuracy : 0.753125\n",
      "[EPOCH 9] .........\n",
      "Train Loss : 0.28650848186678, Train Accuracy : 0.8951388597488403\n",
      "Val Loss : 0.8997673988342285, Val Accuracy : 0.759375\n",
      "[EPOCH 10] .........\n",
      "Train Loss : 0.26125624866949, Train Accuracy : 0.9156249761581421\n",
      "Val Loss : 0.7539238899946212, Val Accuracy : 0.778125\n",
      "[EPOCH 11] .........\n",
      "Train Loss : 0.21389190310405, Train Accuracy : 0.9270833134651184\n",
      "Val Loss : 0.8270301580429077, Val Accuracy : 0.76875\n",
      "[EPOCH 12] .........\n",
      "Train Loss : 0.18160092006955, Train Accuracy : 0.9447916746139526\n",
      "Val Loss : 0.8844150841236115, Val Accuracy : 0.78125\n",
      "[EPOCH 13] .........\n",
      "Train Loss : 0.15135727876590, Train Accuracy : 0.9527778029441833\n",
      "Val Loss : 1.157609885931015, Val Accuracy : 0.753125\n",
      "[EPOCH 14] .........\n",
      "Train Loss : 0.17283312968082, Train Accuracy : 0.9458333253860474\n",
      "Val Loss : 0.9404262423515319, Val Accuracy : 0.771875\n",
      "[EPOCH 15] .........\n",
      "Train Loss : 0.15622599404305, Train Accuracy : 0.9565972089767456\n",
      "Val Loss : 0.9407178580760955, Val Accuracy : 0.78125\n",
      "[EPOCH 16] .........\n",
      "Train Loss : 0.13370329927032, Train Accuracy : 0.9638888835906982\n",
      "Val Loss : 0.8155437737703324, Val Accuracy : 0.796875\n",
      "[EPOCH 17] .........\n",
      "Train Loss : 0.10186283242785, Train Accuracy : 0.9767361283302307\n",
      "Val Loss : 1.0556091964244843, Val Accuracy : 0.796875\n",
      "[EPOCH 18] .........\n",
      "Train Loss : 0.08674613399845, Train Accuracy : 0.9784722328186035\n",
      "Val Loss : 0.9044169962406159, Val Accuracy : 0.790625\n",
      "[EPOCH 19] .........\n",
      "Train Loss : 0.08621253512489, Train Accuracy : 0.9798611402511597\n",
      "Val Loss : 1.003711861371994, Val Accuracy : 0.784375\n",
      "[EPOCH 20] .........\n",
      "Train Loss : 0.10187829226359, Train Accuracy : 0.9756944179534912\n",
      "Val Loss : 0.9180517941713333, Val Accuracy : 0.8125\n",
      "[EPOCH 21] .........\n",
      "Train Loss : 0.12704208118634, Train Accuracy : 0.9673610925674438\n",
      "Val Loss : 0.8332927882671356, Val Accuracy : 0.803125\n",
      "[EPOCH 22] .........\n",
      "Train Loss : 0.06870538539046, Train Accuracy : 0.9857639074325562\n",
      "Val Loss : 0.948036216199398, Val Accuracy : 0.803125\n",
      "[EPOCH 23] .........\n",
      "Train Loss : 0.06536557690706, Train Accuracy : 0.9864583611488342\n",
      "Val Loss : 0.9875780940055847, Val Accuracy : 0.8\n",
      "[EPOCH 24] .........\n",
      "Train Loss : 0.05213041028732, Train Accuracy : 0.9902777671813965\n",
      "Val Loss : 1.2499096810817718, Val Accuracy : 0.78125\n",
      "[EPOCH 25] .........\n",
      "Train Loss : 0.08519721425449, Train Accuracy : 0.9802083373069763\n",
      "Val Loss : 0.9510159939527512, Val Accuracy : 0.803125\n",
      "[EPOCH 26] .........\n",
      "Train Loss : 0.07089107053924, Train Accuracy : 0.9829860925674438\n",
      "Val Loss : 0.8628159493207932, Val Accuracy : 0.80625\n",
      "[EPOCH 27] .........\n",
      "Train Loss : 0.06889395398191, Train Accuracy : 0.984375\n",
      "Val Loss : 0.9616392612457275, Val Accuracy : 0.8\n",
      "[EPOCH 28] .........\n",
      "Train Loss : 0.04893821469612, Train Accuracy : 0.9902777671813965\n",
      "Val Loss : 1.0437948428094388, Val Accuracy : 0.8125\n",
      "[EPOCH 29] .........\n",
      "Train Loss : 0.04699505157639, Train Accuracy : 0.9902777671813965\n",
      "Val Loss : 1.0277024269104005, Val Accuracy : 0.809375\n",
      "[EPOCH 30] .........\n",
      "Train Loss : 0.06208799184662, Train Accuracy : 0.9836805462837219\n",
      "Val Loss : 1.0756094813346864, Val Accuracy : 0.80625\n",
      "[EPOCH 31] .........\n",
      "Train Loss : 0.06309510469695, Train Accuracy : 0.987500011920929\n",
      "Val Loss : 1.050070983171463, Val Accuracy : 0.76875\n",
      "[EPOCH 32] .........\n",
      "Train Loss : 0.04974534534849, Train Accuracy : 0.9888888597488403\n",
      "Val Loss : 0.9686880677938461, Val Accuracy : 0.8125\n",
      "[EPOCH 33] .........\n",
      "Train Loss : 0.03686153248159, Train Accuracy : 0.9930555820465088\n",
      "Val Loss : 1.0045891642570495, Val Accuracy : 0.803125\n",
      "[EPOCH 34] .........\n",
      "Train Loss : 0.05172716908985, Train Accuracy : 0.9888888597488403\n",
      "Val Loss : 0.9804710388183594, Val Accuracy : 0.796875\n",
      "[EPOCH 35] .........\n",
      "Train Loss : 0.05552359388934, Train Accuracy : 0.988194465637207\n",
      "Val Loss : 0.9886375084519387, Val Accuracy : 0.79375\n",
      "[EPOCH 36] .........\n",
      "Train Loss : 0.03568623978386, Train Accuracy : 0.9930555820465088\n",
      "Val Loss : 0.9944393366575242, Val Accuracy : 0.790625\n",
      "[EPOCH 37] .........\n",
      "Train Loss : 0.03115100341642, Train Accuracy : 0.9947916865348816\n",
      "Val Loss : 1.1804983526468278, Val Accuracy : 0.79375\n",
      "[EPOCH 38] .........\n",
      "Train Loss : 0.03583874468847, Train Accuracy : 0.9934027791023254\n",
      "Val Loss : 1.0496179193258286, Val Accuracy : 0.8125\n",
      "[EPOCH 39] .........\n",
      "Train Loss : 0.04365246915129, Train Accuracy : 0.9906250238418579\n",
      "Val Loss : 1.1562799632549285, Val Accuracy : 0.815625\n",
      "[EPOCH 40] .........\n",
      "Train Loss : 0.03601495694731, Train Accuracy : 0.9909722208976746\n",
      "Val Loss : 1.1329192101955414, Val Accuracy : 0.80625\n",
      "[EPOCH 41] .........\n",
      "Train Loss : 0.03052034190494, Train Accuracy : 0.9934027791023254\n",
      "Val Loss : 1.1994966864585876, Val Accuracy : 0.80625\n",
      "[EPOCH 42] .........\n",
      "Train Loss : 0.05388372502186, Train Accuracy : 0.9888888597488403\n",
      "Val Loss : 1.047353845834732, Val Accuracy : 0.809375\n",
      "[EPOCH 43] .........\n",
      "Train Loss : 0.02962182095507, Train Accuracy : 0.9947916865348816\n",
      "Val Loss : 1.1402307748794556, Val Accuracy : 0.796875\n",
      "[EPOCH 44] .........\n",
      "Train Loss : 0.02529488820583, Train Accuracy : 0.9958333373069763\n",
      "Val Loss : 1.1943473517894745, Val Accuracy : 0.815625\n",
      "[EPOCH 45] .........\n",
      "Train Loss : 0.02248492062014, Train Accuracy : 0.9958333373069763\n",
      "Val Loss : 1.2362442016601562, Val Accuracy : 0.7875\n",
      "[EPOCH 46] .........\n",
      "Train Loss : 0.01959045738396, Train Accuracy : 0.9965277910232544\n",
      "Val Loss : 1.326361471414566, Val Accuracy : 0.809375\n",
      "[EPOCH 47] .........\n",
      "Train Loss : 0.02626251287293, Train Accuracy : 0.9958333373069763\n",
      "Val Loss : 1.2049273014068604, Val Accuracy : 0.790625\n",
      "[EPOCH 48] .........\n",
      "Train Loss : 0.03248483162865, Train Accuracy : 0.9927083253860474\n",
      "Val Loss : 1.4154690146446227, Val Accuracy : 0.68125\n",
      "[EPOCH 49] .........\n",
      "Train Loss : 0.04144470122281, Train Accuracy : 0.9888888597488403\n",
      "Val Loss : 1.1250020742416382, Val Accuracy : 0.803125\n",
      "[EPOCH 50] .........\n",
      "Train Loss : 0.02666224600786, Train Accuracy : 0.9951388835906982\n",
      "Val Loss : 1.12241088449955, Val Accuracy : 0.796875\n",
      "[EPOCH 51] .........\n",
      "Train Loss : 0.02211923746315, Train Accuracy : 0.996874988079071\n",
      "Val Loss : 1.19150670170784, Val Accuracy : 0.796875\n",
      "[EPOCH 52] .........\n",
      "Train Loss : 0.02157443830640, Train Accuracy : 0.996874988079071\n",
      "Val Loss : 1.2264106214046477, Val Accuracy : 0.809375\n",
      "[EPOCH 53] .........\n",
      "Train Loss : 0.04954766663787, Train Accuracy : 0.9902777671813965\n",
      "Val Loss : 1.0743298679590225, Val Accuracy : 0.809375\n",
      "[EPOCH 54] .........\n",
      "Train Loss : 0.05383879413777, Train Accuracy : 0.9920138716697693\n",
      "Val Loss : 1.1998985171318055, Val Accuracy : 0.803125\n",
      "[EPOCH 55] .........\n",
      "Train Loss : 0.02243777870899, Train Accuracy : 0.9958333373069763\n",
      "Val Loss : 1.1643909633159637, Val Accuracy : 0.81875\n",
      "[EPOCH 56] .........\n",
      "Train Loss : 0.01943526456081, Train Accuracy : 0.996874988079071\n",
      "Val Loss : 1.1513408452272416, Val Accuracy : 0.81875\n",
      "[EPOCH 57] .........\n",
      "Train Loss : 0.01855582325823, Train Accuracy : 0.9972222447395325\n",
      "Val Loss : 1.1576701402664185, Val Accuracy : 0.821875\n",
      "[EPOCH 58] .........\n",
      "Train Loss : 0.01764890710668, Train Accuracy : 0.9972222447395325\n",
      "Val Loss : 1.187748271226883, Val Accuracy : 0.828125\n",
      "[EPOCH 59] .........\n",
      "Train Loss : 0.01767181233542, Train Accuracy : 0.996874988079071\n",
      "Val Loss : 1.2430319130420684, Val Accuracy : 0.815625\n",
      "[EPOCH 60] .........\n",
      "Train Loss : 0.04467142483174, Train Accuracy : 0.9902777671813965\n",
      "Val Loss : 1.0926698923110962, Val Accuracy : 0.825\n",
      "[EPOCH 61] .........\n",
      "Train Loss : 0.01960339359292, Train Accuracy : 0.996180534362793\n",
      "Val Loss : 1.2350784242153168, Val Accuracy : 0.81875\n",
      "[EPOCH 62] .........\n",
      "Train Loss : 0.01833591931629, Train Accuracy : 0.996180534362793\n",
      "Val Loss : 1.1335231948643922, Val Accuracy : 0.828125\n",
      "[EPOCH 63] .........\n",
      "Train Loss : 0.01528936632223, Train Accuracy : 0.9972222447395325\n",
      "Val Loss : 1.2096011233050377, Val Accuracy : 0.828125\n",
      "[EPOCH 64] .........\n",
      "Train Loss : 0.01879053498091, Train Accuracy : 0.9972222447395325\n",
      "Val Loss : 1.208471730351448, Val Accuracy : 0.81875\n",
      "[EPOCH 65] .........\n",
      "Train Loss : 0.01783402391399, Train Accuracy : 0.996874988079071\n",
      "Val Loss : 1.2605700612068176, Val Accuracy : 0.81875\n",
      "[EPOCH 66] .........\n",
      "Train Loss : 0.03062268096384, Train Accuracy : 0.9944444298744202\n",
      "Val Loss : 1.1982566863298416, Val Accuracy : 0.825\n",
      "[EPOCH 67] .........\n",
      "Train Loss : 0.05014654107702, Train Accuracy : 0.9902777671813965\n",
      "Val Loss : 1.1267230421304704, Val Accuracy : 0.8\n",
      "[EPOCH 68] .........\n",
      "Train Loss : 0.01802981644545, Train Accuracy : 0.9972222447395325\n",
      "Val Loss : 1.119656190276146, Val Accuracy : 0.821875\n",
      "[EPOCH 69] .........\n",
      "Train Loss : 0.01802054722923, Train Accuracy : 0.9972222447395325\n",
      "Val Loss : 1.1533802568912506, Val Accuracy : 0.83125\n",
      "[EPOCH 70] .........\n",
      "Train Loss : 0.02974736737346, Train Accuracy : 0.9958333373069763\n",
      "Val Loss : 1.219191598892212, Val Accuracy : 0.821875\n",
      "[EPOCH 71] .........\n",
      "Train Loss : 0.02293870198773, Train Accuracy : 0.9944444298744202\n",
      "Val Loss : 1.1056884318590163, Val Accuracy : 0.828125\n",
      "[EPOCH 72] .........\n",
      "Train Loss : 0.01717836595748, Train Accuracy : 0.996874988079071\n",
      "Val Loss : 1.2849489361047746, Val Accuracy : 0.8\n",
      "[EPOCH 73] .........\n",
      "Train Loss : 0.01395871348731, Train Accuracy : 0.9979166388511658\n",
      "Val Loss : 1.292936459183693, Val Accuracy : 0.815625\n",
      "[EPOCH 74] .........\n",
      "Train Loss : 0.01379577100355, Train Accuracy : 0.9975694417953491\n",
      "Val Loss : 1.3752565383911133, Val Accuracy : 0.8125\n",
      "[EPOCH 75] .........\n",
      "Train Loss : 0.01317013866242, Train Accuracy : 0.9979166388511658\n",
      "Val Loss : 1.3948843717575072, Val Accuracy : 0.809375\n",
      "[EPOCH 76] .........\n",
      "Train Loss : 0.01227562558682, Train Accuracy : 0.9982638955116272\n",
      "Val Loss : 1.5051986932754517, Val Accuracy : 0.80625\n",
      "[EPOCH 77] .........\n",
      "Train Loss : 0.01134647522089, Train Accuracy : 0.9982638955116272\n",
      "Val Loss : 1.4729513734579087, Val Accuracy : 0.815625\n",
      "[EPOCH 78] .........\n",
      "Train Loss : 0.04037136216292, Train Accuracy : 0.9916666746139526\n",
      "Val Loss : 1.2886581361293792, Val Accuracy : 0.8\n",
      "[EPOCH 79] .........\n",
      "Train Loss : 0.01543605181440, Train Accuracy : 0.9975694417953491\n",
      "Val Loss : 1.3626284778118134, Val Accuracy : 0.8\n",
      "[EPOCH 80] .........\n",
      "Train Loss : 0.01392539896090, Train Accuracy : 0.9979166388511658\n",
      "Val Loss : 1.3941375687718391, Val Accuracy : 0.81875\n",
      "[EPOCH 81] .........\n",
      "Train Loss : 0.02169556241554, Train Accuracy : 0.9954861402511597\n",
      "Val Loss : 1.4082166790962218, Val Accuracy : 0.8\n",
      "[EPOCH 82] .........\n",
      "Train Loss : 0.01492932672619, Train Accuracy : 0.9972222447395325\n",
      "Val Loss : 1.4372945100069046, Val Accuracy : 0.796875\n",
      "[EPOCH 83] .........\n",
      "Train Loss : 0.01105658414599, Train Accuracy : 0.9982638955116272\n",
      "Val Loss : 1.436989998817444, Val Accuracy : 0.79375\n",
      "[EPOCH 84] .........\n",
      "Train Loss : 0.01264402069323, Train Accuracy : 0.9979166388511658\n",
      "Val Loss : 1.4350490868091583, Val Accuracy : 0.8\n",
      "[EPOCH 85] .........\n",
      "Train Loss : 0.02490942147948, Train Accuracy : 0.996180534362793\n",
      "Val Loss : 1.3508600294589996, Val Accuracy : 0.8125\n",
      "[EPOCH 86] .........\n",
      "Train Loss : 0.01634286446173, Train Accuracy : 0.9965277910232544\n",
      "Val Loss : 1.401243233680725, Val Accuracy : 0.8125\n",
      "[EPOCH 87] .........\n",
      "Train Loss : 0.01442768760963, Train Accuracy : 0.9979166388511658\n",
      "Val Loss : 1.2394729882478714, Val Accuracy : 0.828125\n",
      "[EPOCH 88] .........\n",
      "Train Loss : 0.01295211402725, Train Accuracy : 0.9979166388511658\n",
      "Val Loss : 1.3424845159053802, Val Accuracy : 0.8375\n",
      "[EPOCH 89] .........\n",
      "Train Loss : 0.01405719454439, Train Accuracy : 0.9982638955116272\n",
      "Val Loss : 1.373630054295063, Val Accuracy : 0.834375\n",
      "[EPOCH 90] .........\n",
      "Train Loss : 0.05833350912726, Train Accuracy : 0.9916666746139526\n",
      "Val Loss : 1.2823909014463424, Val Accuracy : 0.821875\n",
      "[EPOCH 91] .........\n",
      "Train Loss : 0.01227675024808, Train Accuracy : 0.9979166388511658\n",
      "Val Loss : 1.2623359262943268, Val Accuracy : 0.83125\n",
      "[EPOCH 92] .........\n",
      "Train Loss : 0.01385542387790, Train Accuracy : 0.9979166388511658\n",
      "Val Loss : 1.2238252192735672, Val Accuracy : 0.825\n",
      "[EPOCH 93] .........\n",
      "Train Loss : 0.01366718222400, Train Accuracy : 0.9979166388511658\n",
      "Val Loss : 1.2508724808692933, Val Accuracy : 0.840625\n",
      "[EPOCH 94] .........\n",
      "Train Loss : 0.01172408839872, Train Accuracy : 0.9982638955116272\n",
      "Val Loss : 1.270211997628212, Val Accuracy : 0.8375\n",
      "[EPOCH 95] .........\n",
      "Train Loss : 0.01766092903304, Train Accuracy : 0.9972222447395325\n",
      "Val Loss : 1.4151456654071808, Val Accuracy : 0.825\n",
      "[EPOCH 96] .........\n",
      "Train Loss : 0.02399145193243, Train Accuracy : 0.9958333373069763\n",
      "Val Loss : 1.2435370564460755, Val Accuracy : 0.821875\n",
      "[EPOCH 97] .........\n",
      "Train Loss : 0.02046754417178, Train Accuracy : 0.9972222447395325\n",
      "Val Loss : 1.3573355674743652, Val Accuracy : 0.815625\n",
      "[EPOCH 98] .........\n",
      "Train Loss : 0.01372581188981, Train Accuracy : 0.9979166388511658\n",
      "Val Loss : 1.1968259632587432, Val Accuracy : 0.8375\n",
      "[EPOCH 99] .........\n",
      "Train Loss : 0.01193998523263, Train Accuracy : 0.9982638955116272\n",
      "Val Loss : 1.2009251356124877, Val Accuracy : 0.84375\n",
      "[EPOCH 100] .........\n",
      "Train Loss : 0.01001099846714, Train Accuracy : 0.9982638955116272\n",
      "Val Loss : 1.276322364807129, Val Accuracy : 0.85\n",
      "Done!\n"
     ]
    }
   ],
   "source": [
    "EPOCHS = 100\n",
    "interval = 500\n",
    "train_loss, train_acc = [], []\n",
    "valid_loss, valid_acc = [], []\n",
    "\n",
    "for epoch in range(EPOCHS):\n",
    "    print(f'[EPOCH {epoch+1}]', end=' ')\n",
    "    tr_loss, tr_acc = train(CLASSIFIER, trainDL, CRITERION, OPTIMIZER, DEVICE, interval)\n",
    "    val_loss, val_acc = test(CLASSIFIER, testDL, CRITERION, DEVICE)\n",
    "\n",
    "    train_loss.append(tr_loss)\n",
    "    train_acc.append(tr_acc)\n",
    "    valid_loss.append(val_loss)\n",
    "    valid_acc.append(val_acc)\n",
    "\n",
    "print(\"Done!\")"
   ]
  },
  {
   "cell_type": "code",
   "execution_count": 73,
   "metadata": {},
   "outputs": [
    {
     "data": {
      "image/png": "[encoded data removed]",
      "text/plain": [
       "<Figure size 640x480 with 1 Axes>"
      ]
     },
     "metadata": {},
     "output_type": "display_data"
    }
   ],
   "source": [
    "plt.plot(train_loss, label='train loss', linestyle='--', linewidth=2.5, alpha=0.5)\n",
    "plt.plot(train_acc, label='train acc', linestyle='--', linewidth=2.5, alpha=0.5)\n",
    "plt.plot(valid_loss, label='valid loss', linewidth=2.5)\n",
    "plt.plot(valid_acc, label='valid acc', linewidth=2.5)\n",
    "\n",
    "plt.axhline(y=1, linewidth=0.5, color='r', alpha=0.7)\n",
    "\n",
    "plt.xlabel('Epoch')\n",
    "plt.legend(loc='upper left')\n",
    "plt.title('[ Dropout & RMSprop ]\\t\\t\\tMetrics')\n",
    "plt.show()"
   ]
  },
  {
   "cell_type": "code",
   "execution_count": 61,
   "metadata": {},
   "outputs": [
    {
     "data": {
      "image/png": "[encoded data removed]",
      "text/plain": [
       "<Figure size 1000x500 with 2 Axes>"
      ]
     },
     "metadata": {},
     "output_type": "display_data"
    }
   ],
   "source": [
    "# 1x2 모양의 서브플롯 생성 (y축 공유)\n",
    "fig, axes = plt.subplots(1, 2, figsize=(10, 5), sharey=True)\n",
    "\n",
    "# 첫 번째 서브플롯에 그래프 그리기\n",
    "axes[0].plot(train_loss, label='train loss', linestyle='--', linewidth=2.5, c='tab:orange')\n",
    "axes[0].plot(train_acc, label='train acc', linewidth=2.5, c='tab:cyan')\n",
    "axes[0].axhline(y=1, linewidth=0.5, color='r', alpha=0.7)\n",
    "# axes[0].tick_params(axis='y', which='both', left=True, right=True)  # y축 눈금 표시\n",
    "axes[0].set_title('Train')\n",
    "axes[0].legend(loc='upper left')\n",
    "\n",
    "# 두 번째 서브플롯에 그래프 그리기\n",
    "axes[1].plot(valid_loss, label='valid loss', linestyle='--', linewidth=2.5, c='orange')\n",
    "axes[1].plot(valid_acc, label='valid acc', linewidth=2.5, c='dodgerblue')\n",
    "axes[1].axhline(y=1, linewidth=0.5, color='r', alpha=0.7)\n",
    "# axes[1].tick_params(axis='y', which='both', left=True, right=True)  # y축 눈금 표시\n",
    "axes[1].set_title('Valid')\n",
    "axes[1].legend(loc='upper left')\n",
    "\n",
    "# 전체 서브플롯에 대한 타이틀 설정\n",
    "fig.suptitle('[Dropout & RMSprop] Metrics')\n",
    "\n",
    "# 전체 그림 보여주기\n",
    "plt.show()"
   ]
  },
  {
   "cell_type": "code",
   "execution_count": 62,
   "metadata": {},
   "outputs": [],
   "source": [
    "### 모델 저장\n",
    "torch.save(CLASSIFIER, filename)"
   ]
  },
  {
   "cell_type": "code",
   "execution_count": 63,
   "metadata": {},
   "outputs": [],
   "source": [
    "### 모델 불러오기\n",
    "modelname = './model/RMSprop/best_model.pth'\n",
    "MODEL = torch.load(modelname)\n",
    "\n",
    "# CLASSIFIER = CLASSIFIER = SentenceClassifier(\n",
    "#     vocab_size=vocab_size, hidden_dim=hidden_dim, embedding_dim=embedding_dim, n_layers=n_layers\n",
    "# )\n",
    "# CLASSIFIER.load_state_dict(filename)"
   ]
  },
  {
   "cell_type": "code",
   "execution_count": 64,
   "metadata": {},
   "outputs": [
    {
     "data": {
      "text/plain": [
       "\"pred_texts = ['이건 10년도 더된일인데, 우리 아빠가 겪은 일임 우리 아빠는 차를 차고 음성 백마령터널을 지나가고 있었음 근데 앞에 자전거탄 할아버지가 지나가고있는거임 그래서 놀래서 끼익! 하고 차를 세웠대 뭐지? 하고 다시 봤는데 할아버지는 온데간데없었대']\\npred_tokens = [tokenizer.morphs(text, stem=True) for text in pred_texts]\\npred_ids = [[token_to_id.get(token, UNK_ID) for token in text] for text in pred_tokens]\\npred_ids = pad_sequence(pred_ids, MAX_LENGTH, PAD_ID)\\npredTS = torch.LongTensor(pred_ids)\\nMODEL(predTS).argmax().item()\""
      ]
     },
     "execution_count": 64,
     "metadata": {},
     "output_type": "execute_result"
    }
   ],
   "source": [
    "\"\"\"pred_texts = ['이건 10년도 더된일인데, 우리 아빠가 겪은 일임 우리 아빠는 차를 차고 음성 백마령터널을 지나가고 있었음 근데 앞에 자전거탄 할아버지가 지나가고있는거임 그래서 놀래서 끼익! 하고 차를 세웠대 뭐지? 하고 다시 봤는데 할아버지는 온데간데없었대']\n",
    "pred_tokens = [tokenizer.morphs(text, stem=True) for text in pred_texts]\n",
    "pred_ids = [[token_to_id.get(token, UNK_ID) for token in text] for text in pred_tokens]\n",
    "pred_ids = pad_sequence(pred_ids, MAX_LENGTH, PAD_ID)\n",
    "predTS = torch.LongTensor(pred_ids)\n",
    "MODEL(predTS).argmax().item()\"\"\""
   ]
  },
  {
   "cell_type": "code",
   "execution_count": 65,
   "metadata": {},
   "outputs": [],
   "source": [
    "def predict(model, pred_texts: list):\n",
    "    # pred_texts 가 list지만, 문장수는 1개.\n",
    "    label_dict = {0: ['일본', 'JPN'], 1: ['한국', 'KOR'], 2: ['영미권', 'WST']}\n",
    "    \n",
    "    pred_tokens = [tokenizer.morphs(text, stem=True) for text in pred_texts]\n",
    "    pred_ids = [[token_to_id.get(token, UNK_ID) for token in text] for text in pred_tokens]\n",
    "    pred_ids = pad_sequence(pred_ids, MAX_LENGTH, PAD_ID)\n",
    "    predTS = torch.LongTensor(pred_ids)\n",
    "    result = model(predTS).argmax().item()\n",
    "    \n",
    "    print(f'이 괴담은 {label_dict[result]} 쪽 입니다.')"
   ]
  },
  {
   "cell_type": "code",
   "execution_count": 66,
   "metadata": {},
   "outputs": [
    {
     "name": "stdout",
     "output_type": "stream",
     "text": [
      "이 괴담은 ['한국', 'KOR'] 쪽 입니다.\n"
     ]
    }
   ],
   "source": [
    "predict(MODEL, ['2002년도 제가 군생활을하던 12사단 89포병대대 인제군 천도리 라는곳에서 있었던 일입니다.'])"
   ]
  },
  {
   "cell_type": "code",
   "execution_count": 67,
   "metadata": {},
   "outputs": [
    {
     "name": "stdout",
     "output_type": "stream",
     "text": [
      "이 괴담은 ['일본', 'JPN'] 쪽 입니다.\n"
     ]
    }
   ],
   "source": [
    "predict(MODEL, ['산 사이에 있는 작은 시골 마을로, 마을 북쪽 끝에는 깎아낸 산이고, 그 산 바로 밑에는 현도(県道)가 있어.'])"
   ]
  },
  {
   "cell_type": "code",
   "execution_count": 68,
   "metadata": {},
   "outputs": [
    {
     "name": "stdout",
     "output_type": "stream",
     "text": [
      "이 괴담은 ['한국', 'KOR'] 쪽 입니다.\n"
     ]
    }
   ],
   "source": [
    "predict(MODEL, ['1974년 할로윈 밤이었고, 형과 형의 친구들과 함께 트릭 오어 트릿을 하는 중이었다.'])"
   ]
  },
  {
   "cell_type": "code",
   "execution_count": 69,
   "metadata": {},
   "outputs": [
    {
     "name": "stdout",
     "output_type": "stream",
     "text": [
      "이 괴담은 ['일본', 'JPN'] 쪽 입니다.\n"
     ]
    }
   ],
   "source": [
    "predict(MODEL, ['마을을 떠나고 5마일쯤 가고 있는데 도로공사 유니폼을 입은 여자가 긴 직선도로 한 가운데서 정지 표지판을 들고 서 있었어.'])"
   ]
  },
  {
   "cell_type": "code",
   "execution_count": 70,
   "metadata": {},
   "outputs": [
    {
     "name": "stdout",
     "output_type": "stream",
     "text": [
      "이 괴담은 ['영미권', 'WST'] 쪽 입니다.\n"
     ]
    }
   ],
   "source": [
    "predict(MODEL, ['주 경계선을 찾자마자 바로 북쪽으로 넘어가서 집에 갔지. 우린 셋 다 지금까지 그 상황을 세세하게 기억하고 있어.'])"
   ]
  },
  {
   "cell_type": "code",
   "execution_count": 71,
   "metadata": {},
   "outputs": [
    {
     "name": "stdout",
     "output_type": "stream",
     "text": [
      "이 괴담은 ['한국', 'KOR'] 쪽 입니다.\n"
     ]
    }
   ],
   "source": [
    "predict(MODEL, ['친구들이랑 같이 일리노이에서 시카고로 드라이브하던 도중에 타코벨에 들렀어.'])"
   ]
  },
  {
   "cell_type": "code",
   "execution_count": 72,
   "metadata": {},
   "outputs": [
    {
     "name": "stdout",
     "output_type": "stream",
     "text": [
      "이 괴담은 ['영미권', 'WST'] 쪽 입니다.\n"
     ]
    }
   ],
   "source": [
    "# 학습했던 자료\n",
    "predict(MODEL, [' 미국에선 매년 50만명이 넘는 사람들이 흔적도 없이 사라지거나 실종되곤 하지. \\\n",
    "                그 확실하진 않은데 말야, 내가 방금... 찾은 것 같아. '])"
   ]
  },
  {
   "cell_type": "code",
   "execution_count": null,
   "metadata": {},
   "outputs": [],
   "source": []
  }
 ],
 "metadata": {
  "kernelspec": {
   "display_name": "Text_017_220_38",
   "language": "python",
   "name": "python3"
  },
  "language_info": {
   "codemirror_mode": {
    "name": "ipython",
    "version": 3
   },
   "file_extension": ".py",
   "mimetype": "text/x-python",
   "name": "python",
   "nbconvert_exporter": "python",
   "pygments_lexer": "ipython3",
   "version": "3.8.19"
  }
 },
 "nbformat": 4,
 "nbformat_minor": 2
}
