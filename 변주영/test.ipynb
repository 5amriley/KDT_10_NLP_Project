{
 "cells": [
  {
   "cell_type": "code",
   "execution_count": 1,
   "metadata": {},
   "outputs": [
    {
     "name": "stdout",
     "output_type": "stream",
     "text": [
      "Counter({'\\n': 4, '.': 3, '햇빛': 2, '이': 2, '나': 2, '는': 2, '산책': 2, '을': 2, '쨍쨍': 1, '한': 1, '어느': 1, '날': 1, ',': 1, '집': 1, '에': 1, '누워': 1, '있기': 1, '너무': 1, '아까웠어': 1, '밖': 1, '으로': 1, '나가서': 1, '하기로': 1, '했다': 1, '하며': 1, '맞으며': 1, '기분': 1, '좋았다': 1})\n"
     ]
    }
   ],
   "source": [
    "from konlpy.tag import Okt\n",
    "from collections import Counter\n",
    "\n",
    "# 예시 한글 텍스트 데이터\n",
    "text = \"\"\"\n",
    "햇빛이 쨍쨍한 어느 날, 집에 누워 있기 너무 아까웠어.\n",
    "나는 밖으로 나가서 산책을 하기로 했다.\n",
    "산책하며 나는 햇빛을 맞으며 기분이 좋았다.\n",
    "\"\"\"\n",
    "\n",
    "# Okt 객체 생성\n",
    "okt = Okt()\n",
    "\n",
    "# 텍스트 데이터를 형태소 단위로 분리하여 리스트에 저장\n",
    "tokens = okt.morphs(text)\n",
    "\n",
    "# 형태소 단위로 분리된 텍스트 데이터의 단어들을 카운트하여 단어 사전 생성\n",
    "word_counts = Counter(tokens)\n",
    "\n",
    "# 단어 사전 출력\n",
    "print(word_counts)"
   ]
  },
  {
   "cell_type": "code",
   "execution_count": 8,
   "metadata": {},
   "outputs": [
    {
     "name": "stdout",
     "output_type": "stream",
     "text": [
      "['<unk>', '.', '개', '고양이', '를', '?', '그', '나는', '더', '뭐가', '사람', '싫어합니다', '와', '은', '좋아요', '좋아합니다', '중']\n",
      "{'.': 1, '개': 2, '<unk>': 0, '고양이': 3, '를': 4, '?': 5, '그': 6, '나는': 7, '더': 8, '뭐가': 9, '사람': 10, '싫어합니다': 11, '와': 12, '은': 13, '좋아요': 14, '좋아합니다': 15, '중': 16}\n"
     ]
    }
   ],
   "source": [
    "import torchtext\n",
    "from torchtext.vocab import build_vocab_from_iterator\n",
    "\n",
    "# 예시 문장들로 이루어진 반복 가능한 데이터 생성\n",
    "sentences = [\n",
    "    ['나는', '고양이', '를', '좋아합니다', '.'],\n",
    "    ['그', '사람', '은', '개', '를', '싫어합니다', '.'],\n",
    "    ['고양이', '와', '개', '중', '뭐가', '더', '좋아요', '?']\n",
    "]\n",
    "\n",
    "# build_vocab_from_iterator 함수를 사용하여 어휘 사전을 생성\n",
    "vocab = build_vocab_from_iterator(sentences, specials=[\"<unk>\"])\n",
    "\n",
    "# 생성된 어휘 사전 출력\n",
    "print(vocab.get_itos())  # 단어들의 리스트를 출력\n",
    "print(vocab.get_stoi())"
   ]
  },
  {
   "cell_type": "code",
   "execution_count": null,
   "metadata": {},
   "outputs": [],
   "source": []
  }
 ],
 "metadata": {
  "kernelspec": {
   "display_name": "Text_017_220_38",
   "language": "python",
   "name": "python3"
  },
  "language_info": {
   "codemirror_mode": {
    "name": "ipython",
    "version": 3
   },
   "file_extension": ".py",
   "mimetype": "text/x-python",
   "name": "python",
   "nbconvert_exporter": "python",
   "pygments_lexer": "ipython3",
   "version": "3.8.19"
  }
 },
 "nbformat": 4,
 "nbformat_minor": 2
}
